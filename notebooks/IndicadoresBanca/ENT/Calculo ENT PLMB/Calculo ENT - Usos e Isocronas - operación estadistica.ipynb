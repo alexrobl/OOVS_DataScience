{
 "cells": [
  {
   "cell_type": "markdown",
   "metadata": {
    "application/vnd.databricks.v1+cell": {
     "cellMetadata": {
      "byteLimit": 2048000,
      "rowLimit": 10000
     },
     "inputWidgets": {},
     "nuid": "f1dbcabf-e270-410c-97ed-1867cfccc9c6",
     "showTitle": false,
     "title": ""
    }
   },
   "source": [
    "### recursos geospark - sedona\n",
    "\n",
    "https://jiayuasu.github.io/files/paper/GeoSpark_Geoinformatica_2018.pdf\n",
    "\n",
    "https://sci-hub.se/10.1145/3221269.3223040\n"
   ]
  },
  {
   "cell_type": "code",
   "execution_count": 0,
   "metadata": {
    "application/vnd.databricks.v1+cell": {
     "cellMetadata": {
      "byteLimit": 2048000,
      "rowLimit": 10000
     },
     "inputWidgets": {},
     "nuid": "ca956bcd-61be-47d2-87c8-16026d58f29f",
     "showTitle": false,
     "title": ""
    }
   },
   "outputs": [],
   "source": [
    "%ls -la '/dbfs/FileStore/tables/Catastro/'\n",
    "#%ls -la '/dbfs/FileStore/tables/procesado/'"
   ]
  },
  {
   "cell_type": "code",
   "execution_count": 0,
   "metadata": {
    "application/vnd.databricks.v1+cell": {
     "cellMetadata": {
      "byteLimit": 2048000,
      "rowLimit": 10000
     },
     "inputWidgets": {},
     "nuid": "f288387c-aee8-4d82-a488-e4c60db9bda6",
     "showTitle": false,
     "title": ""
    }
   },
   "outputs": [],
   "source": [
    "from pyspark.sql import SparkSession\n",
    "from pyspark import StorageLevel\n",
    "from sedona.spark import *\n",
    "from sedona.utils import SedonaKryoRegistrator, KryoSerializer\n",
    "\n",
    "from sedona.register.geo_registrator import SedonaRegistrator\n",
    "\n",
    "# configuración de spark y Sedona para datos geograficos\n",
    "spark = SparkSession.\\\n",
    "    builder.\\\n",
    "    master(\"local[*]\").\\\n",
    "    appName(\"Sedona App\").\\\n",
    "    config(\"spark.serializer\", KryoSerializer.getName).\\\n",
    "    config(\"spark.kryo.registrator\", SedonaKryoRegistrator.getName) .\\\n",
    "    config(\"spark.kryoserializer.buffer.max\", \"150000m\").\\\n",
    "    getOrCreate()\n",
    "    #config(\"sedona.global.charset\", \"utf8\").\\\n",
    "    \n",
    "#SedonaRegistrator.registerAll()\n",
    "SedonaContext.create(spark)"
   ]
  },
  {
   "cell_type": "code",
   "execution_count": 0,
   "metadata": {
    "application/vnd.databricks.v1+cell": {
     "cellMetadata": {
      "byteLimit": 2048000,
      "implicitDf": true,
      "rowLimit": 10000
     },
     "inputWidgets": {},
     "nuid": "6ca183d9-ee45-4498-a6ab-086f92137fb9",
     "showTitle": false,
     "title": ""
    }
   },
   "outputs": [],
   "source": [
    "%sql\n",
    "select count(*) from lotes_catastro_2006_2023;"
   ]
  },
  {
   "cell_type": "code",
   "execution_count": 0,
   "metadata": {
    "application/vnd.databricks.v1+cell": {
     "cellMetadata": {
      "byteLimit": 2048000,
      "rowLimit": 10000
     },
     "inputWidgets": {},
     "nuid": "f9cfbbeb-883c-4b5c-80d6-c05851dcdc78",
     "showTitle": false,
     "title": ""
    }
   },
   "outputs": [],
   "source": [
    "import geopandas as gpd\n",
    "# se importa la base de datos compilada historica de catastro, la cual se encuentra en el notebook, tableros. \n",
    "# pendiente hacer merge de las ramas en github.\n",
    "# compilado catastro alexander con modificaciones a octubre.\n",
    "#path = 'dbfs:/FileStore/df/compiladoCatastro.csv'\n",
    "path = '/FileStore/tables/Catastro/union_catastro_2006_2023_file.csv'\n",
    "df = spark.read.format(\"csv\").option(\"header\", \"true\").load(path)"
   ]
  },
  {
   "cell_type": "code",
   "execution_count": 0,
   "metadata": {
    "application/vnd.databricks.v1+cell": {
     "cellMetadata": {
      "byteLimit": 2048000,
      "rowLimit": 10000
     },
     "inputWidgets": {},
     "nuid": "4b1a67b0-ec70-413a-ad43-a6371802c9a2",
     "showTitle": false,
     "title": ""
    }
   },
   "outputs": [],
   "source": [
    "from sedona.sql.st_constructors import ST_Point\n",
    "from pyspark.sql.functions import col, cast\n",
    "from pyspark.sql.types import DoubleType, StringType\n",
    "# trandformación de tipo de dato y se renombran las variables.\n",
    "df = df.withColumn(\"lng\", col(\"DefLng\").cast(\"double\"))\n",
    "df = df.withColumn(\"lat\", col(\"DefLat\").cast(\"double\"))\n",
    "# generación de la estructura wkt como punto(x,y), para ser leida como un estandar posteriormente\n",
    "pointcatastro_df = df.withColumn(\"wkt\", ST_Point(df[\"lng\"],df[\"lat\"]).cast(StringType()))\n",
    "# pasa a pandas, por facilidad.\n",
    "point = pointcatastro_df.toPandas()"
   ]
  },
  {
   "cell_type": "code",
   "execution_count": 0,
   "metadata": {
    "application/vnd.databricks.v1+cell": {
     "cellMetadata": {
      "byteLimit": 2048000,
      "rowLimit": 10000
     },
     "inputWidgets": {},
     "nuid": "6cf95f30-4f13-4558-afee-6adf1902a089",
     "showTitle": false,
     "title": ""
    }
   },
   "outputs": [],
   "source": [
    "point[point['AnioVigencia']=='2023']"
   ]
  },
  {
   "cell_type": "code",
   "execution_count": 0,
   "metadata": {
    "application/vnd.databricks.v1+cell": {
     "cellMetadata": {
      "byteLimit": 2048000,
      "rowLimit": 10000
     },
     "inputWidgets": {},
     "nuid": "e738e272-5be6-43a0-b658-ef896bd15e0c",
     "showTitle": false,
     "title": ""
    }
   },
   "outputs": [],
   "source": [
    "# se crea un geodataframe para operarlo geograficamente.\n",
    "geo_point = gpd.GeoDataFrame(point, geometry=gpd.points_from_xy(point.lng, point.lat), crs = \"EPSG:4326\")"
   ]
  },
  {
   "cell_type": "code",
   "execution_count": 0,
   "metadata": {
    "application/vnd.databricks.v1+cell": {
     "cellMetadata": {
      "byteLimit": 2048000,
      "rowLimit": 10000
     },
     "inputWidgets": {},
     "nuid": "f62b2f7c-c41a-4b06-9823-1169c21a7a25",
     "showTitle": false,
     "title": ""
    }
   },
   "outputs": [],
   "source": [
    "geo_point.shape"
   ]
  },
  {
   "cell_type": "code",
   "execution_count": 0,
   "metadata": {
    "application/vnd.databricks.v1+cell": {
     "cellMetadata": {
      "byteLimit": 2048000,
      "rowLimit": 10000
     },
     "inputWidgets": {},
     "nuid": "4a89081c-e540-4fc3-8bdc-f20d2a5573b9",
     "showTitle": false,
     "title": ""
    }
   },
   "outputs": [],
   "source": [
    "#ADQUISICION: predios adquiridos para la primera linea del metro.\n",
    "# AREA PLMB\n",
    "adquisicion = gpd.GeoDataFrame.from_file('/dbfs/FileStore/shared_uploads/duvan.robles@metrodebogota.gov.co/predios.shp').to_crs('epsg:4326')\n",
    "Entropia=gpd.overlay(geo_point, adquisicion, how='difference', keep_geom_type=False)\n",
    "Entropia.shape"
   ]
  },
  {
   "cell_type": "code",
   "execution_count": 0,
   "metadata": {
    "application/vnd.databricks.v1+cell": {
     "cellMetadata": {
      "byteLimit": 2048000,
      "rowLimit": 10000
     },
     "inputWidgets": {},
     "nuid": "6542ec68-2ccd-4711-8762-844ae8176df3",
     "showTitle": false,
     "title": ""
    }
   },
   "outputs": [],
   "source": [
    "Entropia['AC'] = Entropia['AC'].astype('float')\n",
    "Entropia['AT'] = Entropia['AT'].astype('float')"
   ]
  },
  {
   "cell_type": "code",
   "execution_count": 0,
   "metadata": {
    "application/vnd.databricks.v1+cell": {
     "cellMetadata": {
      "byteLimit": 2048000,
      "rowLimit": 10000
     },
     "inputWidgets": {},
     "nuid": "8c864ebc-87c5-4f2a-b8c9-a3ba002255b2",
     "showTitle": false,
     "title": ""
    }
   },
   "outputs": [],
   "source": [
    "# borrando 2023!!!!!!!!!!\n",
    "Entropia.drop(Entropia[Entropia.AnioVigencia == '2023'].index, inplace=True)"
   ]
  },
  {
   "cell_type": "code",
   "execution_count": 0,
   "metadata": {
    "application/vnd.databricks.v1+cell": {
     "cellMetadata": {
      "byteLimit": 2048000,
      "rowLimit": 10000
     },
     "inputWidgets": {},
     "nuid": "0e48c3ed-5c8e-4e8d-aec1-81bdbc58a3a8",
     "showTitle": false,
     "title": ""
    }
   },
   "outputs": [],
   "source": [
    "#copia del dataframe para operar, solo se hace el copy por efecto de ser practicos.\n",
    "copy_Entropia = Entropia.copy()\n",
    "# cambio de tipo de datos, es posible que sean de tipo object y no se operen correctamente, por esta razon se convierten en enteros.\n",
    "copy_Entropia = copy_Entropia.astype({'AsociarAlUsoPrincipal':'int', 'ComercioYServicios':'int', 'Dotacional':'int',\n",
    "       'Industrial':'int', 'Otro':'int', 'Residencial':'int', 'UsoSinAsociar':'int'})\n",
    "\n",
    "def usoFinal(row):\n",
    "    lista_nombres = ['Asociar Al Uso Principal','Comercio Y Servicios','Dotacional','Industrial','Otro','Residencial', 'Uso Sin Asociar']\n",
    "    lista = [row['AsociarAlUsoPrincipal'],row['ComercioYServicios'],row['Dotacional'],row['Industrial'],row['Otro'],row['Residencial'],row['UsoSinAsociar']]\n",
    "    maximo = max(lista)\n",
    "    if maximo == 0:\n",
    "        return \"Uso no reportado\"\n",
    "    else:\n",
    "       #  if lista.index(maximo)==6:\n",
    "       #      return \"Uso no reportado\"\n",
    "        if lista.index(maximo)==0:\n",
    "            listaAsignacion_nombres = ['Comercio Y Servicios','Dotacional','Industrial','Otro','Residencial', 'Uso Sin Asociar']\n",
    "            #'Comercio Y Servicios','Dotacional','Industrial','Otro','Residencial'\n",
    "            listaAsignacion = [row['ComercioYServicios'],row['Dotacional'],row['Industrial'],row['Otro'],row['Residencial'],row['UsoSinAsociar']]\n",
    "            asignacion = max(listaAsignacion)\n",
    "            return listaAsignacion_nombres[listaAsignacion.index(asignacion)]\n",
    "        else:\n",
    "            return lista_nombres[lista.index(maximo)]\n",
    " \n",
    "copy_Entropia['usoPrincipal'] = copy_Entropia.apply(usoFinal, axis=1)\n",
    "copy_Entropia = copy_Entropia.drop(copy_Entropia[copy_Entropia['usoPrincipal']=='Uso no reportado'].index)"
   ]
  },
  {
   "cell_type": "code",
   "execution_count": 0,
   "metadata": {
    "application/vnd.databricks.v1+cell": {
     "cellMetadata": {
      "byteLimit": 2048000,
      "rowLimit": 10000
     },
     "inputWidgets": {},
     "nuid": "ec2171ac-c26b-46c2-b16d-74458344978f",
     "showTitle": false,
     "title": ""
    }
   },
   "outputs": [],
   "source": [
    "copy_Entropia = copy_Entropia.drop(copy_Entropia[copy_Entropia['usoPrincipal']=='Uso Sin Asociar'].index)"
   ]
  },
  {
   "cell_type": "code",
   "execution_count": 0,
   "metadata": {
    "application/vnd.databricks.v1+cell": {
     "cellMetadata": {
      "byteLimit": 2048000,
      "rowLimit": 10000
     },
     "inputWidgets": {},
     "nuid": "05c7f6cf-6c80-4cae-af79-5b38c5120c08",
     "showTitle": false,
     "title": ""
    }
   },
   "outputs": [],
   "source": [
    "copy_Entropia['usoPrincipal'].value_counts()"
   ]
  },
  {
   "cell_type": "code",
   "execution_count": 0,
   "metadata": {
    "application/vnd.databricks.v1+cell": {
     "cellMetadata": {
      "byteLimit": 2048000,
      "rowLimit": 10000
     },
     "inputWidgets": {},
     "nuid": "e24423be-3d10-45e8-8c66-1a73beacc831",
     "showTitle": false,
     "title": ""
    }
   },
   "outputs": [],
   "source": [
    "import pandas as pd\n",
    "pd.pivot_table(copy_Entropia, values='Estacion', index=['AnioVigencia', 'usoPrincipal'],\n",
    "                    aggfunc=\"count\").unstack()"
   ]
  },
  {
   "cell_type": "code",
   "execution_count": 0,
   "metadata": {
    "application/vnd.databricks.v1+cell": {
     "cellMetadata": {
      "byteLimit": 2048000,
      "rowLimit": 10000
     },
     "inputWidgets": {},
     "nuid": "568e6dce-87c6-4e00-9d5b-7b8265af7baf",
     "showTitle": false,
     "title": ""
    }
   },
   "outputs": [],
   "source": [
    "AGRUPADOS = copy_Entropia.groupby(by=['Linea','Estacion','Tiempo','AnioVigencia'])['AC','AT'].sum().reset_index()"
   ]
  },
  {
   "cell_type": "code",
   "execution_count": 0,
   "metadata": {
    "application/vnd.databricks.v1+cell": {
     "cellMetadata": {
      "byteLimit": 2048000,
      "rowLimit": 10000
     },
     "inputWidgets": {},
     "nuid": "38dec458-4b55-4a54-a564-2004f0aaf514",
     "showTitle": false,
     "title": ""
    }
   },
   "outputs": [],
   "source": [
    "copy_Entropia['usoPrincipal'].value_counts()"
   ]
  },
  {
   "cell_type": "code",
   "execution_count": 0,
   "metadata": {
    "application/vnd.databricks.v1+cell": {
     "cellMetadata": {
      "byteLimit": 2048000,
      "rowLimit": 10000
     },
     "inputWidgets": {},
     "nuid": "8746008c-ffcf-4011-baf2-e1d1b1b683af",
     "showTitle": false,
     "title": ""
    }
   },
   "outputs": [],
   "source": [
    "AGRUPADOS_ZONA = copy_Entropia.groupby(by=['Linea','Estacion','Tiempo', 'usoPrincipal', 'AnioVigencia',])['AC','AT'].sum().reset_index()"
   ]
  },
  {
   "cell_type": "code",
   "execution_count": 0,
   "metadata": {
    "application/vnd.databricks.v1+cell": {
     "cellMetadata": {
      "byteLimit": 2048000,
      "rowLimit": 10000
     },
     "inputWidgets": {},
     "nuid": "f9b314a3-e5b9-4ada-8a14-065c38b5d9eb",
     "showTitle": false,
     "title": ""
    }
   },
   "outputs": [],
   "source": [
    "AGRUPADOS.shape\n",
    "AGRUPADOS_ZONA.shape"
   ]
  },
  {
   "cell_type": "code",
   "execution_count": 0,
   "metadata": {
    "application/vnd.databricks.v1+cell": {
     "cellMetadata": {
      "byteLimit": 2048000,
      "rowLimit": 10000
     },
     "inputWidgets": {},
     "nuid": "0287eead-6247-4820-855e-1dde63104fc3",
     "showTitle": false,
     "title": ""
    }
   },
   "outputs": [],
   "source": [
    "import pandas as pd\n",
    "Pre_Entropia = pd.merge(\n",
    "    AGRUPADOS_ZONA, AGRUPADOS,\n",
    "    how='inner',\n",
    "    left_on=['Linea','Estacion','Tiempo','AnioVigencia'],\n",
    "    right_on=['Linea','Estacion','Tiempo','AnioVigencia']).rename(\n",
    "        columns={'AC_y':'Construida_total','AT_y':'Terreno_total',\n",
    "                 'AC_x':'AC_Uso','AT_x':'AT_Uso'})"
   ]
  },
  {
   "cell_type": "code",
   "execution_count": 0,
   "metadata": {
    "application/vnd.databricks.v1+cell": {
     "cellMetadata": {
      "byteLimit": 2048000,
      "rowLimit": 10000
     },
     "inputWidgets": {},
     "nuid": "65ce4e4d-6862-4b3d-bfa8-1373d19bd3dd",
     "showTitle": false,
     "title": ""
    }
   },
   "outputs": [],
   "source": [
    "Pre_Entropia['usoPrincipal'].value_counts()"
   ]
  },
  {
   "cell_type": "code",
   "execution_count": 0,
   "metadata": {
    "application/vnd.databricks.v1+cell": {
     "cellMetadata": {
      "byteLimit": 2048000,
      "rowLimit": 10000
     },
     "inputWidgets": {},
     "nuid": "dd478e75-2411-43cb-a0ef-96682213c598",
     "showTitle": false,
     "title": ""
    }
   },
   "outputs": [],
   "source": [
    "import numpy as np\n",
    "Pre_Entropia['factor'] = Pre_Entropia['AC_Uso']/Pre_Entropia['Construida_total']\n",
    "Pre_Entropia['ln_factor'] = np.log(Pre_Entropia['AC_Uso']/Pre_Entropia['Construida_total'])\n",
    "Pre_Entropia['MULT'] = Pre_Entropia['factor'] * Pre_Entropia['ln_factor']"
   ]
  },
  {
   "cell_type": "code",
   "execution_count": 0,
   "metadata": {
    "application/vnd.databricks.v1+cell": {
     "cellMetadata": {
      "byteLimit": 2048000,
      "rowLimit": 10000
     },
     "inputWidgets": {},
     "nuid": "3036c52c-1ff2-4f2a-8416-b46c16c8f00a",
     "showTitle": false,
     "title": ""
    }
   },
   "outputs": [],
   "source": [
    "Entropia_Final = Pre_Entropia.groupby(by=['Linea','Estacion','Tiempo','AnioVigencia']).agg({'MULT': 'sum'})\n",
    "Entropia_Final['ValEntropia_estacion'] = -Entropia_Final['MULT']/np.log(len(set(Pre_Entropia.usoPrincipal.values.tolist())))"
   ]
  },
  {
   "cell_type": "code",
   "execution_count": 0,
   "metadata": {
    "application/vnd.databricks.v1+cell": {
     "cellMetadata": {
      "byteLimit": 2048000,
      "rowLimit": 10000
     },
     "inputWidgets": {},
     "nuid": "95f73191-b22d-48ab-b650-9d06c0e477b0",
     "showTitle": false,
     "title": ""
    }
   },
   "outputs": [],
   "source": [
    "Entropia_Final = Entropia_Final.reset_index()"
   ]
  },
  {
   "cell_type": "code",
   "execution_count": 0,
   "metadata": {
    "application/vnd.databricks.v1+cell": {
     "cellMetadata": {
      "byteLimit": 2048000,
      "rowLimit": 10000
     },
     "inputWidgets": {},
     "nuid": "a05d1fb9-5551-4bf5-bedb-932fd91850b6",
     "showTitle": false,
     "title": ""
    }
   },
   "outputs": [],
   "source": [
    "#\n",
    "Entropia_Final['AnioVigencia'] = Entropia_Final['AnioVigencia'].astype('int')\n",
    "#ef = Entropia_Final.drop(Entropia_Final[(Entropia_Final['AnioVigencia']==0) | (Entropia_Final['AnioVigencia']==2023)].index)\n",
    "#& (Entropia_Final['AnioVigencia']==2023)]\n"
   ]
  },
  {
   "cell_type": "code",
   "execution_count": 0,
   "metadata": {
    "application/vnd.databricks.v1+cell": {
     "cellMetadata": {
      "byteLimit": 2048000,
      "rowLimit": 10000
     },
     "inputWidgets": {},
     "nuid": "5be50cee-405f-43c3-8121-4db7955a434b",
     "showTitle": false,
     "title": ""
    }
   },
   "outputs": [],
   "source": [
    "Entropia_Final.tail(50)"
   ]
  },
  {
   "cell_type": "code",
   "execution_count": 0,
   "metadata": {
    "application/vnd.databricks.v1+cell": {
     "cellMetadata": {
      "byteLimit": 2048000,
      "rowLimit": 10000
     },
     "inputWidgets": {},
     "nuid": "1a9d3409-3a53-4cd3-b2ff-5b927325fb61",
     "showTitle": false,
     "title": ""
    }
   },
   "outputs": [],
   "source": [
    "import matplotlib.pyplot as plt\n",
    "import seaborn as sns\n",
    "import numpy as np\n",
    "\n",
    "ef = Entropia_Final[Entropia_Final['Linea']=='Linea 1']\n",
    "# Linea 1\n",
    "\n",
    "Linea = 'PLMB'\n",
    "#for xanio in range(2006,2023):\n",
    "\n",
    "sns.set_theme(style=\"whitegrid\")\n",
    "\n",
    "plt.figure(figsize=(20,10))\n",
    "plt.xticks(rotation=40)\n",
    "#lista = list(compilado[compilado.layer.isin(['E16'])].Uso_Agrupado.value_counts().head(10).to_dict().keys())\n",
    "# compila por estacion\n",
    "#table = pd.pivot_table(compilado[(compilado.layer.isin([e]) & compilado.Uso_Agrupado.isin(Usos_analisis) & compilado.Tiempo.isin(['5 min','10 min']))] , values=['AT_VM2'], index=['PERIODO','Uso_Agrupado'],aggfunc={'AT_VM2': np.mean})\n",
    "# compila el agregado\n",
    "#table = pd.pivot_table(compilado[(compilado.Linea.isin(['Linea 1']) & compilado.Tiempo.isin(['5 min','10 min']))] , values=['AC_VM2'], index=['PERIODO','Uso_Agrupado'],aggfunc={'AC_VM2': np.mean})\n",
    "\n",
    "ax = sns.lineplot(data=ef, x=\"AnioVigencia\", y=\"ValEntropia_estacion\", hue=\"Estacion\", style=\"Estacion\", markers=True ,palette=\"tab20\")\n",
    "\n",
    "#sns.lineplot(data=F[F.layer_1.isin(Estaciones_seg2)], x=\"PERIODO\", y=\"Valor Entropia estacion\", hue=\"NOMBRE\", style=\"NOMBRE\", markers=True ,palette=\"tab20\")\n",
    "\n",
    "ax.set_title('{} - ENTROPIA TOTAL USOS -- {}'.format(Linea, sorted(list(set(Pre_Entropia.usoPrincipal.values.tolist()))) ).upper(),pad=10)\n",
    "ax.set_xlabel('Periodos Catastro'.upper())\n",
    "ax.set_ylabel('ENTROPIA TOTAL'.upper())\n",
    "\n",
    "plt.legend(title='Estación', loc='upper left', bbox_to_anchor=(1,1))\n",
    "plt.tight_layout()\n",
    "ax.yaxis.labelpad = 20\n",
    "ax.xaxis.labelpad = 20\n",
    "ax.tick_params(labelsize=12)\n",
    "ax.grid(alpha=0.5, linestyle='dashed', linewidth=1)\n",
    "ax.spines['bottom'].set_color('none')\n",
    "ax.spines['top'].set_color('none')\n",
    "ax.spines['left'].set_color('none')\n",
    "ax.spines['right'].set_color(\"none\")"
   ]
  },
  {
   "cell_type": "code",
   "execution_count": 0,
   "metadata": {
    "application/vnd.databricks.v1+cell": {
     "cellMetadata": {
      "byteLimit": 2048000,
      "rowLimit": 10000
     },
     "inputWidgets": {},
     "nuid": "978561d7-300e-4463-b032-759d5e855f00",
     "showTitle": false,
     "title": ""
    }
   },
   "outputs": [],
   "source": [
    "entropia_pdf = spark.createDataFrame(Entropia_Final)\n",
    "entropia_pdf.createOrReplaceTempView(\"ENTROPIA_TOTAL_v2\")"
   ]
  },
  {
   "cell_type": "code",
   "execution_count": 0,
   "metadata": {
    "application/vnd.databricks.v1+cell": {
     "cellMetadata": {
      "byteLimit": 2048000,
      "rowLimit": 10000
     },
     "inputWidgets": {},
     "nuid": "e1c1f23e-f6bb-4be0-828c-1370e395e75c",
     "showTitle": false,
     "title": ""
    }
   },
   "outputs": [],
   "source": [
    "entropia_pdf"
   ]
  },
  {
   "cell_type": "code",
   "execution_count": 0,
   "metadata": {
    "application/vnd.databricks.v1+cell": {
     "cellMetadata": {
      "byteLimit": 2048000,
      "implicitDf": true,
      "rowLimit": 10000
     },
     "inputWidgets": {},
     "nuid": "fe979a2c-eeff-4578-abb2-1ac9b28cb627",
     "showTitle": false,
     "title": ""
    }
   },
   "outputs": [],
   "source": [
    "%sql\n",
    "CREATE OR REPLACE TABLE ent_total_v2 AS (\n",
    "  Select \n",
    "  * \n",
    "  from \n",
    "  ENTROPIA_TOTAL_v2);"
   ]
  },
  {
   "cell_type": "code",
   "execution_count": 0,
   "metadata": {
    "application/vnd.databricks.v1+cell": {
     "cellMetadata": {
      "byteLimit": 2048000,
      "implicitDf": true,
      "rowLimit": 10000
     },
     "inputWidgets": {},
     "nuid": "0b9a1e7e-1717-437f-a1d7-26c2497a70ad",
     "showTitle": false,
     "title": ""
    }
   },
   "outputs": [],
   "source": [
    "%sql\n",
    "Select  *  from  ent_total_v2;"
   ]
  },
  {
   "cell_type": "markdown",
   "metadata": {
    "application/vnd.databricks.v1+cell": {
     "cellMetadata": {},
     "inputWidgets": {},
     "nuid": "7870b766-651d-4808-bd60-d18962f99421",
     "showTitle": false,
     "title": ""
    }
   },
   "source": [
    "### Calculo entropia banca, solo servicios y residencial."
   ]
  },
  {
   "cell_type": "code",
   "execution_count": 0,
   "metadata": {
    "application/vnd.databricks.v1+cell": {
     "cellMetadata": {
      "byteLimit": 2048000,
      "rowLimit": 10000
     },
     "inputWidgets": {},
     "nuid": "13019c68-ccb6-4b12-9742-1643de0fd244",
     "showTitle": false,
     "title": ""
    }
   },
   "outputs": [],
   "source": [
    "EntBanca = copy_Entropia[(copy_Entropia['usoPrincipal'] == 'Comercio Y Servicios') | (copy_Entropia['usoPrincipal'] == 'Residencial')].copy()\n",
    "# Comercio Y Servicios\tDotacional\tIndustrial\tOtro\tResidencial"
   ]
  },
  {
   "cell_type": "code",
   "execution_count": 0,
   "metadata": {
    "application/vnd.databricks.v1+cell": {
     "cellMetadata": {
      "byteLimit": 2048000,
      "rowLimit": 10000
     },
     "inputWidgets": {},
     "nuid": "bb071a0d-e32c-41d3-ab23-42b9ae0c56e0",
     "showTitle": false,
     "title": ""
    }
   },
   "outputs": [],
   "source": [
    "EntBanca['usoPrincipal'].value_counts()"
   ]
  },
  {
   "cell_type": "code",
   "execution_count": 0,
   "metadata": {
    "application/vnd.databricks.v1+cell": {
     "cellMetadata": {
      "byteLimit": 2048000,
      "rowLimit": 10000
     },
     "inputWidgets": {},
     "nuid": "bcef171d-7343-4961-97b2-9ec818af0502",
     "showTitle": false,
     "title": ""
    }
   },
   "outputs": [],
   "source": [
    "EntBanca.columns"
   ]
  },
  {
   "cell_type": "code",
   "execution_count": 0,
   "metadata": {
    "application/vnd.databricks.v1+cell": {
     "cellMetadata": {
      "byteLimit": 2048000,
      "rowLimit": 10000
     },
     "inputWidgets": {},
     "nuid": "23caabf5-0d53-4189-9683-b317550fc03f",
     "showTitle": false,
     "title": ""
    }
   },
   "outputs": [],
   "source": [
    "import pandas as pd\n",
    "pd.pivot_table(EntBanca[(EntBanca['Estacion']=='E13') & (EntBanca['Tiempo']=='5 min')], values='Estacion', index=['AnioVigencia', 'usoPrincipal'],\n",
    "                    aggfunc=\"count\").unstack()"
   ]
  },
  {
   "cell_type": "code",
   "execution_count": 0,
   "metadata": {
    "application/vnd.databricks.v1+cell": {
     "cellMetadata": {
      "byteLimit": 2048000,
      "rowLimit": 10000
     },
     "inputWidgets": {},
     "nuid": "1131a113-bd12-4570-a5f8-05166443fc59",
     "showTitle": false,
     "title": ""
    }
   },
   "outputs": [],
   "source": [
    "EntBanca['AC'] = EntBanca['AC'].astype('float')\n",
    "EntBanca['AT'] = EntBanca['AT'].astype('float')\n",
    "AGRUPADOS_Banca = EntBanca.groupby(by=['Linea','Estacion','Tiempo','AnioVigencia'])['AC','AT'].sum().reset_index()"
   ]
  },
  {
   "cell_type": "markdown",
   "metadata": {
    "application/vnd.databricks.v1+cell": {
     "cellMetadata": {},
     "inputWidgets": {},
     "nuid": "f50eaabb-c597-4948-9461-49f9a7eb5e74",
     "showTitle": false,
     "title": ""
    }
   },
   "source": [
    "Agrupación."
   ]
  },
  {
   "cell_type": "code",
   "execution_count": 0,
   "metadata": {
    "application/vnd.databricks.v1+cell": {
     "cellMetadata": {
      "byteLimit": 2048000,
      "rowLimit": 10000
     },
     "inputWidgets": {},
     "nuid": "31186b26-c816-4a28-a83f-b958f1337a8d",
     "showTitle": false,
     "title": ""
    }
   },
   "outputs": [],
   "source": [
    "AGRUPADOS_ZONA_Banca = EntBanca.groupby(by=['Linea','Estacion','Tiempo', 'usoPrincipal', 'AnioVigencia',])['AC','AT'].sum().reset_index()"
   ]
  },
  {
   "cell_type": "code",
   "execution_count": 0,
   "metadata": {
    "application/vnd.databricks.v1+cell": {
     "cellMetadata": {
      "byteLimit": 2048000,
      "rowLimit": 10000
     },
     "inputWidgets": {},
     "nuid": "7c6ea2b8-f954-4699-8184-03762e665a23",
     "showTitle": false,
     "title": ""
    }
   },
   "outputs": [],
   "source": [
    "import pandas as pd\n",
    "Pre_Banca = pd.merge(\n",
    "    AGRUPADOS_ZONA_Banca, AGRUPADOS_Banca,\n",
    "    how='inner',\n",
    "    left_on=['Linea','Estacion','Tiempo','AnioVigencia'],\n",
    "    right_on=['Linea','Estacion','Tiempo','AnioVigencia']).rename(\n",
    "        columns={'AC_y':'Construida_total','AT_y':'Terreno_total',\n",
    "                 'AC_x':'AC_Uso','AT_x':'AT_Uso'})"
   ]
  },
  {
   "cell_type": "code",
   "execution_count": 0,
   "metadata": {
    "application/vnd.databricks.v1+cell": {
     "cellMetadata": {
      "byteLimit": 2048000,
      "rowLimit": 10000
     },
     "inputWidgets": {},
     "nuid": "fc385a8b-4ba3-4cb6-9a7b-4cba12982db7",
     "showTitle": false,
     "title": ""
    }
   },
   "outputs": [],
   "source": [
    "import numpy as np\n",
    "Pre_Banca['factor'] = Pre_Banca['AC_Uso']/Pre_Banca['Construida_total']\n",
    "Pre_Banca['ln_factor'] = np.log(Pre_Banca['AC_Uso']/Pre_Banca['Construida_total'])\n",
    "Pre_Banca['MULT'] = Pre_Banca['factor'] * Pre_Banca['ln_factor']"
   ]
  },
  {
   "cell_type": "code",
   "execution_count": 0,
   "metadata": {
    "application/vnd.databricks.v1+cell": {
     "cellMetadata": {
      "byteLimit": 2048000,
      "rowLimit": 10000
     },
     "inputWidgets": {},
     "nuid": "b70a0b89-4b72-4177-b0dc-1a7507030c6e",
     "showTitle": false,
     "title": ""
    }
   },
   "outputs": [],
   "source": [
    "Pre_Banca[(Pre_Banca['Estacion']=='E13') & (Pre_Banca['Tiempo']=='5 min')]"
   ]
  },
  {
   "cell_type": "code",
   "execution_count": 0,
   "metadata": {
    "application/vnd.databricks.v1+cell": {
     "cellMetadata": {
      "byteLimit": 2048000,
      "rowLimit": 10000
     },
     "inputWidgets": {},
     "nuid": "35ded2ce-fa53-47f9-9c7d-fc62e1774356",
     "showTitle": false,
     "title": ""
    }
   },
   "outputs": [],
   "source": [
    "Banca_Final = Pre_Banca.groupby(by=['Linea','Estacion','Tiempo','AnioVigencia']).agg({'MULT': 'sum'})\n",
    "Banca_Final['ValEntropia_estacion'] = -Banca_Final['MULT']/np.log(len(set(Pre_Banca.usoPrincipal.values.tolist())))"
   ]
  },
  {
   "cell_type": "code",
   "execution_count": 0,
   "metadata": {
    "application/vnd.databricks.v1+cell": {
     "cellMetadata": {
      "byteLimit": 2048000,
      "rowLimit": 10000
     },
     "inputWidgets": {},
     "nuid": "5554155c-225c-4235-977c-351f97af671d",
     "showTitle": false,
     "title": ""
    }
   },
   "outputs": [],
   "source": [
    "e=Banca_Final.reset_index()\n",
    "e[(e['Estacion']=='E13') & (e['Tiempo']=='5 min')]"
   ]
  },
  {
   "cell_type": "code",
   "execution_count": 0,
   "metadata": {
    "application/vnd.databricks.v1+cell": {
     "cellMetadata": {
      "byteLimit": 2048000,
      "rowLimit": 10000
     },
     "inputWidgets": {},
     "nuid": "0545b6de-0b2c-42af-bb15-c3971bf9ee6d",
     "showTitle": false,
     "title": ""
    }
   },
   "outputs": [],
   "source": [
    "Banca_Final[(Banca_Final['Estacion']=='E13') & (Banca_Final['Tiempo']=='5 min')]"
   ]
  },
  {
   "cell_type": "code",
   "execution_count": 0,
   "metadata": {
    "application/vnd.databricks.v1+cell": {
     "cellMetadata": {
      "byteLimit": 2048000,
      "rowLimit": 10000
     },
     "inputWidgets": {},
     "nuid": "33985d3c-fe91-4698-90a2-9afd8b5e631c",
     "showTitle": false,
     "title": ""
    }
   },
   "outputs": [],
   "source": [
    "Banca_Final = Banca_Final.reset_index()"
   ]
  },
  {
   "cell_type": "code",
   "execution_count": 0,
   "metadata": {
    "application/vnd.databricks.v1+cell": {
     "cellMetadata": {
      "byteLimit": 2048000,
      "rowLimit": 10000
     },
     "inputWidgets": {},
     "nuid": "74448fee-a429-4457-b42f-9e811d267760",
     "showTitle": false,
     "title": ""
    }
   },
   "outputs": [],
   "source": [
    "Banca_Final['AnioVigencia'] = Banca_Final['AnioVigencia'].astype('int')\n",
    "ef_banca = Banca_Final\n",
    "#.drop(Banca_Final[(Banca_Final['AnioVigencia']==0) | (Banca_Final['AnioVigencia']==2023)].index)\n",
    "ef_banca"
   ]
  },
  {
   "cell_type": "code",
   "execution_count": 0,
   "metadata": {
    "application/vnd.databricks.v1+cell": {
     "cellMetadata": {
      "byteLimit": 2048000,
      "rowLimit": 10000
     },
     "inputWidgets": {},
     "nuid": "75def504-d2c0-47ee-96b5-afa74e5971c3",
     "showTitle": false,
     "title": ""
    }
   },
   "outputs": [],
   "source": [
    "import matplotlib.pyplot as plt\n",
    "import seaborn as sns\n",
    "import numpy as np\n",
    "\n",
    "# Linea 1\n",
    "\n",
    "Linea = 'PLMB'\n",
    "#for xanio in range(2006,2023):\n",
    "\n",
    "sns.set_theme(style=\"whitegrid\")\n",
    "\n",
    "plt.figure(figsize=(20,10))\n",
    "plt.xticks(rotation=40)\n",
    "#lista = list(compilado[compilado.layer.isin(['E16'])].Uso_Agrupado.value_counts().head(10).to_dict().keys())\n",
    "# compila por estacion\n",
    "#table = pd.pivot_table(compilado[(compilado.layer.isin([e]) & compilado.Uso_Agrupado.isin(Usos_analisis) & compilado.Tiempo.isin(['5 min','10 min']))] , values=['AT_VM2'], index=['PERIODO','Uso_Agrupado'],aggfunc={'AT_VM2': np.mean})\n",
    "# compila el agregado\n",
    "#table = pd.pivot_table(compilado[(compilado.Linea.isin(['Linea 1']) & compilado.Tiempo.isin(['5 min','10 min']))] , values=['AC_VM2'], index=['PERIODO','Uso_Agrupado'],aggfunc={'AC_VM2': np.mean})\n",
    "\n",
    "ax = sns.lineplot(data=ef_banca[(ef_banca['Linea'] == 'Linea 1')], x=\"AnioVigencia\", y=\"ValEntropia_estacion\", hue=\"Estacion\", style=\"Estacion\", markers=True ,palette=\"tab20\")\n",
    "\n",
    "#sns.lineplot(data=F[F.layer_1.isin(Estaciones_seg2)], x=\"PERIODO\", y=\"Valor Entropia estacion\", hue=\"NOMBRE\", style=\"NOMBRE\", markers=True ,palette=\"tab20\")\n",
    "\n",
    "ax.set_title('{} - ENTROPIA TOTAL USOS -- {}'.format(Linea, sorted(list(set(EntBanca.usoPrincipal.values.tolist()))) ).upper(),pad=10)\n",
    "ax.set_xlabel('Periodos Catastro'.upper())\n",
    "ax.set_ylabel('ENTROPIA TOTAL'.upper())\n",
    "\n",
    "plt.legend(title='Estación', loc='upper left', bbox_to_anchor=(1,1))\n",
    "plt.tight_layout()\n",
    "ax.yaxis.labelpad = 20\n",
    "ax.xaxis.labelpad = 20\n",
    "ax.tick_params(labelsize=12)\n",
    "ax.grid(alpha=0.5, linestyle='dashed', linewidth=1)\n",
    "ax.spines['bottom'].set_color('none')\n",
    "ax.spines['top'].set_color('none')\n",
    "ax.spines['left'].set_color('none')\n",
    "ax.spines['right'].set_color(\"none\")"
   ]
  },
  {
   "cell_type": "code",
   "execution_count": 0,
   "metadata": {
    "application/vnd.databricks.v1+cell": {
     "cellMetadata": {
      "byteLimit": 2048000,
      "rowLimit": 10000
     },
     "inputWidgets": {},
     "nuid": "05a3f18f-992e-46c3-8d42-19db688b04cb",
     "showTitle": false,
     "title": ""
    }
   },
   "outputs": [],
   "source": [
    "entBanca_pdf = spark.createDataFrame(ef_banca)\n",
    "entBanca_pdf.createOrReplaceTempView(\"ENTBANCA_TOTAL_V2\")"
   ]
  },
  {
   "cell_type": "code",
   "execution_count": 0,
   "metadata": {
    "application/vnd.databricks.v1+cell": {
     "cellMetadata": {
      "byteLimit": 2048000,
      "rowLimit": 10000
     },
     "inputWidgets": {},
     "nuid": "6bb3fc4a-987a-424c-877d-a30be88d0509",
     "showTitle": false,
     "title": ""
    }
   },
   "outputs": [],
   "source": [
    "entBanca_pdf.display()"
   ]
  },
  {
   "cell_type": "code",
   "execution_count": 0,
   "metadata": {
    "application/vnd.databricks.v1+cell": {
     "cellMetadata": {
      "byteLimit": 2048000,
      "rowLimit": 10000
     },
     "inputWidgets": {},
     "nuid": "1c69b363-9b85-48f3-ab12-1c05ada6e70e",
     "showTitle": false,
     "title": ""
    }
   },
   "outputs": [],
   "source": [
    "import seaborn as sns\n",
    "import matplotlib.pyplot as plt\n",
    "import seaborn as sns\n",
    "sns.set_theme(style=\"whitegrid\")\n",
    "df1 = entBanca_pdf.toPandas()\n",
    "df2 = pd.pivot_table(df1[df1['Linea']=='Linea 1'], values=['ValEntropia_estacion'], index=['Estacion', 'AnioVigencia']).unstack()\n",
    "\n",
    "#df2.set_index('NOMBRE', inplace = True)\n",
    "#sns.heatmap(df2, linewidth=.5)\n",
    "\n",
    "plt.figure(figsize=(25,10))\n",
    "plt.xticks(rotation=40)\n",
    "cmap = sns.diverging_palette(230, 20, sep=70 , as_cmap=True)\n",
    "sns.heatmap(df2, cmap=cmap, annot=True, fmt=\".3f\", linewidths=.5)"
   ]
  },
  {
   "cell_type": "code",
   "execution_count": 0,
   "metadata": {
    "application/vnd.databricks.v1+cell": {
     "cellMetadata": {
      "byteLimit": 2048000,
      "implicitDf": true,
      "rowLimit": 10000
     },
     "inputWidgets": {},
     "nuid": "531c6755-111e-45a4-9436-9a5de069acde",
     "showTitle": false,
     "title": ""
    }
   },
   "outputs": [],
   "source": [
    "%sql\n",
    "CREATE OR REPLACE TABLE ent_banca_v2 AS (\n",
    "  Select \n",
    "  * \n",
    "  from \n",
    "  ENTBANCA_TOTAL_V2);"
   ]
  },
  {
   "cell_type": "code",
   "execution_count": 0,
   "metadata": {
    "application/vnd.databricks.v1+cell": {
     "cellMetadata": {
      "byteLimit": 2048000,
      "implicitDf": true,
      "rowLimit": 10000
     },
     "inputWidgets": {},
     "nuid": "e83d2e20-43aa-4098-a391-13145ace7357",
     "showTitle": false,
     "title": ""
    }
   },
   "outputs": [],
   "source": [
    "%sql\n",
    "Select  *  from  ent_banca_v2 where Estacion=='E13' and Tiempo=='5 min';"
   ]
  },
  {
   "cell_type": "code",
   "execution_count": 0,
   "metadata": {
    "application/vnd.databricks.v1+cell": {
     "cellMetadata": {
      "byteLimit": 2048000,
      "implicitDf": true,
      "rowLimit": 10000
     },
     "inputWidgets": {},
     "nuid": "2cf07c56-415e-4883-9161-f5bc41aba51f",
     "showTitle": false,
     "title": ""
    }
   },
   "outputs": [],
   "source": [
    "%sql\n",
    "Select * from ent_total;"
   ]
  },
  {
   "cell_type": "code",
   "execution_count": 0,
   "metadata": {
    "application/vnd.databricks.v1+cell": {
     "cellMetadata": {},
     "inputWidgets": {},
     "nuid": "8830c6df-17a2-4419-a87a-d1513dfa8429",
     "showTitle": false,
     "title": ""
    }
   },
   "outputs": [],
   "source": [
    "cases = [\n",
    "    F.when(F.col(\"AsociarAlUsoPrincipal\") == F.greatest(*columns_to_compare), \n",
    "           F.when(F.col(\"ComercioYServicios\") == F.greatest(*[col for col in columns_to_compare if col != \"AsociarAlUsoPrincipal\"]), \"ComercioYServicios\")\n",
    "           .when(F.col(\"Dotacional\") == F.greatest(*[col for col in columns_to_compare if col != \"AsociarAlUsoPrincipal\"]), \"Dotacional\")\n",
    "           .when(F.col(\"Industrial\") == F.greatest(*[col for col in columns_to_compare if col != \"AsociarAlUsoPrincipal\"]), \"Industrial\")\n",
    "           .when(F.col(\"Otro\") == F.greatest(*[col for col in columns_to_compare if col != \"AsociarAlUsoPrincipal\"]), \"Otro\")\n",
    "           .when(F.col(\"Residencial\") == F.greatest(*[col for col in columns_to_compare if col != \"AsociarAlUsoPrincipal\"]), \"Residencial\")\n",
    "           .when(F.col(\"UsoSinAsociar\") == F.greatest(*[col for col in columns_to_compare if col != \"AsociarAlUsoPrincipal\"]), \"UsoSinAsociar\")\n",
    "           .otherwise(None)\n",
    "          )\n",
    "]\n"
   ]
  }
 ],
 "metadata": {
  "application/vnd.databricks.v1+notebook": {
   "dashboards": [],
   "language": "python",
   "notebookMetadata": {
    "mostRecentlyExecutedCommandWithImplicitDF": {
     "commandId": 1033606986139198,
     "dataframes": [
      "_sqldf"
     ]
    },
    "pythonIndentUnit": 4
   },
   "notebookName": "Calculo ENT - Usos e Isocronas - operación estadistica",
   "widgets": {}
  }
 },
 "nbformat": 4,
 "nbformat_minor": 0
}
