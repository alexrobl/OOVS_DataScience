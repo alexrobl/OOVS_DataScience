{
 "cells": [
  {
   "cell_type": "code",
   "execution_count": 0,
   "metadata": {
    "application/vnd.databricks.v1+cell": {
     "cellMetadata": {
      "byteLimit": 2048000,
      "rowLimit": 10000
     },
     "inputWidgets": {},
     "nuid": "7b1e75b5-4ec3-4766-8590-88815bbac85d",
     "showTitle": false,
     "title": ""
    }
   },
   "outputs": [],
   "source": [
    "from pyspark.sql import SparkSession\n",
    "from pyspark import StorageLevel\n",
    "from sedona.spark import *\n",
    "from sedona.utils import SedonaKryoRegistrator, KryoSerializer\n",
    "\n",
    "from sedona.register.geo_registrator import SedonaRegistrator\n",
    "\n",
    "# configuración de spark y Sedona para datos geograficos\n",
    "spark = SparkSession.\\\n",
    "    builder.\\\n",
    "    master(\"local[*]\").\\\n",
    "    appName(\"Sedona App\").\\\n",
    "    config(\"spark.serializer\", KryoSerializer.getName).\\\n",
    "    config(\"spark.kryo.registrator\", SedonaKryoRegistrator.getName) .\\\n",
    "    config(\"spark.kryoserializer.buffer.max\", \"150000m\").\\\n",
    "    getOrCreate()\n",
    "    #config(\"sedona.global.charset\", \"utf8\").\\\n",
    "    \n",
    "#SedonaRegistrator.registerAll()\n",
    "SedonaContext.create(spark)"
   ]
  },
  {
   "cell_type": "code",
   "execution_count": 0,
   "metadata": {
    "application/vnd.databricks.v1+cell": {
     "cellMetadata": {
      "byteLimit": 2048000,
      "rowLimit": 10000
     },
     "inputWidgets": {},
     "nuid": "b7ab3a50-609c-4210-a714-9afde5d52dd2",
     "showTitle": false,
     "title": ""
    }
   },
   "outputs": [],
   "source": [
    "import geopandas as gpd\n",
    "from shapely import wkt\n",
    "from sedona.utils.adapter import Adapter\n",
    "\n",
    "# Consulta la base de datos y trae los valores de catastro\n",
    "predios_catastro = spark.sql(\n",
    "      \"SELECT * from metrocatastro\"\n",
    ")\n",
    "catastro_plmb= predios_catastro.filter(\"Linea == 'Linea 1'\")\n",
    "# Obtienes los valores en formato spark dataframe\n",
    "predios_catastro = catastro_plmb.dropDuplicates([\"LOTLOTE_ID\",\"PERIODO\"])\n",
    "catastro_df = predios_catastro.drop(\"Unnamed: 0\",\"Unnamed: 0.1\",\"Unnamed: 0.1.1\",\"Tiempo\",\"layer\")\n",
    "#.drop(\"firstname\",\"middlename\",\"lastname\")\n",
    "# IMPRIME EL SCHEMA DE LA TABLA\n",
    "# catastro_df.printSchema()\n",
    "# _________________________\n",
    "# crea una vista temporal de los datos\n",
    "catastro_df.createOrReplaceTempView(\"predios_catastro\")"
   ]
  },
  {
   "cell_type": "code",
   "execution_count": 0,
   "metadata": {
    "application/vnd.databricks.v1+cell": {
     "cellMetadata": {
      "byteLimit": 2048000,
      "rowLimit": 10000
     },
     "inputWidgets": {},
     "nuid": "6c40e5a3-3368-4adb-8bf1-de7060e24f90",
     "showTitle": false,
     "title": ""
    }
   },
   "outputs": [],
   "source": [
    "# AREA DE ESTUDIO\n",
    "from sedona.core.formatMapper.shapefileParser import ShapefileReader\n",
    "from sedona.utils.adapter import Adapter\n",
    "sc = spark.sparkContext\n",
    "sc.setSystemProperty(\"sedona.global.charset\", \"utf8\")\n",
    "\n",
    "#ADQUISICION\n",
    "# AREA PLMB\n",
    "AREA = ShapefileReader.readToGeometryRDD(sc, \"dbfs:/FileStore/shared_uploads/duvan.robles@metrodebogota.gov.co/AREA/\")\n",
    "AREA.CRSTransform(\"epsg:4326\", \"epsg:4326\")\n",
    "AREA_df = Adapter.toDf(AREA, spark)\n",
    "AREA_df.createOrReplaceTempView(\"AREA\") "
   ]
  },
  {
   "cell_type": "code",
   "execution_count": 0,
   "metadata": {
    "application/vnd.databricks.v1+cell": {
     "cellMetadata": {
      "byteLimit": 2048000,
      "rowLimit": 10000
     },
     "inputWidgets": {},
     "nuid": "2fb4c9d2-76d7-4c75-8ca3-802603e594b5",
     "showTitle": false,
     "title": ""
    }
   },
   "outputs": [],
   "source": [
    "print(np.__version__)"
   ]
  },
  {
   "cell_type": "code",
   "execution_count": 0,
   "metadata": {
    "application/vnd.databricks.v1+cell": {
     "cellMetadata": {
      "byteLimit": 2048000,
      "rowLimit": 10000
     },
     "inputWidgets": {},
     "nuid": "aea6acd1-576f-47ee-8fc7-deb51adcbe1d",
     "showTitle": false,
     "title": ""
    }
   },
   "outputs": [],
   "source": [
    "!pip install numpy==1.23"
   ]
  },
  {
   "cell_type": "code",
   "execution_count": 0,
   "metadata": {
    "application/vnd.databricks.v1+cell": {
     "cellMetadata": {
      "byteLimit": 2048000,
      "rowLimit": 10000
     },
     "inputWidgets": {},
     "nuid": "c0138020-c18c-4cf9-83fc-3d84b66df685",
     "showTitle": false,
     "title": ""
    }
   },
   "outputs": [],
   "source": [
    "dentro = spark.sql(\"\"\"\n",
    "        select \n",
    "            p.* from  predios_catastro as p, AREA as a \n",
    "        where\n",
    "            ST_Intersects(ST_SetSRID(ST_GeomFromText(p.geometry),4326), ST_SetSRID(a.geometry,4326))\n",
    "            \"\"\")    \n",
    "    \n",
    "import matplotlib.pyplot as plt\n",
    "spark.conf.set(\"spark.sql.execution.arrow.pyspark.enabled\", \"true\")\n",
    "df = dentro.toPandas()\n",
    "\n",
    "# I'm transform pyspark Dataframe to geopandas Dataframe\n",
    "df['geometry'] = df['geometry'].apply(wkt.loads)\n",
    "gdf = gpd.GeoDataFrame(df, geometry=\"geometry\").set_crs('epsg:4326')\n",
    "\n",
    "adquisicion = gpd.read_file('/dbfs/FileStore/shared_uploads/duvan.robles@metrodebogota.gov.co/predios.shp').to_crs('epsg:4326')\n",
    "#Seleccion=gpd.overlay(gdf, adquisicion, how='symmetric_difference')\n",
    "# Seleccion.drop(columns=[ 'FID', 'CHIP', 'LOTCODIGO', 'DIRECCION_', 'ENTIDAD_GE', 'LOCALIDAD', 'Proteccion',\n",
    "#        'Nombre', 'Item', 'LotCodig_1', 'ID_PREDIAL', 'CHIP_1', 'ENT_GESTIO', 'RT_IDU', 'DIRECCIÓN', 'MATRICULA', 'PROPIETARI',\n",
    "#        'PARTÍCULA', 'PRIORIDAD', 'Tipo_Afect', 'TIpo_Predi', 'Componedor', 'Tipo', 'Destino', 'Unidad_Eje', 'Grupo_P_Ap', 'No__Estaci', 'Estación', 'Articulado', 'Articula_1', 'Articula_2', 'AT12__Apen', 'AT12__Ap_1', 'AT12__Ap_2', 'Modalidad', 'Priorida_1','LOCALIDA_1', 'BARRIO', 'ESTRATO', 'AREA', 'Area_Terre', 'Area_Const', 'Shape_Leng', 'Shape_Area', 'LOTE', 'EDIFICIO', 'REGISTRO_T', 'CABIDA_Y_L', 'ESTUDIOS_D', 'Solicitud', 'AVALÚO_CO', 'FECHA_OFER', 'Vigencia_O', 'FECHA_NOTI', 'FECHA_ACEP', 'FECHA_PROM', 'PROGRAMACI', 'FECHA_ENTR', 'TRAMITE_DE', 'PREDIOS_ES', 'PREDIOS_RE', 'Casos_DE_E', 'RESOLUCIÓ','Entregados', 'Demolido', 'No_requier', 'FECHA_EN_1', 'DISPONIBLE', 'Acta_de_en', 'Estado', 'Estado_Nor', 'Tenencia', 'Fecha_máx', 'Fecha_En_2', 'Ctto_urgen', 'Predios_Va', 'Categoria', 'Shape__Are', 'Shape__Len'], inplace=True)"
   ]
  },
  {
   "cell_type": "code",
   "execution_count": 0,
   "metadata": {
    "application/vnd.databricks.v1+cell": {
     "cellMetadata": {
      "byteLimit": 2048000,
      "rowLimit": 10000
     },
     "inputWidgets": {},
     "nuid": "516316f7-ee2d-4354-a96e-57dc1a91ee59",
     "showTitle": false,
     "title": ""
    }
   },
   "outputs": [],
   "source": [
    "adquisicion.explore()"
   ]
  },
  {
   "cell_type": "code",
   "execution_count": 0,
   "metadata": {
    "application/vnd.databricks.v1+cell": {
     "cellMetadata": {
      "byteLimit": 2048000,
      "rowLimit": 10000
     },
     "inputWidgets": {},
     "nuid": "68f7f050-32a4-4d67-8a5a-0c93acf8ca91",
     "showTitle": false,
     "title": ""
    }
   },
   "outputs": [],
   "source": [
    "import numpy as np\n",
    "conditions = [\n",
    "    Seleccion['DESCRIPCION_USO'].isin(['BODEGA COMERCIAL NPH', 'BODEGA COMERCIAL PH', 'BODEGAS DE ALMACENAMIENTO NPH', 'BODEGAS DE ALMACENAMIENTO PH', 'CENTRO COMERCIAL GRANDE NPH', 'CENTRO COMERCIAL GRANDE PH', 'CENTRO COMERCIAL MEDIANO NPH', 'CENTRO COMERCIAL MEDIANO PH', 'CENTRO COMERCIAL PEQUENO NPH', 'CENTRO COMERCIAL PEQUENO PH', 'COMERCIO PUNTUAL NPH O HASTA 3 UNID PH', 'COMERCIO PUNTUAL PH', 'CORREDOR COMERCIAL NPH O HASTA 3 UNID PH', 'CORREDOR COMERCIAL PH', 'DEPOSITO (LOCKERS) PH', 'DEPOSITOS DE ALMACENAMIENTO NPH', 'EDIFICIOS DE PARQUEO NPH', 'EDIFICIOS DE PARQUEO PH', 'HOTELES NPH', 'HOTELES PH', 'KIOSKOS', 'MOTELES, AMOBLADOS, RESIDENCIAS NPH', 'MOTELES, AMOBLADOS, RESIDENCIAS PH', 'OFICINAS OPERATIVAS', 'OFICINAS OPERATIVAS(ESTACIONES SERVICIO)', 'OFICINAS Y CONSULTORIOS (OFICIAL) NPH', 'OFICINAS Y CONSULTORIOS (OFICIAL) PH', 'OFICINAS Y CONSULTORIOS NPH', 'OFICINAS Y CONSULTORIOS PH', 'PARQUEO CUBIERTO NPH', 'PARQUEO CUBIERTO PH', 'RESTAURANTES NPH', 'RESTAURANTES PH', 'TEATROS Y CINEMAS NPH', 'TEATROS Y CINEMAS PH']),\n",
    "    Seleccion['DESCRIPCION_USO'].isin(['AULAS DE CLASE', 'CEMENTERIOS', 'CLINICAS, HOSPITALES, CENTROS MEDICOS', 'COLEGIOS EN PH', 'COLEGIOS Y UNIVERSIDADES 1 A 3 PISOS', 'COLEGIOS Y UNIVERSIDADES 4 O MAS PISOS', 'COLISEOS', 'CULTO RELIGIOS EN NPH', 'INSTALACIONES MILITARES', 'INSTITUCIONAL PH', 'INSTITUCIONAL PUNTUAL', 'MUSEOS', 'PLAZAS DE MERCADO', 'CULTO RELIGIOSO EN PH', 'IGLESIA PH', 'IGLESIAS', ]),\n",
    "    Seleccion['DESCRIPCION_USO'].isin(['BODEGA ECONOMICA', 'BODEGA ECONOMICA(SERVITECA,ESTA.SERVIC.)', 'INDUSTRIA ARTESANAL', 'INDUSTRIA GRANDE', 'INDUSTRIA MEDIANA', 'INDUSTRIA MEDIANA PH', 'OFICINA BODEGA Y/O INDUSTRIA PH', 'OFICINAS EN BODEGAS Y/O INDUSTRIAS', ]),\n",
    "    Seleccion['DESCRIPCION_USO'].isin(['CLUBES MAYOR EXTENSION', 'CLUBES PEQUENOS', 'PARQUEO LIBRE PH', 'PARQUES DE DIVERSION', 'PISCINAS EN NPH', ]),\n",
    "    Seleccion['DESCRIPCION_USO'].isin(['DEPOSITO ALMACENAMIENTO PH', 'HABITACIONAL EN PROPIEDAD HORIZONTAL', 'HABITACIONAL MENOR O IGUAL A 3 PISOS NPH', 'HABITACIONAL MENOR O IGUAL A 3 PISOS PH', 'MAYOR O IGUAL A 4 PISOS NPH O 3 PISOS PH', ]),\n",
    "    Seleccion['DESCRIPCION_USO'].isin(['ESTABLOS, PESEBRERAS', 'GALPONES, GALLINEROS', 'SILOS', 'ENRAMADAS, COBERTIZOS, CANEYES']),\n",
    "    ]\n",
    "choices = ['Comercial y de servicios', 'Equipamientos', 'Industrial', 'Recreacional y deportivo', 'Residencial', 'Otros']\n",
    "Seleccion['Uso_Agrupado'] =  np.select(conditions, choices, default=0)\n",
    "del conditions, choices"
   ]
  },
  {
   "cell_type": "code",
   "execution_count": 0,
   "metadata": {
    "application/vnd.databricks.v1+cell": {
     "cellMetadata": {
      "byteLimit": 2048000,
      "rowLimit": 10000
     },
     "inputWidgets": {},
     "nuid": "33b3b13b-e15a-46d7-85c8-e49a74d30ec2",
     "showTitle": false,
     "title": ""
    }
   },
   "outputs": [],
   "source": [
    "display(Seleccion.Uso_Agrupado.value_counts())"
   ]
  },
  {
   "cell_type": "code",
   "execution_count": 0,
   "metadata": {
    "application/vnd.databricks.v1+cell": {
     "cellMetadata": {
      "byteLimit": 2048000,
      "rowLimit": 10000
     },
     "inputWidgets": {},
     "nuid": "6465e7a6-c92b-4cb2-ade1-89ce49c3286c",
     "showTitle": false,
     "title": ""
    }
   },
   "outputs": [],
   "source": [
    "# PEMP_geom = gpd.GeoDataFrame.from_file('/dbfs/FileStore/shared_uploads/duvan.robles@metrodebogota.gov.co/PEMP/')\n",
    "# BICS_geom = gpd.GeoDataFrame.from_file('/dbfs/FileStore/shared_uploads/duvan.robles@metrodebogota.gov.co/BICS/').to_crs('epsg:4326')\n",
    "adquisicion = gpd.GeoDataFrame.from_file('/dbfs/FileStore/shared_uploads/duvan.robles@metrodebogota.gov.co/predios.shp').to_crs('epsg:4326')\n",
    "Entropia =  Seleccion.copy()\n",
    "Entropia=gpd.overlay(Entropia, adquisicion, how='difference', keep_geom_type=False)\n",
    "#Entropia=gpd.overlay(Entropia, BICS_geom, how='symmetric_difference')\n",
    "display(print(Entropia.shape))"
   ]
  },
  {
   "cell_type": "code",
   "execution_count": 0,
   "metadata": {
    "application/vnd.databricks.v1+cell": {
     "cellMetadata": {
      "byteLimit": 2048000,
      "rowLimit": 10000
     },
     "inputWidgets": {},
     "nuid": "cfe043b3-e874-4494-93b2-7f76db9eb8ef",
     "showTitle": false,
     "title": ""
    }
   },
   "outputs": [],
   "source": [
    "estaciones = gpd.read_file('/dbfs/FileStore/shared_uploads/duvan.robles@metrodebogota.gov.co/Estaciones_Mercator.shp').to_crs('esri:102233')\n",
    "Seleccion_Mercator=Entropia.to_crs('esri:102233')\n",
    "Entropia_Init=gpd.sjoin_nearest(Seleccion_Mercator,estaciones[['FID','NOMBRE','geometry']],distance_col=\"dist\")"
   ]
  },
  {
   "cell_type": "code",
   "execution_count": 0,
   "metadata": {
    "application/vnd.databricks.v1+cell": {
     "cellMetadata": {
      "byteLimit": 2048000,
      "rowLimit": 10000
     },
     "inputWidgets": {},
     "nuid": "d58d0c7f-fe6c-4151-89bc-9c6b362c12f3",
     "showTitle": false,
     "title": ""
    }
   },
   "outputs": [],
   "source": [
    "Entropia_Init[(Entropia_Init['PERIODO']==2022) &(Entropia_Init['NOMBRE']=='E03')][['PERIODO', 'geometry']].explore(color = 'NOMBRE')"
   ]
  },
  {
   "cell_type": "code",
   "execution_count": 0,
   "metadata": {
    "application/vnd.databricks.v1+cell": {
     "cellMetadata": {
      "byteLimit": 2048000,
      "rowLimit": 10000
     },
     "inputWidgets": {},
     "nuid": "c09c4f4b-393b-474e-b3eb-1ec505322744",
     "showTitle": false,
     "title": ""
    }
   },
   "outputs": [],
   "source": [
    "import pandas as pd\n",
    "pd.crosstab(Entropia_Init.Linea, Entropia_Init.PERIODO)"
   ]
  },
  {
   "cell_type": "code",
   "execution_count": 0,
   "metadata": {
    "application/vnd.databricks.v1+cell": {
     "cellMetadata": {
      "byteLimit": 2048000,
      "rowLimit": 10000
     },
     "inputWidgets": {},
     "nuid": "183fc8ef-2e3f-4896-9747-6e0e6d014c41",
     "showTitle": false,
     "title": ""
    }
   },
   "outputs": [],
   "source": [
    "AGRUPADOS = Entropia_Init.groupby(by=['PERIODO', 'NOMBRE'])['AREA_CONSTRUIDA','AREA_TERRENO' ].sum().reset_index()\n",
    "AGRUPADOS_ZONA = Entropia_Init.groupby(by=['PERIODO', 'NOMBRE', 'Uso_Agrupado'])['AREA_CONSTRUIDA','AREA_TERRENO' ].sum().reset_index()\n",
    "\n",
    "Pre_Entropia = pd.merge(\n",
    "    AGRUPADOS_ZONA, AGRUPADOS,\n",
    "    how='inner',\n",
    "    left_on=['PERIODO', 'NOMBRE'],\n",
    "    right_on=['PERIODO', 'NOMBRE']).rename(\n",
    "        columns={'AREA_CONSTRUIDA_y':'Construida_total','AREA_TERRENO_y':'Terreno_total',\n",
    "                 'AREA_CONSTRUIDA_x':'AC_Uso','AREA_TERRENO_x':'AT_Uso'})"
   ]
  },
  {
   "cell_type": "code",
   "execution_count": 0,
   "metadata": {
    "application/vnd.databricks.v1+cell": {
     "cellMetadata": {
      "byteLimit": 2048000,
      "rowLimit": 10000
     },
     "inputWidgets": {},
     "nuid": "21f2a0ab-5725-4568-a898-280a4ed5cd2d",
     "showTitle": false,
     "title": ""
    }
   },
   "outputs": [],
   "source": [
    "import numpy as np\n",
    "Pre_Entropia['factor'] = Pre_Entropia['AC_Uso']/Pre_Entropia['Construida_total']\n",
    "Pre_Entropia['ln_factor'] = np.log(Pre_Entropia['AC_Uso']/Pre_Entropia['Construida_total'])\n",
    "Pre_Entropia['MULT'] = Pre_Entropia['factor'] * Pre_Entropia['ln_factor']"
   ]
  },
  {
   "cell_type": "code",
   "execution_count": 0,
   "metadata": {
    "application/vnd.databricks.v1+cell": {
     "cellMetadata": {
      "byteLimit": 2048000,
      "rowLimit": 10000
     },
     "inputWidgets": {},
     "nuid": "bde3f48b-ad65-4c5b-b72a-edc36988c18d",
     "showTitle": false,
     "title": ""
    }
   },
   "outputs": [],
   "source": [
    "Entropia_Final = Pre_Entropia.groupby(by=['PERIODO','NOMBRE']).agg({'MULT': 'sum'})\n",
    "Entropia_Final['Valor Entropia estacion'] = -Entropia_Final['MULT']/np.log(len(set(Pre_Entropia.Uso_Agrupado.values.tolist())))"
   ]
  },
  {
   "cell_type": "code",
   "execution_count": 0,
   "metadata": {
    "application/vnd.databricks.v1+cell": {
     "cellMetadata": {
      "byteLimit": 2048000,
      "rowLimit": 10000
     },
     "inputWidgets": {},
     "nuid": "5514391a-6958-47be-ba0e-5efed88fb8a6",
     "showTitle": false,
     "title": ""
    }
   },
   "outputs": [],
   "source": [
    "import matplotlib.pyplot as plt\n",
    "import seaborn as sns\n",
    "import numpy as np\n",
    "\n",
    "# Linea 1\n",
    "\n",
    "Linea = 'PLMB'\n",
    "#for xanio in range(2006,2023):\n",
    "\n",
    "sns.set_theme(style=\"whitegrid\")\n",
    "\n",
    "plt.figure(figsize=(20,10))\n",
    "plt.xticks(rotation=40)\n",
    "#lista = list(compilado[compilado.layer.isin(['E16'])].Uso_Agrupado.value_counts().head(10).to_dict().keys())\n",
    "# compila por estacion\n",
    "#table = pd.pivot_table(compilado[(compilado.layer.isin([e]) & compilado.Uso_Agrupado.isin(Usos_analisis) & compilado.Tiempo.isin(['5 min','10 min']))] , values=['AT_VM2'], index=['PERIODO','Uso_Agrupado'],aggfunc={'AT_VM2': np.mean})\n",
    "# compila el agregado\n",
    "#table = pd.pivot_table(compilado[(compilado.Linea.isin(['Linea 1']) & compilado.Tiempo.isin(['5 min','10 min']))] , values=['AC_VM2'], index=['PERIODO','Uso_Agrupado'],aggfunc={'AC_VM2': np.mean})\n",
    "\n",
    "ax = sns.lineplot(data=Entropia_Final, x=\"PERIODO\", y=\"Valor Entropia estacion\", hue=\"NOMBRE\", style=\"NOMBRE\", markers=True ,palette=\"tab20\")\n",
    "\n",
    "#sns.lineplot(data=F[F.layer_1.isin(Estaciones_seg2)], x=\"PERIODO\", y=\"Valor Entropia estacion\", hue=\"NOMBRE\", style=\"NOMBRE\", markers=True ,palette=\"tab20\")\n",
    "\n",
    "ax.set_title('{} - ENTROPIA TOTAL USOS -- {}'.format(Linea, sorted(list(set(Pre_Entropia.Uso_Agrupado.values.tolist()))) ).upper(),pad=10)\n",
    "ax.set_xlabel('Periodos Catastro'.upper())\n",
    "ax.set_ylabel('ENTROPIA TOTAL'.upper())\n",
    "\n",
    "plt.legend(title='Estación', loc='upper left', bbox_to_anchor=(1,1))\n",
    "plt.tight_layout()\n",
    "ax.yaxis.labelpad = 20\n",
    "ax.xaxis.labelpad = 20\n",
    "ax.tick_params(labelsize=12)\n",
    "ax.grid(alpha=0.5, linestyle='dashed', linewidth=1)\n",
    "ax.spines['bottom'].set_color('none')\n",
    "ax.spines['top'].set_color('none')\n",
    "ax.spines['left'].set_color('none')\n",
    "ax.spines['right'].set_color(\"none\")"
   ]
  },
  {
   "cell_type": "code",
   "execution_count": 0,
   "metadata": {
    "application/vnd.databricks.v1+cell": {
     "cellMetadata": {
      "byteLimit": 2048000,
      "rowLimit": 10000
     },
     "inputWidgets": {},
     "nuid": "ea79f129-4a26-4521-9ec9-0d1130aece45",
     "showTitle": false,
     "title": ""
    }
   },
   "outputs": [],
   "source": [
    "import seaborn as sns\n",
    "import matplotlib.pyplot as plt\n",
    "import seaborn as sns\n",
    "sns.set_theme(style=\"whitegrid\")\n",
    "\n",
    "df2 = pd.pivot_table(Entropia_Final, values=['Valor Entropia estacion'], index=['NOMBRE', 'PERIODO']).unstack()\n",
    "\n",
    "#df2.set_index('NOMBRE', inplace = True)\n",
    "#sns.heatmap(df2, linewidth=.5)\n",
    "\n",
    "plt.figure(figsize=(25,10))\n",
    "plt.xticks(rotation=40)\n",
    "plt.title('{} - ENTROPIA TOTAL USOS -- {}'.format(Linea, sorted(list(set(Pre_Entropia.Uso_Agrupado.values.tolist())))))\n",
    "cmap = sns.diverging_palette(230, 20, sep=70 , as_cmap=True)\n",
    "sns.heatmap(df2, cmap=cmap, annot=True, fmt=\".3f\", linewidths=.5)"
   ]
  },
  {
   "cell_type": "markdown",
   "metadata": {
    "application/vnd.databricks.v1+cell": {
     "cellMetadata": {
      "byteLimit": 2048000,
      "rowLimit": 10000
     },
     "inputWidgets": {},
     "nuid": "720993c9-c167-4f1f-8adf-91ce01493cd4",
     "showTitle": false,
     "title": ""
    }
   },
   "source": [
    "# listar en databricks"
   ]
  },
  {
   "cell_type": "code",
   "execution_count": 0,
   "metadata": {
    "application/vnd.databricks.v1+cell": {
     "cellMetadata": {
      "byteLimit": 2048000,
      "rowLimit": 10000
     },
     "inputWidgets": {},
     "nuid": "fc995cd1-dc8f-4454-81e3-81c92e804a21",
     "showTitle": false,
     "title": ""
    }
   },
   "outputs": [],
   "source": [
    "%fs\n",
    "ls \"dbfs:/FileStore/shared_uploads/duvan.robles@metrodebogota.gov.co/\""
   ]
  }
 ],
 "metadata": {
  "application/vnd.databricks.v1+notebook": {
   "dashboards": [],
   "language": "python",
   "notebookMetadata": {
    "mostRecentlyExecutedCommandWithImplicitDF": {
     "commandId": 3746815309684645,
     "dataframes": [
      "_sqldf"
     ]
    },
    "pythonIndentUnit": 4
   },
   "notebookName": "Calculo Usos y buffer",
   "widgets": {}
  }
 },
 "nbformat": 4,
 "nbformat_minor": 0
}
