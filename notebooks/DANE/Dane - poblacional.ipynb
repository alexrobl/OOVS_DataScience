{
 "cells": [
  {
   "cell_type": "markdown",
   "metadata": {
    "application/vnd.databricks.v1+cell": {
     "cellMetadata": {},
     "inputWidgets": {},
     "nuid": "bd839189-62d0-41d7-878c-9948e349e054",
     "showTitle": false,
     "title": ""
    }
   },
   "source": [
    "# procesamiento de Base de datos DANE."
   ]
  },
  {
   "cell_type": "code",
   "execution_count": 0,
   "metadata": {
    "application/vnd.databricks.v1+cell": {
     "cellMetadata": {
      "byteLimit": 2048000,
      "rowLimit": 10000
     },
     "inputWidgets": {},
     "nuid": "63f32841-62ef-40e8-aad7-eb4a6d1dbb79",
     "showTitle": false,
     "title": ""
    }
   },
   "outputs": [],
   "source": [
    "[a.path for a in dbutils.fs.ls(\"/FileStore/tables/shp/isocronas/\", )]"
   ]
  },
  {
   "cell_type": "code",
   "execution_count": 0,
   "metadata": {
    "application/vnd.databricks.v1+cell": {
     "cellMetadata": {
      "byteLimit": 2048000,
      "rowLimit": 10000
     },
     "inputWidgets": {},
     "nuid": "d3b2d5a8-c269-4fba-b182-474a9a61f009",
     "showTitle": false,
     "title": ""
    }
   },
   "outputs": [],
   "source": [
    "from pyspark.sql import SparkSession\n",
    "from pyspark import StorageLevel\n",
    "from sedona.spark import *\n",
    "from sedona.utils import SedonaKryoRegistrator, KryoSerializer\n",
    "\n",
    "from sedona.register.geo_registrator import SedonaRegistrator\n",
    "\n",
    "# configuración de spark y Sedona para datos geograficos\n",
    "spark = SparkSession.\\\n",
    "    builder.\\\n",
    "    master(\"local[*]\").\\\n",
    "    appName(\"Sedona App\").\\\n",
    "    config(\"spark.serializer\", KryoSerializer.getName).\\\n",
    "    config(\"spark.kryo.registrator\", SedonaKryoRegistrator.getName) .\\\n",
    "    config(\"spark.kryoserializer.buffer.max\", \"150000m\").\\\n",
    "    getOrCreate()\n",
    "    #config(\"sedona.global.charset\", \"utf8\").\\\n",
    "    \n",
    "#SedonaRegistrator.registerAll()\n",
    "SedonaContext.create(spark)"
   ]
  },
  {
   "cell_type": "code",
   "execution_count": 0,
   "metadata": {
    "application/vnd.databricks.v1+cell": {
     "cellMetadata": {
      "byteLimit": 2048000,
      "rowLimit": 10000
     },
     "inputWidgets": {},
     "nuid": "e8bccf30-beeb-4bff-be07-f3f204f4360a",
     "showTitle": false,
     "title": ""
    }
   },
   "outputs": [],
   "source": [
    "# censo poblacional 2018\n",
    "from sedona.core.formatMapper.shapefileParser import ShapefileReader\n",
    "from sedona.utils.adapter import Adapter\n",
    "sc = spark.sparkContext\n",
    "sc.setSystemProperty(\"sedona.global.charset\", \"utf8\")\n",
    "#carga el censo 2018 del dane\n",
    "censo = ShapefileReader.readToGeometryRDD(sc, \"dbfs:/FileStore/tables/DANE/censo2018/\")\n",
    "#carga las isocronas\n",
    "Isocrona = ShapefileReader.readToGeometryRDD(sc, \"dbfs:/FileStore/tables/shp/isocronas/\")\n",
    "# carga de espacio publico parques plazas y plazoletas\n",
    "ep = ShapefileReader.readToGeometryRDD(sc, \"dbfs:/FileStore/tables/EP/\")\n",
    "#asigna el sistema de proyección, en este caso proyeccion geografica.\n",
    "censo.CRSTransform('epsg:4326','epsg:4326')\n",
    "Isocrona.CRSTransform('epsg:4326','epsg:4326')\n",
    "ep.CRSTransform('epsg:4326','epsg:4326')\n",
    "# definición observatorio de espacio publico\n",
    "\n",
    "# espacio publico efectivo.\n",
    "#  definido por el observatorio del espacio público como la suma de areas de\n",
    "# Parques, plazas, plazoletas, zonas verdes, Lote patrimonio inmobiliario, calzada, anden, separador, cicloruta\n",
    "epf_oep = ShapefileReader.readToGeometryRDD(sc, \"dbfs:/FileStore/tables/EPF/\")\n",
    "epf_oep.CRSTransform('epsg:4326','epsg:4326')"
   ]
  },
  {
   "cell_type": "code",
   "execution_count": 0,
   "metadata": {
    "application/vnd.databricks.v1+cell": {
     "cellMetadata": {
      "byteLimit": 2048000,
      "rowLimit": 10000
     },
     "inputWidgets": {},
     "nuid": "d509bfcd-46f3-4dc8-85c6-dea63f0f527e",
     "showTitle": false,
     "title": ""
    }
   },
   "outputs": [],
   "source": [
    "from sedona.sql.st_functions import ST_Centroid\n",
    "#  para no tener desbordamientos en la memoria del cluster se deben convertir los poligonos a un punto centroide\n",
    "censo_df = Adapter.toDf(censo, spark)\n",
    "censopoint_df = censo_df.withColumn(\"geometry\", ST_Centroid(censo_df[\"geometry\"]))\n",
    "censo = Adapter.toSpatialRdd(censopoint_df,\"geometry\")\n",
    "censo.CRSTransform('epsg:4326','epsg:4326')\n",
    "# Epf tambien debe estar como centroide.\n",
    "epf_oep_df = Adapter.toDf(epf_oep, spark)\n",
    "epf_point_df = epf_oep_df.withColumn(\"geometry\", ST_Centroid(epf_oep_df[\"geometry\"]))\n",
    "epf = Adapter.toSpatialRdd(epf_point_df,\"geometry\")\n",
    "epf.CRSTransform('epsg:4326','epsg:4326')"
   ]
  },
  {
   "cell_type": "code",
   "execution_count": 0,
   "metadata": {
    "application/vnd.databricks.v1+cell": {
     "cellMetadata": {
      "byteLimit": 2048000,
      "rowLimit": 10000
     },
     "inputWidgets": {},
     "nuid": "7600f76e-7bb4-4c66-b20f-6432a2262496",
     "showTitle": false,
     "title": ""
    }
   },
   "outputs": [],
   "source": [
    "#Isocrona.rawSpatialRDD.map(lambda x: x.getUserData())\n",
    "#Isocrona.map(lambda x: x[0].geom.centroid).collect()"
   ]
  },
  {
   "cell_type": "code",
   "execution_count": 0,
   "metadata": {
    "application/vnd.databricks.v1+cell": {
     "cellMetadata": {
      "byteLimit": 2048000,
      "rowLimit": 10000
     },
     "inputWidgets": {},
     "nuid": "d0b81fa2-9abf-475e-869f-15a916cd0cf4",
     "showTitle": false,
     "title": ""
    }
   },
   "outputs": [],
   "source": [
    "from sedona.utils.adapter import Adapter\n",
    "censo_df = Adapter.toDf(censo, spark)\n",
    "Isocrona_df = Adapter.toDf(Isocrona, spark)\n",
    "ep_df = Adapter.toDf(ep, spark)\n",
    "epf_df = Adapter.toDf(epf, spark)\n",
    "c=[field.name for field in censo_df.schema.fields]\n",
    "c.remove('geometry')\n",
    "i = [field.name for field in Isocrona_df.schema.fields]\n",
    "i.remove('geometry')\n",
    "atributos_join = i+c\n",
    "atributos_join.insert(0, 'geom')\n",
    "# atributos de cruce en a espacio publico\n",
    "e=[field.name for field in ep_df.schema.fields]\n",
    "e.remove('geometry')\n",
    "atributosEP_join = i+e\n",
    "atributosEP_join.insert(0, 'geom')\n",
    "# atributos de cruce con espacio publico total\n",
    "epd_fields=[field.name for field in epf_df.schema.fields]\n",
    "epd_fields.remove('geometry')\n",
    "atributosEPF_join = i+epd_fields\n",
    "atributosEPF_join.insert(0, 'geom')"
   ]
  },
  {
   "cell_type": "code",
   "execution_count": 0,
   "metadata": {
    "application/vnd.databricks.v1+cell": {
     "cellMetadata": {
      "byteLimit": 2048000,
      "rowLimit": 10000
     },
     "inputWidgets": {},
     "nuid": "df41bad8-c07b-49bb-8744-553e5da7c6d5",
     "showTitle": false,
     "title": ""
    }
   },
   "outputs": [],
   "source": [
    "from sedona.core.spatialOperator import JoinQuery\n",
    "# haciendo las particiones espaciales\n",
    "censo.analyze()\n",
    "censo.spatialPartitioning(GridType.KDBTREE, 4)\n",
    "Isocrona.spatialPartitioning(censo.getPartitioner())\n",
    "ep.spatialPartitioning(censo.getPartitioner())\n",
    "epf.spatialPartitioning(censo.getPartitioner())"
   ]
  },
  {
   "cell_type": "code",
   "execution_count": 0,
   "metadata": {
    "application/vnd.databricks.v1+cell": {
     "cellMetadata": {
      "byteLimit": 2048000,
      "rowLimit": 10000
     },
     "inputWidgets": {},
     "nuid": "8d5bd788-31c0-45ee-b494-0ad5b5d24b62",
     "showTitle": false,
     "title": ""
    }
   },
   "outputs": [],
   "source": [
    "from sedona.core.enums import GridType\n",
    "from sedona.core.enums import IndexType\n",
    "from sedona.core.spatialOperator import JoinQuery\n",
    "using_index = True\n",
    "result_censo = JoinQuery.SpatialJoinQueryFlat(censo, Isocrona, using_index, True)\n",
    "result_ep = JoinQuery.SpatialJoinQueryFlat(ep, Isocrona, using_index, True)\n",
    "result_ept = JoinQuery.SpatialJoinQueryFlat(epf, Isocrona, using_index, True)"
   ]
  },
  {
   "cell_type": "code",
   "execution_count": 0,
   "metadata": {
    "application/vnd.databricks.v1+cell": {
     "cellMetadata": {
      "byteLimit": 2048000,
      "rowLimit": 10000
     },
     "inputWidgets": {},
     "nuid": "fa757c22-9e04-47df-bc7a-70b8e440fad7",
     "showTitle": false,
     "title": ""
    }
   },
   "outputs": [],
   "source": [
    "#result.sample(withReplacement=False, fraction=0.01, seed=3).map(lambda x: x[1]).collect()"
   ]
  },
  {
   "cell_type": "code",
   "execution_count": 0,
   "metadata": {
    "application/vnd.databricks.v1+cell": {
     "cellMetadata": {
      "byteLimit": 2048000,
      "rowLimit": 10000
     },
     "inputWidgets": {},
     "nuid": "1bfc5f6f-7ac4-4211-aabc-25d43a6eeac7",
     "showTitle": false,
     "title": ""
    }
   },
   "outputs": [],
   "source": [
    "import geopandas as gpd\n",
    "valores_censo = gpd.GeoDataFrame(\n",
    "    result_censo.map(lambda x: [x[1].geom, *x[0].userData.split(\"\\t\"), *x[1].userData.split(\"\\t\")]).collect(),columns=atributos_join,\n",
    "    geometry=\"geom\", \n",
    "    crs= \"epsg:4326\"\n",
    ")\n",
    "valores_ep = gpd.GeoDataFrame(\n",
    "    result_ep.map(lambda x: [x[1].geom, *x[0].userData.split(\"\\t\"), *x[1].userData.split(\"\\t\")]).collect(),columns=atributosEP_join,\n",
    "    geometry=\"geom\", \n",
    "    crs= \"epsg:4326\"\n",
    ")\n",
    "# epf\n",
    "valores_ept = gpd.GeoDataFrame(\n",
    "    result_ept.map(lambda x: [x[1].geom, *x[0].userData.split(\"\\t\"), *x[1].userData.split(\"\\t\")]).collect(),columns=atributosEPF_join,\n",
    "    geometry=\"geom\",\n",
    "    crs= \"epsg:4326\"\n",
    ")"
   ]
  },
  {
   "cell_type": "code",
   "execution_count": 0,
   "metadata": {
    "application/vnd.databricks.v1+cell": {
     "cellMetadata": {
      "byteLimit": 2048000,
      "rowLimit": 10000
     },
     "inputWidgets": {},
     "nuid": "a872469c-9587-435d-ba6d-8b59f3031b90",
     "showTitle": false,
     "title": ""
    }
   },
   "outputs": [],
   "source": [
    "valores_ept[(valores_ept['layer'] == 'E1')&(valores_ept['Tiempo'] == '5 min')].explore()\n",
    "#.map(lambda x: [x[1].geom, *x[0].userData.split(\"\\t\"), *x[1].userData.split(\"\\t\")])"
   ]
  },
  {
   "cell_type": "code",
   "execution_count": 0,
   "metadata": {
    "application/vnd.databricks.v1+cell": {
     "cellMetadata": {
      "byteLimit": 2048000,
      "rowLimit": 10000
     },
     "inputWidgets": {},
     "nuid": "e9b36658-84ca-4e37-95d0-086db13b83f4",
     "showTitle": false,
     "title": ""
    }
   },
   "outputs": [],
   "source": [
    "censo2018 = valores_censo[['group_inde','Tiempo','layer','Linea','COD_DANE_A','ZU_CDIVI','SETU_CCDGO','SETU_CCNCT','SECU_CCDGO','SECU_CCNCT','MANZ_CCDGO','AG_CCDGO','DATO_ANM','AREA','LATITUD','LONGITUD','DENSIDAD','CTNENCUEST','TP9_1_USO','TP9_2_USO','TP9_3_USO','TP9_4_USO','TP9_2_1_MI','TP9_2_2_MI','TP9_2_3_MI','TP9_2_4_MI','TP9_2_9_MI','TP9_3_1_NO','TP9_3_2_NO','TP9_3_3_NO','TP9_3_4_NO','TP9_3_5_NO','TP9_3_6_NO','TP9_3_7_NO','TP9_3_8_NO','TP9_3_9_NO','TP9_3_10_N','TP9_3_99_N','TVIVIENDA','TP14_1_TIP','TP14_2_TIP','TP14_3_TIP','TP16_HOG','TP19_EE_E1','TP19_EE_E2','TP19_EE_E3','TP19_EE_E4','TP19_EE_E5','TP19_EE_E6','TP19_EE_E9','TP27_PERSO','PERSONAS_L','PERSONAS_S','TP32_1_SEX','TP32_2_SEX','CD_LC_CM','NMB_LC_CM','TP34_1_EDA','TP34_2_EDA','TP34_3_EDA','TP34_4_EDA','TP34_5_EDA','TP34_6_EDA','TP34_7_EDA','TP34_8_EDA','TP34_9_EDA','geom']]"
   ]
  },
  {
   "cell_type": "code",
   "execution_count": 0,
   "metadata": {
    "application/vnd.databricks.v1+cell": {
     "cellMetadata": {
      "byteLimit": 2048000,
      "rowLimit": 10000
     },
     "inputWidgets": {},
     "nuid": "a8fdb285-7f30-4d62-a02a-5c0758cfc426",
     "showTitle": false,
     "title": ""
    }
   },
   "outputs": [],
   "source": [
    "censo2018 = censo2018.astype({'TP32_1_SEX':'float','TP32_2_SEX':'float', 'TP27_PERSO':'float', 'TP16_HOG':'float','TP34_1_EDA':'float','TP34_2_EDA':'float','TP34_3_EDA':'float','TP34_4_EDA':'float','TP34_5_EDA':'float','TP34_6_EDA':'float','TP34_7_EDA':'float','TP34_8_EDA':'float','TP34_9_EDA':'float', 'TP19_EE_E1':'float','TP19_EE_E2':'float','TP19_EE_E3':'float','TP19_EE_E4':'float','TP19_EE_E5':'float','TP19_EE_E6':'float','TP19_EE_E9':'float'})"
   ]
  },
  {
   "cell_type": "code",
   "execution_count": 0,
   "metadata": {
    "application/vnd.databricks.v1+cell": {
     "cellMetadata": {
      "byteLimit": 2048000,
      "rowLimit": 10000
     },
     "inputWidgets": {},
     "nuid": "b6a93850-196d-414b-b90d-e776a202fb5f",
     "showTitle": false,
     "title": ""
    }
   },
   "outputs": [],
   "source": [
    "valores_ep[\"AREA M2\"]=valores_ep[\"AREA M2\"].astype('float')\n",
    "valores_ept[\"AREA M2\"]=valores_ept[\"AREA M2\"].astype('float')"
   ]
  },
  {
   "cell_type": "code",
   "execution_count": 0,
   "metadata": {
    "application/vnd.databricks.v1+cell": {
     "cellMetadata": {
      "byteLimit": 2048000,
      "rowLimit": 10000
     },
     "inputWidgets": {},
     "nuid": "078bd560-7595-415d-9b88-4b53efd19e03",
     "showTitle": false,
     "title": ""
    }
   },
   "outputs": [],
   "source": [
    "\n",
    "import numpy as np\n",
    "import pandas as pd\n",
    "\n",
    "valores_ep[\"AREA M2\"] = valores_ep[\"AREA M2\"].fillna(value = 0)\n",
    "# EPR espacio público real\n",
    "AreasXIso = pd.DataFrame(valores_ep.groupby(by=['Linea','layer','Tiempo']).agg({'AREA M2':'sum'}).unstack().to_records()).rename(columns={\"('AREA M2', '10 min')\": 'Area_EPR_10Min',\"('AREA M2', '15 min')\": 'Area_EPR_15Min',\"('AREA M2', '20 min')\": 'Area_EPR_20Min',\"('AREA M2', '5 min')\": 'Area_EPR_5Min'})\n",
    "\n",
    "valores_ept[\"AREA M2\"] = valores_ept[\"AREA M2\"].fillna(value = 0)\n",
    "# EPR espacio público total\n",
    "epfAreasXIso = pd.DataFrame(valores_ept.groupby(by=['Linea','layer','Tiempo']).agg({'AREA M2':'sum'}).unstack().to_records()).rename(columns={\"('AREA M2', '10 min')\": 'Area_EPT_10Min',\"('AREA M2', '15 min')\": 'Area_EPT_15Min',\"('AREA M2', '20 min')\": 'Area_EPT_20Min',\"('AREA M2', '5 min')\": 'Area_EPT_5Min'})\n",
    "\n",
    "censo2018[\"TP27_PERSO\"] = censo2018[\"TP27_PERSO\"].fillna(value = 0)\n",
    "# Personas\n",
    "personasXIso = pd.DataFrame(censo2018.groupby(by=['layer','Tiempo']).agg({'TP27_PERSO':'sum'}).unstack().to_records()).rename(columns={\"('TP27_PERSO', '10 min')\": 'personas_10Min',\"('TP27_PERSO', '15 min')\": 'personas_15Min',\"('TP27_PERSO', '20 min')\": 'personas_20Min',\"('TP27_PERSO', '5 min')\": 'personas_5Min'})\n",
    "\n",
    "EP_process = AreasXIso.merge(personasXIso,how='inner',on='layer')\n",
    "EP_process = EP_process.merge(epfAreasXIso,how='inner',on='layer')\n",
    "\n",
    "# espacio publico efectivo real\n",
    "EP_process['EPR_20Min']=EP_process['Area_EPR_20Min']/EP_process['personas_20Min']\n",
    "EP_process['EPR_15Min']=EP_process['Area_EPR_15Min']/EP_process['personas_15Min']\n",
    "EP_process['EPR_10Min']=EP_process['Area_EPR_10Min']/EP_process['personas_10Min']\n",
    "EP_process['EPR_5Min']=EP_process['Area_EPR_5Min']/EP_process['personas_5Min']\n",
    "# espacio publico total\n",
    "EP_process['EPT_20Min']=EP_process['Area_EPT_20Min']/EP_process['personas_20Min']\n",
    "EP_process['EPT_15Min']=EP_process['Area_EPT_15Min']/EP_process['personas_15Min']\n",
    "EP_process['EPT_10Min']=EP_process['Area_EPT_10Min']/EP_process['personas_10Min']\n",
    "EP_process['EPT_5Min']=EP_process['Area_EPT_5Min']/EP_process['personas_5Min']\n",
    "\n",
    "EP_process.rename(columns={'Linea_x':'Linea','layer':'Estacion'}, inplace=True)\n",
    "EP_process.fillna(value = 0)\n",
    "# espacio publico real efectivo.\n",
    "EP_process['EPR'] = EP_process[['EPR_10Min','EPR_15Min','EPR_20Min','EPR_5Min']].sum(axis=1)# espacio publico real (parques plazas plazoletas)\n",
    "EP_process['EPT'] = EP_process[['EPT_10Min','EPT_15Min','EPT_20Min','EPT_5Min']].sum(axis=1)# espacio publico total (Calzadas, andes tec.)\n",
    "EP_process['AREA_EPT'] = EP_process[['Area_EPT_10Min','Area_EPT_15Min','Area_EPT_20Min','Area_EPT_5Min']].sum(axis=1)# espacio publico efectivo total\n",
    "EP_process['AREA_EPR'] = EP_process[['Area_EPR_10Min','Area_EPR_15Min','Area_EPR_20Min','Area_EPR_5Min']].sum(axis=1)# espacio publico efectivo total\n",
    "EP_process['PersonasT'] = EP_process[['personas_10Min','personas_15Min','personas_20Min','personas_5Min']].sum(axis=1)# total personas \n",
    "\n",
    "EP_process.drop(columns = ['Linea_y'], inplace= True)"
   ]
  },
  {
   "cell_type": "code",
   "execution_count": 0,
   "metadata": {
    "application/vnd.databricks.v1+cell": {
     "cellMetadata": {
      "byteLimit": 2048000,
      "rowLimit": 10000
     },
     "inputWidgets": {},
     "nuid": "3891da95-7524-434f-9aee-be4f54e2e75b",
     "showTitle": false,
     "title": ""
    }
   },
   "outputs": [],
   "source": [
    "EP_process"
   ]
  },
  {
   "cell_type": "code",
   "execution_count": 0,
   "metadata": {
    "application/vnd.databricks.v1+cell": {
     "cellMetadata": {
      "byteLimit": 2048000,
      "rowLimit": 10000
     },
     "inputWidgets": {},
     "nuid": "9c3cf12c-f4e5-4016-822b-01fa3529f47d",
     "showTitle": false,
     "title": ""
    }
   },
   "outputs": [],
   "source": [
    "pd.DataFrame.iteritems = pd.DataFrame.items\n",
    "EP_calculo = spark.createDataFrame(EP_process)\n",
    "EP_calculo.createOrReplaceTempView(\"espacio_publico_efectivo\")"
   ]
  },
  {
   "cell_type": "code",
   "execution_count": 0,
   "metadata": {
    "application/vnd.databricks.v1+cell": {
     "cellMetadata": {
      "byteLimit": 2048000,
      "implicitDf": true,
      "rowLimit": 10000
     },
     "inputWidgets": {},
     "nuid": "d816dd27-d599-4ee6-8a1f-2b83fab73dd7",
     "showTitle": false,
     "title": ""
    }
   },
   "outputs": [],
   "source": [
    "%sql\n",
    "CREATE  OR REPLACE TABLE ep_efectivo AS (Select \n",
    "  * \n",
    "from \n",
    "  espacio_publico_efectivo);"
   ]
  },
  {
   "cell_type": "code",
   "execution_count": 0,
   "metadata": {
    "application/vnd.databricks.v1+cell": {
     "cellMetadata": {
      "byteLimit": 2048000,
      "implicitDf": true,
      "rowLimit": 10000
     },
     "inputWidgets": {},
     "nuid": "7b7773cb-0ccb-4227-b69a-486bbe4e0403",
     "showTitle": false,
     "title": ""
    }
   },
   "outputs": [],
   "source": [
    "%sql\n",
    "select * from ep_efectivo"
   ]
  },
  {
   "cell_type": "markdown",
   "metadata": {
    "application/vnd.databricks.v1+cell": {
     "cellMetadata": {},
     "inputWidgets": {},
     "nuid": "c937b455-426e-4104-ba4f-c6a278d3f52e",
     "showTitle": false,
     "title": ""
    }
   },
   "source": [
    "# dashboard Caracterización poblacional"
   ]
  },
  {
   "cell_type": "code",
   "execution_count": 0,
   "metadata": {
    "application/vnd.databricks.v1+cell": {
     "cellMetadata": {
      "byteLimit": 2048000,
      "rowLimit": 10000
     },
     "inputWidgets": {},
     "nuid": "5fa466f3-d783-4be4-8f1a-965f732a69ae",
     "showTitle": false,
     "title": ""
    }
   },
   "outputs": [],
   "source": [
    "Population = censo2018[[\"Tiempo\",\"layer\",\"Linea\",\"TP32_1_SEX\",\"TP32_2_SEX\", \"TP27_PERSO\", \"TP16_HOG\",\"TP34_1_EDA\",\"TP34_2_EDA\",\"TP34_3_EDA\",\"TP34_4_EDA\",\"TP34_5_EDA\",\"TP34_6_EDA\",\"TP34_7_EDA\",\"TP34_8_EDA\",\"TP34_9_EDA\", \"TP19_EE_E1\",\"TP19_EE_E2\",\"TP19_EE_E3\",\"TP19_EE_E4\",\"TP19_EE_E5\",\"TP19_EE_E6\",\"LATITUD\",\"LONGITUD\",\"TP19_EE_E9\",\"geom\"]].rename(columns={\"TP32_1_SEX\": 'Hombres',\"TP32_2_SEX\":'Mujeres', \"TP27_PERSO\": 'personas', \"TP16_HOG\":'hogares',\"TP34_1_EDA\":'Edad1',\"TP34_2_EDA\":'Edad2',\"TP34_3_EDA\":'Edad3',\"TP34_4_EDA\":'Edad4',\"TP34_5_EDA\":'Edad5',\"TP34_6_EDA\":'Edad6',\"TP34_7_EDA\":'Edad7',\"TP34_8_EDA\":'Edad8',\"TP34_9_EDA\":'Edad9', \"TP19_EE_E1\":'est1',\"TP19_EE_E2\":'est2',\"TP19_EE_E3\":'est3',\"TP19_EE_E4\":'est4',\"TP19_EE_E5\":'est5',\"TP19_EE_E6\":'est6',\"TP19_EE_E9\":'SE'})\n",
    "desc_Population_pdf = spark.createDataFrame(Population)\n",
    "desc_Population_pdf.createOrReplaceTempView(\"descripcion_poblacion\")"
   ]
  },
  {
   "cell_type": "code",
   "execution_count": 0,
   "metadata": {
    "application/vnd.databricks.v1+cell": {
     "cellMetadata": {
      "byteLimit": 2048000,
      "implicitDf": true,
      "rowLimit": 10000
     },
     "inputWidgets": {},
     "nuid": "9c1f8697-7eb0-40b8-bc55-0c8ecc52d3f8",
     "showTitle": false,
     "title": ""
    }
   },
   "outputs": [],
   "source": [
    "%sql\n",
    "CREATE  OR REPLACE TABLE descripc_poblacion AS (Select \n",
    "  * \n",
    "from \n",
    "  descripcion_poblacion);"
   ]
  },
  {
   "cell_type": "code",
   "execution_count": 0,
   "metadata": {
    "application/vnd.databricks.v1+cell": {
     "cellMetadata": {
      "byteLimit": 2048000,
      "implicitDf": true,
      "rowLimit": 10000
     },
     "inputWidgets": {},
     "nuid": "13c55239-0857-413f-9815-03fec54e8aee",
     "showTitle": false,
     "title": ""
    }
   },
   "outputs": [],
   "source": [
    "%sql\n",
    "select * from descripc_poblacion"
   ]
  },
  {
   "cell_type": "code",
   "execution_count": 0,
   "metadata": {
    "application/vnd.databricks.v1+cell": {
     "cellMetadata": {
      "byteLimit": 2048000,
      "rowLimit": 10000
     },
     "inputWidgets": {},
     "nuid": "21aee0e9-b841-480e-aedf-c02bcbfe4796",
     "showTitle": false,
     "title": ""
    }
   },
   "outputs": [],
   "source": [
    "pbl = spark.sql(\n",
    "    \"select * from descripc_poblacion\"\n",
    ").toPandas()"
   ]
  },
  {
   "cell_type": "code",
   "execution_count": 0,
   "metadata": {
    "application/vnd.databricks.v1+cell": {
     "cellMetadata": {
      "byteLimit": 2048000,
      "rowLimit": 10000
     },
     "inputWidgets": {},
     "nuid": "b7a72d24-1ff5-42a2-8bbb-cbf49e57bf11",
     "showTitle": false,
     "title": ""
    }
   },
   "outputs": [],
   "source": [
    "pbl.display()"
   ]
  },
  {
   "cell_type": "code",
   "execution_count": 0,
   "metadata": {
    "application/vnd.databricks.v1+cell": {
     "cellMetadata": {
      "byteLimit": 2048000,
      "rowLimit": 10000
     },
     "inputWidgets": {},
     "nuid": "ee1250f2-d3c0-408f-befb-2fdaa6a13168",
     "showTitle": false,
     "title": ""
    }
   },
   "outputs": [],
   "source": [
    "def clasificaciones(v):\n",
    "    if v == '[0]':\n",
    "        return '0 a 127 Personas'\n",
    "    elif v == '[1]':\n",
    "        return '128 a 304 Personas'\n",
    "    elif v == '[2]':\n",
    "        return '305 a 758 Personas'\n",
    "    elif v == '[3]':\n",
    "        return '759 a 1859 Personas'\n",
    "    elif v == '[4]':\n",
    "        return '1859 a 6299 Personas'\n",
    "    else:\n",
    "        pass"
   ]
  },
  {
   "cell_type": "code",
   "execution_count": 0,
   "metadata": {
    "application/vnd.databricks.v1+cell": {
     "cellMetadata": {
      "byteLimit": 2048000,
      "rowLimit": 10000
     },
     "inputWidgets": {},
     "nuid": "833543de-4d7e-4de2-b02f-085ac0929394",
     "showTitle": false,
     "title": ""
    }
   },
   "outputs": [],
   "source": [
    "pbl[\"Rangos personas\"].astype('str')"
   ]
  },
  {
   "cell_type": "code",
   "execution_count": 0,
   "metadata": {
    "application/vnd.databricks.v1+cell": {
     "cellMetadata": {
      "byteLimit": 2048000,
      "rowLimit": 10000
     },
     "inputWidgets": {},
     "nuid": "5735503e-01ba-4330-9a15-a84d18fbb7eb",
     "showTitle": false,
     "title": ""
    }
   },
   "outputs": [],
   "source": [
    "import mapclassify\n",
    "bins = mapclassify.NaturalBreaks(y=pbl[\"personas\"],k=5)\n",
    "pbl['rangos_personas'] = pbl[\"personas\"].apply(bins)\n",
    "pbl['rangos_personas'] = pbl['rangos_personas'].astype('string')\n",
    "pbl['Categorias_Personas'] = pbl['rangos_personas'].astype('str').apply(lambda x: clasificaciones(x))\n",
    "pbl['Categorias_Personas'] = pbl['Categorias_Personas'].astype('string')"
   ]
  },
  {
   "cell_type": "code",
   "execution_count": 0,
   "metadata": {
    "application/vnd.databricks.v1+cell": {
     "cellMetadata": {
      "byteLimit": 2048000,
      "rowLimit": 10000
     },
     "inputWidgets": {},
     "nuid": "0c95bc75-9fef-43c5-9a4e-b761ab67f59a",
     "showTitle": false,
     "title": ""
    }
   },
   "outputs": [],
   "source": [
    "pbl.display()"
   ]
  },
  {
   "cell_type": "code",
   "execution_count": 0,
   "metadata": {
    "application/vnd.databricks.v1+cell": {
     "cellMetadata": {
      "byteLimit": 2048000,
      "rowLimit": 10000
     },
     "inputWidgets": {},
     "nuid": "ae7e544a-7115-4046-8696-465170032c52",
     "showTitle": false,
     "title": ""
    }
   },
   "outputs": [],
   "source": [
    "desc_Population_pdf = spark.createDataFrame(pbl)\n",
    "desc_Population_pdf.createOrReplaceTempView(\"descripcion_poblacion\")"
   ]
  },
  {
   "cell_type": "code",
   "execution_count": 0,
   "metadata": {
    "application/vnd.databricks.v1+cell": {
     "cellMetadata": {
      "byteLimit": 2048000,
      "implicitDf": true,
      "rowLimit": 10000
     },
     "inputWidgets": {},
     "nuid": "c8a33bc3-c0ec-4a40-aeee-cfb4a0349931",
     "showTitle": false,
     "title": ""
    }
   },
   "outputs": [],
   "source": [
    "%sql\n",
    "REPLACE TABLE descripc_poblacion AS (\n",
    "  Select \n",
    "  * \n",
    "  from \n",
    "  descripcion_poblacion);"
   ]
  },
  {
   "cell_type": "code",
   "execution_count": 0,
   "metadata": {
    "application/vnd.databricks.v1+cell": {
     "cellMetadata": {
      "byteLimit": 2048000,
      "implicitDf": true,
      "rowLimit": 10000
     },
     "inputWidgets": {},
     "nuid": "b7132df0-b1bb-4d1b-bb29-1a0812ee0f81",
     "showTitle": false,
     "title": ""
    }
   },
   "outputs": [],
   "source": [
    "%sql\n",
    "Select \n",
    "  * \n",
    "  from \n",
    "  descripc_poblacion;"
   ]
  }
 ],
 "metadata": {
  "application/vnd.databricks.v1+notebook": {
   "dashboards": [],
   "language": "python",
   "notebookMetadata": {
    "mostRecentlyExecutedCommandWithImplicitDF": {
     "commandId": 65834250669432,
     "dataframes": [
      "_sqldf"
     ]
    },
    "pythonIndentUnit": 4
   },
   "notebookName": "Dane - poblacional",
   "widgets": {}
  }
 },
 "nbformat": 4,
 "nbformat_minor": 0
}
