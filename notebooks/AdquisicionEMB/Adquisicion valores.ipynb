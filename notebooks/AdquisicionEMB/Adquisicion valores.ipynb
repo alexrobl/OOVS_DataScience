{
 "cells": [
  {
   "cell_type": "code",
   "execution_count": 0,
   "metadata": {
    "application/vnd.databricks.v1+cell": {
     "cellMetadata": {
      "byteLimit": 2048000,
      "rowLimit": 10000
     },
     "inputWidgets": {},
     "nuid": "534b3e0c-d8e5-478c-ac46-438ddb33f109",
     "showTitle": false,
     "title": ""
    }
   },
   "outputs": [],
   "source": [
    "import pandas as pd\n",
    "df1 = pd.read_csv('/dbfs/FileStore/shared_uploads/duvan.robles@metrodebogota.gov.co/adquisicion/identificacion_predios.csv')\n",
    "df2 = pd.read_csv('/dbfs/FileStore/shared_uploads/duvan.robles@metrodebogota.gov.co/adquisicion/avaluos_comerciales.csv')\n",
    "# df1 = spark.read.format(\"csv\").option(\"header\", \"true\").load(\"dbfs:/FileStore/shared_uploads/duvan.robles@metrodebogota.gov.co/adquisicion/identificacion_predios.csv\")\n",
    "# df2 = spark.read.format(\"csv\").option(\"header\", \"true\").load(\"dbfs:/FileStore/shared_uploads/duvan.robles@metrodebogota.gov.co/adquisicion/avaluos_comerciales.csv\")"
   ]
  },
  {
   "cell_type": "code",
   "execution_count": 0,
   "metadata": {
    "application/vnd.databricks.v1+cell": {
     "cellMetadata": {
      "byteLimit": 2048000,
      "rowLimit": 10000
     },
     "inputWidgets": {},
     "nuid": "b6ad26d5-e918-45a4-b9ef-55faae01a146",
     "showTitle": false,
     "title": ""
    }
   },
   "outputs": [],
   "source": [
    "df1.head()"
   ]
  },
  {
   "cell_type": "code",
   "execution_count": 0,
   "metadata": {
    "application/vnd.databricks.v1+cell": {
     "cellMetadata": {
      "byteLimit": 2048000,
      "rowLimit": 10000
     },
     "inputWidgets": {},
     "nuid": "e4979f91-9ffa-457d-9235-bbdbd1105bdb",
     "showTitle": false,
     "title": ""
    }
   },
   "outputs": [],
   "source": [
    "df2.columns"
   ]
  },
  {
   "cell_type": "code",
   "execution_count": 0,
   "metadata": {
    "application/vnd.databricks.v1+cell": {
     "cellMetadata": {
      "byteLimit": 2048000,
      "rowLimit": 10000
     },
     "inputWidgets": {},
     "nuid": "ebfeccfb-d2a7-417b-ba73-41cdbf556a32",
     "showTitle": false,
     "title": ""
    }
   },
   "outputs": [],
   "source": [
    "import pandas as pd\n",
    "df3 = pd.merge(\n",
    "    df1, df2,\n",
    "    how='inner',\n",
    "    left_on=['IdentificacionPredioId'],\n",
    "    right_on=['IdentificacionPredioId']).rename(\n",
    "        columns={'observaciones_x':'observaciones_predio',\n",
    "                 'observaciones_y':'observaciones_avaluo',\n",
    "                 })"
   ]
  },
  {
   "cell_type": "code",
   "execution_count": 0,
   "metadata": {
    "application/vnd.databricks.v1+cell": {
     "cellMetadata": {
      "byteLimit": 2048000,
      "rowLimit": 10000
     },
     "inputWidgets": {},
     "nuid": "21bac070-806c-4319-a153-1e4f34d9d27a",
     "showTitle": false,
     "title": ""
    }
   },
   "outputs": [],
   "source": [
    "adquisicion = df3[['chip', 'destino', 'n_estacion', 'valor_comercial', 'daño_emergente', 'lucro_cesante','valor_total']]"
   ]
  },
  {
   "cell_type": "code",
   "execution_count": 0,
   "metadata": {
    "application/vnd.databricks.v1+cell": {
     "cellMetadata": {
      "byteLimit": 2048000,
      "rowLimit": 10000
     },
     "inputWidgets": {},
     "nuid": "c6bf4d9b-4e7a-4842-8911-2e8ddab22912",
     "showTitle": false,
     "title": ""
    }
   },
   "outputs": [],
   "source": [
    "veinte23 = spark.read.format(\"csv\").option(\"header\", \"true\").option(\"delimiter\", \";\").load(\"dbfs:/FileStore/tables/Catastro/2023_octubre/SOL0285553_23.csv\")\n",
    "veinte23 = veinte23.toPandas()"
   ]
  },
  {
   "cell_type": "code",
   "execution_count": 0,
   "metadata": {
    "application/vnd.databricks.v1+cell": {
     "cellMetadata": {
      "byteLimit": 2048000,
      "rowLimit": 10000
     },
     "inputWidgets": {},
     "nuid": "06886ae9-a930-4ae8-98ca-94813c7664f0",
     "showTitle": false,
     "title": ""
    }
   },
   "outputs": [],
   "source": [
    "cat2023 = veinte23[['CHIP', 'AREA_TERRENO','AREA_CONSTRUIDA']]"
   ]
  },
  {
   "cell_type": "code",
   "execution_count": 0,
   "metadata": {
    "application/vnd.databricks.v1+cell": {
     "cellMetadata": {
      "byteLimit": 2048000,
      "rowLimit": 10000
     },
     "inputWidgets": {},
     "nuid": "162b3c0a-d3fd-4353-bfaf-b4d48007ad5b",
     "showTitle": false,
     "title": ""
    }
   },
   "outputs": [],
   "source": [
    "consulta = pd.merge(\n",
    "    adquisicion, cat2023,\n",
    "    how='inner',\n",
    "    left_on=['chip'],\n",
    "    right_on=['CHIP'])\n"
   ]
  },
  {
   "cell_type": "code",
   "execution_count": 0,
   "metadata": {
    "application/vnd.databricks.v1+cell": {
     "cellMetadata": {
      "byteLimit": 2048000,
      "rowLimit": 10000
     },
     "inputWidgets": {},
     "nuid": "b7fbedf1-1f46-421e-a60d-dd4f90fc79e1",
     "showTitle": false,
     "title": ""
    }
   },
   "outputs": [],
   "source": [
    "consulta['valor_comercial'] =  consulta['valor_comercial'].apply(lambda x: x.replace('$','').replace(' ', '').replace('.','').replace(\",\",'.')).astype(float)\n",
    "consulta['daño_emergente'] =  consulta['daño_emergente'].apply(lambda x: x.replace('$','').replace(' ', '').replace('.','').replace(\",\",'.')).astype(float)\n",
    "#consulta['lucro_cesante'] =  consulta['lucro_cesante'].apply(lambda x: x.replace('$','').replace(' ', '').replace('.','').replace(\",\",'.').replace('-','').replace('','0')).astype(float)"
   ]
  },
  {
   "cell_type": "code",
   "execution_count": 0,
   "metadata": {
    "application/vnd.databricks.v1+cell": {
     "cellMetadata": {
      "byteLimit": 2048000,
      "rowLimit": 10000
     },
     "inputWidgets": {},
     "nuid": "b5857dac-7cb0-412f-bd06-6db79abf9579",
     "showTitle": false,
     "title": ""
    }
   },
   "outputs": [],
   "source": [
    "consulta[(consulta['valor_comercial']>250000000)&(consulta['valor_comercial']<330000000)].sort_values(by=['lucro_cesante'], ascending=False)"
   ]
  },
  {
   "cell_type": "code",
   "execution_count": 0,
   "metadata": {
    "application/vnd.databricks.v1+cell": {
     "cellMetadata": {
      "byteLimit": 2048000,
      "rowLimit": 10000
     },
     "inputWidgets": {},
     "nuid": "48bd2d64-7e65-4a1e-a7d4-7b7f97cd48f1",
     "showTitle": false,
     "title": ""
    }
   },
   "outputs": [],
   "source": [
    "consulta['AREA_CONSTRUIDA'] = consulta.AREA_CONSTRUIDA.fillna(0)\n",
    "consulta['AREA_CONSTRUIDA'] = consulta['AREA_CONSTRUIDA'].astype(str).apply(lambda p: p.replace(\",\",'.')).astype(float)\n",
    "consulta['AREA_TERRENO'] = consulta['AREA_TERRENO'].astype(str).apply(lambda p: p.replace(\",\",'.')).astype(float)\n",
    "consulta['AT_VM2'] =  consulta['valor_comercial'] / consulta['AREA_TERRENO']\n",
    "consulta['AC_VM2'] =  consulta['valor_comercial'] / consulta['AREA_CONSTRUIDA']"
   ]
  },
  {
   "cell_type": "code",
   "execution_count": 0,
   "metadata": {
    "application/vnd.databricks.v1+cell": {
     "cellMetadata": {
      "byteLimit": 2048000,
      "rowLimit": 10000
     },
     "inputWidgets": {},
     "nuid": "2185d162-d75b-429a-9819-2141c4b4d942",
     "showTitle": false,
     "title": ""
    }
   },
   "outputs": [],
   "source": [
    "import numpy as np\n",
    "consulta = consulta.replace([np.inf, -np.inf], np.nan).fillna(0)"
   ]
  },
  {
   "cell_type": "code",
   "execution_count": 0,
   "metadata": {
    "application/vnd.databricks.v1+cell": {
     "cellMetadata": {
      "byteLimit": 2048000,
      "rowLimit": 10000
     },
     "inputWidgets": {},
     "nuid": "af9ab65d-589c-4ca8-9984-0b0f00787545",
     "showTitle": false,
     "title": ""
    }
   },
   "outputs": [],
   "source": [
    "resultado = consulta.groupby(by = ['n_estacion']).agg({'AT_VM2': 'mean', 'AC_VM2': 'mean'}).reset_index()"
   ]
  },
  {
   "cell_type": "code",
   "execution_count": 0,
   "metadata": {
    "application/vnd.databricks.v1+cell": {
     "cellMetadata": {
      "byteLimit": 2048000,
      "rowLimit": 10000
     },
     "inputWidgets": {},
     "nuid": "52d35622-074a-4047-8b34-894797ec978e",
     "showTitle": false,
     "title": ""
    }
   },
   "outputs": [],
   "source": [
    "spark.createDataFrame(resultado).display()"
   ]
  }
 ],
 "metadata": {
  "application/vnd.databricks.v1+notebook": {
   "dashboards": [],
   "language": "python",
   "notebookMetadata": {
    "pythonIndentUnit": 4
   },
   "notebookName": "Adquisicion valores",
   "widgets": {}
  }
 },
 "nbformat": 4,
 "nbformat_minor": 0
}
