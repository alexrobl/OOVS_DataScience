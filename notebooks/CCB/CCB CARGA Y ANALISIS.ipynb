{
 "cells": [
  {
   "cell_type": "code",
   "execution_count": 0,
   "metadata": {
    "application/vnd.databricks.v1+cell": {
     "cellMetadata": {
      "byteLimit": 2048000,
      "rowLimit": 10000
     },
     "inputWidgets": {},
     "nuid": "29c6ce06-4658-4638-9fe2-dbd46a2e5a54",
     "showTitle": false,
     "title": ""
    }
   },
   "outputs": [],
   "source": [
    "import pandas as pd\n",
    "ccb = pd.read_csv('/dbfs/FileStore/tables/CCB/CCB2006_2023.csv', sep=';')"
   ]
  },
  {
   "cell_type": "code",
   "execution_count": 0,
   "metadata": {
    "application/vnd.databricks.v1+cell": {
     "cellMetadata": {
      "byteLimit": 2048000,
      "rowLimit": 10000
     },
     "inputWidgets": {},
     "nuid": "c60b3f90-6671-4418-aa81-8a8d73fec092",
     "showTitle": false,
     "title": ""
    }
   },
   "outputs": [],
   "source": [
    "ccb.shape"
   ]
  },
  {
   "cell_type": "code",
   "execution_count": 0,
   "metadata": {
    "application/vnd.databricks.v1+cell": {
     "cellMetadata": {
      "byteLimit": 2048000,
      "rowLimit": 10000
     },
     "inputWidgets": {},
     "nuid": "729819f1-7c9a-457c-ac9b-5d5680cc3f12",
     "showTitle": false,
     "title": ""
    }
   },
   "outputs": [],
   "source": [
    "ccb.CiiuPrincipal.value_counts()"
   ]
  },
  {
   "cell_type": "code",
   "execution_count": 0,
   "metadata": {
    "application/vnd.databricks.v1+cell": {
     "cellMetadata": {
      "byteLimit": 2048000,
      "rowLimit": 10000
     },
     "inputWidgets": {},
     "nuid": "34e34f6d-f127-40ac-95b6-630877a04e31",
     "showTitle": false,
     "title": ""
    }
   },
   "outputs": [],
   "source": [
    "s_ccb = spark.read.csv('dbfs:/FileStore/tables/CCB/CCB2006_2023.csv', header=True)"
   ]
  },
  {
   "cell_type": "code",
   "execution_count": 0,
   "metadata": {
    "application/vnd.databricks.v1+cell": {
     "cellMetadata": {
      "byteLimit": 2048000,
      "rowLimit": 10000
     },
     "inputWidgets": {},
     "nuid": "d2f1711a-395b-4b06-8d41-4c8fd065c7b1",
     "showTitle": false,
     "title": ""
    }
   },
   "outputs": [],
   "source": [
    "%ls '/dbfs/FileStore/tables/CCB/'"
   ]
  }
 ],
 "metadata": {
  "application/vnd.databricks.v1+notebook": {
   "dashboards": [],
   "language": "python",
   "notebookMetadata": {
    "pythonIndentUnit": 4
   },
   "notebookName": "CCB CARGA Y ANALISIS",
   "widgets": {}
  }
 },
 "nbformat": 4,
 "nbformat_minor": 0
}
