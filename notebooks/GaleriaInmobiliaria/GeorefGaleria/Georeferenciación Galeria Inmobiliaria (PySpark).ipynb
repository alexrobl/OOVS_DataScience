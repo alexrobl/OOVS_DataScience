{
 "cells": [
  {
   "cell_type": "markdown",
   "metadata": {
    "application/vnd.databricks.v1+cell": {
     "cellMetadata": {},
     "inputWidgets": {},
     "nuid": "2759389a-1bf6-493d-97fd-a6a06fda3951",
     "showTitle": false,
     "title": ""
    }
   },
   "source": [
    "# Georeferenciación Galeria Inmobiliaria"
   ]
  },
  {
   "cell_type": "markdown",
   "metadata": {
    "application/vnd.databricks.v1+cell": {
     "cellMetadata": {},
     "inputWidgets": {},
     "nuid": "e26de042-38e0-44b4-8293-d5e88167ec37",
     "showTitle": false,
     "title": ""
    }
   },
   "source": [
    "## Cargue de librerías"
   ]
  },
  {
   "cell_type": "markdown",
   "metadata": {
    "application/vnd.databricks.v1+cell": {
     "cellMetadata": {},
     "inputWidgets": {},
     "nuid": "ee07e79b-a718-4df8-9667-842899a255e6",
     "showTitle": false,
     "title": ""
    }
   },
   "source": [
    "En esta sección se realiza el cargue de las librerías necesarias para el procesamiento de los datos"
   ]
  },
  {
   "cell_type": "code",
   "execution_count": 0,
   "metadata": {
    "application/vnd.databricks.v1+cell": {
     "cellMetadata": {
      "byteLimit": 2048000,
      "rowLimit": 10000
     },
     "inputWidgets": {},
     "nuid": "c63ef3f5-afe7-481d-a63e-8ac70ccb7735",
     "showTitle": false,
     "title": ""
    }
   },
   "outputs": [
    {
     "output_type": "stream",
     "name": "stdout",
     "output_type": "stream",
     "text": [
      "Requirement already satisfied: azure-storage-blob in /local_disk0/.ephemeral_nfs/envs/pythonEnv-0eb03caa-dfa5-483c-b3b0-dc3cf21f05e1/lib/python3.9/site-packages (12.16.0)\r\nRequirement already satisfied: azure-core<2.0.0,>=1.26.0 in /local_disk0/.ephemeral_nfs/envs/pythonEnv-0eb03caa-dfa5-483c-b3b0-dc3cf21f05e1/lib/python3.9/site-packages (from azure-storage-blob) (1.27.1)\r\nRequirement already satisfied: cryptography>=2.1.4 in /databricks/python3/lib/python3.9/site-packages (from azure-storage-blob) (3.4.8)\r\nRequirement already satisfied: typing-extensions>=4.0.1 in /local_disk0/.ephemeral_nfs/envs/pythonEnv-0eb03caa-dfa5-483c-b3b0-dc3cf21f05e1/lib/python3.9/site-packages (from azure-storage-blob) (4.7.1)\r\nRequirement already satisfied: isodate>=0.6.1 in /local_disk0/.ephemeral_nfs/envs/pythonEnv-0eb03caa-dfa5-483c-b3b0-dc3cf21f05e1/lib/python3.9/site-packages (from azure-storage-blob) (0.6.1)\r\nRequirement already satisfied: requests>=2.18.4 in /databricks/python3/lib/python3.9/site-packages (from azure-core<2.0.0,>=1.26.0->azure-storage-blob) (2.27.1)\r\nRequirement already satisfied: six>=1.11.0 in /databricks/python3/lib/python3.9/site-packages (from azure-core<2.0.0,>=1.26.0->azure-storage-blob) (1.16.0)\r\nRequirement already satisfied: cffi>=1.12 in /databricks/python3/lib/python3.9/site-packages (from cryptography>=2.1.4->azure-storage-blob) (1.15.0)\r\nRequirement already satisfied: pycparser in /databricks/python3/lib/python3.9/site-packages (from cffi>=1.12->cryptography>=2.1.4->azure-storage-blob) (2.21)\r\nRequirement already satisfied: urllib3<1.27,>=1.21.1 in /databricks/python3/lib/python3.9/site-packages (from requests>=2.18.4->azure-core<2.0.0,>=1.26.0->azure-storage-blob) (1.26.9)\r\nRequirement already satisfied: certifi>=2017.4.17 in /databricks/python3/lib/python3.9/site-packages (from requests>=2.18.4->azure-core<2.0.0,>=1.26.0->azure-storage-blob) (2021.10.8)\r\nRequirement already satisfied: charset-normalizer~=2.0.0 in /databricks/python3/lib/python3.9/site-packages (from requests>=2.18.4->azure-core<2.0.0,>=1.26.0->azure-storage-blob) (2.0.4)\r\nRequirement already satisfied: idna<4,>=2.5 in /databricks/python3/lib/python3.9/site-packages (from requests>=2.18.4->azure-core<2.0.0,>=1.26.0->azure-storage-blob) (3.3)\r\n"
     ]
    }
   ],
   "source": [
    "# !pip install pandas\n",
    "# !pip install geopandas\n",
    "# !pip install matplotlib\n",
    "# !pip install requests\n",
    "# !pip install swifter\n",
    "# !pip install pyxlsb\n",
    "# !pip install openpyxl\n",
    "\n",
    "!pip install --upgrade pip\n",
    "!pip install pyxlsb\n",
    "!pip install pandas\n",
    "!pip install geopandas\n",
    "\n",
    "!pip install azure-storage-blob\n"
   ]
  },
  {
   "cell_type": "code",
   "execution_count": 0,
   "metadata": {
    "application/vnd.databricks.v1+cell": {
     "cellMetadata": {
      "byteLimit": 2048000,
      "rowLimit": 10000
     },
     "inputWidgets": {},
     "nuid": "a148e178-83ae-4595-b23e-182433858308",
     "showTitle": false,
     "title": ""
    }
   },
   "outputs": [
    {
     "output_type": "stream",
     "name": "stdout",
     "output_type": "stream",
     "text": [
      "Unexpected exception formatting exception. Falling back to standard exception\n"
     ]
    },
    {
     "output_type": "stream",
     "name": "stderr",
     "output_type": "stream",
     "text": [
      "Traceback (most recent call last):\n  File \"/databricks/python/lib/python3.9/site-packages/IPython/core/interactiveshell.py\", line 3378, in run_code\n    exec(code_obj, self.user_global_ns, self.user_ns)\n  File \"<command-1496039999229371>\", line 27, in <module>\n    from azure.storage import BlobServiceClient\n  File \"/databricks/python_shell/dbruntime/PythonPackageImportsInstrumentation/__init__.py\", line 171, in import_patch\n    original_result = python_builtin_import(name, globals, locals, fromlist, level)\nModuleNotFoundError: No module named 'azure.storage'\n\nDuring handling of the above exception, another exception occurred:\n\nTraceback (most recent call last):\n  File \"/databricks/python/lib/python3.9/site-packages/IPython/core/interactiveshell.py\", line 1997, in showtraceback\n    stb = self.InteractiveTB.structured_traceback(\n  File \"/databricks/python/lib/python3.9/site-packages/IPython/core/ultratb.py\", line 1112, in structured_traceback\n    return FormattedTB.structured_traceback(\n  File \"/databricks/python/lib/python3.9/site-packages/IPython/core/ultratb.py\", line 1006, in structured_traceback\n    return VerboseTB.structured_traceback(\n  File \"/databricks/python/lib/python3.9/site-packages/IPython/core/ultratb.py\", line 859, in structured_traceback\n    formatted_exception = self.format_exception_as_a_whole(etype, evalue, etb, number_of_lines_of_context,\n  File \"/databricks/python/lib/python3.9/site-packages/IPython/core/ultratb.py\", line 812, in format_exception_as_a_whole\n    frames.append(self.format_record(r))\n  File \"/databricks/python/lib/python3.9/site-packages/IPython/core/ultratb.py\", line 730, in format_record\n    result += ''.join(_format_traceback_lines(frame_info.lines, Colors, self.has_colors, lvals))\n  File \"/databricks/python/lib/python3.9/site-packages/stack_data/utils.py\", line 145, in cached_property_wrapper\n    value = obj.__dict__[self.func.__name__] = self.func(obj)\n  File \"/databricks/python/lib/python3.9/site-packages/stack_data/core.py\", line 698, in lines\n    pieces = self.included_pieces\n  File \"/databricks/python/lib/python3.9/site-packages/stack_data/utils.py\", line 145, in cached_property_wrapper\n    value = obj.__dict__[self.func.__name__] = self.func(obj)\n  File \"/databricks/python/lib/python3.9/site-packages/stack_data/core.py\", line 649, in included_pieces\n    pos = scope_pieces.index(self.executing_piece)\n  File \"/databricks/python/lib/python3.9/site-packages/stack_data/utils.py\", line 145, in cached_property_wrapper\n    value = obj.__dict__[self.func.__name__] = self.func(obj)\n  File \"/databricks/python/lib/python3.9/site-packages/stack_data/core.py\", line 628, in executing_piece\n    return only(\n  File \"/databricks/python/lib/python3.9/site-packages/executing/executing.py\", line 164, in only\n    raise NotOneValueFound('Expected one value, found 0')\nexecuting.executing.NotOneValueFound: Expected one value, found 0\n"
     ]
    },
    {
     "output_type": "display_data",
     "data": {
      "text/plain": [
       ""
      ]
     },
     "metadata": {
      "application/vnd.databricks.v1+output": {
       "arguments": {},
       "data": "",
       "errorSummary": "<span class='ansi-red-fg'>ModuleNotFoundError</span>: No module named 'azure.storage'",
       "errorTraceType": "ansi",
       "metadata": {},
       "type": "ipynbError"
      }
     },
     "output_type": "display_data"
    }
   ],
   "source": [
    "# import pandas as pd\n",
    "# import requests\n",
    "# import json\n",
    "# import time\n",
    "# import swifter\n",
    "# import geopandas as gpd\n",
    "# from shapely.geometry import Point\n",
    "# import shapely.wkt\n",
    "# import matplotlib\n",
    "# import unicodedata\n",
    "\n",
    "import pandas as pd\n",
    "import geopandas as geop\n",
    "import matplotlib\n",
    "from shapely.geometry import Point\n",
    "from shapely.wkt import loads\n",
    "import unicodedata\n",
    "import requests\n",
    "import json\n",
    "import re\n",
    "\n",
    "from pyspark.sql import SparkSession\n",
    "from pyspark.sql.functions import col, udf, struct, from_json\n",
    "from pyspark.sql.types import StructType, StructField, StringType, DoubleType, IntegerType\n"
   ]
  },
  {
   "cell_type": "markdown",
   "metadata": {
    "application/vnd.databricks.v1+cell": {
     "cellMetadata": {},
     "inputWidgets": {},
     "nuid": "0cd7f19b-1992-4850-b3c4-c4b6141e1b4a",
     "showTitle": false,
     "title": ""
    }
   },
   "source": [
    "## Configuración y parametrización"
   ]
  },
  {
   "cell_type": "markdown",
   "metadata": {
    "application/vnd.databricks.v1+cell": {
     "cellMetadata": {},
     "inputWidgets": {},
     "nuid": "6b49b041-c729-4a43-a28b-cc196d207408",
     "showTitle": false,
     "title": ""
    }
   },
   "source": [
    "En esta sección se definen los parámetros básicos de visualización de los dataframes, se establecen las direcciones de los servicios web a consumir y se definen las variables para establecer las hojas de interés dentro de cada archivo y los campos a georeferenciar en cada caso."
   ]
  },
  {
   "cell_type": "code",
   "execution_count": 0,
   "metadata": {
    "application/vnd.databricks.v1+cell": {
     "cellMetadata": {
      "byteLimit": 2048000,
      "rowLimit": 10000
     },
     "inputWidgets": {},
     "nuid": "84e4d2b3-f5b8-46c3-926f-f9225947cbcc",
     "showTitle": false,
     "title": ""
    }
   },
   "outputs": [],
   "source": [
    "pd.set_option('display.max_columns', None)\n",
    "pd.set_option('display.max_colwidth', 50)\n",
    "num_partitions = 4\n",
    "spark = SparkSession.builder.getOrCreate()"
   ]
  },
  {
   "cell_type": "code",
   "execution_count": 0,
   "metadata": {
    "application/vnd.databricks.v1+cell": {
     "cellMetadata": {
      "byteLimit": 2048000,
      "rowLimit": 10000
     },
     "inputWidgets": {},
     "nuid": "01d5ff2f-94e8-48ad-b249-2c0a07f3d0b9",
     "showTitle": false,
     "title": ""
    }
   },
   "outputs": [],
   "source": [
    "#URL geocodificador\n",
    "url = \"https://catalogopmb.catastrobogota.gov.co/PMBWeb/web/api\""
   ]
  },
  {
   "cell_type": "code",
   "execution_count": 0,
   "metadata": {
    "application/vnd.databricks.v1+cell": {
     "cellMetadata": {
      "byteLimit": 2048000,
      "rowLimit": 10000
     },
     "inputWidgets": {},
     "nuid": "11db67a4-33f2-4db4-8d01-db747495367d",
     "showTitle": false,
     "title": ""
    }
   },
   "outputs": [],
   "source": [
    "path_vivienda_usada = 'https://emb.blob.core.windows.net/galeria/Bogota_Programa_Vivienda_Usada_05-23.xlsb'\n",
    "sheets_vivienda_usada = ['Sop. Venta', 'Sop. Arriendos']\n",
    "vivienda_usada_dir = 'Dirección Nueva' \n",
    "path_comercio = 'https://emb.blob.core.windows.net/galeria/Bogota_Comercio_Def_05-23.xlsb'\n",
    "sheets_comercio = ['Base Proyecto', 'Base Inmuebles', 'Base Historia']\n",
    "comercio_dir = 'Dirección'\n",
    "path_def = 'https://emb.blob.core.windows.net/galeria/Bogota_Def_05-23.xlsb'\n",
    "sheets_def = ['Base Proyectos']\n",
    "def_dir = 'Dirección'"
   ]
  },
  {
   "cell_type": "code",
   "execution_count": 0,
   "metadata": {
    "application/vnd.databricks.v1+cell": {
     "cellMetadata": {
      "byteLimit": 2048000,
      "rowLimit": 10000
     },
     "inputWidgets": {},
     "nuid": "d61d6330-bde0-405d-aaad-024188d19d14",
     "showTitle": false,
     "title": ""
    }
   },
   "outputs": [
    {
     "output_type": "display_data",
     "data": {
      "text/html": [
       "<style scoped>\n",
       "  .ansiout {\n",
       "    display: block;\n",
       "    unicode-bidi: embed;\n",
       "    white-space: pre-wrap;\n",
       "    word-wrap: break-word;\n",
       "    word-break: break-all;\n",
       "    font-family: \"Source Code Pro\", \"Menlo\", monospace;;\n",
       "    font-size: 13px;\n",
       "    color: #555;\n",
       "    margin-left: 4px;\n",
       "    line-height: 19px;\n",
       "  }\n",
       "</style>\n",
       "<div class=\"ansiout\">res0: Boolean = true\n",
       "</div>"
      ]
     },
     "metadata": {
      "application/vnd.databricks.v1+output": {
       "addedWidgets": {},
       "arguments": {},
       "data": "<div class=\"ansiout\">res0: Boolean = true\n</div>",
       "datasetInfos": [],
       "metadata": {
        "isDbfsCommandResult": false
       },
       "removedWidgets": [],
       "type": "html"
      }
     },
     "output_type": "display_data"
    }
   ],
   "source": [
    "%fs mkdirs /tmp/galeria"
   ]
  },
  {
   "cell_type": "markdown",
   "metadata": {
    "application/vnd.databricks.v1+cell": {
     "cellMetadata": {},
     "inputWidgets": {},
     "nuid": "d5d81ba1-8354-46e5-ae6f-458534c477cc",
     "showTitle": false,
     "title": ""
    }
   },
   "source": [
    "## Cargue de insumos"
   ]
  },
  {
   "cell_type": "markdown",
   "metadata": {
    "application/vnd.databricks.v1+cell": {
     "cellMetadata": {},
     "inputWidgets": {},
     "nuid": "a3a9608f-c8fb-4d3e-8fc5-4c55d7b98a9e",
     "showTitle": false,
     "title": ""
    }
   },
   "source": [
    "En esta sección se realiza el cargue de los diferentes insumos para su posterior procesamiento. Adicionalmente, se parametrizan las funciones de cargue a partir de la estructura y definición de cada una de las fuentes."
   ]
  },
  {
   "cell_type": "code",
   "execution_count": 0,
   "metadata": {
    "application/vnd.databricks.v1+cell": {
     "cellMetadata": {
      "byteLimit": 2048000,
      "rowLimit": 10000
     },
     "inputWidgets": {},
     "nuid": "ce38d60a-c7ce-4aea-ae5b-4ed2d2b093a5",
     "showTitle": false,
     "title": ""
    }
   },
   "outputs": [
    {
     "output_type": "display_data",
     "data": {
      "text/plain": [
       "\u001B[0;31m---------------------------------------------------------------------------\u001B[0m\n",
       "\u001B[0;31mOSError\u001B[0m                                   Traceback (most recent call last)\n",
       "File \u001B[0;32m<command-1496039999229379>:5\u001B[0m\n",
       "\u001B[1;32m      1\u001B[0m \u001B[38;5;66;03m#df_vivienda_usada_venta = pd.read_excel(path_vivienda_usada, sheet_name=sheets_vivienda_usada[0], skiprows=4)\u001B[39;00m\n",
       "\u001B[1;32m      2\u001B[0m \n",
       "\u001B[1;32m      3\u001B[0m \u001B[38;5;66;03m# Convert .xlsb to CSV using pandas\u001B[39;00m\n",
       "\u001B[1;32m      4\u001B[0m df_vivienda_usada_venta \u001B[38;5;241m=\u001B[39m pd\u001B[38;5;241m.\u001B[39mread_excel(path_vivienda_usada, sheet_name\u001B[38;5;241m=\u001B[39msheets_vivienda_usada[\u001B[38;5;241m0\u001B[39m], skiprows\u001B[38;5;241m=\u001B[39m\u001B[38;5;241m4\u001B[39m, engine\u001B[38;5;241m=\u001B[39m\u001B[38;5;124m'\u001B[39m\u001B[38;5;124mpyxlsb\u001B[39m\u001B[38;5;124m'\u001B[39m)\n",
       "\u001B[0;32m----> 5\u001B[0m df_vivienda_usada_venta\u001B[38;5;241m.\u001B[39mto_csv(\u001B[38;5;124m'\u001B[39m\u001B[38;5;124mdbfs:/tmp/galeria/df_vivienda_usada_venta.csv\u001B[39m\u001B[38;5;124m'\u001B[39m, index\u001B[38;5;241m=\u001B[39m\u001B[38;5;28;01mFalse\u001B[39;00m)\n",
       "\n",
       "File \u001B[0;32m/databricks/python/lib/python3.9/site-packages/pandas/core/generic.py:3551\u001B[0m, in \u001B[0;36mNDFrame.to_csv\u001B[0;34m(self, path_or_buf, sep, na_rep, float_format, columns, header, index, index_label, mode, encoding, compression, quoting, quotechar, line_terminator, chunksize, date_format, doublequote, escapechar, decimal, errors, storage_options)\u001B[0m\n",
       "\u001B[1;32m   3540\u001B[0m df \u001B[38;5;241m=\u001B[39m \u001B[38;5;28mself\u001B[39m \u001B[38;5;28;01mif\u001B[39;00m \u001B[38;5;28misinstance\u001B[39m(\u001B[38;5;28mself\u001B[39m, ABCDataFrame) \u001B[38;5;28;01melse\u001B[39;00m \u001B[38;5;28mself\u001B[39m\u001B[38;5;241m.\u001B[39mto_frame()\n",
       "\u001B[1;32m   3542\u001B[0m formatter \u001B[38;5;241m=\u001B[39m DataFrameFormatter(\n",
       "\u001B[1;32m   3543\u001B[0m     frame\u001B[38;5;241m=\u001B[39mdf,\n",
       "\u001B[1;32m   3544\u001B[0m     header\u001B[38;5;241m=\u001B[39mheader,\n",
       "\u001B[0;32m   (...)\u001B[0m\n",
       "\u001B[1;32m   3548\u001B[0m     decimal\u001B[38;5;241m=\u001B[39mdecimal,\n",
       "\u001B[1;32m   3549\u001B[0m )\n",
       "\u001B[0;32m-> 3551\u001B[0m \u001B[38;5;28;01mreturn\u001B[39;00m \u001B[43mDataFrameRenderer\u001B[49m\u001B[43m(\u001B[49m\u001B[43mformatter\u001B[49m\u001B[43m)\u001B[49m\u001B[38;5;241;43m.\u001B[39;49m\u001B[43mto_csv\u001B[49m\u001B[43m(\u001B[49m\n",
       "\u001B[1;32m   3552\u001B[0m \u001B[43m    \u001B[49m\u001B[43mpath_or_buf\u001B[49m\u001B[43m,\u001B[49m\n",
       "\u001B[1;32m   3553\u001B[0m \u001B[43m    \u001B[49m\u001B[43mline_terminator\u001B[49m\u001B[38;5;241;43m=\u001B[39;49m\u001B[43mline_terminator\u001B[49m\u001B[43m,\u001B[49m\n",
       "\u001B[1;32m   3554\u001B[0m \u001B[43m    \u001B[49m\u001B[43msep\u001B[49m\u001B[38;5;241;43m=\u001B[39;49m\u001B[43msep\u001B[49m\u001B[43m,\u001B[49m\n",
       "\u001B[1;32m   3555\u001B[0m \u001B[43m    \u001B[49m\u001B[43mencoding\u001B[49m\u001B[38;5;241;43m=\u001B[39;49m\u001B[43mencoding\u001B[49m\u001B[43m,\u001B[49m\n",
       "\u001B[1;32m   3556\u001B[0m \u001B[43m    \u001B[49m\u001B[43merrors\u001B[49m\u001B[38;5;241;43m=\u001B[39;49m\u001B[43merrors\u001B[49m\u001B[43m,\u001B[49m\n",
       "\u001B[1;32m   3557\u001B[0m \u001B[43m    \u001B[49m\u001B[43mcompression\u001B[49m\u001B[38;5;241;43m=\u001B[39;49m\u001B[43mcompression\u001B[49m\u001B[43m,\u001B[49m\n",
       "\u001B[1;32m   3558\u001B[0m \u001B[43m    \u001B[49m\u001B[43mquoting\u001B[49m\u001B[38;5;241;43m=\u001B[39;49m\u001B[43mquoting\u001B[49m\u001B[43m,\u001B[49m\n",
       "\u001B[1;32m   3559\u001B[0m \u001B[43m    \u001B[49m\u001B[43mcolumns\u001B[49m\u001B[38;5;241;43m=\u001B[39;49m\u001B[43mcolumns\u001B[49m\u001B[43m,\u001B[49m\n",
       "\u001B[1;32m   3560\u001B[0m \u001B[43m    \u001B[49m\u001B[43mindex_label\u001B[49m\u001B[38;5;241;43m=\u001B[39;49m\u001B[43mindex_label\u001B[49m\u001B[43m,\u001B[49m\n",
       "\u001B[1;32m   3561\u001B[0m \u001B[43m    \u001B[49m\u001B[43mmode\u001B[49m\u001B[38;5;241;43m=\u001B[39;49m\u001B[43mmode\u001B[49m\u001B[43m,\u001B[49m\n",
       "\u001B[1;32m   3562\u001B[0m \u001B[43m    \u001B[49m\u001B[43mchunksize\u001B[49m\u001B[38;5;241;43m=\u001B[39;49m\u001B[43mchunksize\u001B[49m\u001B[43m,\u001B[49m\n",
       "\u001B[1;32m   3563\u001B[0m \u001B[43m    \u001B[49m\u001B[43mquotechar\u001B[49m\u001B[38;5;241;43m=\u001B[39;49m\u001B[43mquotechar\u001B[49m\u001B[43m,\u001B[49m\n",
       "\u001B[1;32m   3564\u001B[0m \u001B[43m    \u001B[49m\u001B[43mdate_format\u001B[49m\u001B[38;5;241;43m=\u001B[39;49m\u001B[43mdate_format\u001B[49m\u001B[43m,\u001B[49m\n",
       "\u001B[1;32m   3565\u001B[0m \u001B[43m    \u001B[49m\u001B[43mdoublequote\u001B[49m\u001B[38;5;241;43m=\u001B[39;49m\u001B[43mdoublequote\u001B[49m\u001B[43m,\u001B[49m\n",
       "\u001B[1;32m   3566\u001B[0m \u001B[43m    \u001B[49m\u001B[43mescapechar\u001B[49m\u001B[38;5;241;43m=\u001B[39;49m\u001B[43mescapechar\u001B[49m\u001B[43m,\u001B[49m\n",
       "\u001B[1;32m   3567\u001B[0m \u001B[43m    \u001B[49m\u001B[43mstorage_options\u001B[49m\u001B[38;5;241;43m=\u001B[39;49m\u001B[43mstorage_options\u001B[49m\u001B[43m,\u001B[49m\n",
       "\u001B[1;32m   3568\u001B[0m \u001B[43m\u001B[49m\u001B[43m)\u001B[49m\n",
       "\n",
       "File \u001B[0;32m/databricks/python/lib/python3.9/site-packages/pandas/io/formats/format.py:1180\u001B[0m, in \u001B[0;36mDataFrameRenderer.to_csv\u001B[0;34m(self, path_or_buf, encoding, sep, columns, index_label, mode, compression, quoting, quotechar, line_terminator, chunksize, date_format, doublequote, escapechar, errors, storage_options)\u001B[0m\n",
       "\u001B[1;32m   1159\u001B[0m     created_buffer \u001B[38;5;241m=\u001B[39m \u001B[38;5;28;01mFalse\u001B[39;00m\n",
       "\u001B[1;32m   1161\u001B[0m csv_formatter \u001B[38;5;241m=\u001B[39m CSVFormatter(\n",
       "\u001B[1;32m   1162\u001B[0m     path_or_buf\u001B[38;5;241m=\u001B[39mpath_or_buf,\n",
       "\u001B[1;32m   1163\u001B[0m     line_terminator\u001B[38;5;241m=\u001B[39mline_terminator,\n",
       "\u001B[0;32m   (...)\u001B[0m\n",
       "\u001B[1;32m   1178\u001B[0m     formatter\u001B[38;5;241m=\u001B[39m\u001B[38;5;28mself\u001B[39m\u001B[38;5;241m.\u001B[39mfmt,\n",
       "\u001B[1;32m   1179\u001B[0m )\n",
       "\u001B[0;32m-> 1180\u001B[0m \u001B[43mcsv_formatter\u001B[49m\u001B[38;5;241;43m.\u001B[39;49m\u001B[43msave\u001B[49m\u001B[43m(\u001B[49m\u001B[43m)\u001B[49m\n",
       "\u001B[1;32m   1182\u001B[0m \u001B[38;5;28;01mif\u001B[39;00m created_buffer:\n",
       "\u001B[1;32m   1183\u001B[0m     \u001B[38;5;28;01massert\u001B[39;00m \u001B[38;5;28misinstance\u001B[39m(path_or_buf, StringIO)\n",
       "\n",
       "File \u001B[0;32m/databricks/python/lib/python3.9/site-packages/pandas/io/formats/csvs.py:241\u001B[0m, in \u001B[0;36mCSVFormatter.save\u001B[0;34m(self)\u001B[0m\n",
       "\u001B[1;32m    237\u001B[0m \u001B[38;5;124;03m\"\"\"\u001B[39;00m\n",
       "\u001B[1;32m    238\u001B[0m \u001B[38;5;124;03mCreate the writer & save.\u001B[39;00m\n",
       "\u001B[1;32m    239\u001B[0m \u001B[38;5;124;03m\"\"\"\u001B[39;00m\n",
       "\u001B[1;32m    240\u001B[0m \u001B[38;5;66;03m# apply compression and byte/text conversion\u001B[39;00m\n",
       "\u001B[0;32m--> 241\u001B[0m \u001B[38;5;28;01mwith\u001B[39;00m \u001B[43mget_handle\u001B[49m\u001B[43m(\u001B[49m\n",
       "\u001B[1;32m    242\u001B[0m \u001B[43m    \u001B[49m\u001B[38;5;28;43mself\u001B[39;49m\u001B[38;5;241;43m.\u001B[39;49m\u001B[43mfilepath_or_buffer\u001B[49m\u001B[43m,\u001B[49m\n",
       "\u001B[1;32m    243\u001B[0m \u001B[43m    \u001B[49m\u001B[38;5;28;43mself\u001B[39;49m\u001B[38;5;241;43m.\u001B[39;49m\u001B[43mmode\u001B[49m\u001B[43m,\u001B[49m\n",
       "\u001B[1;32m    244\u001B[0m \u001B[43m    \u001B[49m\u001B[43mencoding\u001B[49m\u001B[38;5;241;43m=\u001B[39;49m\u001B[38;5;28;43mself\u001B[39;49m\u001B[38;5;241;43m.\u001B[39;49m\u001B[43mencoding\u001B[49m\u001B[43m,\u001B[49m\n",
       "\u001B[1;32m    245\u001B[0m \u001B[43m    \u001B[49m\u001B[43merrors\u001B[49m\u001B[38;5;241;43m=\u001B[39;49m\u001B[38;5;28;43mself\u001B[39;49m\u001B[38;5;241;43m.\u001B[39;49m\u001B[43merrors\u001B[49m\u001B[43m,\u001B[49m\n",
       "\u001B[1;32m    246\u001B[0m \u001B[43m    \u001B[49m\u001B[43mcompression\u001B[49m\u001B[38;5;241;43m=\u001B[39;49m\u001B[38;5;28;43mself\u001B[39;49m\u001B[38;5;241;43m.\u001B[39;49m\u001B[43mcompression\u001B[49m\u001B[43m,\u001B[49m\n",
       "\u001B[1;32m    247\u001B[0m \u001B[43m    \u001B[49m\u001B[43mstorage_options\u001B[49m\u001B[38;5;241;43m=\u001B[39;49m\u001B[38;5;28;43mself\u001B[39;49m\u001B[38;5;241;43m.\u001B[39;49m\u001B[43mstorage_options\u001B[49m\u001B[43m,\u001B[49m\n",
       "\u001B[1;32m    248\u001B[0m \u001B[43m\u001B[49m\u001B[43m)\u001B[49m \u001B[38;5;28;01mas\u001B[39;00m handles:\n",
       "\u001B[1;32m    249\u001B[0m \n",
       "\u001B[1;32m    250\u001B[0m     \u001B[38;5;66;03m# Note: self.encoding is irrelevant here\u001B[39;00m\n",
       "\u001B[1;32m    251\u001B[0m     \u001B[38;5;28mself\u001B[39m\u001B[38;5;241m.\u001B[39mwriter \u001B[38;5;241m=\u001B[39m csvlib\u001B[38;5;241m.\u001B[39mwriter(\n",
       "\u001B[1;32m    252\u001B[0m         handles\u001B[38;5;241m.\u001B[39mhandle,\n",
       "\u001B[1;32m    253\u001B[0m         lineterminator\u001B[38;5;241m=\u001B[39m\u001B[38;5;28mself\u001B[39m\u001B[38;5;241m.\u001B[39mline_terminator,\n",
       "\u001B[0;32m   (...)\u001B[0m\n",
       "\u001B[1;32m    258\u001B[0m         quotechar\u001B[38;5;241m=\u001B[39m\u001B[38;5;28mself\u001B[39m\u001B[38;5;241m.\u001B[39mquotechar,\n",
       "\u001B[1;32m    259\u001B[0m     )\n",
       "\u001B[1;32m    261\u001B[0m     \u001B[38;5;28mself\u001B[39m\u001B[38;5;241m.\u001B[39m_save()\n",
       "\n",
       "File \u001B[0;32m/databricks/python/lib/python3.9/site-packages/pandas/io/common.py:697\u001B[0m, in \u001B[0;36mget_handle\u001B[0;34m(path_or_buf, mode, encoding, compression, memory_map, is_text, errors, storage_options)\u001B[0m\n",
       "\u001B[1;32m    695\u001B[0m \u001B[38;5;66;03m# Only for write methods\u001B[39;00m\n",
       "\u001B[1;32m    696\u001B[0m \u001B[38;5;28;01mif\u001B[39;00m \u001B[38;5;124m\"\u001B[39m\u001B[38;5;124mr\u001B[39m\u001B[38;5;124m\"\u001B[39m \u001B[38;5;129;01mnot\u001B[39;00m \u001B[38;5;129;01min\u001B[39;00m mode \u001B[38;5;129;01mand\u001B[39;00m is_path:\n",
       "\u001B[0;32m--> 697\u001B[0m     \u001B[43mcheck_parent_directory\u001B[49m\u001B[43m(\u001B[49m\u001B[38;5;28;43mstr\u001B[39;49m\u001B[43m(\u001B[49m\u001B[43mhandle\u001B[49m\u001B[43m)\u001B[49m\u001B[43m)\u001B[49m\n",
       "\u001B[1;32m    699\u001B[0m \u001B[38;5;28;01mif\u001B[39;00m compression:\n",
       "\u001B[1;32m    700\u001B[0m     \u001B[38;5;28;01mif\u001B[39;00m compression \u001B[38;5;241m!=\u001B[39m \u001B[38;5;124m\"\u001B[39m\u001B[38;5;124mzstd\u001B[39m\u001B[38;5;124m\"\u001B[39m:\n",
       "\u001B[1;32m    701\u001B[0m         \u001B[38;5;66;03m# compression libraries do not like an explicit text-mode\u001B[39;00m\n",
       "\n",
       "File \u001B[0;32m/databricks/python/lib/python3.9/site-packages/pandas/io/common.py:571\u001B[0m, in \u001B[0;36mcheck_parent_directory\u001B[0;34m(path)\u001B[0m\n",
       "\u001B[1;32m    569\u001B[0m parent \u001B[38;5;241m=\u001B[39m Path(path)\u001B[38;5;241m.\u001B[39mparent\n",
       "\u001B[1;32m    570\u001B[0m \u001B[38;5;28;01mif\u001B[39;00m \u001B[38;5;129;01mnot\u001B[39;00m parent\u001B[38;5;241m.\u001B[39mis_dir():\n",
       "\u001B[0;32m--> 571\u001B[0m     \u001B[38;5;28;01mraise\u001B[39;00m \u001B[38;5;167;01mOSError\u001B[39;00m(\u001B[38;5;124mrf\u001B[39m\u001B[38;5;124m\"\u001B[39m\u001B[38;5;124mCannot save file into a non-existent directory: \u001B[39m\u001B[38;5;124m'\u001B[39m\u001B[38;5;132;01m{\u001B[39;00mparent\u001B[38;5;132;01m}\u001B[39;00m\u001B[38;5;124m'\u001B[39m\u001B[38;5;124m\"\u001B[39m)\n",
       "\n",
       "\u001B[0;31mOSError\u001B[0m: Cannot save file into a non-existent directory: 'dbfs:/tmp/galeria'"
      ]
     },
     "metadata": {
      "application/vnd.databricks.v1+output": {
       "arguments": {},
       "data": "\u001B[0;31m---------------------------------------------------------------------------\u001B[0m\n\u001B[0;31mOSError\u001B[0m                                   Traceback (most recent call last)\nFile \u001B[0;32m<command-1496039999229379>:5\u001B[0m\n\u001B[1;32m      1\u001B[0m \u001B[38;5;66;03m#df_vivienda_usada_venta = pd.read_excel(path_vivienda_usada, sheet_name=sheets_vivienda_usada[0], skiprows=4)\u001B[39;00m\n\u001B[1;32m      2\u001B[0m \n\u001B[1;32m      3\u001B[0m \u001B[38;5;66;03m# Convert .xlsb to CSV using pandas\u001B[39;00m\n\u001B[1;32m      4\u001B[0m df_vivienda_usada_venta \u001B[38;5;241m=\u001B[39m pd\u001B[38;5;241m.\u001B[39mread_excel(path_vivienda_usada, sheet_name\u001B[38;5;241m=\u001B[39msheets_vivienda_usada[\u001B[38;5;241m0\u001B[39m], skiprows\u001B[38;5;241m=\u001B[39m\u001B[38;5;241m4\u001B[39m, engine\u001B[38;5;241m=\u001B[39m\u001B[38;5;124m'\u001B[39m\u001B[38;5;124mpyxlsb\u001B[39m\u001B[38;5;124m'\u001B[39m)\n\u001B[0;32m----> 5\u001B[0m df_vivienda_usada_venta\u001B[38;5;241m.\u001B[39mto_csv(\u001B[38;5;124m'\u001B[39m\u001B[38;5;124mdbfs:/tmp/galeria/df_vivienda_usada_venta.csv\u001B[39m\u001B[38;5;124m'\u001B[39m, index\u001B[38;5;241m=\u001B[39m\u001B[38;5;28;01mFalse\u001B[39;00m)\n\nFile \u001B[0;32m/databricks/python/lib/python3.9/site-packages/pandas/core/generic.py:3551\u001B[0m, in \u001B[0;36mNDFrame.to_csv\u001B[0;34m(self, path_or_buf, sep, na_rep, float_format, columns, header, index, index_label, mode, encoding, compression, quoting, quotechar, line_terminator, chunksize, date_format, doublequote, escapechar, decimal, errors, storage_options)\u001B[0m\n\u001B[1;32m   3540\u001B[0m df \u001B[38;5;241m=\u001B[39m \u001B[38;5;28mself\u001B[39m \u001B[38;5;28;01mif\u001B[39;00m \u001B[38;5;28misinstance\u001B[39m(\u001B[38;5;28mself\u001B[39m, ABCDataFrame) \u001B[38;5;28;01melse\u001B[39;00m \u001B[38;5;28mself\u001B[39m\u001B[38;5;241m.\u001B[39mto_frame()\n\u001B[1;32m   3542\u001B[0m formatter \u001B[38;5;241m=\u001B[39m DataFrameFormatter(\n\u001B[1;32m   3543\u001B[0m     frame\u001B[38;5;241m=\u001B[39mdf,\n\u001B[1;32m   3544\u001B[0m     header\u001B[38;5;241m=\u001B[39mheader,\n\u001B[0;32m   (...)\u001B[0m\n\u001B[1;32m   3548\u001B[0m     decimal\u001B[38;5;241m=\u001B[39mdecimal,\n\u001B[1;32m   3549\u001B[0m )\n\u001B[0;32m-> 3551\u001B[0m \u001B[38;5;28;01mreturn\u001B[39;00m \u001B[43mDataFrameRenderer\u001B[49m\u001B[43m(\u001B[49m\u001B[43mformatter\u001B[49m\u001B[43m)\u001B[49m\u001B[38;5;241;43m.\u001B[39;49m\u001B[43mto_csv\u001B[49m\u001B[43m(\u001B[49m\n\u001B[1;32m   3552\u001B[0m \u001B[43m    \u001B[49m\u001B[43mpath_or_buf\u001B[49m\u001B[43m,\u001B[49m\n\u001B[1;32m   3553\u001B[0m \u001B[43m    \u001B[49m\u001B[43mline_terminator\u001B[49m\u001B[38;5;241;43m=\u001B[39;49m\u001B[43mline_terminator\u001B[49m\u001B[43m,\u001B[49m\n\u001B[1;32m   3554\u001B[0m \u001B[43m    \u001B[49m\u001B[43msep\u001B[49m\u001B[38;5;241;43m=\u001B[39;49m\u001B[43msep\u001B[49m\u001B[43m,\u001B[49m\n\u001B[1;32m   3555\u001B[0m \u001B[43m    \u001B[49m\u001B[43mencoding\u001B[49m\u001B[38;5;241;43m=\u001B[39;49m\u001B[43mencoding\u001B[49m\u001B[43m,\u001B[49m\n\u001B[1;32m   3556\u001B[0m \u001B[43m    \u001B[49m\u001B[43merrors\u001B[49m\u001B[38;5;241;43m=\u001B[39;49m\u001B[43merrors\u001B[49m\u001B[43m,\u001B[49m\n\u001B[1;32m   3557\u001B[0m \u001B[43m    \u001B[49m\u001B[43mcompression\u001B[49m\u001B[38;5;241;43m=\u001B[39;49m\u001B[43mcompression\u001B[49m\u001B[43m,\u001B[49m\n\u001B[1;32m   3558\u001B[0m \u001B[43m    \u001B[49m\u001B[43mquoting\u001B[49m\u001B[38;5;241;43m=\u001B[39;49m\u001B[43mquoting\u001B[49m\u001B[43m,\u001B[49m\n\u001B[1;32m   3559\u001B[0m \u001B[43m    \u001B[49m\u001B[43mcolumns\u001B[49m\u001B[38;5;241;43m=\u001B[39;49m\u001B[43mcolumns\u001B[49m\u001B[43m,\u001B[49m\n\u001B[1;32m   3560\u001B[0m \u001B[43m    \u001B[49m\u001B[43mindex_label\u001B[49m\u001B[38;5;241;43m=\u001B[39;49m\u001B[43mindex_label\u001B[49m\u001B[43m,\u001B[49m\n\u001B[1;32m   3561\u001B[0m \u001B[43m    \u001B[49m\u001B[43mmode\u001B[49m\u001B[38;5;241;43m=\u001B[39;49m\u001B[43mmode\u001B[49m\u001B[43m,\u001B[49m\n\u001B[1;32m   3562\u001B[0m \u001B[43m    \u001B[49m\u001B[43mchunksize\u001B[49m\u001B[38;5;241;43m=\u001B[39;49m\u001B[43mchunksize\u001B[49m\u001B[43m,\u001B[49m\n\u001B[1;32m   3563\u001B[0m \u001B[43m    \u001B[49m\u001B[43mquotechar\u001B[49m\u001B[38;5;241;43m=\u001B[39;49m\u001B[43mquotechar\u001B[49m\u001B[43m,\u001B[49m\n\u001B[1;32m   3564\u001B[0m \u001B[43m    \u001B[49m\u001B[43mdate_format\u001B[49m\u001B[38;5;241;43m=\u001B[39;49m\u001B[43mdate_format\u001B[49m\u001B[43m,\u001B[49m\n\u001B[1;32m   3565\u001B[0m \u001B[43m    \u001B[49m\u001B[43mdoublequote\u001B[49m\u001B[38;5;241;43m=\u001B[39;49m\u001B[43mdoublequote\u001B[49m\u001B[43m,\u001B[49m\n\u001B[1;32m   3566\u001B[0m \u001B[43m    \u001B[49m\u001B[43mescapechar\u001B[49m\u001B[38;5;241;43m=\u001B[39;49m\u001B[43mescapechar\u001B[49m\u001B[43m,\u001B[49m\n\u001B[1;32m   3567\u001B[0m \u001B[43m    \u001B[49m\u001B[43mstorage_options\u001B[49m\u001B[38;5;241;43m=\u001B[39;49m\u001B[43mstorage_options\u001B[49m\u001B[43m,\u001B[49m\n\u001B[1;32m   3568\u001B[0m \u001B[43m\u001B[49m\u001B[43m)\u001B[49m\n\nFile \u001B[0;32m/databricks/python/lib/python3.9/site-packages/pandas/io/formats/format.py:1180\u001B[0m, in \u001B[0;36mDataFrameRenderer.to_csv\u001B[0;34m(self, path_or_buf, encoding, sep, columns, index_label, mode, compression, quoting, quotechar, line_terminator, chunksize, date_format, doublequote, escapechar, errors, storage_options)\u001B[0m\n\u001B[1;32m   1159\u001B[0m     created_buffer \u001B[38;5;241m=\u001B[39m \u001B[38;5;28;01mFalse\u001B[39;00m\n\u001B[1;32m   1161\u001B[0m csv_formatter \u001B[38;5;241m=\u001B[39m CSVFormatter(\n\u001B[1;32m   1162\u001B[0m     path_or_buf\u001B[38;5;241m=\u001B[39mpath_or_buf,\n\u001B[1;32m   1163\u001B[0m     line_terminator\u001B[38;5;241m=\u001B[39mline_terminator,\n\u001B[0;32m   (...)\u001B[0m\n\u001B[1;32m   1178\u001B[0m     formatter\u001B[38;5;241m=\u001B[39m\u001B[38;5;28mself\u001B[39m\u001B[38;5;241m.\u001B[39mfmt,\n\u001B[1;32m   1179\u001B[0m )\n\u001B[0;32m-> 1180\u001B[0m \u001B[43mcsv_formatter\u001B[49m\u001B[38;5;241;43m.\u001B[39;49m\u001B[43msave\u001B[49m\u001B[43m(\u001B[49m\u001B[43m)\u001B[49m\n\u001B[1;32m   1182\u001B[0m \u001B[38;5;28;01mif\u001B[39;00m created_buffer:\n\u001B[1;32m   1183\u001B[0m     \u001B[38;5;28;01massert\u001B[39;00m \u001B[38;5;28misinstance\u001B[39m(path_or_buf, StringIO)\n\nFile \u001B[0;32m/databricks/python/lib/python3.9/site-packages/pandas/io/formats/csvs.py:241\u001B[0m, in \u001B[0;36mCSVFormatter.save\u001B[0;34m(self)\u001B[0m\n\u001B[1;32m    237\u001B[0m \u001B[38;5;124;03m\"\"\"\u001B[39;00m\n\u001B[1;32m    238\u001B[0m \u001B[38;5;124;03mCreate the writer & save.\u001B[39;00m\n\u001B[1;32m    239\u001B[0m \u001B[38;5;124;03m\"\"\"\u001B[39;00m\n\u001B[1;32m    240\u001B[0m \u001B[38;5;66;03m# apply compression and byte/text conversion\u001B[39;00m\n\u001B[0;32m--> 241\u001B[0m \u001B[38;5;28;01mwith\u001B[39;00m \u001B[43mget_handle\u001B[49m\u001B[43m(\u001B[49m\n\u001B[1;32m    242\u001B[0m \u001B[43m    \u001B[49m\u001B[38;5;28;43mself\u001B[39;49m\u001B[38;5;241;43m.\u001B[39;49m\u001B[43mfilepath_or_buffer\u001B[49m\u001B[43m,\u001B[49m\n\u001B[1;32m    243\u001B[0m \u001B[43m    \u001B[49m\u001B[38;5;28;43mself\u001B[39;49m\u001B[38;5;241;43m.\u001B[39;49m\u001B[43mmode\u001B[49m\u001B[43m,\u001B[49m\n\u001B[1;32m    244\u001B[0m \u001B[43m    \u001B[49m\u001B[43mencoding\u001B[49m\u001B[38;5;241;43m=\u001B[39;49m\u001B[38;5;28;43mself\u001B[39;49m\u001B[38;5;241;43m.\u001B[39;49m\u001B[43mencoding\u001B[49m\u001B[43m,\u001B[49m\n\u001B[1;32m    245\u001B[0m \u001B[43m    \u001B[49m\u001B[43merrors\u001B[49m\u001B[38;5;241;43m=\u001B[39;49m\u001B[38;5;28;43mself\u001B[39;49m\u001B[38;5;241;43m.\u001B[39;49m\u001B[43merrors\u001B[49m\u001B[43m,\u001B[49m\n\u001B[1;32m    246\u001B[0m \u001B[43m    \u001B[49m\u001B[43mcompression\u001B[49m\u001B[38;5;241;43m=\u001B[39;49m\u001B[38;5;28;43mself\u001B[39;49m\u001B[38;5;241;43m.\u001B[39;49m\u001B[43mcompression\u001B[49m\u001B[43m,\u001B[49m\n\u001B[1;32m    247\u001B[0m \u001B[43m    \u001B[49m\u001B[43mstorage_options\u001B[49m\u001B[38;5;241;43m=\u001B[39;49m\u001B[38;5;28;43mself\u001B[39;49m\u001B[38;5;241;43m.\u001B[39;49m\u001B[43mstorage_options\u001B[49m\u001B[43m,\u001B[49m\n\u001B[1;32m    248\u001B[0m \u001B[43m\u001B[49m\u001B[43m)\u001B[49m \u001B[38;5;28;01mas\u001B[39;00m handles:\n\u001B[1;32m    249\u001B[0m \n\u001B[1;32m    250\u001B[0m     \u001B[38;5;66;03m# Note: self.encoding is irrelevant here\u001B[39;00m\n\u001B[1;32m    251\u001B[0m     \u001B[38;5;28mself\u001B[39m\u001B[38;5;241m.\u001B[39mwriter \u001B[38;5;241m=\u001B[39m csvlib\u001B[38;5;241m.\u001B[39mwriter(\n\u001B[1;32m    252\u001B[0m         handles\u001B[38;5;241m.\u001B[39mhandle,\n\u001B[1;32m    253\u001B[0m         lineterminator\u001B[38;5;241m=\u001B[39m\u001B[38;5;28mself\u001B[39m\u001B[38;5;241m.\u001B[39mline_terminator,\n\u001B[0;32m   (...)\u001B[0m\n\u001B[1;32m    258\u001B[0m         quotechar\u001B[38;5;241m=\u001B[39m\u001B[38;5;28mself\u001B[39m\u001B[38;5;241m.\u001B[39mquotechar,\n\u001B[1;32m    259\u001B[0m     )\n\u001B[1;32m    261\u001B[0m     \u001B[38;5;28mself\u001B[39m\u001B[38;5;241m.\u001B[39m_save()\n\nFile \u001B[0;32m/databricks/python/lib/python3.9/site-packages/pandas/io/common.py:697\u001B[0m, in \u001B[0;36mget_handle\u001B[0;34m(path_or_buf, mode, encoding, compression, memory_map, is_text, errors, storage_options)\u001B[0m\n\u001B[1;32m    695\u001B[0m \u001B[38;5;66;03m# Only for write methods\u001B[39;00m\n\u001B[1;32m    696\u001B[0m \u001B[38;5;28;01mif\u001B[39;00m \u001B[38;5;124m\"\u001B[39m\u001B[38;5;124mr\u001B[39m\u001B[38;5;124m\"\u001B[39m \u001B[38;5;129;01mnot\u001B[39;00m \u001B[38;5;129;01min\u001B[39;00m mode \u001B[38;5;129;01mand\u001B[39;00m is_path:\n\u001B[0;32m--> 697\u001B[0m     \u001B[43mcheck_parent_directory\u001B[49m\u001B[43m(\u001B[49m\u001B[38;5;28;43mstr\u001B[39;49m\u001B[43m(\u001B[49m\u001B[43mhandle\u001B[49m\u001B[43m)\u001B[49m\u001B[43m)\u001B[49m\n\u001B[1;32m    699\u001B[0m \u001B[38;5;28;01mif\u001B[39;00m compression:\n\u001B[1;32m    700\u001B[0m     \u001B[38;5;28;01mif\u001B[39;00m compression \u001B[38;5;241m!=\u001B[39m \u001B[38;5;124m\"\u001B[39m\u001B[38;5;124mzstd\u001B[39m\u001B[38;5;124m\"\u001B[39m:\n\u001B[1;32m    701\u001B[0m         \u001B[38;5;66;03m# compression libraries do not like an explicit text-mode\u001B[39;00m\n\nFile \u001B[0;32m/databricks/python/lib/python3.9/site-packages/pandas/io/common.py:571\u001B[0m, in \u001B[0;36mcheck_parent_directory\u001B[0;34m(path)\u001B[0m\n\u001B[1;32m    569\u001B[0m parent \u001B[38;5;241m=\u001B[39m Path(path)\u001B[38;5;241m.\u001B[39mparent\n\u001B[1;32m    570\u001B[0m \u001B[38;5;28;01mif\u001B[39;00m \u001B[38;5;129;01mnot\u001B[39;00m parent\u001B[38;5;241m.\u001B[39mis_dir():\n\u001B[0;32m--> 571\u001B[0m     \u001B[38;5;28;01mraise\u001B[39;00m \u001B[38;5;167;01mOSError\u001B[39;00m(\u001B[38;5;124mrf\u001B[39m\u001B[38;5;124m\"\u001B[39m\u001B[38;5;124mCannot save file into a non-existent directory: \u001B[39m\u001B[38;5;124m'\u001B[39m\u001B[38;5;132;01m{\u001B[39;00mparent\u001B[38;5;132;01m}\u001B[39;00m\u001B[38;5;124m'\u001B[39m\u001B[38;5;124m\"\u001B[39m)\n\n\u001B[0;31mOSError\u001B[0m: Cannot save file into a non-existent directory: 'dbfs:/tmp/galeria'",
       "errorSummary": "<span class='ansi-red-fg'>OSError</span>: Cannot save file into a non-existent directory: 'dbfs:/tmp/galeria'",
       "errorTraceType": "ansi",
       "metadata": {},
       "type": "ipynbError"
      }
     },
     "output_type": "display_data"
    }
   ],
   "source": [
    "df_vivienda_usada_venta = pd.read_excel(path_vivienda_usada, sheet_name=sheets_vivienda_usada[0], skiprows=4, engine='pyxlsb')\n",
    "df_vivienda_usada_venta.to_csv('/dbfs/tmp/galeria/df_vivienda_usada_venta.csv', index=False)"
   ]
  },
  {
   "cell_type": "code",
   "execution_count": 0,
   "metadata": {
    "application/vnd.databricks.v1+cell": {
     "cellMetadata": {
      "byteLimit": 2048000,
      "rowLimit": 10000
     },
     "inputWidgets": {},
     "nuid": "e6601a6b-affd-4b4a-a706-971354f84dd2",
     "showTitle": false,
     "title": ""
    }
   },
   "outputs": [],
   "source": [
    "df_vivienda_usada_venta_sp = spark.read.csv('dbfs:/tmp/galeria/df_vivienda_usada_venta.csv', header=True)"
   ]
  },
  {
   "cell_type": "code",
   "execution_count": 0,
   "metadata": {
    "application/vnd.databricks.v1+cell": {
     "cellMetadata": {
      "byteLimit": 2048000,
      "rowLimit": 10000
     },
     "inputWidgets": {},
     "nuid": "3bbd9536-8950-4df9-ad6d-0dc0aabaded3",
     "showTitle": false,
     "title": ""
    }
   },
   "outputs": [],
   "source": [
    "df_vivienda_usada_arriendo = pd.read_excel(path_vivienda_usada, sheet_name=sheets_vivienda_usada[1], skiprows=4, engine='pyxlsb')\n",
    "df_vivienda_usada_arriendo.to_csv('/dbfs/tmp/galeria/df_vivienda_usada_arriendo.csv', index=False)"
   ]
  },
  {
   "cell_type": "code",
   "execution_count": 0,
   "metadata": {
    "application/vnd.databricks.v1+cell": {
     "cellMetadata": {
      "byteLimit": 2048000,
      "rowLimit": 10000
     },
     "inputWidgets": {},
     "nuid": "2d33a9df-e9f7-4674-8e50-08f2313a1dff",
     "showTitle": false,
     "title": ""
    }
   },
   "outputs": [],
   "source": [
    "df_vivienda_usada_arriendo_sp = spark.read.csv('dbfs:/tmp/galeria/df_vivienda_usada_arriendo.csv', header=True)"
   ]
  },
  {
   "cell_type": "code",
   "execution_count": 0,
   "metadata": {
    "application/vnd.databricks.v1+cell": {
     "cellMetadata": {
      "byteLimit": 2048000,
      "rowLimit": 10000
     },
     "inputWidgets": {},
     "nuid": "7cc037f7-8c0d-4120-abc8-a0754ac60cdc",
     "showTitle": false,
     "title": ""
    }
   },
   "outputs": [],
   "source": [
    "df_comercio_base_proyecto = pd.read_excel(path_comercio, sheet_name=sheets_comercio[0], engine='pyxlsb')\n",
    "df_comercio_base_proyecto.to_csv('/dbfs/tmp/galeria/df_comercio_base_proyecto.csv', index=False)"
   ]
  },
  {
   "cell_type": "code",
   "execution_count": 0,
   "metadata": {
    "application/vnd.databricks.v1+cell": {
     "cellMetadata": {
      "byteLimit": 2048000,
      "rowLimit": 10000
     },
     "inputWidgets": {},
     "nuid": "57bdd3ba-34a9-4f1b-a62e-0c69f75e21e5",
     "showTitle": false,
     "title": ""
    }
   },
   "outputs": [],
   "source": [
    "df_comercio_base_proyecto_sp = spark.read.csv('dbfs:/tmp/galeria/df_comercio_base_proyecto.csv', header=True)"
   ]
  },
  {
   "cell_type": "code",
   "execution_count": 0,
   "metadata": {
    "application/vnd.databricks.v1+cell": {
     "cellMetadata": {
      "byteLimit": 2048000,
      "rowLimit": 10000
     },
     "inputWidgets": {},
     "nuid": "f2dd5966-b8c3-4010-9dc1-ee9937bd0ce0",
     "showTitle": false,
     "title": ""
    }
   },
   "outputs": [],
   "source": [
    "df_comercio_base_inmuebles = pd.read_excel(path_comercio, sheet_name=sheets_comercio[1], engine='pyxlsb')\n",
    "df_comercio_base_inmuebles = df_comercio_base_inmuebles.drop([0])\n",
    "df_comercio_base_inmuebles.to_csv('/dbfs/tmp/galeria/df_comercio_base_inmuebles.csv', index=False)"
   ]
  },
  {
   "cell_type": "code",
   "execution_count": 0,
   "metadata": {
    "application/vnd.databricks.v1+cell": {
     "cellMetadata": {
      "byteLimit": 2048000,
      "rowLimit": 10000
     },
     "inputWidgets": {},
     "nuid": "dc88d0e5-7687-4f3d-9647-01a23e95b495",
     "showTitle": false,
     "title": ""
    }
   },
   "outputs": [],
   "source": [
    "df_comercio_base_inmuebles_sp = spark.read.csv('dbfs:/tmp/galeria/df_comercio_base_inmuebles.csv', header=True)"
   ]
  },
  {
   "cell_type": "code",
   "execution_count": 0,
   "metadata": {
    "application/vnd.databricks.v1+cell": {
     "cellMetadata": {
      "byteLimit": 2048000,
      "rowLimit": 10000
     },
     "inputWidgets": {},
     "nuid": "a80d2f40-5660-4d0f-9d8a-d06c9f82ed44",
     "showTitle": false,
     "title": ""
    }
   },
   "outputs": [],
   "source": [
    "df_comercio_base_historia = pd.read_excel(path_comercio, sheet_name=sheets_comercio[2], engine='pyxlsb')\n",
    "df_comercio_base_historia.to_csv('/dbfs/tmp/galeria/df_comercio_base_historia.csv', index=False)"
   ]
  },
  {
   "cell_type": "code",
   "execution_count": 0,
   "metadata": {
    "application/vnd.databricks.v1+cell": {
     "cellMetadata": {
      "byteLimit": 2048000,
      "rowLimit": 10000
     },
     "inputWidgets": {},
     "nuid": "04d06957-c3bf-44f1-ac8f-35f04af8a4dd",
     "showTitle": false,
     "title": ""
    }
   },
   "outputs": [],
   "source": [
    "df_comercio_base_historia_sp = spark.read.csv('dbfs:/tmp/galeria/df_comercio_base_historia.csv', header=True)"
   ]
  },
  {
   "cell_type": "code",
   "execution_count": 0,
   "metadata": {
    "application/vnd.databricks.v1+cell": {
     "cellMetadata": {
      "byteLimit": 2048000,
      "rowLimit": 10000
     },
     "inputWidgets": {},
     "nuid": "3e9a13af-ed8c-41e3-9c28-fc6bf50dbddd",
     "showTitle": false,
     "title": ""
    }
   },
   "outputs": [],
   "source": [
    "df_def_base_proyecto = pd.read_excel(path_def, sheet_name=sheets_def[0], engine='pyxlsb')\n",
    "df_def_base_proyecto.to_csv('/dbfs/tmp/galeria/df_def_base_proyecto.csv', index=False)"
   ]
  },
  {
   "cell_type": "code",
   "execution_count": 0,
   "metadata": {
    "application/vnd.databricks.v1+cell": {
     "cellMetadata": {
      "byteLimit": 2048000,
      "rowLimit": 10000
     },
     "inputWidgets": {},
     "nuid": "8ffe629a-892d-49b4-9a42-e4728430b2fe",
     "showTitle": false,
     "title": ""
    }
   },
   "outputs": [],
   "source": [
    "df_def_base_proyecto_sp = spark.read.csv('dbfs:/tmp/galeria/df_def_base_proyecto.csv', header=True)"
   ]
  },
  {
   "cell_type": "code",
   "execution_count": 0,
   "metadata": {
    "application/vnd.databricks.v1+cell": {
     "cellMetadata": {
      "byteLimit": 2048000,
      "rowLimit": 10000
     },
     "inputWidgets": {},
     "nuid": "62021cba-e647-4359-8b5e-78c5607d529f",
     "showTitle": false,
     "title": ""
    }
   },
   "outputs": [
    {
     "output_type": "display_data",
     "data": {
      "text/html": [
       "<style scoped>\n",
       "  .table-result-container {\n",
       "    max-height: 300px;\n",
       "    overflow: auto;\n",
       "  }\n",
       "  table, th, td {\n",
       "    border: 1px solid black;\n",
       "    border-collapse: collapse;\n",
       "  }\n",
       "  th, td {\n",
       "    padding: 5px;\n",
       "  }\n",
       "  th {\n",
       "    text-align: left;\n",
       "  }\n",
       "</style><div class='table-result-container'><table class='table-result'><thead style='background-color: white'><tr><th>path</th><th>name</th><th>size</th><th>modificationTime</th></tr></thead><tbody><tr><td>dbfs:/tmp/galeria/df_comercio_base_historia.csv</td><td>df_comercio_base_historia.csv</td><td>2853151</td><td>1688431570000</td></tr><tr><td>dbfs:/tmp/galeria/df_comercio_base_inmuebles.csv</td><td>df_comercio_base_inmuebles.csv</td><td>32486290</td><td>1688431563000</td></tr><tr><td>dbfs:/tmp/galeria/df_comercio_base_proyecto.csv</td><td>df_comercio_base_proyecto.csv</td><td>693954</td><td>1688431478000</td></tr><tr><td>dbfs:/tmp/galeria/df_def_base_proyecto.csv</td><td>df_def_base_proyecto.csv</td><td>2088789</td><td>1688431575000</td></tr><tr><td>dbfs:/tmp/galeria/df_vivienda_usada_arriendo.csv</td><td>df_vivienda_usada_arriendo.csv</td><td>9584513</td><td>1688431416000</td></tr><tr><td>dbfs:/tmp/galeria/df_vivienda_usada_venta.csv</td><td>df_vivienda_usada_venta.csv</td><td>11269151</td><td>1688431175000</td></tr></tbody></table></div>"
      ]
     },
     "metadata": {
      "application/vnd.databricks.v1+output": {
       "addedWidgets": {},
       "aggData": [],
       "aggError": "",
       "aggOverflow": false,
       "aggSchema": [],
       "aggSeriesLimitReached": false,
       "aggType": "",
       "arguments": {},
       "columnCustomDisplayInfos": {},
       "data": [
        [
         "dbfs:/tmp/galeria/df_comercio_base_historia.csv",
         "df_comercio_base_historia.csv",
         2853151,
         1688431570000
        ],
        [
         "dbfs:/tmp/galeria/df_comercio_base_inmuebles.csv",
         "df_comercio_base_inmuebles.csv",
         32486290,
         1688431563000
        ],
        [
         "dbfs:/tmp/galeria/df_comercio_base_proyecto.csv",
         "df_comercio_base_proyecto.csv",
         693954,
         1688431478000
        ],
        [
         "dbfs:/tmp/galeria/df_def_base_proyecto.csv",
         "df_def_base_proyecto.csv",
         2088789,
         1688431575000
        ],
        [
         "dbfs:/tmp/galeria/df_vivienda_usada_arriendo.csv",
         "df_vivienda_usada_arriendo.csv",
         9584513,
         1688431416000
        ],
        [
         "dbfs:/tmp/galeria/df_vivienda_usada_venta.csv",
         "df_vivienda_usada_venta.csv",
         11269151,
         1688431175000
        ]
       ],
       "datasetInfos": [],
       "dbfsResultPath": null,
       "isJsonSchema": true,
       "metadata": {
        "isDbfsCommandResult": false
       },
       "overflow": false,
       "plotOptions": {
        "customPlotOptions": {},
        "displayType": "table",
        "pivotAggregation": null,
        "pivotColumns": null,
        "xColumns": null,
        "yColumns": null
       },
       "removedWidgets": [],
       "schema": [
        {
         "metadata": "{}",
         "name": "path",
         "type": "\"string\""
        },
        {
         "metadata": "{}",
         "name": "name",
         "type": "\"string\""
        },
        {
         "metadata": "{}",
         "name": "size",
         "type": "\"long\""
        },
        {
         "metadata": "{}",
         "name": "modificationTime",
         "type": "\"long\""
        }
       ],
       "type": "table"
      }
     },
     "output_type": "display_data"
    }
   ],
   "source": [
    "%fs ls /tmp/galeria/"
   ]
  },
  {
   "cell_type": "markdown",
   "metadata": {
    "application/vnd.databricks.v1+cell": {
     "cellMetadata": {},
     "inputWidgets": {},
     "nuid": "9fa71737-3388-4e8a-b9e8-91f1ac19599d",
     "showTitle": false,
     "title": ""
    }
   },
   "source": [
    "## Funciones"
   ]
  },
  {
   "cell_type": "markdown",
   "metadata": {
    "application/vnd.databricks.v1+cell": {
     "cellMetadata": {},
     "inputWidgets": {},
     "nuid": "8ffb3ac0-fd9e-449f-aa65-ce6b7b5c296d",
     "showTitle": false,
     "title": ""
    }
   },
   "source": [
    "En esta sección se definen las funciones que se van a utilizar para el procesamiento de los datos"
   ]
  },
  {
   "cell_type": "markdown",
   "metadata": {
    "application/vnd.databricks.v1+cell": {
     "cellMetadata": {},
     "inputWidgets": {},
     "nuid": "6c2fe146-8291-4252-8a74-69918d915b96",
     "showTitle": false,
     "title": ""
    }
   },
   "source": [
    "### Función georeferenciar"
   ]
  },
  {
   "cell_type": "markdown",
   "metadata": {
    "application/vnd.databricks.v1+cell": {
     "cellMetadata": {},
     "inputWidgets": {},
     "nuid": "0862c487-ab4a-422e-80d7-97bb5cdb8253",
     "showTitle": false,
     "title": ""
    }
   },
   "source": [
    "La función georeferenciar se encarga de obtener a partir del uso de un servicio web externo las coordenadas geográficas de una dirección entregada por parámetro."
   ]
  },
  {
   "cell_type": "code",
   "execution_count": 0,
   "metadata": {
    "application/vnd.databricks.v1+cell": {
     "cellMetadata": {
      "byteLimit": 2048000,
      "rowLimit": 10000
     },
     "inputWidgets": {},
     "nuid": "6bf9f97c-b2ae-4317-8c5f-2b1902d09f6d",
     "showTitle": false,
     "title": ""
    }
   },
   "outputs": [],
   "source": [
    "def remove_words_from_string(input_str, words_to_remove):\n",
    "    for word in words_to_remove:\n",
    "        input_str = input_str.replace(word, \"\")\n",
    "    return input_str\n",
    "\n",
    "schema = StructType([\n",
    "                    StructField(\"estado\", StringType()),\n",
    "                    StructField(\"yinput\", DoubleType()),\n",
    "                    StructField(\"lotcodigo\", StringType()),\n",
    "                    StructField(\"latitude\", StringType()),\n",
    "                    StructField(\"diraprox\", StringType()),\n",
    "                    StructField(\"mancodigo\", StringType()),\n",
    "                    StructField(\"cpocodigo\", StringType()),\n",
    "                    StructField(\"xinput\", DoubleType()),\n",
    "                    StructField(\"codloc\", StringType()),\n",
    "                    StructField(\"dirtrad\", StringType()),\n",
    "                    StructField(\"nomupz\", StringType()),\n",
    "                    StructField(\"localidad\", StringType()),\n",
    "                    StructField(\"dirinput\", StringType()),\n",
    "                    StructField(\"codupz\", StringType()),\n",
    "                    StructField(\"nomseccat\", StringType()),\n",
    "                    StructField(\"tipo_direccion\", StringType()),\n",
    "                    StructField(\"codseccat\", StringType()),\n",
    "                    StructField(\"longitude\", StringType()),\n",
    "                ])\n",
    "def georeferenciar(input_str:str):\n",
    "    schema = StructType([\n",
    "                    StructField(\"estado\", StringType()),\n",
    "                    StructField(\"yinput\", DoubleType()),\n",
    "                    StructField(\"lotcodigo\", StringType()),\n",
    "                    StructField(\"latitude\", StringType()),\n",
    "                    StructField(\"diraprox\", StringType()),\n",
    "                    StructField(\"mancodigo\", StringType()),\n",
    "                    StructField(\"cpocodigo\", StringType()),\n",
    "                    StructField(\"xinput\", DoubleType()),\n",
    "                    StructField(\"codloc\", StringType()),\n",
    "                    StructField(\"dirtrad\", StringType()),\n",
    "                    StructField(\"nomupz\", StringType()),\n",
    "                    StructField(\"localidad\", StringType()),\n",
    "                    StructField(\"dirinput\", StringType()),\n",
    "                    StructField(\"codupz\", StringType()),\n",
    "                    StructField(\"nomseccat\", StringType()),\n",
    "                    StructField(\"tipo_direccion\", StringType()),\n",
    "                    StructField(\"codseccat\", StringType()),\n",
    "                    StructField(\"longitude\", StringType()),\n",
    "                ])\n",
    "    \"\"\"\n",
    "    Realiza la georreferenciación de una cadena de entrada utilizando una API de geocodificación.\n",
    "\n",
    "    Args:\n",
    "        input_str (str): La cadena a georreferenciar.\n",
    "\n",
    "    Returns:\n",
    "        dict: Un diccionario que contiene los datos de georreferenciación si la operación fue exitosa.\n",
    "              En caso contrario, devuelve un diccionario que indica un estado de falla o un estado de error.\n",
    "\n",
    "    \"\"\"\n",
    "    direc = unicodedata.normalize(\"NFKD\", input_str).encode(\"ascii\",\"ignore\").decode(\"ascii\").lower()\n",
    "\n",
    "    val = [True for t in direc.replace('.',' ').replace(\"  \",\" \").split() if t in ['via','km','chia','cota','tocancipa','tenjo','madrid','tabio,','cajica,','mosquera','zipaquira']]\n",
    "    \n",
    "    if sum(val)>=1:\n",
    "        result = {'estado': 'outside_bogota','yinput':0,'lotcodigo':'','latitude':'','diraprox':'','mancodigo':'','cpocodigo':'','xinput':0,'codloc':'','dirtrad':'','nomupz':'','localidad':'','dirinput':'','codupz':'','nomseccat':'','tipo_direccion':'','codseccat':'','longitude':''}\n",
    "        return result\n",
    "\n",
    "    else:\n",
    "        try:\n",
    "            \n",
    "            words_to_remove = [\"costado occ.\", \"esquina\"]\n",
    "\n",
    "            direc = remove_words_from_string(direc, words_to_remove)\n",
    "\n",
    "            pattern = r'av\\.?(?: de la)? esp\\.?|\\bavenida la esperanza\\b|\\besperanza\\b'\n",
    "            replacement_str = \"AC 24\"\n",
    "            output_str = re.sub(pattern, replacement_str, direc)\n",
    "\n",
    "            pattern = r'av\\.?(?: de las)? ame\\.?|\\bavenida de las americas\\b|\\bamericas\\b'\n",
    "            replacement_str = \"AC 9\"\n",
    "            output_str = re.sub(pattern, replacement_str, output_str)\n",
    "\n",
    "            pattern = r'(autop\\.?(\\s)?norte|autonorte|au\\.?(\\s)?norte|aut\\.?(\\s)?norte)'\n",
    "            replacement_str = \"AK 45\"\n",
    "            output_str = re.sub(pattern, replacement_str, output_str)\n",
    "\n",
    "            pattern = r'av\\.?(?: de las)?(?: c\\.?)?\\s*(?:ciudad\\s*)?cali|avenida\\s*cali'\n",
    "            replacement_str = \"AK 86\"\n",
    "            output_str = re.sub(pattern, replacement_str, output_str)\n",
    "\n",
    "            pattern = r'av. nqs|\\bnqs\\b'\n",
    "            replacement_str = \"AK 30\"\n",
    "            output_str = re.sub(pattern, replacement_str, output_str)\n",
    "\n",
    "            pattern = r'av. suba|\\bsuba\\b|tr. suba'\n",
    "            replacement_str = \"AK 69\"\n",
    "            output_str = re.sub(pattern, replacement_str, output_str)\n",
    "\n",
    "            output_str = output_str.replace('cl. av.', 'AC')\n",
    "            output_str = output_str.replace('av. cl.', 'AC')\n",
    "            output_str = output_str.replace('av. cr.', 'AK')\n",
    "            \n",
    "\n",
    "            con = False\n",
    "\n",
    "            output_str = output_str.replace('con','#')\n",
    "            output_str = output_str.replace('paralela','#')\n",
    "\n",
    "            parts = output_str.split(\"#\")\n",
    "\n",
    "            if len(parts) > 1:\n",
    "                if '-' not in parts[1]:\n",
    "                    parts[1] = re.sub(r'[a-zA-Z.]', '', parts[1])\n",
    "                    output_str = \"#\".join(parts)\n",
    "\n",
    "            \n",
    "\n",
    "            pattern = r'(\\d+)\\D+(\\w+)'\n",
    "            output_str = re.sub(pattern, lambda x: x.group(1) + ' # ' + x.group(2), output_str)\n",
    "\n",
    "            if '-' not in output_str:\n",
    "                output_str = output_str + ' - 01'\n",
    "\n",
    "\n",
    "            parts = output_str.split(\"#\")\n",
    "\n",
    "            if parts[0].strip() == 'AK 30' and (int(parts[1].split('-')[0].strip())>100):\n",
    "                parts[0] = 'AK 9'\n",
    "                output_str = \"#\".join(parts)\n",
    "\n",
    "            output_str = output_str.replace(\"AK 69\",'Av Suba')\n",
    "\n",
    "            print(output_str)\n",
    "\n",
    "            params = {\n",
    "                'cmd': 'geocodificar',\n",
    "                'apikey': '1c025f92-4520-49c1-90a7-a24b3d9d374c',\n",
    "                'query': output_str\n",
    "            }\n",
    "\n",
    "            response = requests.get(url, params=params)\n",
    "            res = response.json()\n",
    "            success = res['response']['success']\n",
    "            if success:\n",
    "                result = res['response']['data']\n",
    "                return result\n",
    "            else:\n",
    "                result = {'estado': 'failed','yinput':0,'lotcodigo':'','latitude':'','diraprox':'','mancodigo':'','cpocodigo':'','xinput':0,'codloc':'','dirtrad':'','nomupz':'','localidad':'','dirinput':'','codupz':'','nomseccat':'','tipo_direccion':'','codseccat':'','longitude':''}\n",
    "                return result\n",
    "        except:\n",
    "            result = {'estado': 'error_ws','yinput':0,'lotcodigo':'','latitude':'','diraprox':'','mancodigo':'','cpocodigo':'','xinput':0,'codloc':'','dirtrad':'','nomupz':'','localidad':'','dirinput':'','codupz':'','nomseccat':'','tipo_direccion':'','codseccat':'','longitude':''}\n",
    "            \n",
    "            return result\n",
    "        \n",
    "georeferenciar_udf = udf(georeferenciar, returnType=schema)"
   ]
  },
  {
   "cell_type": "code",
   "execution_count": 0,
   "metadata": {
    "application/vnd.databricks.v1+cell": {
     "cellMetadata": {
      "byteLimit": 2048000,
      "rowLimit": 10000
     },
     "inputWidgets": {},
     "nuid": "0eaca440-c4f0-4ce5-94ae-b4435b7b6f60",
     "showTitle": false,
     "title": ""
    }
   },
   "outputs": [],
   "source": [
    "def distance(p1: str, p2: str):\n",
    "    \"\"\"\n",
    "    Calcula la distancia entre dos puntos geográficos.\n",
    "\n",
    "    Args:\n",
    "        p1 (Point): El primer punto geográfico en formato `Point`.\n",
    "        p2 (Point): El segundo punto geográfico en formato `Point`.\n",
    "\n",
    "    Returns:\n",
    "        Series: Una serie que contiene la distancia entre los dos puntos en la proyección UTM.\n",
    "\n",
    "    \"\"\"\n",
    "    try:\n",
    "        gdf_1 = geop.GeoDataFrame(geometry=[loads(p1)], crs=\"EPSG:4326\")\n",
    "        gdf_2 = geop.GeoDataFrame(geometry=[loads(p2)], crs=\"EPSG:4326\")\n",
    "        utm = gdf_1.estimate_utm_crs()\n",
    "        return gdf_1.to_crs(utm).distance(gdf_2.to_crs(utm))\n",
    "    except:\n",
    "        return 0;\n",
    "\n",
    "distance_udf = udf(distance, DoubleType())"
   ]
  },
  {
   "cell_type": "code",
   "execution_count": 0,
   "metadata": {
    "application/vnd.databricks.v1+cell": {
     "cellMetadata": {
      "byteLimit": 2048000,
      "rowLimit": 10000
     },
     "inputWidgets": {},
     "nuid": "b92f439a-977a-4231-a9da-0bb1bfb1e7eb",
     "showTitle": false,
     "title": ""
    }
   },
   "outputs": [],
   "source": [
    "create_point_udf = udf(lambda x,y: Point(x,y).wkt, returnType=StringType())"
   ]
  },
  {
   "cell_type": "code",
   "execution_count": 0,
   "metadata": {
    "application/vnd.databricks.v1+cell": {
     "cellMetadata": {
      "byteLimit": 2048000,
      "rowLimit": 10000
     },
     "inputWidgets": {},
     "nuid": "2cf0347e-8b91-40af-a3d4-aa38018bbc70",
     "showTitle": false,
     "title": ""
    }
   },
   "outputs": [
    {
     "output_type": "stream",
     "name": "stdout",
     "output_type": "stream",
     "text": [
      "Av Suba # 101 - 01\nOut[458]: {'estado': 'success',\n 'yinput': 4.69240921400001,\n 'lotcodigo': '005403072099',\n 'latitude': '4.69240921400001',\n 'diraprox': 'KR 69 101 01',\n 'mancodigo': '005403072',\n 'cpocodigo': '111121',\n 'xinput': -74.073097513,\n 'codloc': '11',\n 'dirtrad': 'KR 69 101 01',\n 'nomupz': 'LA FLORESTA',\n 'localidad': 'SUBA',\n 'dirinput': 'Av Suba # 101 - 01',\n 'codupz': 'UPZ25',\n 'nomseccat': 'JULIO FLOREZ',\n 'tipo_direccion': 'Dirección por aproximación',\n 'codseccat': '005403',\n 'longitude': '-74.073097513'}"
     ]
    }
   ],
   "source": [
    "'''\n",
    "Dirección\n",
    "11\tAv. NQS Cl. 101\n",
    "12\tAv. NQS Cl. 101\n",
    "16\tTr. Suba Cr. 101\n",
    "18\tCl. Av. 100 # 13-76\n",
    "24\tAv. Cl. 80 # 66A-48\n",
    "25\tAv. Cl. 80 # 66A-48\n",
    "26\tAv. Cl. 80 # 66A-48\n",
    "32\tTr. Suba Cr. 101\n",
    "33\tTr. Suba Cr. 101\n",
    "34\tTr. Suba Cr. 101\n",
    "62\tDg. 76 # 23H-96F\n",
    "66\tA 900 mts de Aut. Medellín\n",
    "67\tA 900 mts de Aut. Medellín\n",
    "68\tA 900 mts de Aut. Medellín\n",
    "69\tA 900 mts de Aut. Medellín\n",
    "76\tAv. Suba Cl. 100\n",
    "77\tAv. Suba Cl. 100\n",
    "78\tAv. Suba Cl. 100\n",
    "79\tAv. Suba Cl. 100'''\n",
    "\n",
    "georeferenciar('Tr. Suba Cr. 101')"
   ]
  },
  {
   "cell_type": "markdown",
   "metadata": {
    "application/vnd.databricks.v1+cell": {
     "cellMetadata": {},
     "inputWidgets": {},
     "nuid": "ab2ebab6-3a30-4286-bc2f-28ce2bd937e8",
     "showTitle": false,
     "title": ""
    }
   },
   "source": [
    "## Exploración"
   ]
  },
  {
   "cell_type": "markdown",
   "metadata": {
    "application/vnd.databricks.v1+cell": {
     "cellMetadata": {},
     "inputWidgets": {},
     "nuid": "8a0dc09a-af26-4920-9c56-c753ab17188f",
     "showTitle": false,
     "title": ""
    }
   },
   "source": [
    "Para utilizar la función de georeferenciación se va a realizar un muestreo aleatorio de direcciones con el fin de evaluar la calidad de el API geográfico. Esta exploración va a permitir identificar que tipo de ajustes se deben realizar a las direcciones de las bases de datos a georeferenciar."
   ]
  },
  {
   "cell_type": "code",
   "execution_count": 0,
   "metadata": {
    "application/vnd.databricks.v1+cell": {
     "cellMetadata": {
      "byteLimit": 2048000,
      "rowLimit": 10000
     },
     "inputWidgets": {},
     "nuid": "23fed1c7-3120-48c6-86f0-d4fcf1f85fb0",
     "showTitle": false,
     "title": ""
    }
   },
   "outputs": [],
   "source": [
    "sample_1 = df_vivienda_usada_venta_sp.sample(withReplacement=False, fraction=0.1, seed=1).limit(150)"
   ]
  },
  {
   "cell_type": "code",
   "execution_count": 0,
   "metadata": {
    "application/vnd.databricks.v1+cell": {
     "cellMetadata": {
      "byteLimit": 2048000,
      "rowLimit": 10000
     },
     "inputWidgets": {},
     "nuid": "64f074e3-3a6e-4914-a969-5d49718abf14",
     "showTitle": false,
     "title": ""
    }
   },
   "outputs": [],
   "source": [
    "sample_1 = sample_1.withColumn('geocode_result', struct(georeferenciar_udf(col(vivienda_usada_dir)).alias('geocoding')))"
   ]
  },
  {
   "cell_type": "code",
   "execution_count": 0,
   "metadata": {
    "application/vnd.databricks.v1+cell": {
     "cellMetadata": {
      "byteLimit": 2048000,
      "rowLimit": 10000
     },
     "inputWidgets": {},
     "nuid": "2b324c78-1550-409c-825d-a8600dd72c43",
     "showTitle": false,
     "title": ""
    }
   },
   "outputs": [],
   "source": [
    "sample_1 = sample_1.withColumn('estado', col('geocode_result.geocoding.estado'))\n",
    "sample_1 = sample_1.withColumn('tipo_direccion', col('geocode_result.geocoding.tipo_direccion'))\n",
    "sample_1 = sample_1.withColumn('diraprox', col('geocode_result.geocoding.diraprox'))\n",
    "sample_1 = sample_1.withColumn('lat', col('geocode_result.geocoding.yinput'))\n",
    "sample_1 = sample_1.withColumn('lng', col('geocode_result.geocoding.xinput'))\n"
   ]
  },
  {
   "cell_type": "code",
   "execution_count": 0,
   "metadata": {
    "application/vnd.databricks.v1+cell": {
     "cellMetadata": {
      "byteLimit": 2048000,
      "rowLimit": 10000
     },
     "inputWidgets": {},
     "nuid": "2dbf8719-4bb4-4180-9ce8-782b302a7644",
     "showTitle": false,
     "title": ""
    }
   },
   "outputs": [
    {
     "output_type": "stream",
     "name": "stdout",
     "output_type": "stream",
     "text": [
      "+--------+-----+--------------------+\n|  estado|count|    normalized_count|\n+--------+-----+--------------------+\n| success|  148|  0.9866666666666667|\n|  failed|    1|0.006666666666666667|\n|error_ws|    1|0.006666666666666667|\n+--------+-----+--------------------+\n\n"
     ]
    }
   ],
   "source": [
    "# Calculate value counts and normalize\n",
    "value_counts = sample_1.groupBy('estado').count()\n",
    "total_count = sample_1.count()\n",
    "normalized_counts = value_counts.withColumn('normalized_count', col('count') / total_count)\n",
    "\n",
    "# Display the result\n",
    "normalized_counts.show()"
   ]
  },
  {
   "cell_type": "markdown",
   "metadata": {
    "application/vnd.databricks.v1+cell": {
     "cellMetadata": {},
     "inputWidgets": {},
     "nuid": "f113619c-1cf2-45b9-8ab3-4cda4c65e048",
     "showTitle": false,
     "title": ""
    }
   },
   "source": [
    "El 0.6% de la muestra aleatoria del primer dataframe (df_vivienda_usada_venta) no pudo ser georeferenciado por la existencia de detalles en la dirección utilizada como insumo."
   ]
  },
  {
   "cell_type": "code",
   "execution_count": 0,
   "metadata": {
    "application/vnd.databricks.v1+cell": {
     "cellMetadata": {
      "byteLimit": 2048000,
      "rowLimit": 10000
     },
     "inputWidgets": {},
     "nuid": "b76da359-0267-463f-8eea-15feadb98161",
     "showTitle": false,
     "title": ""
    }
   },
   "outputs": [],
   "source": [
    "sample_2 = df_vivienda_usada_arriendo_sp.sample(withReplacement=False, fraction=0.1, seed=1).limit(150)"
   ]
  },
  {
   "cell_type": "code",
   "execution_count": 0,
   "metadata": {
    "application/vnd.databricks.v1+cell": {
     "cellMetadata": {
      "byteLimit": 2048000,
      "rowLimit": 10000
     },
     "inputWidgets": {},
     "nuid": "3d6d1c38-de2a-4899-b509-b959715837f6",
     "showTitle": false,
     "title": ""
    }
   },
   "outputs": [],
   "source": [
    "sample_2 = sample_2.withColumn('geocode_result', struct(georeferenciar_udf(col(vivienda_usada_dir)).alias('geocoding')))"
   ]
  },
  {
   "cell_type": "code",
   "execution_count": 0,
   "metadata": {
    "application/vnd.databricks.v1+cell": {
     "cellMetadata": {
      "byteLimit": 2048000,
      "rowLimit": 10000
     },
     "inputWidgets": {},
     "nuid": "e121071d-b8d2-4048-b31c-7702fe656440",
     "showTitle": false,
     "title": ""
    }
   },
   "outputs": [],
   "source": [
    "sample_2 = sample_2.withColumn('estado', col('geocode_result.geocoding.estado'))\n",
    "sample_2 = sample_2.withColumn('tipo_direccion', col('geocode_result.geocoding.tipo_direccion'))\n",
    "sample_2 = sample_2.withColumn('diraprox', col('geocode_result.geocoding.diraprox'))\n",
    "sample_2 = sample_2.withColumn('lat', col('geocode_result.geocoding.yinput'))\n",
    "sample_2 = sample_2.withColumn('lng', col('geocode_result.geocoding.xinput'))\n"
   ]
  },
  {
   "cell_type": "code",
   "execution_count": 0,
   "metadata": {
    "application/vnd.databricks.v1+cell": {
     "cellMetadata": {
      "byteLimit": 2048000,
      "rowLimit": 10000
     },
     "inputWidgets": {},
     "nuid": "90be3601-dc1f-42c2-b921-686c126dde00",
     "showTitle": false,
     "title": ""
    }
   },
   "outputs": [
    {
     "output_type": "stream",
     "name": "stdout",
     "output_type": "stream",
     "text": [
      "+-------+-----+----------------+\n| estado|count|normalized_count|\n+-------+-----+----------------+\n|success|  150|             1.0|\n+-------+-----+----------------+\n\n"
     ]
    }
   ],
   "source": [
    "# Calculate value counts and normalize\n",
    "value_counts = sample_2.groupBy('estado').count()\n",
    "total_count = sample_2.count()\n",
    "normalized_counts = value_counts.withColumn('normalized_count', col('count') / total_count)\n",
    "\n",
    "# Display the result\n",
    "normalized_counts.show()"
   ]
  },
  {
   "cell_type": "markdown",
   "metadata": {
    "application/vnd.databricks.v1+cell": {
     "cellMetadata": {},
     "inputWidgets": {},
     "nuid": "0d52ea7c-7c19-4333-896c-ed26bbc28e97",
     "showTitle": false,
     "title": ""
    }
   },
   "source": [
    "El 100% de la muestra aleatoria del segundo dataframe (df_vivienda_usada_arriendo) se pudo georeferenciar."
   ]
  },
  {
   "cell_type": "code",
   "execution_count": 0,
   "metadata": {
    "application/vnd.databricks.v1+cell": {
     "cellMetadata": {
      "byteLimit": 2048000,
      "rowLimit": 10000
     },
     "inputWidgets": {},
     "nuid": "64e273ed-5628-47a4-900a-9bc0bb15b9d2",
     "showTitle": false,
     "title": ""
    }
   },
   "outputs": [],
   "source": [
    "sample_3 = df_comercio_base_proyecto_sp.sample(withReplacement=False, fraction=0.1, seed=1).limit(150)"
   ]
  },
  {
   "cell_type": "code",
   "execution_count": 0,
   "metadata": {
    "application/vnd.databricks.v1+cell": {
     "cellMetadata": {
      "byteLimit": 2048000,
      "rowLimit": 10000
     },
     "inputWidgets": {},
     "nuid": "8a84d8e1-d276-421d-89d4-071a44377355",
     "showTitle": false,
     "title": ""
    }
   },
   "outputs": [],
   "source": [
    "sample_3 = sample_3.withColumn('geocode_result', struct(georeferenciar_udf(col(comercio_dir)).alias('geocoding')))"
   ]
  },
  {
   "cell_type": "code",
   "execution_count": 0,
   "metadata": {
    "application/vnd.databricks.v1+cell": {
     "cellMetadata": {
      "byteLimit": 2048000,
      "rowLimit": 10000
     },
     "inputWidgets": {},
     "nuid": "e28dcf6d-3439-40b7-9bfb-d1c51660e09c",
     "showTitle": false,
     "title": ""
    }
   },
   "outputs": [],
   "source": [
    "sample_3 = sample_3.withColumn('estado', col('geocode_result.geocoding.estado'))\n",
    "sample_3 = sample_3.withColumn('tipo_direccion', col('geocode_result.geocoding.tipo_direccion'))\n",
    "sample_3 = sample_3.withColumn('diraprox', col('geocode_result.geocoding.diraprox'))\n",
    "sample_3 = sample_3.withColumn('lat', col('geocode_result.geocoding.yinput'))\n",
    "sample_3 = sample_3.withColumn('lng', col('geocode_result.geocoding.xinput'))"
   ]
  },
  {
   "cell_type": "code",
   "execution_count": 0,
   "metadata": {
    "application/vnd.databricks.v1+cell": {
     "cellMetadata": {
      "byteLimit": 2048000,
      "rowLimit": 10000
     },
     "inputWidgets": {},
     "nuid": "bcb30bff-75b3-4bb4-8cfb-0350f68bb5a1",
     "showTitle": false,
     "title": ""
    }
   },
   "outputs": [
    {
     "output_type": "stream",
     "name": "stdout",
     "output_type": "stream",
     "text": [
      "+--------------+-----+------------------+\n|        estado|count|  normalized_count|\n+--------------+-----+------------------+\n|       success|   72|0.6666666666666666|\n|        failed|   12|0.1111111111111111|\n|outside_bogota|   24|0.2222222222222222|\n+--------------+-----+------------------+\n\n"
     ]
    }
   ],
   "source": [
    "# Calculate value counts and normalize\n",
    "value_counts = sample_3.groupBy('estado').count()\n",
    "total_count = sample_3.count()\n",
    "normalized_counts = value_counts.withColumn('normalized_count', col('count') / total_count)\n",
    "\n",
    "# Display the result\n",
    "normalized_counts.show()"
   ]
  },
  {
   "cell_type": "code",
   "execution_count": 0,
   "metadata": {
    "application/vnd.databricks.v1+cell": {
     "cellMetadata": {
      "byteLimit": 2048000,
      "rowLimit": 10000
     },
     "inputWidgets": {},
     "nuid": "c94490b6-7b58-4dce-8e06-fbc801e7dd6c",
     "showTitle": false,
     "title": ""
    }
   },
   "outputs": [
    {
     "output_type": "display_data",
     "data": {
      "text/html": [
       "<div>\n",
       "<style scoped>\n",
       "    .dataframe tbody tr th:only-of-type {\n",
       "        vertical-align: middle;\n",
       "    }\n",
       "\n",
       "    .dataframe tbody tr th {\n",
       "        vertical-align: top;\n",
       "    }\n",
       "\n",
       "    .dataframe thead th {\n",
       "        text-align: right;\n",
       "    }\n",
       "</style>\n",
       "<table border=\"1\" class=\"dataframe\">\n",
       "  <thead>\n",
       "    <tr style=\"text-align: right;\">\n",
       "      <th></th>\n",
       "      <th>Dirección</th>\n",
       "    </tr>\n",
       "  </thead>\n",
       "  <tbody>\n",
       "    <tr>\n",
       "      <th>4</th>\n",
       "      <td>Cr. 101 Tr. Suba</td>\n",
       "    </tr>\n",
       "    <tr>\n",
       "      <th>8</th>\n",
       "      <td>Av. Cl. 80 # 66A-48</td>\n",
       "    </tr>\n",
       "    <tr>\n",
       "      <th>31</th>\n",
       "      <td>Cr. 85D # 51-65</td>\n",
       "    </tr>\n",
       "    <tr>\n",
       "      <th>34</th>\n",
       "      <td>Tr. 30 # 124-91</td>\n",
       "    </tr>\n",
       "    <tr>\n",
       "      <th>37</th>\n",
       "      <td>Av. 68 # 98-34</td>\n",
       "    </tr>\n",
       "    <tr>\n",
       "      <th>40</th>\n",
       "      <td>Av. Parque con cra 59</td>\n",
       "    </tr>\n",
       "    <tr>\n",
       "      <th>41</th>\n",
       "      <td>Av. Ciudad Cali con Esperanza</td>\n",
       "    </tr>\n",
       "    <tr>\n",
       "      <th>48</th>\n",
       "      <td>Av. Santa Fé Cl. 50 Sur</td>\n",
       "    </tr>\n",
       "    <tr>\n",
       "      <th>50</th>\n",
       "      <td>Av. Santa fé Cl. 53 F Sur Bosa</td>\n",
       "    </tr>\n",
       "    <tr>\n",
       "      <th>64</th>\n",
       "      <td>Av. Suba con Av. C. de Cali</td>\n",
       "    </tr>\n",
       "    <tr>\n",
       "      <th>65</th>\n",
       "      <td>Mazurén</td>\n",
       "    </tr>\n",
       "    <tr>\n",
       "      <th>71</th>\n",
       "      <td>Entre la Av. De las Américas y Calle 13 con Cr...</td>\n",
       "    </tr>\n",
       "  </tbody>\n",
       "</table>\n",
       "</div>"
      ]
     },
     "metadata": {
      "application/vnd.databricks.v1+output": {
       "addedWidgets": {},
       "arguments": {},
       "data": "<div>\n<style scoped>\n    .dataframe tbody tr th:only-of-type {\n        vertical-align: middle;\n    }\n\n    .dataframe tbody tr th {\n        vertical-align: top;\n    }\n\n    .dataframe thead th {\n        text-align: right;\n    }\n</style>\n<table border=\"1\" class=\"dataframe\">\n  <thead>\n    <tr style=\"text-align: right;\">\n      <th></th>\n      <th>Dirección</th>\n    </tr>\n  </thead>\n  <tbody>\n    <tr>\n      <th>4</th>\n      <td>Cr. 101 Tr. Suba</td>\n    </tr>\n    <tr>\n      <th>8</th>\n      <td>Av. Cl. 80 # 66A-48</td>\n    </tr>\n    <tr>\n      <th>31</th>\n      <td>Cr. 85D # 51-65</td>\n    </tr>\n    <tr>\n      <th>34</th>\n      <td>Tr. 30 # 124-91</td>\n    </tr>\n    <tr>\n      <th>37</th>\n      <td>Av. 68 # 98-34</td>\n    </tr>\n    <tr>\n      <th>40</th>\n      <td>Av. Parque con cra 59</td>\n    </tr>\n    <tr>\n      <th>41</th>\n      <td>Av. Ciudad Cali con Esperanza</td>\n    </tr>\n    <tr>\n      <th>48</th>\n      <td>Av. Santa Fé Cl. 50 Sur</td>\n    </tr>\n    <tr>\n      <th>50</th>\n      <td>Av. Santa fé Cl. 53 F Sur Bosa</td>\n    </tr>\n    <tr>\n      <th>64</th>\n      <td>Av. Suba con Av. C. de Cali</td>\n    </tr>\n    <tr>\n      <th>65</th>\n      <td>Mazurén</td>\n    </tr>\n    <tr>\n      <th>71</th>\n      <td>Entre la Av. De las Américas y Calle 13 con Cr...</td>\n    </tr>\n  </tbody>\n</table>\n</div>",
       "datasetInfos": [],
       "metadata": {},
       "removedWidgets": [],
       "textData": null,
       "type": "htmlSandbox"
      }
     },
     "output_type": "display_data"
    }
   ],
   "source": [
    "temp_data = sample_3.select(comercio_dir, 'estado').toPandas()\n",
    "temp_data = pd.DataFrame(temp_data[temp_data['estado']=='failed'][comercio_dir])\n",
    "temp_data"
   ]
  },
  {
   "cell_type": "markdown",
   "metadata": {
    "application/vnd.databricks.v1+cell": {
     "cellMetadata": {},
     "inputWidgets": {},
     "nuid": "3e0cec74-535d-4ce4-9b91-601d4799fa07",
     "showTitle": false,
     "title": ""
    }
   },
   "source": [
    "El 11% de la muestra aleatoria del tercer dataframe (df_comercio_base_proyecto)  no pudo ser georeferenciada por las siguientes razones:\n",
    "* Nombres de vías que no son aceptados por el API\n",
    "* Detalles de texto en la dirección\n",
    "* Referencia a lugares especificos (no direcciones)\n",
    "\n",
    "Hay un 22% adicional que hace referencia a direcciones fuera de Bogotá (en otras ciudades o en vías nacionales)"
   ]
  },
  {
   "cell_type": "code",
   "execution_count": 0,
   "metadata": {
    "application/vnd.databricks.v1+cell": {
     "cellMetadata": {
      "byteLimit": 2048000,
      "rowLimit": 10000
     },
     "inputWidgets": {},
     "nuid": "6cd52fe6-d659-4e79-a2aa-1cba4473faa8",
     "showTitle": false,
     "title": ""
    }
   },
   "outputs": [],
   "source": [
    "sample_4 = df_comercio_base_inmuebles_sp.sample(withReplacement=False, fraction=0.1, seed=1).limit(150)"
   ]
  },
  {
   "cell_type": "code",
   "execution_count": 0,
   "metadata": {
    "application/vnd.databricks.v1+cell": {
     "cellMetadata": {
      "byteLimit": 2048000,
      "rowLimit": 10000
     },
     "inputWidgets": {},
     "nuid": "b717c1ce-1f8a-4210-8fb4-243b6bffceaa",
     "showTitle": false,
     "title": ""
    }
   },
   "outputs": [],
   "source": [
    "sample_4 = sample_4.withColumn('geocode_result', struct(georeferenciar_udf(col(comercio_dir)).alias('geocoding')))"
   ]
  },
  {
   "cell_type": "code",
   "execution_count": 0,
   "metadata": {
    "application/vnd.databricks.v1+cell": {
     "cellMetadata": {
      "byteLimit": 2048000,
      "rowLimit": 10000
     },
     "inputWidgets": {},
     "nuid": "231766c6-fc06-4ed6-9e12-d358f2feb677",
     "showTitle": false,
     "title": ""
    }
   },
   "outputs": [],
   "source": [
    "sample_4 = sample_4.withColumn('estado', col('geocode_result.geocoding.estado'))\n",
    "sample_4 = sample_4.withColumn('tipo_direccion', col('geocode_result.geocoding.tipo_direccion'))\n",
    "sample_4 = sample_4.withColumn('diraprox', col('geocode_result.geocoding.diraprox'))\n",
    "sample_4 = sample_4.withColumn('lat', col('geocode_result.geocoding.yinput'))\n",
    "sample_4 = sample_4.withColumn('lng', col('geocode_result.geocoding.xinput'))"
   ]
  },
  {
   "cell_type": "code",
   "execution_count": 0,
   "metadata": {
    "application/vnd.databricks.v1+cell": {
     "cellMetadata": {
      "byteLimit": 2048000,
      "rowLimit": 10000
     },
     "inputWidgets": {},
     "nuid": "4cac5572-b780-48e2-977a-966088774f29",
     "showTitle": false,
     "title": ""
    }
   },
   "outputs": [
    {
     "output_type": "stream",
     "name": "stdout",
     "output_type": "stream",
     "text": [
      "+--------------+-----+-------------------+\n|        estado|count|   normalized_count|\n+--------------+-----+-------------------+\n|       success|  104| 0.6933333333333334|\n|outside_bogota|   38|0.25333333333333335|\n|        failed|    8|0.05333333333333334|\n+--------------+-----+-------------------+\n\n"
     ]
    }
   ],
   "source": [
    "# Calculate value counts and normalize\n",
    "value_counts = sample_4.groupBy('estado').count()\n",
    "total_count = sample_4.count()\n",
    "normalized_counts = value_counts.withColumn('normalized_count', col('count') / total_count)\n",
    "\n",
    "# Display the result\n",
    "normalized_counts.show()"
   ]
  },
  {
   "cell_type": "code",
   "execution_count": 0,
   "metadata": {
    "application/vnd.databricks.v1+cell": {
     "cellMetadata": {
      "byteLimit": 2048000,
      "rowLimit": 10000
     },
     "inputWidgets": {},
     "nuid": "3cbce20e-280a-404f-aecc-d331a780f214",
     "showTitle": false,
     "title": ""
    }
   },
   "outputs": [
    {
     "output_type": "display_data",
     "data": {
      "text/html": [
       "<div>\n",
       "<style scoped>\n",
       "    .dataframe tbody tr th:only-of-type {\n",
       "        vertical-align: middle;\n",
       "    }\n",
       "\n",
       "    .dataframe tbody tr th {\n",
       "        vertical-align: top;\n",
       "    }\n",
       "\n",
       "    .dataframe thead th {\n",
       "        text-align: right;\n",
       "    }\n",
       "</style>\n",
       "<table border=\"1\" class=\"dataframe\">\n",
       "  <thead>\n",
       "    <tr style=\"text-align: right;\">\n",
       "      <th></th>\n",
       "      <th>Dirección</th>\n",
       "    </tr>\n",
       "  </thead>\n",
       "  <tbody>\n",
       "    <tr>\n",
       "      <th>24</th>\n",
       "      <td>Av. Cl. 80 # 66A-48</td>\n",
       "    </tr>\n",
       "    <tr>\n",
       "      <th>25</th>\n",
       "      <td>Av. Cl. 80 # 66A-48</td>\n",
       "    </tr>\n",
       "    <tr>\n",
       "      <th>26</th>\n",
       "      <td>Av. Cl. 80 # 66A-48</td>\n",
       "    </tr>\n",
       "    <tr>\n",
       "      <th>62</th>\n",
       "      <td>Dg. 76 # 23H-96F</td>\n",
       "    </tr>\n",
       "    <tr>\n",
       "      <th>66</th>\n",
       "      <td>A 900 mts de Aut. Medellín</td>\n",
       "    </tr>\n",
       "    <tr>\n",
       "      <th>67</th>\n",
       "      <td>A 900 mts de Aut. Medellín</td>\n",
       "    </tr>\n",
       "    <tr>\n",
       "      <th>68</th>\n",
       "      <td>A 900 mts de Aut. Medellín</td>\n",
       "    </tr>\n",
       "    <tr>\n",
       "      <th>69</th>\n",
       "      <td>A 900 mts de Aut. Medellín</td>\n",
       "    </tr>\n",
       "  </tbody>\n",
       "</table>\n",
       "</div>"
      ]
     },
     "metadata": {
      "application/vnd.databricks.v1+output": {
       "addedWidgets": {},
       "arguments": {},
       "data": "<div>\n<style scoped>\n    .dataframe tbody tr th:only-of-type {\n        vertical-align: middle;\n    }\n\n    .dataframe tbody tr th {\n        vertical-align: top;\n    }\n\n    .dataframe thead th {\n        text-align: right;\n    }\n</style>\n<table border=\"1\" class=\"dataframe\">\n  <thead>\n    <tr style=\"text-align: right;\">\n      <th></th>\n      <th>Dirección</th>\n    </tr>\n  </thead>\n  <tbody>\n    <tr>\n      <th>24</th>\n      <td>Av. Cl. 80 # 66A-48</td>\n    </tr>\n    <tr>\n      <th>25</th>\n      <td>Av. Cl. 80 # 66A-48</td>\n    </tr>\n    <tr>\n      <th>26</th>\n      <td>Av. Cl. 80 # 66A-48</td>\n    </tr>\n    <tr>\n      <th>62</th>\n      <td>Dg. 76 # 23H-96F</td>\n    </tr>\n    <tr>\n      <th>66</th>\n      <td>A 900 mts de Aut. Medellín</td>\n    </tr>\n    <tr>\n      <th>67</th>\n      <td>A 900 mts de Aut. Medellín</td>\n    </tr>\n    <tr>\n      <th>68</th>\n      <td>A 900 mts de Aut. Medellín</td>\n    </tr>\n    <tr>\n      <th>69</th>\n      <td>A 900 mts de Aut. Medellín</td>\n    </tr>\n  </tbody>\n</table>\n</div>",
       "datasetInfos": [],
       "metadata": {},
       "removedWidgets": [],
       "textData": null,
       "type": "htmlSandbox"
      }
     },
     "output_type": "display_data"
    }
   ],
   "source": [
    "temp_data = sample_4.select(comercio_dir, 'estado').toPandas()\n",
    "temp_data = pd.DataFrame(temp_data[temp_data['estado']=='failed'][comercio_dir])\n",
    "temp_data"
   ]
  },
  {
   "cell_type": "markdown",
   "metadata": {
    "application/vnd.databricks.v1+cell": {
     "cellMetadata": {
      "byteLimit": 2048000,
      "rowLimit": 10000
     },
     "inputWidgets": {},
     "nuid": "d3d457da-08ff-4204-8f3f-6e461f54d1d8",
     "showTitle": false,
     "title": ""
    }
   },
   "source": [
    "El 5% de la muestra aleatoria del cuarto dataframe (df_comercio_base_inmuebles) no pudo ser georeferenciada por las siguientes razones:\n",
    "\n",
    "* Nombres de vías que no son aceptados por el API\n",
    "* Detalles de texto en la dirección\n",
    "* Referencia a lugares especificos (no direcciones)\n",
    "\n",
    "Hay un 38% adicional que hace referencia a direcciones fuera de Bogotá (en otras ciudades o en vías nacionales)"
   ]
  },
  {
   "cell_type": "code",
   "execution_count": 0,
   "metadata": {
    "application/vnd.databricks.v1+cell": {
     "cellMetadata": {
      "byteLimit": 2048000,
      "rowLimit": 10000
     },
     "inputWidgets": {},
     "nuid": "471a1dc6-d089-44ed-92da-46ac9422194b",
     "showTitle": false,
     "title": ""
    }
   },
   "outputs": [],
   "source": [
    "sample_5 = df_comercio_base_historia_sp.sample(withReplacement=False, fraction=0.1, seed=1).limit(150)"
   ]
  },
  {
   "cell_type": "code",
   "execution_count": 0,
   "metadata": {
    "application/vnd.databricks.v1+cell": {
     "cellMetadata": {
      "byteLimit": 2048000,
      "rowLimit": 10000
     },
     "inputWidgets": {},
     "nuid": "7cfdace7-f0e3-454f-9b2b-7ea9784d0a33",
     "showTitle": false,
     "title": ""
    }
   },
   "outputs": [],
   "source": [
    "sample_5 = sample_5.withColumn('geocode_result', struct(georeferenciar_udf(col(comercio_dir)).alias('geocoding')))"
   ]
  },
  {
   "cell_type": "code",
   "execution_count": 0,
   "metadata": {
    "application/vnd.databricks.v1+cell": {
     "cellMetadata": {
      "byteLimit": 2048000,
      "rowLimit": 10000
     },
     "inputWidgets": {},
     "nuid": "73c81e4e-e41c-40b9-a910-bcc30bdcaaef",
     "showTitle": false,
     "title": ""
    }
   },
   "outputs": [],
   "source": [
    "sample_5 = sample_5.withColumn('estado', col('geocode_result.geocoding.estado'))\n",
    "sample_5 = sample_5.withColumn('tipo_direccion', col('geocode_result.geocoding.tipo_direccion'))\n",
    "sample_5 = sample_5.withColumn('diraprox', col('geocode_result.geocoding.diraprox'))\n",
    "sample_5 = sample_5.withColumn('lat', col('geocode_result.geocoding.yinput'))\n",
    "sample_5 = sample_5.withColumn('lng', col('geocode_result.geocoding.xinput'))"
   ]
  },
  {
   "cell_type": "code",
   "execution_count": 0,
   "metadata": {
    "application/vnd.databricks.v1+cell": {
     "cellMetadata": {
      "byteLimit": 2048000,
      "rowLimit": 10000
     },
     "inputWidgets": {},
     "nuid": "6bde2dfa-a9ab-4263-b15e-e94ebfbed91e",
     "showTitle": false,
     "title": ""
    }
   },
   "outputs": [
    {
     "output_type": "stream",
     "name": "stdout",
     "output_type": "stream",
     "text": [
      "+--------------+-----+------------------+\n|        estado|count|  normalized_count|\n+--------------+-----+------------------+\n|       success|   64|0.5925925925925926|\n|        failed|   17|0.1574074074074074|\n|outside_bogota|   27|              0.25|\n+--------------+-----+------------------+\n\n"
     ]
    }
   ],
   "source": [
    "# Calculate value counts and normalize\n",
    "value_counts = sample_5.groupBy('estado').count()\n",
    "total_count = sample_5.count()\n",
    "normalized_counts = value_counts.withColumn('normalized_count', col('count') / total_count)\n",
    "\n",
    "# Display the result\n",
    "normalized_counts.show()"
   ]
  },
  {
   "cell_type": "code",
   "execution_count": 0,
   "metadata": {
    "application/vnd.databricks.v1+cell": {
     "cellMetadata": {
      "byteLimit": 2048000,
      "rowLimit": 10000
     },
     "inputWidgets": {},
     "nuid": "f091ef92-1b91-4fcf-b339-4d15d297f0d3",
     "showTitle": false,
     "title": ""
    }
   },
   "outputs": [
    {
     "output_type": "display_data",
     "data": {
      "text/html": [
       "<div>\n",
       "<style scoped>\n",
       "    .dataframe tbody tr th:only-of-type {\n",
       "        vertical-align: middle;\n",
       "    }\n",
       "\n",
       "    .dataframe tbody tr th {\n",
       "        vertical-align: top;\n",
       "    }\n",
       "\n",
       "    .dataframe thead th {\n",
       "        text-align: right;\n",
       "    }\n",
       "</style>\n",
       "<table border=\"1\" class=\"dataframe\">\n",
       "  <thead>\n",
       "    <tr style=\"text-align: right;\">\n",
       "      <th></th>\n",
       "      <th>Dirección</th>\n",
       "    </tr>\n",
       "  </thead>\n",
       "  <tbody>\n",
       "    <tr>\n",
       "      <th>1</th>\n",
       "      <td>Cr. 7 # 39-21</td>\n",
       "    </tr>\n",
       "    <tr>\n",
       "      <th>3</th>\n",
       "      <td>Av. Pradilla 2 Este-71</td>\n",
       "    </tr>\n",
       "    <tr>\n",
       "      <th>16</th>\n",
       "      <td>A 900 mts de Aut. Medellín</td>\n",
       "    </tr>\n",
       "    <tr>\n",
       "      <th>27</th>\n",
       "      <td>A 900 mts de Aut. Medellín</td>\n",
       "    </tr>\n",
       "    <tr>\n",
       "      <th>32</th>\n",
       "      <td>Cr. 85D # 51-65</td>\n",
       "    </tr>\n",
       "    <tr>\n",
       "      <th>41</th>\n",
       "      <td>Variante Chia-Cota frente a Parmalat</td>\n",
       "    </tr>\n",
       "    <tr>\n",
       "      <th>42</th>\n",
       "      <td>Av. Esperanza # 62-49</td>\n",
       "    </tr>\n",
       "    <tr>\n",
       "      <th>43</th>\n",
       "      <td>Cra 63 # 57G-46 Sur</td>\n",
       "    </tr>\n",
       "    <tr>\n",
       "      <th>48</th>\n",
       "      <td>Entrada Jaime Duque Entrada Ind.Crown</td>\n",
       "    </tr>\n",
       "    <tr>\n",
       "      <th>53</th>\n",
       "      <td>Av. 26 Al lado Puente áereo</td>\n",
       "    </tr>\n",
       "    <tr>\n",
       "      <th>54</th>\n",
       "      <td>Autop. Chia-Cajicá Costado Occidental</td>\n",
       "    </tr>\n",
       "    <tr>\n",
       "      <th>60</th>\n",
       "      <td>Ciudad Verde</td>\n",
       "    </tr>\n",
       "    <tr>\n",
       "      <th>67</th>\n",
       "      <td>Mazurén</td>\n",
       "    </tr>\n",
       "    <tr>\n",
       "      <th>71</th>\n",
       "      <td>Entre la Av. De las Américas y Calle 13 con Cr...</td>\n",
       "    </tr>\n",
       "    <tr>\n",
       "      <th>72</th>\n",
       "      <td>Entre la Av. De las Américas y Calle 13 con Cr...</td>\n",
       "    </tr>\n",
       "    <tr>\n",
       "      <th>73</th>\n",
       "      <td>C.C. Bima Autop. Norte Costado Occidental</td>\n",
       "    </tr>\n",
       "    <tr>\n",
       "      <th>93</th>\n",
       "      <td>Autopista Norte. Cra 7, Costado Oriental</td>\n",
       "    </tr>\n",
       "  </tbody>\n",
       "</table>\n",
       "</div>"
      ]
     },
     "metadata": {
      "application/vnd.databricks.v1+output": {
       "addedWidgets": {},
       "arguments": {},
       "data": "<div>\n<style scoped>\n    .dataframe tbody tr th:only-of-type {\n        vertical-align: middle;\n    }\n\n    .dataframe tbody tr th {\n        vertical-align: top;\n    }\n\n    .dataframe thead th {\n        text-align: right;\n    }\n</style>\n<table border=\"1\" class=\"dataframe\">\n  <thead>\n    <tr style=\"text-align: right;\">\n      <th></th>\n      <th>Dirección</th>\n    </tr>\n  </thead>\n  <tbody>\n    <tr>\n      <th>1</th>\n      <td>Cr. 7 # 39-21</td>\n    </tr>\n    <tr>\n      <th>3</th>\n      <td>Av. Pradilla 2 Este-71</td>\n    </tr>\n    <tr>\n      <th>16</th>\n      <td>A 900 mts de Aut. Medellín</td>\n    </tr>\n    <tr>\n      <th>27</th>\n      <td>A 900 mts de Aut. Medellín</td>\n    </tr>\n    <tr>\n      <th>32</th>\n      <td>Cr. 85D # 51-65</td>\n    </tr>\n    <tr>\n      <th>41</th>\n      <td>Variante Chia-Cota frente a Parmalat</td>\n    </tr>\n    <tr>\n      <th>42</th>\n      <td>Av. Esperanza # 62-49</td>\n    </tr>\n    <tr>\n      <th>43</th>\n      <td>Cra 63 # 57G-46 Sur</td>\n    </tr>\n    <tr>\n      <th>48</th>\n      <td>Entrada Jaime Duque Entrada Ind.Crown</td>\n    </tr>\n    <tr>\n      <th>53</th>\n      <td>Av. 26 Al lado Puente áereo</td>\n    </tr>\n    <tr>\n      <th>54</th>\n      <td>Autop. Chia-Cajicá Costado Occidental</td>\n    </tr>\n    <tr>\n      <th>60</th>\n      <td>Ciudad Verde</td>\n    </tr>\n    <tr>\n      <th>67</th>\n      <td>Mazurén</td>\n    </tr>\n    <tr>\n      <th>71</th>\n      <td>Entre la Av. De las Américas y Calle 13 con Cr...</td>\n    </tr>\n    <tr>\n      <th>72</th>\n      <td>Entre la Av. De las Américas y Calle 13 con Cr...</td>\n    </tr>\n    <tr>\n      <th>73</th>\n      <td>C.C. Bima Autop. Norte Costado Occidental</td>\n    </tr>\n    <tr>\n      <th>93</th>\n      <td>Autopista Norte. Cra 7, Costado Oriental</td>\n    </tr>\n  </tbody>\n</table>\n</div>",
       "datasetInfos": [],
       "metadata": {},
       "removedWidgets": [],
       "textData": null,
       "type": "htmlSandbox"
      }
     },
     "output_type": "display_data"
    }
   ],
   "source": [
    "temp_data = sample_5.select(comercio_dir, 'estado').toPandas()\n",
    "temp_data = pd.DataFrame(temp_data[temp_data['estado']=='failed'][comercio_dir])\n",
    "temp_data"
   ]
  },
  {
   "cell_type": "markdown",
   "metadata": {
    "application/vnd.databricks.v1+cell": {
     "cellMetadata": {
      "byteLimit": 2048000,
      "rowLimit": 10000
     },
     "inputWidgets": {},
     "nuid": "5fa7d29f-9872-40fc-bb8e-0ea20f609d2e",
     "showTitle": false,
     "title": ""
    }
   },
   "source": [
    "El 15% de la muestra aleatoria del quinto dataframe (df_comercio_base_historia) no pudo ser georeferenciada por las siguientes razones:\n",
    "\n",
    "* Nombres de vías que no son aceptados por el API\n",
    "* Detalles de texto en la dirección\n",
    "* Referencia a lugares especificos (no direcciones)\n",
    "\n",
    "Hay un 27% adicional que hace referencia a direcciones fuera de Bogotá (en otras ciudades o en vías nacionales)"
   ]
  },
  {
   "cell_type": "code",
   "execution_count": 0,
   "metadata": {
    "application/vnd.databricks.v1+cell": {
     "cellMetadata": {
      "byteLimit": 2048000,
      "rowLimit": 10000
     },
     "inputWidgets": {},
     "nuid": "a95c1772-bcff-4c5f-9bef-8006a981f583",
     "showTitle": false,
     "title": ""
    },
    "scrolled": true
   },
   "outputs": [],
   "source": [
    "sample_6 = df_def_base_proyecto_sp.sample(withReplacement=False, fraction=0.1, seed=1).limit(150)"
   ]
  },
  {
   "cell_type": "code",
   "execution_count": 0,
   "metadata": {
    "application/vnd.databricks.v1+cell": {
     "cellMetadata": {
      "byteLimit": 2048000,
      "rowLimit": 10000
     },
     "inputWidgets": {},
     "nuid": "d6c1558c-2abe-4907-b784-a10b6c6b9b2c",
     "showTitle": false,
     "title": ""
    }
   },
   "outputs": [],
   "source": [
    "sample_6 = sample_6.withColumn('geocode_result', struct(georeferenciar_udf(col(def_dir)).alias('geocoding')))"
   ]
  },
  {
   "cell_type": "code",
   "execution_count": 0,
   "metadata": {
    "application/vnd.databricks.v1+cell": {
     "cellMetadata": {
      "byteLimit": 2048000,
      "rowLimit": 10000
     },
     "inputWidgets": {},
     "nuid": "25d727c3-4d0b-4dd8-b63e-a0dc6c66bb9d",
     "showTitle": false,
     "title": ""
    }
   },
   "outputs": [],
   "source": [
    "sample_6 = sample_6.withColumn('estado', col('geocode_result.geocoding.estado'))\n",
    "sample_6 = sample_6.withColumn('tipo_direccion', col('geocode_result.geocoding.tipo_direccion'))\n",
    "sample_6 = sample_6.withColumn('diraprox', col('geocode_result.geocoding.diraprox'))\n",
    "sample_6 = sample_6.withColumn('lat', col('geocode_result.geocoding.yinput'))\n",
    "sample_6 = sample_6.withColumn('lng', col('geocode_result.geocoding.xinput'))\n",
    "\n",
    "sample_6 = sample_6.withColumn(\"real_geom\",create_point_udf(col(\"Longitud\").cast(DoubleType()), col(\"Latitud (Coordenada Real)\").cast(DoubleType()))\n",
    ")\n",
    "\n",
    "sample_6 = sample_6.withColumn(\"geocoded_geom\",create_point_udf(col(\"lng\").cast(DoubleType()), col(\"lat\").cast(DoubleType()))\n",
    ")\n",
    "\n",
    "sample_6 = sample_6.withColumn(\"distance\",distance_udf(col(\"real_geom\"), col(\"geocoded_geom\")))"
   ]
  },
  {
   "cell_type": "code",
   "execution_count": 0,
   "metadata": {
    "application/vnd.databricks.v1+cell": {
     "cellMetadata": {
      "byteLimit": 2048000,
      "rowLimit": 10000
     },
     "inputWidgets": {},
     "nuid": "ee562225-fa49-4e13-8b52-96a37c043f92",
     "showTitle": false,
     "title": ""
    }
   },
   "outputs": [
    {
     "output_type": "stream",
     "name": "stdout",
     "output_type": "stream",
     "text": [
      "+--------------+-----+----------------+\n|        estado|count|normalized_count|\n+--------------+-----+----------------+\n|       success|  138|            0.92|\n|outside_bogota|    3|            0.02|\n|        failed|    9|            0.06|\n+--------------+-----+----------------+\n\n"
     ]
    }
   ],
   "source": [
    "# Calculate value counts and normalize\n",
    "value_counts = sample_6.groupBy('estado').count()\n",
    "total_count = sample_6.count()\n",
    "normalized_counts = value_counts.withColumn('normalized_count', col('count') / total_count)\n",
    "\n",
    "# Display the result\n",
    "normalized_counts.show()"
   ]
  },
  {
   "cell_type": "code",
   "execution_count": 0,
   "metadata": {
    "application/vnd.databricks.v1+cell": {
     "cellMetadata": {
      "byteLimit": 2048000,
      "rowLimit": 10000
     },
     "inputWidgets": {},
     "nuid": "f409a313-6711-45e7-889f-22309849ccce",
     "showTitle": false,
     "title": ""
    }
   },
   "outputs": [
    {
     "output_type": "display_data",
     "data": {
      "text/html": [
       "<div>\n",
       "<style scoped>\n",
       "    .dataframe tbody tr th:only-of-type {\n",
       "        vertical-align: middle;\n",
       "    }\n",
       "\n",
       "    .dataframe tbody tr th {\n",
       "        vertical-align: top;\n",
       "    }\n",
       "\n",
       "    .dataframe thead th {\n",
       "        text-align: right;\n",
       "    }\n",
       "</style>\n",
       "<table border=\"1\" class=\"dataframe\">\n",
       "  <thead>\n",
       "    <tr style=\"text-align: right;\">\n",
       "      <th></th>\n",
       "      <th>Dirección</th>\n",
       "    </tr>\n",
       "  </thead>\n",
       "  <tbody>\n",
       "    <tr>\n",
       "      <th>10</th>\n",
       "      <td>Av. 127 Con Cr. 53</td>\n",
       "    </tr>\n",
       "    <tr>\n",
       "      <th>12</th>\n",
       "      <td>Cl. 134 # 8-32</td>\n",
       "    </tr>\n",
       "    <tr>\n",
       "      <th>43</th>\n",
       "      <td>Cl. 71 # 3-09</td>\n",
       "    </tr>\n",
       "    <tr>\n",
       "      <th>58</th>\n",
       "      <td>Cl. 75 # 6-62</td>\n",
       "    </tr>\n",
       "    <tr>\n",
       "      <th>72</th>\n",
       "      <td>Cl. 105 # 19 A 86</td>\n",
       "    </tr>\n",
       "    <tr>\n",
       "      <th>75</th>\n",
       "      <td>Av. 19 # 127B bis- 53</td>\n",
       "    </tr>\n",
       "    <tr>\n",
       "      <th>120</th>\n",
       "      <td>Cl. 128 # 7E- 40</td>\n",
       "    </tr>\n",
       "    <tr>\n",
       "      <th>146</th>\n",
       "      <td>Cl. 151 # 26-50</td>\n",
       "    </tr>\n",
       "    <tr>\n",
       "      <th>149</th>\n",
       "      <td>Vda. Canelón Stor. Rio Frio-Cajicá</td>\n",
       "    </tr>\n",
       "  </tbody>\n",
       "</table>\n",
       "</div>"
      ]
     },
     "metadata": {
      "application/vnd.databricks.v1+output": {
       "addedWidgets": {},
       "arguments": {},
       "data": "<div>\n<style scoped>\n    .dataframe tbody tr th:only-of-type {\n        vertical-align: middle;\n    }\n\n    .dataframe tbody tr th {\n        vertical-align: top;\n    }\n\n    .dataframe thead th {\n        text-align: right;\n    }\n</style>\n<table border=\"1\" class=\"dataframe\">\n  <thead>\n    <tr style=\"text-align: right;\">\n      <th></th>\n      <th>Dirección</th>\n    </tr>\n  </thead>\n  <tbody>\n    <tr>\n      <th>10</th>\n      <td>Av. 127 Con Cr. 53</td>\n    </tr>\n    <tr>\n      <th>12</th>\n      <td>Cl. 134 # 8-32</td>\n    </tr>\n    <tr>\n      <th>43</th>\n      <td>Cl. 71 # 3-09</td>\n    </tr>\n    <tr>\n      <th>58</th>\n      <td>Cl. 75 # 6-62</td>\n    </tr>\n    <tr>\n      <th>72</th>\n      <td>Cl. 105 # 19 A 86</td>\n    </tr>\n    <tr>\n      <th>75</th>\n      <td>Av. 19 # 127B bis- 53</td>\n    </tr>\n    <tr>\n      <th>120</th>\n      <td>Cl. 128 # 7E- 40</td>\n    </tr>\n    <tr>\n      <th>146</th>\n      <td>Cl. 151 # 26-50</td>\n    </tr>\n    <tr>\n      <th>149</th>\n      <td>Vda. Canelón Stor. Rio Frio-Cajicá</td>\n    </tr>\n  </tbody>\n</table>\n</div>",
       "datasetInfos": [],
       "metadata": {},
       "removedWidgets": [],
       "textData": null,
       "type": "htmlSandbox"
      }
     },
     "output_type": "display_data"
    }
   ],
   "source": [
    "temp_data = sample_6.select(def_dir, 'estado').toPandas()\n",
    "temp_data = pd.DataFrame(temp_data[temp_data['estado']=='failed'][def_dir])\n",
    "temp_data"
   ]
  },
  {
   "cell_type": "code",
   "execution_count": 0,
   "metadata": {
    "application/vnd.databricks.v1+cell": {
     "cellMetadata": {
      "byteLimit": 2048000,
      "rowLimit": 10000
     },
     "inputWidgets": {},
     "nuid": "d7252f66-f834-4978-b6d6-c9f4f3873274",
     "showTitle": false,
     "title": ""
    }
   },
   "outputs": [
    {
     "output_type": "display_data",
     "data": {
      "text/html": [
       "<style scoped>\n",
       "  .ansiout {\n",
       "    display: block;\n",
       "    unicode-bidi: embed;\n",
       "    white-space: pre-wrap;\n",
       "    word-wrap: break-word;\n",
       "    word-break: break-all;\n",
       "    font-family: \"Source Code Pro\", \"Menlo\", monospace;;\n",
       "    font-size: 13px;\n",
       "    color: #555;\n",
       "    margin-left: 4px;\n",
       "    line-height: 19px;\n",
       "  }\n",
       "</style>"
      ]
     },
     "metadata": {
      "application/vnd.databricks.v1+output": {
       "arguments": {},
       "data": "",
       "errorSummary": "Cancelled",
       "errorTraceType": "html",
       "metadata": {},
       "type": "ipynbError"
      }
     },
     "output_type": "display_data"
    }
   ],
   "source": [
    "sorted_distances = sample_6.filter(sample_6.estado == 'success').orderBy(col(\"distance\").desc())\n",
    "sorted_distances.select(\"distance\").toPandas().plot.bar(figsize=(30,5))"
   ]
  },
  {
   "cell_type": "markdown",
   "metadata": {
    "application/vnd.databricks.v1+cell": {
     "cellMetadata": {
      "byteLimit": 2048000,
      "rowLimit": 10000
     },
     "inputWidgets": {},
     "nuid": "ae78de1e-9c4f-47a8-b2ee-d399602c3080",
     "showTitle": false,
     "title": ""
    }
   },
   "source": [
    "El 6% de la muestra aleatoria del sexto dataframe (df_def_base_proyecto) no pudo ser georeferenciada por las siguientes razones:\n",
    "\n",
    "* Nombres de vías que no son aceptados por el API\n",
    "* Detalles de texto en la dirección\n",
    "* Referencia a lugares especificos (no direcciones)\n",
    "\n",
    "Hay un 2% adicional que hace referencia a direcciones fuera de Bogotá (en otras ciudades o en vías nacionales)\n",
    "\n",
    "Adicionalmente, en este dataframe se contaba con coordenadas reales de referencia. En la revisión de los datos, el geocodificador muestra una alta presición. El 19% de los casos se ubicaron a mas de 100 metros de la coordenada original."
   ]
  },
  {
   "cell_type": "markdown",
   "metadata": {
    "application/vnd.databricks.v1+cell": {
     "cellMetadata": {
      "byteLimit": 2048000,
      "rowLimit": 10000
     },
     "inputWidgets": {},
     "nuid": "8f1f996a-cd24-4beb-919f-58fc8f0f2f33",
     "showTitle": false,
     "title": ""
    }
   },
   "source": [
    "## Procesamiento"
   ]
  },
  {
   "cell_type": "code",
   "execution_count": 0,
   "metadata": {
    "application/vnd.databricks.v1+cell": {
     "cellMetadata": {
      "byteLimit": 2048000,
      "rowLimit": 10000
     },
     "inputWidgets": {},
     "nuid": "c20712f0-2ddd-4a3e-9ad3-6fce3ee73242",
     "showTitle": false,
     "title": ""
    }
   },
   "outputs": [
    {
     "output_type": "display_data",
     "data": {
      "text/html": [
       "<style scoped>\n",
       "  .ansiout {\n",
       "    display: block;\n",
       "    unicode-bidi: embed;\n",
       "    white-space: pre-wrap;\n",
       "    word-wrap: break-word;\n",
       "    word-break: break-all;\n",
       "    font-family: \"Source Code Pro\", \"Menlo\", monospace;;\n",
       "    font-size: 13px;\n",
       "    color: #555;\n",
       "    margin-left: 4px;\n",
       "    line-height: 19px;\n",
       "  }\n",
       "</style>"
      ]
     },
     "metadata": {
      "application/vnd.databricks.v1+output": {
       "arguments": {},
       "data": "",
       "errorSummary": "Cancelled",
       "errorTraceType": "html",
       "metadata": {},
       "type": "ipynbError"
      }
     },
     "output_type": "display_data"
    }
   ],
   "source": [
    "df_vivienda_usada_venta_sp = df_vivienda_usada_venta_sp.withColumn('geocode_result', struct(georeferenciar_udf(col(vivienda_usada_dir)).alias('geocoding')))"
   ]
  },
  {
   "cell_type": "code",
   "execution_count": 0,
   "metadata": {
    "application/vnd.databricks.v1+cell": {
     "cellMetadata": {
      "byteLimit": 2048000,
      "rowLimit": 10000
     },
     "inputWidgets": {},
     "nuid": "9c878488-127b-4f2f-b53e-8a8c8b954557",
     "showTitle": false,
     "title": ""
    }
   },
   "outputs": [
    {
     "output_type": "display_data",
     "data": {
      "text/html": [
       "<style scoped>\n",
       "  .ansiout {\n",
       "    display: block;\n",
       "    unicode-bidi: embed;\n",
       "    white-space: pre-wrap;\n",
       "    word-wrap: break-word;\n",
       "    word-break: break-all;\n",
       "    font-family: \"Source Code Pro\", \"Menlo\", monospace;;\n",
       "    font-size: 13px;\n",
       "    color: #555;\n",
       "    margin-left: 4px;\n",
       "    line-height: 19px;\n",
       "  }\n",
       "</style>"
      ]
     },
     "metadata": {
      "application/vnd.databricks.v1+output": {
       "arguments": {},
       "data": "",
       "errorSummary": "Cancelled",
       "errorTraceType": "html",
       "metadata": {},
       "type": "ipynbError"
      }
     },
     "output_type": "display_data"
    }
   ],
   "source": [
    "df_vivienda_usada_venta_sp = df_vivienda_usada_venta_sp.withColumn('estado', col('geocode_result.geocoding.estado'))\n",
    "df_vivienda_usada_venta_sp = df_vivienda_usada_venta_sp.withColumn('tipo_direccion', col('geocode_result.geocoding.tipo_direccion'))\n",
    "df_vivienda_usada_venta_sp = df_vivienda_usada_venta_sp.withColumn('diraprox', col('geocode_result.geocoding.diraprox'))\n",
    "df_vivienda_usada_venta_sp = df_vivienda_usada_venta_sp.withColumn('lat', col('geocode_result.geocoding.yinput'))\n",
    "df_vivienda_usada_venta_sp = df_vivienda_usada_venta_sp.withColumn('lng', col('geocode_result.geocoding.xinput'))\n"
   ]
  },
  {
   "cell_type": "code",
   "execution_count": 0,
   "metadata": {
    "application/vnd.databricks.v1+cell": {
     "cellMetadata": {
      "byteLimit": 2048000,
      "rowLimit": 10000
     },
     "inputWidgets": {},
     "nuid": "385284d5-c689-4a50-9545-f5787cb52685",
     "showTitle": false,
     "title": ""
    }
   },
   "outputs": [
    {
     "output_type": "stream",
     "name": "stdout",
     "output_type": "stream",
     "text": [
      "+--------+-----+--------------------+\n|  estado|count|    normalized_count|\n+--------+-----+--------------------+\n| success|43277|  0.9894147233653406|\n|  failed|  424|0.009693644261545497|\n|error_ws|   39|8.916323731138546E-4|\n+--------+-----+--------------------+\n\n"
     ]
    }
   ],
   "source": [
    "# Calculate value counts and normalize\n",
    "value_counts = df_vivienda_usada_venta_sp.groupBy('estado').count()\n",
    "total_count = df_vivienda_usada_venta_sp.count()\n",
    "normalized_counts = value_counts.withColumn('normalized_count', col('count') / total_count)\n",
    "\n",
    "# Display the result\n",
    "normalized_counts.show()"
   ]
  },
  {
   "cell_type": "code",
   "execution_count": 0,
   "metadata": {
    "application/vnd.databricks.v1+cell": {
     "cellMetadata": {
      "byteLimit": 2048000,
      "rowLimit": 10000
     },
     "inputWidgets": {},
     "nuid": "c5e6a1ad-2864-4f09-b4df-5531717c2278",
     "showTitle": false,
     "title": ""
    }
   },
   "outputs": [
    {
     "output_type": "stream",
     "name": "stdout",
     "output_type": "stream",
     "text": [
      "Out[543]: DataFrame[Consecutivo: string, Nombre Proyecto: string, Recorrido: string, Dirección Nueva: string, Subzona: string, Barrio: string, Estrato: string, Area: string, Valor Venta: string, Antigüedad: string, Subtipo: string, Es interior o exterior (Interior/Exterior): string, Si es apto en que piso está: string, Alcobas: string, # Garajes: string, Area Terraza: string, Costo Admon: string, Fecha Inicio Negocio (dia/mes/año): string, Tipo Negocio Cerrado (Vendido/Arrendado/Desis): string, Fecha Actualizacion (dia/mes/año): string, Tipo Negocio (V A  V/A): string, Dias definicion: string, Telefono 1: string, Telefono 2: string, Telefono 3: string, Nombre Inmobiliaria 1: string, $m2: string, $m2/Nuevo: string, $m2/Año Deseado: string, Costo Admon. M2: string, Mes/año cierre: string, Año Inicial Negocio: string, estado: string, tipo_direccion: string, diraprox: string, lat: double, lng: double]"
     ]
    }
   ],
   "source": [
    "df_vivienda_usada_venta_sp = df_vivienda_usada_venta_sp.drop(\"geocode_result\")"
   ]
  },
  {
   "cell_type": "code",
   "execution_count": 0,
   "metadata": {
    "application/vnd.databricks.v1+cell": {
     "cellMetadata": {
      "byteLimit": 2048000,
      "rowLimit": 10000
     },
     "inputWidgets": {},
     "nuid": "f811dda1-4b56-4fc3-a223-8d65afcd90e5",
     "showTitle": false,
     "title": ""
    }
   },
   "outputs": [],
   "source": [
    "permanent_table_name = \"`df_vivienda_usada_venta_sp`\"\n",
    "df_vivienda_usada_venta_sp.write.format(\"parquet\").saveAsTable(permanent_table_name)"
   ]
  },
  {
   "cell_type": "code",
   "execution_count": 0,
   "metadata": {
    "application/vnd.databricks.v1+cell": {
     "cellMetadata": {
      "byteLimit": 2048000,
      "rowLimit": 10000
     },
     "inputWidgets": {},
     "nuid": "47b009ee-2fb8-4422-8356-f70b4cc15c91",
     "showTitle": false,
     "title": ""
    }
   },
   "outputs": [],
   "source": [
    "df_vivienda_usada_arriendo_sp = df_vivienda_usada_arriendo_sp.withColumn('geocode_result', struct(georeferenciar_udf(col(vivienda_usada_dir)).alias('geocoding')))"
   ]
  },
  {
   "cell_type": "code",
   "execution_count": 0,
   "metadata": {
    "application/vnd.databricks.v1+cell": {
     "cellMetadata": {
      "byteLimit": 2048000,
      "rowLimit": 10000
     },
     "inputWidgets": {},
     "nuid": "1f655911-2cdd-4dd9-b8e4-dfb396ec1f50",
     "showTitle": false,
     "title": ""
    }
   },
   "outputs": [],
   "source": [
    "df_vivienda_usada_arriendo_sp = df_vivienda_usada_arriendo_sp.withColumn('estado', col('geocode_result.geocoding.estado'))\n",
    "df_vivienda_usada_arriendo_sp = df_vivienda_usada_arriendo_sp.withColumn('tipo_direccion', col('geocode_result.geocoding.tipo_direccion'))\n",
    "df_vivienda_usada_arriendo_sp = df_vivienda_usada_arriendo_sp.withColumn('diraprox', col('geocode_result.geocoding.diraprox'))\n",
    "df_vivienda_usada_arriendo_sp = df_vivienda_usada_arriendo_sp.withColumn('lat', col('geocode_result.geocoding.yinput'))\n",
    "df_vivienda_usada_arriendo_sp = df_vivienda_usada_arriendo_sp.withColumn('lng', col('geocode_result.geocoding.xinput'))\n"
   ]
  },
  {
   "cell_type": "code",
   "execution_count": 0,
   "metadata": {
    "application/vnd.databricks.v1+cell": {
     "cellMetadata": {
      "byteLimit": 2048000,
      "rowLimit": 10000
     },
     "inputWidgets": {},
     "nuid": "7269c837-905f-49a6-ba7f-9f6e1a290d7a",
     "showTitle": false,
     "title": ""
    }
   },
   "outputs": [
    {
     "output_type": "stream",
     "name": "stdout",
     "output_type": "stream",
     "text": [
      "+--------+-----+--------------------+\n|  estado|count|    normalized_count|\n+--------+-----+--------------------+\n| success|37918|  0.9900002610897888|\n|  failed|  349|0.009112033628364795|\n|error_ws|   34| 8.87705281846427E-4|\n+--------+-----+--------------------+\n\n"
     ]
    }
   ],
   "source": [
    "# Calculate value counts and normalize\n",
    "value_counts = df_vivienda_usada_arriendo_sp.groupBy('estado').count()\n",
    "total_count = df_vivienda_usada_arriendo_sp.count()\n",
    "normalized_counts = value_counts.withColumn('normalized_count', col('count') / total_count)\n",
    "\n",
    "# Display the result\n",
    "normalized_counts.show()"
   ]
  },
  {
   "cell_type": "code",
   "execution_count": 0,
   "metadata": {
    "application/vnd.databricks.v1+cell": {
     "cellMetadata": {
      "byteLimit": 2048000,
      "rowLimit": 10000
     },
     "inputWidgets": {},
     "nuid": "b145e9b1-3415-43c0-b4e3-5833d81d691f",
     "showTitle": false,
     "title": ""
    }
   },
   "outputs": [],
   "source": [
    "df_vivienda_usada_arriendo_sp = df_vivienda_usada_arriendo_sp.drop(\"geocode_result\")"
   ]
  },
  {
   "cell_type": "code",
   "execution_count": 0,
   "metadata": {
    "application/vnd.databricks.v1+cell": {
     "cellMetadata": {
      "byteLimit": 2048000,
      "rowLimit": 10000
     },
     "inputWidgets": {},
     "nuid": "09280b6e-3a83-492f-8301-80da2fdb760d",
     "showTitle": false,
     "title": ""
    }
   },
   "outputs": [],
   "source": [
    "permanent_table_name = \"`df_vivienda_usada_arriendo_sp`\"\n",
    "df_vivienda_usada_arriendo_sp.write.format(\"parquet\").saveAsTable(permanent_table_name)"
   ]
  },
  {
   "cell_type": "code",
   "execution_count": 0,
   "metadata": {
    "application/vnd.databricks.v1+cell": {
     "cellMetadata": {
      "byteLimit": 2048000,
      "rowLimit": 10000
     },
     "inputWidgets": {},
     "nuid": "7efe246f-12b0-410d-98dc-789a54eb0b08",
     "showTitle": false,
     "title": ""
    }
   },
   "outputs": [],
   "source": [
    "df_comercio_base_proyecto_sp = df_comercio_base_proyecto_sp.withColumn('geocode_result', struct(georeferenciar_udf(col(comercio_dir)).alias('geocoding')))"
   ]
  },
  {
   "cell_type": "code",
   "execution_count": 0,
   "metadata": {
    "application/vnd.databricks.v1+cell": {
     "cellMetadata": {
      "byteLimit": 2048000,
      "rowLimit": 10000
     },
     "inputWidgets": {},
     "nuid": "a318b3eb-0d9c-45e5-ba69-2382c1114840",
     "showTitle": false,
     "title": ""
    }
   },
   "outputs": [],
   "source": [
    "df_comercio_base_proyecto_sp = df_comercio_base_proyecto_sp.withColumn('estado', col('geocode_result.geocoding.estado'))\n",
    "df_comercio_base_proyecto_sp = df_comercio_base_proyecto_sp.withColumn('tipo_direccion', col('geocode_result.geocoding.tipo_direccion'))\n",
    "df_comercio_base_proyecto_sp = df_comercio_base_proyecto_sp.withColumn('diraprox', col('geocode_result.geocoding.diraprox'))\n",
    "df_comercio_base_proyecto_sp = df_comercio_base_proyecto_sp.withColumn('lat', col('geocode_result.geocoding.yinput'))\n",
    "df_comercio_base_proyecto_sp = df_comercio_base_proyecto_sp.withColumn('lng', col('geocode_result.geocoding.xinput'))\n"
   ]
  },
  {
   "cell_type": "code",
   "execution_count": 0,
   "metadata": {
    "application/vnd.databricks.v1+cell": {
     "cellMetadata": {
      "byteLimit": 2048000,
      "rowLimit": 10000
     },
     "inputWidgets": {},
     "nuid": "c5fa8c5b-0e50-46bc-8803-9650dd10fd34",
     "showTitle": false,
     "title": ""
    }
   },
   "outputs": [
    {
     "output_type": "stream",
     "name": "stdout",
     "output_type": "stream",
     "text": [
      "+--------------+-----+--------------------+\n|        estado|count|    normalized_count|\n+--------------+-----+--------------------+\n|       success|  701|  0.6545284780578898|\n|        failed|  134| 0.12511671335200747|\n|      error_ws|    1|9.337068160597573E-4|\n|outside_bogota|  235| 0.21942110177404295|\n+--------------+-----+--------------------+\n\n"
     ]
    }
   ],
   "source": [
    "# Calculate value counts and normalize\n",
    "value_counts = df_comercio_base_proyecto_sp.groupBy('estado').count()\n",
    "total_count = df_comercio_base_proyecto_sp.count()\n",
    "normalized_counts = value_counts.withColumn('normalized_count', col('count') / total_count)\n",
    "\n",
    "# Display the result\n",
    "normalized_counts.show()"
   ]
  },
  {
   "cell_type": "code",
   "execution_count": 0,
   "metadata": {
    "application/vnd.databricks.v1+cell": {
     "cellMetadata": {
      "byteLimit": 2048000,
      "rowLimit": 10000
     },
     "inputWidgets": {},
     "nuid": "ae50e1be-27ac-4e7e-bba7-d0bc6c781735",
     "showTitle": false,
     "title": ""
    }
   },
   "outputs": [],
   "source": [
    "df_comercio_base_proyecto_sp = df_comercio_base_proyecto_sp.drop(\"geocode_result\")"
   ]
  },
  {
   "cell_type": "code",
   "execution_count": 0,
   "metadata": {
    "application/vnd.databricks.v1+cell": {
     "cellMetadata": {
      "byteLimit": 2048000,
      "rowLimit": 10000
     },
     "inputWidgets": {},
     "nuid": "a3bfc000-2529-415b-acc3-ca6b9610b42f",
     "showTitle": false,
     "title": ""
    }
   },
   "outputs": [],
   "source": [
    "permanent_table_name = \"`df_comercio_base_proyecto_sp_2`\"\n",
    "df_comercio_base_proyecto_sp.write.format(\"parquet\").saveAsTable(permanent_table_name)"
   ]
  },
  {
   "cell_type": "code",
   "execution_count": 0,
   "metadata": {
    "application/vnd.databricks.v1+cell": {
     "cellMetadata": {
      "byteLimit": 2048000,
      "rowLimit": 10000
     },
     "inputWidgets": {},
     "nuid": "fa1c672b-778f-48de-a63e-03e93b994e41",
     "showTitle": false,
     "title": ""
    }
   },
   "outputs": [],
   "source": [
    "df_comercio_base_inmuebles_sp = df_comercio_base_inmuebles_sp.withColumn('geocode_result', struct(georeferenciar_udf(col(comercio_dir)).alias('geocoding')))"
   ]
  },
  {
   "cell_type": "code",
   "execution_count": 0,
   "metadata": {
    "application/vnd.databricks.v1+cell": {
     "cellMetadata": {
      "byteLimit": 2048000,
      "rowLimit": 10000
     },
     "inputWidgets": {},
     "nuid": "419e034f-7a62-4e3c-ba83-6fa076aee761",
     "showTitle": false,
     "title": ""
    }
   },
   "outputs": [],
   "source": [
    "df_comercio_base_inmuebles_sp = df_comercio_base_inmuebles_sp.withColumn('estado', col('geocode_result.geocoding.estado'))\n",
    "df_comercio_base_inmuebles_sp = df_comercio_base_inmuebles_sp.withColumn('tipo_direccion', col('geocode_result.geocoding.tipo_direccion'))\n",
    "df_comercio_base_inmuebles_sp = df_comercio_base_inmuebles_sp.withColumn('diraprox', col('geocode_result.geocoding.diraprox'))\n",
    "df_comercio_base_inmuebles_sp = df_comercio_base_inmuebles_sp.withColumn('lat', col('geocode_result.geocoding.yinput'))\n",
    "df_comercio_base_inmuebles_sp = df_comercio_base_inmuebles_sp.withColumn('lng', col('geocode_result.geocoding.xinput'))"
   ]
  },
  {
   "cell_type": "code",
   "execution_count": 0,
   "metadata": {
    "application/vnd.databricks.v1+cell": {
     "cellMetadata": {
      "byteLimit": 2048000,
      "rowLimit": 10000
     },
     "inputWidgets": {},
     "nuid": "e0a426b2-70b0-4101-b05c-b97ec6d363d8",
     "showTitle": false,
     "title": ""
    }
   },
   "outputs": [
    {
     "output_type": "stream",
     "name": "stdout",
     "output_type": "stream",
     "text": [
      "+--------------+-----+--------------------+\n|        estado|count|    normalized_count|\n+--------------+-----+--------------------+\n|       success| 5051|  0.6599163835902796|\n|        failed|  877| 0.11458061144499608|\n|      error_ws|    2|2.613012803762738E-4|\n|outside_bogota| 1724| 0.22524170368434807|\n+--------------+-----+--------------------+\n\n"
     ]
    }
   ],
   "source": [
    "# Calculate value counts and normalize\n",
    "value_counts = df_comercio_base_inmuebles_sp.groupBy('estado').count()\n",
    "total_count = df_comercio_base_inmuebles_sp.count()\n",
    "normalized_counts = value_counts.withColumn('normalized_count', col('count') / total_count)\n",
    "\n",
    "# Display the result\n",
    "normalized_counts.show()"
   ]
  },
  {
   "cell_type": "code",
   "execution_count": 0,
   "metadata": {
    "application/vnd.databricks.v1+cell": {
     "cellMetadata": {
      "byteLimit": 2048000,
      "rowLimit": 10000
     },
     "inputWidgets": {},
     "nuid": "9c6d8348-c6b2-410f-b219-4a0233f0259f",
     "showTitle": false,
     "title": ""
    }
   },
   "outputs": [],
   "source": [
    "df_comercio_base_inmuebles_sp = df_comercio_base_inmuebles_sp.drop(\"geocode_result\")"
   ]
  },
  {
   "cell_type": "code",
   "execution_count": 0,
   "metadata": {
    "application/vnd.databricks.v1+cell": {
     "cellMetadata": {
      "byteLimit": 2048000,
      "rowLimit": 10000
     },
     "inputWidgets": {},
     "nuid": "ff429719-3ec4-4f20-8085-5c4296c87b8c",
     "showTitle": false,
     "title": ""
    }
   },
   "outputs": [],
   "source": [
    "permanent_table_name = \"`df_comercio_base_inmuebles_sp`\"\n",
    "df_comercio_base_inmuebles_sp.write.format(\"parquet\").saveAsTable(permanent_table_name)"
   ]
  },
  {
   "cell_type": "code",
   "execution_count": 0,
   "metadata": {
    "application/vnd.databricks.v1+cell": {
     "cellMetadata": {
      "byteLimit": 2048000,
      "rowLimit": 10000
     },
     "inputWidgets": {},
     "nuid": "4d8b6b47-9688-4954-bd6b-b96aaf825418",
     "showTitle": false,
     "title": ""
    },
    "scrolled": true
   },
   "outputs": [],
   "source": [
    "df_comercio_base_historia_sp = df_comercio_base_historia_sp.withColumn('geocode_result', struct(georeferenciar_udf(col(comercio_dir)).alias('geocoding')))"
   ]
  },
  {
   "cell_type": "code",
   "execution_count": 0,
   "metadata": {
    "application/vnd.databricks.v1+cell": {
     "cellMetadata": {
      "byteLimit": 2048000,
      "rowLimit": 10000
     },
     "inputWidgets": {},
     "nuid": "b0c9e1d9-40e7-4c2c-b1a9-f62380270a9c",
     "showTitle": false,
     "title": ""
    }
   },
   "outputs": [],
   "source": [
    "df_comercio_base_historia_sp = df_comercio_base_historia_sp.withColumn('estado', col('geocode_result.geocoding.estado'))\n",
    "df_comercio_base_historia_sp = df_comercio_base_historia_sp.withColumn('tipo_direccion', col('geocode_result.geocoding.tipo_direccion'))\n",
    "df_comercio_base_historia_sp = df_comercio_base_historia_sp.withColumn('diraprox', col('geocode_result.geocoding.diraprox'))\n",
    "df_comercio_base_historia_sp = df_comercio_base_historia_sp.withColumn('lat', col('geocode_result.geocoding.yinput'))\n",
    "df_comercio_base_historia_sp = df_comercio_base_historia_sp.withColumn('lng', col('geocode_result.geocoding.xinput'))"
   ]
  },
  {
   "cell_type": "code",
   "execution_count": 0,
   "metadata": {
    "application/vnd.databricks.v1+cell": {
     "cellMetadata": {
      "byteLimit": 2048000,
      "rowLimit": 10000
     },
     "inputWidgets": {},
     "nuid": "1de262eb-f7fa-48c8-bfc0-c5fc7427edfe",
     "showTitle": false,
     "title": ""
    }
   },
   "outputs": [
    {
     "output_type": "stream",
     "name": "stdout",
     "output_type": "stream",
     "text": [
      "+--------------+-----+--------------------+\n|        estado|count|    normalized_count|\n+--------------+-----+--------------------+\n|       success|  701|  0.6545284780578898|\n|        failed|  134| 0.12511671335200747|\n|      error_ws|    1|9.337068160597573E-4|\n|outside_bogota|  235| 0.21942110177404295|\n+--------------+-----+--------------------+\n\n"
     ]
    }
   ],
   "source": [
    "# Calculate value counts and normalize\n",
    "value_counts = df_comercio_base_historia_sp.groupBy('estado').count()\n",
    "total_count = df_comercio_base_historia_sp.count()\n",
    "normalized_counts = value_counts.withColumn('normalized_count', col('count') / total_count)\n",
    "\n",
    "# Display the result\n",
    "normalized_counts.show()"
   ]
  },
  {
   "cell_type": "code",
   "execution_count": 0,
   "metadata": {
    "application/vnd.databricks.v1+cell": {
     "cellMetadata": {
      "byteLimit": 2048000,
      "rowLimit": 10000
     },
     "inputWidgets": {},
     "nuid": "5458b7ff-1145-43c8-a52b-3b709b67696e",
     "showTitle": false,
     "title": ""
    }
   },
   "outputs": [],
   "source": [
    "df_comercio_base_historia_sp = df_comercio_base_historia_sp.drop(\"geocode_result\")"
   ]
  },
  {
   "cell_type": "code",
   "execution_count": 0,
   "metadata": {
    "application/vnd.databricks.v1+cell": {
     "cellMetadata": {
      "byteLimit": 2048000,
      "rowLimit": 10000
     },
     "inputWidgets": {},
     "nuid": "71045977-f78a-4363-bd86-f3757e946521",
     "showTitle": false,
     "title": ""
    }
   },
   "outputs": [],
   "source": [
    "permanent_table_name = \"`df_comercio_base_historia_sp`\"\n",
    "df_comercio_base_historia_sp.write.format(\"parquet\").saveAsTable(permanent_table_name)"
   ]
  },
  {
   "cell_type": "code",
   "execution_count": 0,
   "metadata": {
    "application/vnd.databricks.v1+cell": {
     "cellMetadata": {
      "byteLimit": 2048000,
      "rowLimit": 10000
     },
     "inputWidgets": {},
     "nuid": "ebabe84c-0460-4f86-8e6f-defee0395003",
     "showTitle": false,
     "title": ""
    }
   },
   "outputs": [],
   "source": [
    "df_def_base_proyecto_sp = df_def_base_proyecto_sp.withColumn('geocode_result', struct(georeferenciar_udf(col(def_dir)).alias('geocoding')))"
   ]
  },
  {
   "cell_type": "code",
   "execution_count": 0,
   "metadata": {
    "application/vnd.databricks.v1+cell": {
     "cellMetadata": {
      "byteLimit": 2048000,
      "rowLimit": 10000
     },
     "inputWidgets": {},
     "nuid": "cd1b5459-f070-4c2b-b027-d92e3778a290",
     "showTitle": false,
     "title": ""
    }
   },
   "outputs": [],
   "source": [
    "df_def_base_proyecto_sp = df_def_base_proyecto_sp.withColumn('estado', col('geocode_result.geocoding.estado'))\n",
    "df_def_base_proyecto_sp = df_def_base_proyecto_sp.withColumn('tipo_direccion', col('geocode_result.geocoding.tipo_direccion'))\n",
    "df_def_base_proyecto_sp = df_def_base_proyecto_sp.withColumn('diraprox', col('geocode_result.geocoding.diraprox'))\n",
    "df_def_base_proyecto_sp = df_def_base_proyecto_sp.withColumn('lat', col('geocode_result.geocoding.yinput'))\n",
    "df_def_base_proyecto_sp = df_def_base_proyecto_sp.withColumn('lng', col('geocode_result.geocoding.xinput'))\n",
    "\n",
    "#df_def_base_proyecto_sp = df_def_base_proyecto_sp.withColumn(\"real_geom\",create_point_udf(col(\"Longitud\").cast(DoubleType()), col(\"Latitud (Coordenada Real)\").cast(DoubleType())))\n",
    "\n",
    "#df_def_base_proyecto_sp = df_def_base_proyecto_sp.withColumn(\"geocoded_geom\",create_point_udf(col(\"lng\").cast(DoubleType()), col(\"lat\").cast(DoubleType())))\n",
    "\n",
    "#df_def_base_proyecto_sp = df_def_base_proyecto_sp.withColumn(\"distance\",distance_udf(col(\"real_geom\"), col(\"geocoded_geom\")))"
   ]
  },
  {
   "cell_type": "code",
   "execution_count": 0,
   "metadata": {
    "application/vnd.databricks.v1+cell": {
     "cellMetadata": {
      "byteLimit": 2048000,
      "rowLimit": 10000
     },
     "inputWidgets": {},
     "nuid": "655ae02f-b42c-4194-9588-1a0b41bbcc3a",
     "showTitle": false,
     "title": ""
    }
   },
   "outputs": [
    {
     "output_type": "stream",
     "name": "stdout",
     "output_type": "stream",
     "text": [
      "+--------------+-----+-------------------+\n|        estado|count|   normalized_count|\n+--------------+-----+-------------------+\n|       success| 3717| 0.6997364457831325|\n|        failed|  757|0.14250753012048192|\n|outside_bogota|  838|0.15775602409638553|\n+--------------+-----+-------------------+\n\n"
     ]
    }
   ],
   "source": [
    "# Calculate value counts and normalize\n",
    "value_counts = df_def_base_proyecto_sp.groupBy('estado').count()\n",
    "total_count = df_def_base_proyecto_sp.count()\n",
    "normalized_counts = value_counts.withColumn('normalized_count', col('count') / total_count)\n",
    "\n",
    "# Display the result\n",
    "normalized_counts.show()"
   ]
  },
  {
   "cell_type": "code",
   "execution_count": 0,
   "metadata": {
    "application/vnd.databricks.v1+cell": {
     "cellMetadata": {
      "byteLimit": 2048000,
      "rowLimit": 10000
     },
     "inputWidgets": {},
     "nuid": "22b9043e-6ef4-43ee-80f9-015ee1b359f1",
     "showTitle": false,
     "title": ""
    }
   },
   "outputs": [],
   "source": [
    "df_def_base_proyecto_sp = df_def_base_proyecto_sp.drop(\"geocode_result\")"
   ]
  },
  {
   "cell_type": "code",
   "execution_count": 0,
   "metadata": {
    "application/vnd.databricks.v1+cell": {
     "cellMetadata": {
      "byteLimit": 2048000,
      "rowLimit": 10000
     },
     "inputWidgets": {},
     "nuid": "e2898fde-97f2-4996-b558-e45a337704d9",
     "showTitle": false,
     "title": ""
    }
   },
   "outputs": [
    {
     "output_type": "display_data",
     "data": {
      "text/plain": [
       "\u001B[0;31m---------------------------------------------------------------------------\u001B[0m\n",
       "\u001B[0;31mAnalysisException\u001B[0m                         Traceback (most recent call last)\n",
       "File \u001B[0;32m<command-3330639135281278>:2\u001B[0m\n",
       "\u001B[1;32m      1\u001B[0m permanent_table_name \u001B[38;5;241m=\u001B[39m \u001B[38;5;124m\"\u001B[39m\u001B[38;5;124m`df_def_base_proyecto_sp`\u001B[39m\u001B[38;5;124m\"\u001B[39m\n",
       "\u001B[0;32m----> 2\u001B[0m df_def_base_proyecto_sp\u001B[38;5;241m.\u001B[39mwrite\u001B[38;5;241m.\u001B[39mformat(\u001B[38;5;124m\"\u001B[39m\u001B[38;5;124mparquet\u001B[39m\u001B[38;5;124m\"\u001B[39m)\u001B[38;5;241m.\u001B[39msaveAsTable(permanent_table_name)\n",
       "\n",
       "File \u001B[0;32m/databricks/spark/python/pyspark/instrumentation_utils.py:48\u001B[0m, in \u001B[0;36m_wrap_function.<locals>.wrapper\u001B[0;34m(*args, **kwargs)\u001B[0m\n",
       "\u001B[1;32m     46\u001B[0m start \u001B[38;5;241m=\u001B[39m time\u001B[38;5;241m.\u001B[39mperf_counter()\n",
       "\u001B[1;32m     47\u001B[0m \u001B[38;5;28;01mtry\u001B[39;00m:\n",
       "\u001B[0;32m---> 48\u001B[0m     res \u001B[38;5;241m=\u001B[39m \u001B[43mfunc\u001B[49m\u001B[43m(\u001B[49m\u001B[38;5;241;43m*\u001B[39;49m\u001B[43margs\u001B[49m\u001B[43m,\u001B[49m\u001B[43m \u001B[49m\u001B[38;5;241;43m*\u001B[39;49m\u001B[38;5;241;43m*\u001B[39;49m\u001B[43mkwargs\u001B[49m\u001B[43m)\u001B[49m\n",
       "\u001B[1;32m     49\u001B[0m     logger\u001B[38;5;241m.\u001B[39mlog_success(\n",
       "\u001B[1;32m     50\u001B[0m         module_name, class_name, function_name, time\u001B[38;5;241m.\u001B[39mperf_counter() \u001B[38;5;241m-\u001B[39m start, signature\n",
       "\u001B[1;32m     51\u001B[0m     )\n",
       "\u001B[1;32m     52\u001B[0m     \u001B[38;5;28;01mreturn\u001B[39;00m res\n",
       "\n",
       "File \u001B[0;32m/databricks/spark/python/pyspark/sql/readwriter.py:1520\u001B[0m, in \u001B[0;36mDataFrameWriter.saveAsTable\u001B[0;34m(self, name, format, mode, partitionBy, **options)\u001B[0m\n",
       "\u001B[1;32m   1518\u001B[0m \u001B[38;5;28;01mif\u001B[39;00m \u001B[38;5;28mformat\u001B[39m \u001B[38;5;129;01mis\u001B[39;00m \u001B[38;5;129;01mnot\u001B[39;00m \u001B[38;5;28;01mNone\u001B[39;00m:\n",
       "\u001B[1;32m   1519\u001B[0m     \u001B[38;5;28mself\u001B[39m\u001B[38;5;241m.\u001B[39mformat(\u001B[38;5;28mformat\u001B[39m)\n",
       "\u001B[0;32m-> 1520\u001B[0m \u001B[38;5;28;43mself\u001B[39;49m\u001B[38;5;241;43m.\u001B[39;49m\u001B[43m_jwrite\u001B[49m\u001B[38;5;241;43m.\u001B[39;49m\u001B[43msaveAsTable\u001B[49m\u001B[43m(\u001B[49m\u001B[43mname\u001B[49m\u001B[43m)\u001B[49m\n",
       "\n",
       "File \u001B[0;32m/databricks/spark/python/lib/py4j-0.10.9.5-src.zip/py4j/java_gateway.py:1321\u001B[0m, in \u001B[0;36mJavaMember.__call__\u001B[0;34m(self, *args)\u001B[0m\n",
       "\u001B[1;32m   1315\u001B[0m command \u001B[38;5;241m=\u001B[39m proto\u001B[38;5;241m.\u001B[39mCALL_COMMAND_NAME \u001B[38;5;241m+\u001B[39m\\\n",
       "\u001B[1;32m   1316\u001B[0m     \u001B[38;5;28mself\u001B[39m\u001B[38;5;241m.\u001B[39mcommand_header \u001B[38;5;241m+\u001B[39m\\\n",
       "\u001B[1;32m   1317\u001B[0m     args_command \u001B[38;5;241m+\u001B[39m\\\n",
       "\u001B[1;32m   1318\u001B[0m     proto\u001B[38;5;241m.\u001B[39mEND_COMMAND_PART\n",
       "\u001B[1;32m   1320\u001B[0m answer \u001B[38;5;241m=\u001B[39m \u001B[38;5;28mself\u001B[39m\u001B[38;5;241m.\u001B[39mgateway_client\u001B[38;5;241m.\u001B[39msend_command(command)\n",
       "\u001B[0;32m-> 1321\u001B[0m return_value \u001B[38;5;241m=\u001B[39m \u001B[43mget_return_value\u001B[49m\u001B[43m(\u001B[49m\n",
       "\u001B[1;32m   1322\u001B[0m \u001B[43m    \u001B[49m\u001B[43manswer\u001B[49m\u001B[43m,\u001B[49m\u001B[43m \u001B[49m\u001B[38;5;28;43mself\u001B[39;49m\u001B[38;5;241;43m.\u001B[39;49m\u001B[43mgateway_client\u001B[49m\u001B[43m,\u001B[49m\u001B[43m \u001B[49m\u001B[38;5;28;43mself\u001B[39;49m\u001B[38;5;241;43m.\u001B[39;49m\u001B[43mtarget_id\u001B[49m\u001B[43m,\u001B[49m\u001B[43m \u001B[49m\u001B[38;5;28;43mself\u001B[39;49m\u001B[38;5;241;43m.\u001B[39;49m\u001B[43mname\u001B[49m\u001B[43m)\u001B[49m\n",
       "\u001B[1;32m   1324\u001B[0m \u001B[38;5;28;01mfor\u001B[39;00m temp_arg \u001B[38;5;129;01min\u001B[39;00m temp_args:\n",
       "\u001B[1;32m   1325\u001B[0m     temp_arg\u001B[38;5;241m.\u001B[39m_detach()\n",
       "\n",
       "File \u001B[0;32m/databricks/spark/python/pyspark/errors/exceptions.py:234\u001B[0m, in \u001B[0;36mcapture_sql_exception.<locals>.deco\u001B[0;34m(*a, **kw)\u001B[0m\n",
       "\u001B[1;32m    230\u001B[0m converted \u001B[38;5;241m=\u001B[39m convert_exception(e\u001B[38;5;241m.\u001B[39mjava_exception)\n",
       "\u001B[1;32m    231\u001B[0m \u001B[38;5;28;01mif\u001B[39;00m \u001B[38;5;129;01mnot\u001B[39;00m \u001B[38;5;28misinstance\u001B[39m(converted, UnknownException):\n",
       "\u001B[1;32m    232\u001B[0m     \u001B[38;5;66;03m# Hide where the exception came from that shows a non-Pythonic\u001B[39;00m\n",
       "\u001B[1;32m    233\u001B[0m     \u001B[38;5;66;03m# JVM exception message.\u001B[39;00m\n",
       "\u001B[0;32m--> 234\u001B[0m     \u001B[38;5;28;01mraise\u001B[39;00m converted \u001B[38;5;28;01mfrom\u001B[39;00m \u001B[38;5;28mNone\u001B[39m\n",
       "\u001B[1;32m    235\u001B[0m \u001B[38;5;28;01melse\u001B[39;00m:\n",
       "\u001B[1;32m    236\u001B[0m     \u001B[38;5;28;01mraise\u001B[39;00m\n",
       "\n",
       "\u001B[0;31mAnalysisException\u001B[0m: [TABLE_OR_VIEW_ALREADY_EXISTS] Cannot create table or view `spark_catalog`.`default`.`df_def_base_proyecto_sp` because it already exists.\n",
       "Choose a different name, drop or replace the existing object, add the IF NOT EXISTS clause to tolerate pre-existing objects, or add the OR REFRESH clause to refresh the existing streaming table."
      ]
     },
     "metadata": {
      "application/vnd.databricks.v1+output": {
       "arguments": {},
       "data": "\u001B[0;31m---------------------------------------------------------------------------\u001B[0m\n\u001B[0;31mAnalysisException\u001B[0m                         Traceback (most recent call last)\nFile \u001B[0;32m<command-3330639135281278>:2\u001B[0m\n\u001B[1;32m      1\u001B[0m permanent_table_name \u001B[38;5;241m=\u001B[39m \u001B[38;5;124m\"\u001B[39m\u001B[38;5;124m`df_def_base_proyecto_sp`\u001B[39m\u001B[38;5;124m\"\u001B[39m\n\u001B[0;32m----> 2\u001B[0m df_def_base_proyecto_sp\u001B[38;5;241m.\u001B[39mwrite\u001B[38;5;241m.\u001B[39mformat(\u001B[38;5;124m\"\u001B[39m\u001B[38;5;124mparquet\u001B[39m\u001B[38;5;124m\"\u001B[39m)\u001B[38;5;241m.\u001B[39msaveAsTable(permanent_table_name)\n\nFile \u001B[0;32m/databricks/spark/python/pyspark/instrumentation_utils.py:48\u001B[0m, in \u001B[0;36m_wrap_function.<locals>.wrapper\u001B[0;34m(*args, **kwargs)\u001B[0m\n\u001B[1;32m     46\u001B[0m start \u001B[38;5;241m=\u001B[39m time\u001B[38;5;241m.\u001B[39mperf_counter()\n\u001B[1;32m     47\u001B[0m \u001B[38;5;28;01mtry\u001B[39;00m:\n\u001B[0;32m---> 48\u001B[0m     res \u001B[38;5;241m=\u001B[39m \u001B[43mfunc\u001B[49m\u001B[43m(\u001B[49m\u001B[38;5;241;43m*\u001B[39;49m\u001B[43margs\u001B[49m\u001B[43m,\u001B[49m\u001B[43m \u001B[49m\u001B[38;5;241;43m*\u001B[39;49m\u001B[38;5;241;43m*\u001B[39;49m\u001B[43mkwargs\u001B[49m\u001B[43m)\u001B[49m\n\u001B[1;32m     49\u001B[0m     logger\u001B[38;5;241m.\u001B[39mlog_success(\n\u001B[1;32m     50\u001B[0m         module_name, class_name, function_name, time\u001B[38;5;241m.\u001B[39mperf_counter() \u001B[38;5;241m-\u001B[39m start, signature\n\u001B[1;32m     51\u001B[0m     )\n\u001B[1;32m     52\u001B[0m     \u001B[38;5;28;01mreturn\u001B[39;00m res\n\nFile \u001B[0;32m/databricks/spark/python/pyspark/sql/readwriter.py:1520\u001B[0m, in \u001B[0;36mDataFrameWriter.saveAsTable\u001B[0;34m(self, name, format, mode, partitionBy, **options)\u001B[0m\n\u001B[1;32m   1518\u001B[0m \u001B[38;5;28;01mif\u001B[39;00m \u001B[38;5;28mformat\u001B[39m \u001B[38;5;129;01mis\u001B[39;00m \u001B[38;5;129;01mnot\u001B[39;00m \u001B[38;5;28;01mNone\u001B[39;00m:\n\u001B[1;32m   1519\u001B[0m     \u001B[38;5;28mself\u001B[39m\u001B[38;5;241m.\u001B[39mformat(\u001B[38;5;28mformat\u001B[39m)\n\u001B[0;32m-> 1520\u001B[0m \u001B[38;5;28;43mself\u001B[39;49m\u001B[38;5;241;43m.\u001B[39;49m\u001B[43m_jwrite\u001B[49m\u001B[38;5;241;43m.\u001B[39;49m\u001B[43msaveAsTable\u001B[49m\u001B[43m(\u001B[49m\u001B[43mname\u001B[49m\u001B[43m)\u001B[49m\n\nFile \u001B[0;32m/databricks/spark/python/lib/py4j-0.10.9.5-src.zip/py4j/java_gateway.py:1321\u001B[0m, in \u001B[0;36mJavaMember.__call__\u001B[0;34m(self, *args)\u001B[0m\n\u001B[1;32m   1315\u001B[0m command \u001B[38;5;241m=\u001B[39m proto\u001B[38;5;241m.\u001B[39mCALL_COMMAND_NAME \u001B[38;5;241m+\u001B[39m\\\n\u001B[1;32m   1316\u001B[0m     \u001B[38;5;28mself\u001B[39m\u001B[38;5;241m.\u001B[39mcommand_header \u001B[38;5;241m+\u001B[39m\\\n\u001B[1;32m   1317\u001B[0m     args_command \u001B[38;5;241m+\u001B[39m\\\n\u001B[1;32m   1318\u001B[0m     proto\u001B[38;5;241m.\u001B[39mEND_COMMAND_PART\n\u001B[1;32m   1320\u001B[0m answer \u001B[38;5;241m=\u001B[39m \u001B[38;5;28mself\u001B[39m\u001B[38;5;241m.\u001B[39mgateway_client\u001B[38;5;241m.\u001B[39msend_command(command)\n\u001B[0;32m-> 1321\u001B[0m return_value \u001B[38;5;241m=\u001B[39m \u001B[43mget_return_value\u001B[49m\u001B[43m(\u001B[49m\n\u001B[1;32m   1322\u001B[0m \u001B[43m    \u001B[49m\u001B[43manswer\u001B[49m\u001B[43m,\u001B[49m\u001B[43m \u001B[49m\u001B[38;5;28;43mself\u001B[39;49m\u001B[38;5;241;43m.\u001B[39;49m\u001B[43mgateway_client\u001B[49m\u001B[43m,\u001B[49m\u001B[43m \u001B[49m\u001B[38;5;28;43mself\u001B[39;49m\u001B[38;5;241;43m.\u001B[39;49m\u001B[43mtarget_id\u001B[49m\u001B[43m,\u001B[49m\u001B[43m \u001B[49m\u001B[38;5;28;43mself\u001B[39;49m\u001B[38;5;241;43m.\u001B[39;49m\u001B[43mname\u001B[49m\u001B[43m)\u001B[49m\n\u001B[1;32m   1324\u001B[0m \u001B[38;5;28;01mfor\u001B[39;00m temp_arg \u001B[38;5;129;01min\u001B[39;00m temp_args:\n\u001B[1;32m   1325\u001B[0m     temp_arg\u001B[38;5;241m.\u001B[39m_detach()\n\nFile \u001B[0;32m/databricks/spark/python/pyspark/errors/exceptions.py:234\u001B[0m, in \u001B[0;36mcapture_sql_exception.<locals>.deco\u001B[0;34m(*a, **kw)\u001B[0m\n\u001B[1;32m    230\u001B[0m converted \u001B[38;5;241m=\u001B[39m convert_exception(e\u001B[38;5;241m.\u001B[39mjava_exception)\n\u001B[1;32m    231\u001B[0m \u001B[38;5;28;01mif\u001B[39;00m \u001B[38;5;129;01mnot\u001B[39;00m \u001B[38;5;28misinstance\u001B[39m(converted, UnknownException):\n\u001B[1;32m    232\u001B[0m     \u001B[38;5;66;03m# Hide where the exception came from that shows a non-Pythonic\u001B[39;00m\n\u001B[1;32m    233\u001B[0m     \u001B[38;5;66;03m# JVM exception message.\u001B[39;00m\n\u001B[0;32m--> 234\u001B[0m     \u001B[38;5;28;01mraise\u001B[39;00m converted \u001B[38;5;28;01mfrom\u001B[39;00m \u001B[38;5;28mNone\u001B[39m\n\u001B[1;32m    235\u001B[0m \u001B[38;5;28;01melse\u001B[39;00m:\n\u001B[1;32m    236\u001B[0m     \u001B[38;5;28;01mraise\u001B[39;00m\n\n\u001B[0;31mAnalysisException\u001B[0m: [TABLE_OR_VIEW_ALREADY_EXISTS] Cannot create table or view `spark_catalog`.`default`.`df_def_base_proyecto_sp` because it already exists.\nChoose a different name, drop or replace the existing object, add the IF NOT EXISTS clause to tolerate pre-existing objects, or add the OR REFRESH clause to refresh the existing streaming table.",
       "errorSummary": "<span class='ansi-red-fg'>AnalysisException</span>: [TABLE_OR_VIEW_ALREADY_EXISTS] Cannot create table or view `spark_catalog`.`default`.`df_def_base_proyecto_sp` because it already exists.\nChoose a different name, drop or replace the existing object, add the IF NOT EXISTS clause to tolerate pre-existing objects, or add the OR REFRESH clause to refresh the existing streaming table.",
       "errorTraceType": "ansi",
       "metadata": {},
       "type": "ipynbError"
      }
     },
     "output_type": "display_data"
    }
   ],
   "source": [
    "permanent_table_name = \"`df_def_base_proyecto_sp`\"\n",
    "df_def_base_proyecto_sp.write.format(\"parquet\").saveAsTable(permanent_table_name)"
   ]
  },
  {
   "cell_type": "code",
   "execution_count": 0,
   "metadata": {
    "application/vnd.databricks.v1+cell": {
     "cellMetadata": {
      "byteLimit": 2048000,
      "rowLimit": 10000
     },
     "inputWidgets": {},
     "nuid": "f2734fea-aeb5-454a-83ef-4b33da91bdbb",
     "showTitle": false,
     "title": ""
    }
   },
   "outputs": [],
   "source": [
    "filename = '/dbfs/FileStore/tables/galeria/df_vivienda_usada_venta_sp.csv'\n",
    "df_vivienda_usada_venta_sp.coalesce(1).write.format(\"com.databricks.spark.csv\").option(\"header\", \"true\").save(filename)"
   ]
  },
  {
   "cell_type": "code",
   "execution_count": 0,
   "metadata": {
    "application/vnd.databricks.v1+cell": {
     "cellMetadata": {
      "byteLimit": 2048000,
      "rowLimit": 10000
     },
     "inputWidgets": {},
     "nuid": "d8846b71-c2c4-492c-a89a-c685a107ab96",
     "showTitle": false,
     "title": ""
    }
   },
   "outputs": [],
   "source": [
    "filename = '/dbfs/FileStore/tables/galeria/df_vivienda_usada_arriendo_sp.csv'\n",
    "df_vivienda_usada_arriendo_sp.coalesce(1).write.format(\"com.databricks.spark.csv\").option(\"header\", \"true\").save(filename)"
   ]
  },
  {
   "cell_type": "code",
   "execution_count": 0,
   "metadata": {
    "application/vnd.databricks.v1+cell": {
     "cellMetadata": {
      "byteLimit": 2048000,
      "rowLimit": 10000
     },
     "inputWidgets": {},
     "nuid": "af904c8d-b800-421e-9a2c-88811756db90",
     "showTitle": false,
     "title": ""
    }
   },
   "outputs": [],
   "source": [
    "filename = '/dbfs/FileStore/tables/galeria/df_comercio_base_proyecto_sp.csv'\n",
    "df_comercio_base_proyecto_sp.coalesce(1).write.format(\"com.databricks.spark.csv\").option(\"header\", \"true\").save(filename)"
   ]
  },
  {
   "cell_type": "code",
   "execution_count": 0,
   "metadata": {
    "application/vnd.databricks.v1+cell": {
     "cellMetadata": {
      "byteLimit": 2048000,
      "rowLimit": 10000
     },
     "inputWidgets": {},
     "nuid": "fc055219-12af-4b6c-bf64-ee30496228c3",
     "showTitle": false,
     "title": ""
    }
   },
   "outputs": [],
   "source": [
    "filename = '/dbfs/FileStore/tables/galeria/df_comercio_base_inmuebles_sp.csv'\n",
    "df_comercio_base_inmuebles_sp.coalesce(1).write.format(\"com.databricks.spark.csv\").option(\"header\", \"true\").save(filename)"
   ]
  },
  {
   "cell_type": "code",
   "execution_count": 0,
   "metadata": {
    "application/vnd.databricks.v1+cell": {
     "cellMetadata": {
      "byteLimit": 2048000,
      "rowLimit": 10000
     },
     "inputWidgets": {},
     "nuid": "1ff8543a-d20b-4921-bdde-7af23eb5473c",
     "showTitle": false,
     "title": ""
    }
   },
   "outputs": [],
   "source": [
    "filename = '/dbfs/FileStore/tables/galeria/df_comercio_base_historia_sp.csv'\n",
    "df_comercio_base_historia_sp.coalesce(1).write.format(\"com.databricks.spark.csv\").option(\"header\", \"true\").save(filename)"
   ]
  },
  {
   "cell_type": "code",
   "execution_count": 0,
   "metadata": {
    "application/vnd.databricks.v1+cell": {
     "cellMetadata": {
      "byteLimit": 2048000,
      "rowLimit": 10000
     },
     "inputWidgets": {},
     "nuid": "b5aa881e-fdfe-41f8-8775-c10f0643a8b2",
     "showTitle": false,
     "title": ""
    }
   },
   "outputs": [],
   "source": [
    "filename = '/dbfs/FileStore/tables/galeria/df_def_base_proyecto_sp.csv'\n",
    "df_def_base_proyecto_sp.coalesce(1).write.format(\"com.databricks.spark.csv\").option(\"header\", \"true\").save(filename)"
   ]
  },
  {
   "cell_type": "code",
   "execution_count": 0,
   "metadata": {
    "application/vnd.databricks.v1+cell": {
     "cellMetadata": {
      "byteLimit": 2048000,
      "rowLimit": 10000
     },
     "inputWidgets": {},
     "nuid": "66a91530-7c8d-4579-a34e-116460eb8b69",
     "showTitle": false,
     "title": ""
    }
   },
   "outputs": [
    {
     "output_type": "stream",
     "name": "stdout",
     "output_type": "stream",
     "text": [
      "ls: cannot access '/FileStore/tables/': No such file or directory\r\n"
     ]
    }
   ],
   "source": [
    "%ls '/FileStore/tables/'"
   ]
  }
 ],
 "metadata": {
  "application/vnd.databricks.v1+notebook": {
   "dashboards": [],
   "language": "python",
   "notebookMetadata": {
    "mostRecentlyExecutedCommandWithImplicitDF": {
     "commandId": 3330639135281212,
     "dataframes": [
      "_sqldf"
     ]
    },
    "pythonIndentUnit": 4
   },
   "notebookName": "Georeferenciación Galeria Inmobiliaria",
   "widgets": {}
  },
  "kernelspec": {
   "display_name": "Python 3 (ipykernel)",
   "language": "python",
   "name": "python3"
  },
  "language_info": {
   "codemirror_mode": {
    "name": "ipython",
    "version": 3
   },
   "file_extension": ".py",
   "mimetype": "text/x-python",
   "name": "python",
   "nbconvert_exporter": "python",
   "pygments_lexer": "ipython3",
   "version": "3.11.3"
  }
 },
 "nbformat": 4,
 "nbformat_minor": 0
}
