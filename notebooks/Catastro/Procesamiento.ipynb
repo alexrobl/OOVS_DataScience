{
 "cells": [
  {
   "cell_type": "markdown",
   "metadata": {
    "application/vnd.databricks.v1+cell": {
     "cellMetadata": {},
     "inputWidgets": {},
     "nuid": "f989da56-3c5f-4c43-aef0-b793f1e5360c",
     "showTitle": false,
     "title": ""
    }
   },
   "source": [
    "# Catastro"
   ]
  },
  {
   "cell_type": "code",
   "execution_count": 0,
   "metadata": {
    "application/vnd.databricks.v1+cell": {
     "cellMetadata": {
      "byteLimit": 2048000,
      "rowLimit": 10000
     },
     "inputWidgets": {},
     "nuid": "26587453-ac99-4d8b-9fae-300e4cb22287",
     "showTitle": false,
     "title": ""
    }
   },
   "outputs": [],
   "source": [
    "# listado de ubicacion shape de Lotes de bogota con geometria de punto.\n",
    "[a.path for a in dbutils.fs.ls(\"/FileStore/tables/shp/isocronas/\")]\n",
    "#dbfs:/FileStore/\n",
    "#dbfs:/FileStore/"
   ]
  },
  {
   "cell_type": "code",
   "execution_count": 0,
   "metadata": {
    "application/vnd.databricks.v1+cell": {
     "cellMetadata": {
      "byteLimit": 2048000,
      "rowLimit": 10000
     },
     "inputWidgets": {},
     "nuid": "bd3aa730-1075-49ec-b9a5-8f8b802ffa7f",
     "showTitle": false,
     "title": ""
    }
   },
   "outputs": [],
   "source": [
    "from pyspark.sql import SparkSession\n",
    "from pyspark import StorageLevel\n",
    "from sedona.spark import *\n",
    "from sedona.utils import SedonaKryoRegistrator, KryoSerializer\n",
    "\n",
    "from sedona.register.geo_registrator import SedonaRegistrator\n",
    "# configuración de spark y Sedona para datos geograficos\n",
    "spark = SparkSession.\\\n",
    "    builder.\\\n",
    "    master(\"local[*]\").\\\n",
    "    appName(\"Sedona App\").\\\n",
    "    config(\"spark.serializer\", KryoSerializer.getName).\\\n",
    "    config(\"spark.kryo.registrator\", SedonaKryoRegistrator.getName) .\\\n",
    "    config(\"spark.kryoserializer.buffer.max\", \"200gb\").\\\n",
    "    getOrCreate()\n",
    "\n",
    "#SedonaRegistrator.registerAll()\n",
    "SedonaContext.create(spark)"
   ]
  },
  {
   "cell_type": "code",
   "execution_count": 0,
   "metadata": {
    "application/vnd.databricks.v1+cell": {
     "cellMetadata": {
      "byteLimit": 2048000,
      "rowLimit": 10000
     },
     "inputWidgets": {},
     "nuid": "fbae4e76-f370-4d3b-a9c3-e82adee0c158",
     "showTitle": false,
     "title": ""
    }
   },
   "outputs": [],
   "source": [
    "#import geopandas as gpd\n",
    "#lote = gpd.read_file(\"/dbfs/FileStore/tables/shp/Lotes_centroide/Puntos_lote.shp\")\n",
    "\n",
    "# LOTES FILTRADOS PLMB\n",
    "from sedona.core.formatMapper.shapefileParser import ShapefileReader\n",
    "from sedona.utils.adapter import Adapter\n",
    "sc = spark.sparkContext\n",
    "sc.setSystemProperty(\"sedona.global.charset\", \"utf8\")\n",
    "#Lotes\n",
    "Lotes = ShapefileReader.readToGeometryRDD(sc, \"dbfs:/FileStore/tables/shp/Lotes_centroide/\")\n",
    "Isocrona = ShapefileReader.readToGeometryRDD(sc, \"dbfs:/FileStore/tables/shp/isocronas/\")\n",
    "Lotes_df = Adapter.toDf(Lotes, spark)\n",
    "Isocrona_df = Adapter.toDf(Isocrona, spark)"
   ]
  },
  {
   "cell_type": "code",
   "execution_count": 0,
   "metadata": {
    "application/vnd.databricks.v1+cell": {
     "cellMetadata": {
      "byteLimit": 2048000,
      "rowLimit": 10000
     },
     "inputWidgets": {},
     "nuid": "464c4272-7475-471e-bf11-a7cabe33cefb",
     "showTitle": false,
     "title": ""
    }
   },
   "outputs": [],
   "source": [
    "Lotes.CRSTransform('epsg:4326','epsg:4326')\n",
    "Isocrona.CRSTransform('epsg:4326','epsg:4326')"
   ]
  },
  {
   "cell_type": "code",
   "execution_count": 0,
   "metadata": {
    "application/vnd.databricks.v1+cell": {
     "cellMetadata": {
      "byteLimit": 2048000,
      "rowLimit": 10000
     },
     "inputWidgets": {},
     "nuid": "f78af0bb-e88b-438f-a612-862fa6a307ff",
     "showTitle": false,
     "title": ""
    },
    "jupyter": {
     "outputs_hidden": true
    }
   },
   "outputs": [],
   "source": [
    "Lotes.rawSpatialRDD.filter(lambda x: [x.userData.split(\"\\t\")]).collect()"
   ]
  },
  {
   "cell_type": "code",
   "execution_count": 0,
   "metadata": {
    "application/vnd.databricks.v1+cell": {
     "cellMetadata": {
      "byteLimit": 2048000,
      "rowLimit": 10000
     },
     "inputWidgets": {},
     "nuid": "b09e9dcb-cab7-4255-b94f-10ba18aef873",
     "showTitle": false,
     "title": ""
    }
   },
   "outputs": [],
   "source": [
    "import geopandas as gpd\n",
    "l_gdf = gpd.GeoDataFrame(\n",
    "    Lotes.rawSpatialRDD.map(lambda x: [x.geom]).sample(False, 0.0009,6).collect(),\n",
    "    columns=[\"geom\"],\n",
    "    geometry=\"geom\",\n",
    "    crs = 'epsg:4326'\n",
    ")"
   ]
  },
  {
   "cell_type": "code",
   "execution_count": 0,
   "metadata": {
    "application/vnd.databricks.v1+cell": {
     "cellMetadata": {
      "byteLimit": 2048000,
      "rowLimit": 10000
     },
     "inputWidgets": {},
     "nuid": "021e5e19-b94d-43fc-9b91-ce0fc3f818d8",
     "showTitle": false,
     "title": ""
    }
   },
   "outputs": [],
   "source": [
    "from sedona.core.spatialOperator import JoinQuery\n",
    "# haciendo las particiones espaciales\n",
    "Lotes.analyze()\n",
    "Lotes.spatialPartitioning(GridType.KDBTREE, 4)\n",
    "Isocrona.spatialPartitioning(Lotes.getPartitioner())"
   ]
  },
  {
   "cell_type": "code",
   "execution_count": 0,
   "metadata": {
    "application/vnd.databricks.v1+cell": {
     "cellMetadata": {
      "byteLimit": 2048000,
      "rowLimit": 10000
     },
     "inputWidgets": {},
     "nuid": "715c8e63-40de-4518-882d-77000b601124",
     "showTitle": false,
     "title": ""
    }
   },
   "outputs": [],
   "source": [
    "from sedona.core.enums import GridType\n",
    "from sedona.core.enums import IndexType\n",
    "from sedona.core.spatialOperator import JoinQuery\n",
    "\n",
    "\n",
    "build_on_spatial_partitioned_rdd = True ## Set to TRUE only if run join query\n",
    "using_index = True\n",
    "Isocrona.buildIndex(IndexType.QUADTREE, build_on_spatial_partitioned_rdd)\n",
    "# union y selección de las entidades espaciales dentro de la isocrona\n",
    "result = JoinQuery.SpatialJoinQueryFlat(Lotes, Isocrona, using_index, True)"
   ]
  },
  {
   "cell_type": "code",
   "execution_count": 0,
   "metadata": {
    "application/vnd.databricks.v1+cell": {
     "cellMetadata": {
      "byteLimit": 2048000,
      "rowLimit": 10000
     },
     "inputWidgets": {},
     "nuid": "87bbc90f-bf4f-4076-b972-6b51e5465fcc",
     "showTitle": false,
     "title": ""
    }
   },
   "outputs": [],
   "source": [
    "valores = gpd.GeoDataFrame(\n",
    "    result.map(lambda x: [x[1].geom, *x[0].userData.split(\"\\t\"), *x[1].userData.split(\"\\t\")]).collect(),columns=[\"geom\", 'group_inde','Tiempo','layer','Linea','LOTSECT_ID','LOTMANZ_ID','LOTLOTE_ID','LOTZHF_ID','LOTZHG_ID','LOTUNIDAPH','LOTDISTRIT','LOTLSIMBOL','ESTADO_REG','FECHA_REGI','FECHA_DESD','FECHA_HAST','LOTLNUMERO','FRENTE','FONDO'],\n",
    "    geometry=\"geom\",\n",
    "    crs= \"epsg:4326\"\n",
    ")\n",
    "#.sample(False, 0.0009,6)"
   ]
  },
  {
   "cell_type": "code",
   "execution_count": 0,
   "metadata": {
    "application/vnd.databricks.v1+cell": {
     "cellMetadata": {
      "byteLimit": 2048000,
      "rowLimit": 10000
     },
     "inputWidgets": {},
     "nuid": "6c2e1a66-77c1-4a9a-bbd1-fd17ec41e16d",
     "showTitle": false,
     "title": ""
    }
   },
   "outputs": [],
   "source": [
    "import numpy as np\n",
    "valores['Linea'].value_counts()"
   ]
  },
  {
   "cell_type": "code",
   "execution_count": 0,
   "metadata": {
    "application/vnd.databricks.v1+cell": {
     "cellMetadata": {
      "byteLimit": 2048000,
      "rowLimit": 10000
     },
     "inputWidgets": {},
     "nuid": "4cadfd0d-5d93-4151-9a76-5805c7371e60",
     "showTitle": false,
     "title": ""
    }
   },
   "outputs": [],
   "source": [
    "valores[['geom','Tiempo']].sample(2000).explore('Tiempo')"
   ]
  },
  {
   "cell_type": "code",
   "execution_count": 0,
   "metadata": {
    "application/vnd.databricks.v1+cell": {
     "cellMetadata": {
      "byteLimit": 2048000,
      "rowLimit": 10000
     },
     "inputWidgets": {},
     "nuid": "ecf02da0-4fed-4389-8d6b-e9ce73da099e",
     "showTitle": false,
     "title": ""
    }
   },
   "outputs": [],
   "source": [
    "valores.tail(4)"
   ]
  },
  {
   "cell_type": "markdown",
   "metadata": {
    "application/vnd.databricks.v1+cell": {
     "cellMetadata": {},
     "inputWidgets": {},
     "nuid": "d46e2a7f-1f82-43cf-a37e-cc5b840fa52c",
     "showTitle": false,
     "title": ""
    }
   },
   "source": [
    "# CRUCE CON USOS E INMUEBLES."
   ]
  },
  {
   "cell_type": "code",
   "execution_count": 0,
   "metadata": {
    "application/vnd.databricks.v1+cell": {
     "cellMetadata": {
      "byteLimit": 2048000,
      "rowLimit": 10000
     },
     "inputWidgets": {},
     "nuid": "af15ea8b-d872-4738-83e4-51ff98400851",
     "showTitle": false,
     "title": ""
    }
   },
   "outputs": [],
   "source": [
    "import os\n",
    "startpath = '/dbfs/FileStore/tables/Catastro/'\n",
    "\n",
    "# crea listados por grupo de archivos para cada año junto a un diccionario de la información disponible de catastro\n",
    "# desde el año 2006 hasta 2022\n",
    "ph = list()\n",
    "pre = list()\n",
    "uso = list()\n",
    "dict_anio = dict()\n",
    "\n",
    "for root, dirs, files in os.walk(startpath):\n",
    "    periodos = [str(a) for a in range(2006,2023)]\n",
    "    # recorre el arreglo de años   \n",
    "    if os.path.basename(root) in periodos:\n",
    "        carpeta = os.path.basename(root)\n",
    "        ph_predios = '{}/ph_{}.csv'.format(root, carpeta)\n",
    "        predios = '{}/predios_{}.csv'.format(root, carpeta)\n",
    "        usos = '{}/usos_{}.csv'.format(root, carpeta)\n",
    "        lista_interna = list()\n",
    "        for f in files:\n",
    "            if 'ph_' in f:\n",
    "                lista_interna.append(ph_predios)\n",
    "                ph.append(ph_predios)\n",
    "            elif 'predios_'in f:\n",
    "                lista_interna.append(predios)\n",
    "                pre.append(predios)\n",
    "            elif 'usos_'in f:\n",
    "                lista_interna.append(usos)\n",
    "                uso.append(usos)\n",
    "            else:\n",
    "                pass\n",
    "        dict_anio[carpeta] = lista_interna\n",
    "        del lista_interna\n",
    "    else:\n",
    "        pass"
   ]
  },
  {
   "cell_type": "code",
   "execution_count": 0,
   "metadata": {
    "application/vnd.databricks.v1+cell": {
     "cellMetadata": {
      "byteLimit": 2048000,
      "rowLimit": 10000
     },
     "inputWidgets": {},
     "nuid": "29659dd8-21bf-42dc-a64d-d4b921473579",
     "showTitle": false,
     "title": ""
    }
   },
   "outputs": [],
   "source": [
    "# se definen los usos definidos y agrupados por los profesionales del equipo OOVS\n",
    "from pyspark.sql import SparkSession\n",
    "from pyspark.sql.functions import udf\n",
    "from pyspark.sql.types import StringType\n",
    "\n",
    "# Iniciar una sesión de Spark\n",
    "spark = SparkSession.builder.appName(\"usos\").getOrCreate()\n",
    "\n",
    "hUsos={\n",
    "    'Asociar al uso principal':['AREA DE MEZANINE EN PH','DEPOSITO (LOCKERS) PH','DEPOSITO ALMACENAMIENTO PH','PARQUEO CUBIERTO NPH','PARQUEO CUBIERTO PH','PARQUEO LIBRE PH','PISCINAS EN NPH','PISCINAS EN PH','SECADEROS'],\n",
    "    'Comercio y servicios':['BODEGA COMERCIAL NPH','BODEGA COMERCIAL PH','BODEGA ECONOMICA','BODEGA ECONOMICA(SERVITECA,ESTA.SERVIC.)','BODEGAS DE ALMACENAMIENTO NPH','BODEGAS DE ALMACENAMIENTO PH','CENTRO COMERCIAL GRANDE NPH','CENTRO COMERCIAL GRANDE PH','CENTRO COMERCIAL MEDIANO NPH','CENTRO COMERCIAL MEDIANO PH','CENTRO COMERCIAL PEQUENO NPH','CENTRO COMERCIAL PEQUENO PH','CLUBES PEQUENOS','COMERCIO PUNTUAL NPH O HASTA 3 UNID PH','COMERCIO PUNTUAL PH','CORREDOR COMERCIAL NPH O HASTA 3 UNID PH','CORREDOR COMERCIAL PH','DEPOSITOS DE ALMACENAMIENTO NPH','EDIFICIOS DE PARQUEO NPH','EDIFICIOS DE PARQUEO PH','HOTELES NPH','HOTELES PH','MOTELES, AMOBLADOS, RESIDENCIAS NPH','MOTELES, AMOBLADOS, RESIDENCIAS PH','OFICINA BODEGA Y/O INDUSTRIA PH','OFICINAS EN BODEGAS Y/O INDUSTRIAS','OFICINAS OPERATIVAS','OFICINAS OPERATIVAS(ESTACIONES SERVICIO)','OFICINAS Y CONSULTORIOS NPH','OFICINAS Y CONSULTORIOS PH','PARQUES DE DIVERSION','RESTAURANTES NPH','RESTAURANTES PH','TEATROS Y CINEMAS NPH','TEATROS Y CINEMAS PH', 'PARQUES DE DIVERSION EN P.H.'],\n",
    "    'Dotacional':['AULAS DE CLASE','CEMENTERIOS','CENTROS MEDICOS EN PH','CLINICAS, HOSPITALES, CENTROS MEDICOS','CLUBES MAYOR EXTENSION','COLEGIOS EN PH','COLEGIOS Y UNIVERSIDADES 1 A 3 PISOS','COLEGIOS Y UNIVERSIDADES 4 O MAS PISOS','COLISEOS','CULTO RELIGIOS EN NPH','CULTO RELIGIOSO EN PH','IGLESIA PH','IGLESIAS','INSTALACIONES MILITARES','INSTITUCIONAL PH','INSTITUCIONAL PUNTUAL','MUSEOS','OFICINAS Y CONSULTORIOS (OFICIAL) NPH','OFICINAS Y CONSULTORIOS (OFICIAL) PH','PLAZAS DE MERCADO'],\n",
    "    'Industrial':['INDUSTRIA ARTESANAL','INDUSTRIA GRANDE','INDUSTRIA GRANDE PH','INDUSTRIA MEDIANA','INDUSTRIA MEDIANA PH'],\n",
    "    'Otro':['COCHERAS, MARRANERAS, PORQUERIZAS','ENRAMADAS, COBERTIZOS, CANEYES','ESTABLOS, PESEBRERAS','GALPONES, GALLINEROS','KIOSKOS','LOTE EN PROPIEDAD HORIZONTAL','PISTA AEROPUERTO','SILOS'],\n",
    "    'Residencial':['HABITACIONAL EN PROPIEDAD HORIZONTAL','HABITACIONAL MAYOR O IGUAL A 4 PISOS NPH O 3 PISOS PH','HABITACIONAL MENOR O IGUAL A 3 PISOS NPH','HABITACIONAL MENOR O IGUAL A 3 PISOS PH','MAYOR O IGUAL A 4 PISOS NPH O 3 PISOS PH']\n",
    " }\n",
    "\n",
    "def homoUso(uso_catastro:str,usos_agregados=hUsos):\n",
    "    '''\n",
    "    Toma el uso de la base de predios de catastro y lo agrega a \n",
    "    categorias mas sencillas de entender para el análisis de datos del OOVS\n",
    "\n",
    "    Args:\n",
    "        input_str (str): Cadena de texto que trae el uso para gregarlo.\n",
    "\n",
    "    Returns:\n",
    "        str: retorna el uso agragado y homologado por el equipo del observatorio\n",
    "    '''\n",
    "    for k,v in usos_agregados.items():\n",
    "        if uso_catastro in v:\n",
    "            return k\n",
    "        elif uso_catastro not in v:\n",
    "            pass\n",
    "\n",
    "# Registrar la función Python como UDF de Spark\n",
    "homoUso_udf = udf(homoUso, StringType())"
   ]
  },
  {
   "cell_type": "code",
   "execution_count": 0,
   "metadata": {
    "application/vnd.databricks.v1+cell": {
     "cellMetadata": {
      "byteLimit": 2048000,
      "rowLimit": 10000
     },
     "inputWidgets": {},
     "nuid": "3664f9e9-def4-40db-90af-d3a1d9ec4ba3",
     "showTitle": false,
     "title": ""
    }
   },
   "outputs": [],
   "source": [
    "# recorre el arreglo de los archivos de uso y crea un nuevo campo con el uso agregado, luego lo guarda en un archivo nuevo.\n",
    "for u in uso:\n",
    "    path = u.replace(\"/dbfs\",\"dbfs:\")\n",
    "    uso_pdf = spark.read.format(\"csv\").option(\"header\", \"true\").load(path)\n",
    "    df = uso_pdf.withColumn(\"UsoAgregado\", homoUso_udf(uso_pdf[\"DESCRIPCION_USO\"]))\n",
    "    new_name = path.replace('.csv','_agregado.csv') #uso homologado\n",
    "    df.write.csv(new_name, header=True, mode=\"overwrite\")"
   ]
  },
  {
   "cell_type": "code",
   "execution_count": 0,
   "metadata": {
    "application/vnd.databricks.v1+cell": {
     "cellMetadata": {
      "byteLimit": 2048000,
      "rowLimit": 10000
     },
     "inputWidgets": {},
     "nuid": "9b091482-a13b-435e-9ff8-a985de138c01",
     "showTitle": false,
     "title": ""
    }
   },
   "outputs": [],
   "source": [
    "[a.path for a in dbutils.fs.ls(\"/FileStore/tables/Catastro/2010/\")]"
   ]
  },
  {
   "cell_type": "markdown",
   "metadata": {
    "application/vnd.databricks.v1+cell": {
     "cellMetadata": {},
     "inputWidgets": {},
     "nuid": "a2960556-56fe-4bc6-b921-a7bb47a4adc6",
     "showTitle": false,
     "title": ""
    }
   },
   "source": [
    "# Conteo usos por lote"
   ]
  },
  {
   "cell_type": "code",
   "execution_count": 0,
   "metadata": {
    "application/vnd.databricks.v1+cell": {
     "cellMetadata": {
      "byteLimit": 2048000,
      "rowLimit": 10000
     },
     "inputWidgets": {},
     "nuid": "13a99755-842b-4cc2-8d3e-0dd923500d82",
     "showTitle": false,
     "title": ""
    }
   },
   "outputs": [],
   "source": [
    "from pyspark.sql.functions import sum\n",
    "uA = spark.read.format(\"csv\").option(\"header\", \"true\").load('dbfs:/FileStore/tables/Catastro/2010/usos_2010_agregado.csv/')"
   ]
  },
  {
   "cell_type": "code",
   "execution_count": 0,
   "metadata": {
    "application/vnd.databricks.v1+cell": {
     "cellMetadata": {
      "byteLimit": 2048000,
      "rowLimit": 10000
     },
     "inputWidgets": {},
     "nuid": "8c87e5d9-1866-4837-a81c-0e2d1ea229eb",
     "showTitle": false,
     "title": ""
    }
   },
   "outputs": [],
   "source": [
    "#uA.groupBy(\"LOTLOTE_ID\").count().show()\n",
    "\n",
    "conteoUsos = uA.groupBy(\"LOTLOTE_ID\").pivot(\"UsoAgregado\").count()\n",
    "#uA.select('DESCRIPCION_USO').where(uA.UsoAgregado.isNull()).groupBy(\"DESCRIPCION_USO\").count().display()"
   ]
  },
  {
   "cell_type": "code",
   "execution_count": 0,
   "metadata": {
    "application/vnd.databricks.v1+cell": {
     "cellMetadata": {
      "byteLimit": 2048000,
      "rowLimit": 10000
     },
     "inputWidgets": {},
     "nuid": "1e5dd748-4a4b-4a0c-85a0-8cd629bbecea",
     "showTitle": false,
     "title": ""
    }
   },
   "outputs": [],
   "source": [
    "conteoUsos.display()"
   ]
  },
  {
   "cell_type": "code",
   "execution_count": 0,
   "metadata": {
    "application/vnd.databricks.v1+cell": {
     "cellMetadata": {
      "byteLimit": 2048000,
      "rowLimit": 10000
     },
     "inputWidgets": {},
     "nuid": "3c3d0b79-bcc3-429b-a8d5-3fc1ba48f61f",
     "showTitle": false,
     "title": ""
    }
   },
   "outputs": [],
   "source": [
    "pred_example = spark.read.format(\"csv\").option(\"header\", \"true\").load('dbfs:/FileStore/tables/Catastro/2010/predios_2010.csv/')"
   ]
  },
  {
   "cell_type": "code",
   "execution_count": 0,
   "metadata": {
    "application/vnd.databricks.v1+cell": {
     "cellMetadata": {
      "byteLimit": 2048000,
      "rowLimit": 10000
     },
     "inputWidgets": {},
     "nuid": "3b7d4a0d-da99-47a4-8118-c7ba39a33a3e",
     "showTitle": false,
     "title": ""
    }
   },
   "outputs": [],
   "source": [
    "#pred_example.groupBy(\"LOTLOTE_ID\").count().display()\n",
    "agrupacion_predios = pred_example.groupBy(\"LOTLOTE_ID\").agg({\"AREA_TERRENO\":\"sum\", \"AREA_CONSTRUIDA\":\"sum\", \"VALOR_AVALUO\":\"sum\", \"CHIP\":\"count\"})\n",
    "\n",
    "agrupacion_predios = agrupacion_predios.withColumnRenamed(\"count(CHIP)\",\"NumPredios\") \\\n",
    "    .withColumnRenamed(\"sum(VALOR_AVALUO)\",\"ValorAvaluo\") \\\n",
    "    .withColumnRenamed(\"sum(AREA_CONSTRUIDA)\",\"AC\") \\\n",
    "    .withColumnRenamed(\"sum(AREA_TERRENO)\",\"AT\")\n",
    "\n",
    "union = agrupacion_predios.join(conteoUsos, 'LOTLOTE_ID', \"inner\")"
   ]
  },
  {
   "cell_type": "code",
   "execution_count": 0,
   "metadata": {
    "application/vnd.databricks.v1+cell": {
     "cellMetadata": {
      "byteLimit": 2048000,
      "rowLimit": 10000
     },
     "inputWidgets": {},
     "nuid": "27f98af3-e3e2-49f4-875f-6efb3f09af5d",
     "showTitle": false,
     "title": ""
    }
   },
   "outputs": [],
   "source": [
    "union.display()"
   ]
  },
  {
   "cell_type": "code",
   "execution_count": 0,
   "metadata": {
    "application/vnd.databricks.v1+cell": {
     "cellMetadata": {
      "byteLimit": 2048000,
      "rowLimit": 10000
     },
     "inputWidgets": {},
     "nuid": "89dd1700-a88a-4d14-aee5-b3adda3aa2ce",
     "showTitle": false,
     "title": ""
    }
   },
   "outputs": [],
   "source": [
    "ph_proce = spark.read.format(\"csv\").option(\"header\", \"true\").load('dbfs:/FileStore/tables/Catastro/2010/ph_2010.csv')\n",
    "ph_proce = ph_proce.select(\"LOTLOTE_ID\",\"NUMERO_UNIDADES_PH\")\n",
    "ph_proce = ph_proce.withColumnRenamed(\"NUMERO_UNIDADES_PH\",\"Unidades_En_PH\")\n",
    "\n",
    "union2 = union.join(ph_proce, 'LOTLOTE_ID')\n",
    "# este dato no tiene sentido cruzar solo los predios o lotes que tienen PH"
   ]
  },
  {
   "cell_type": "code",
   "execution_count": 0,
   "metadata": {
    "application/vnd.databricks.v1+cell": {
     "cellMetadata": {
      "byteLimit": 2048000,
      "rowLimit": 10000
     },
     "inputWidgets": {},
     "nuid": "699de2c6-f571-46f8-b0b6-4c038edcd5c5",
     "showTitle": false,
     "title": ""
    }
   },
   "outputs": [],
   "source": [
    "union2.display()"
   ]
  },
  {
   "cell_type": "markdown",
   "metadata": {
    "application/vnd.databricks.v1+cell": {
     "cellMetadata": {},
     "inputWidgets": {},
     "nuid": "d44ac062-58c5-45e0-abe2-3d7bce9f2a41",
     "showTitle": false,
     "title": ""
    }
   },
   "source": [
    "\n",
    "### revision de valores 2023"
   ]
  },
  {
   "cell_type": "code",
   "execution_count": 0,
   "metadata": {
    "application/vnd.databricks.v1+cell": {
     "cellMetadata": {
      "byteLimit": 2048000,
      "rowLimit": 10000
     },
     "inputWidgets": {},
     "nuid": "48079d22-7251-45b1-a26e-48719917f34e",
     "showTitle": false,
     "title": ""
    }
   },
   "outputs": [],
   "source": [
    "import pandas as pd\n",
    "#df = pd.read_csv('/dbfs/FileStore/tables/Catastro/2023_octubre/SOL0285553_23.txt', sep=';')"
   ]
  },
  {
   "cell_type": "code",
   "execution_count": 0,
   "metadata": {
    "application/vnd.databricks.v1+cell": {
     "cellMetadata": {
      "byteLimit": 2048000,
      "rowLimit": 10000
     },
     "inputWidgets": {},
     "nuid": "4ed09539-ede4-44dd-8e56-3ead4d120e41",
     "showTitle": false,
     "title": ""
    }
   },
   "outputs": [],
   "source": [
    "df1 = spark.read.format(\"csv\").option(\"header\", \"true\").option(\"delimiter\", \";\").load(\"dbfs:/FileStore/tables/Catastro/2023_octubre/SOL0285553_23.csv\")"
   ]
  },
  {
   "cell_type": "code",
   "execution_count": 0,
   "metadata": {
    "application/vnd.databricks.v1+cell": {
     "cellMetadata": {
      "byteLimit": 2048000,
      "rowLimit": 10000
     },
     "inputWidgets": {},
     "nuid": "07c9c7ae-383c-4b66-ae83-1501ad4e4ad2",
     "showTitle": false,
     "title": ""
    }
   },
   "outputs": [],
   "source": [
    "import pandas as pd\n",
    "import geopandas as gpd\n",
    "\n",
    "pdf = df1.toPandas()\n",
    "pdf['COORDENADA_X'] = pdf['COORDENADA_X'].apply(lambda x: x.replace(',','.')).astype('double')\n",
    "pdf['COORDENADA_Y'] = pdf['COORDENADA_Y'].apply(lambda x: x.replace(',','.')).astype('double')\n",
    "pdf = gpd.GeoDataFrame(pdf, geometry = gpd.points_from_xy(pdf['COORDENADA_X'].replace(',','.'), pdf['COORDENADA_Y'].replace(',','.')), crs= 'esri:102233')"
   ]
  },
  {
   "cell_type": "code",
   "execution_count": 0,
   "metadata": {
    "application/vnd.databricks.v1+cell": {
     "cellMetadata": {
      "byteLimit": 2048000,
      "rowLimit": 10000
     },
     "inputWidgets": {},
     "nuid": "7b368dc7-2787-4e85-80f3-f181bfc246bb",
     "showTitle": false,
     "title": ""
    }
   },
   "outputs": [],
   "source": [
    "def IdLote(dataset):\n",
    "    dataset['CODIGO_BARRIO'] = dataset['CODIGO_BARRIO'].astype(str)\n",
    "    dataset['CODIGO_MANZANA'] = dataset['CODIGO_MANZANA'].astype(str)\n",
    "    dataset['CODIGO_PREDIO'] = dataset['CODIGO_PREDIO'].astype(str)\n",
    "\n",
    "    for index, row in dataset.iterrows():\n",
    "        if len(row['CODIGO_BARRIO']) == 4:\n",
    "            dataset.at[index,'CODIGO_BARRIO'] = '00{}'.format(row['CODIGO_BARRIO'])\n",
    "        else:\n",
    "            pass\n",
    "\n",
    "        if len(row['CODIGO_MANZANA']) == 1:\n",
    "            dataset.at[index,'CODIGO_MANZANA'] = '00{}'.format(row['CODIGO_MANZANA'])\n",
    "        elif len(row['CODIGO_MANZANA']) == 2:\n",
    "            dataset.at[index,'CODIGO_MANZANA'] = '0{}'.format(row['CODIGO_MANZANA'])\n",
    "        else:\n",
    "            pass\n",
    "\n",
    "        if len(row['CODIGO_PREDIO']) == 1:\n",
    "            dataset.at[index,'CODIGO_PREDIO'] = '00{}'.format(row['CODIGO_PREDIO'])\n",
    "        elif len(row['CODIGO_PREDIO']) == 2:\n",
    "            dataset.at[index,'CODIGO_PREDIO'] = '0{}'.format(row['CODIGO_PREDIO'])\n",
    "        else:\n",
    "            pass\n",
    "\n",
    "    dataset['LOTLOTE_ID'] = (dataset['CODIGO_BARRIO'].astype(str) + dataset['CODIGO_MANZANA'].astype(str) + dataset['CODIGO_PREDIO'].astype(str)).astype(str)\n",
    "    return dataset"
   ]
  },
  {
   "cell_type": "code",
   "execution_count": 0,
   "metadata": {
    "application/vnd.databricks.v1+cell": {
     "cellMetadata": {
      "byteLimit": 2048000,
      "rowLimit": 10000
     },
     "inputWidgets": {},
     "nuid": "0a24ef9a-12b7-482f-95e8-2c5f191f4c8b",
     "showTitle": false,
     "title": ""
    }
   },
   "outputs": [],
   "source": [
    "pdf['AREA_CONSTRUIDA'] = pdf.AREA_CONSTRUIDA.fillna(0)\n",
    "pdf['AREA_CONSTRUIDA'] = pdf['AREA_CONSTRUIDA'].astype(str).apply(lambda p: p.replace(\",\",'.')).astype(float)\n",
    "pdf['AREA_TERRENO'] = pdf['AREA_TERRENO'].astype(str).apply(lambda p: p.replace(\",\",'.')).astype(float)\n",
    "pdf['VALOR_AVALUO'] = pdf['VALOR_AVALUO'].astype(str).apply(lambda p: p.replace(\",\",'.')).astype(float)\n",
    "\n",
    "pdf['AT_VM2'] =  pdf['VALOR_AVALUO'] / pdf['AREA_TERRENO']\n",
    "pdf['AC_VM2'] =  pdf['VALOR_AVALUO'] / pdf['AREA_CONSTRUIDA']"
   ]
  },
  {
   "cell_type": "code",
   "execution_count": 0,
   "metadata": {
    "application/vnd.databricks.v1+cell": {
     "cellMetadata": {
      "byteLimit": 2048000,
      "rowLimit": 10000
     },
     "inputWidgets": {},
     "nuid": "2378fb32-6f48-4832-8fdb-2b95470f596f",
     "showTitle": false,
     "title": ""
    }
   },
   "outputs": [],
   "source": [
    "import numpy as np\n",
    "predios = IdLote(pdf)\n",
    "\n",
    "table_pivot = pd.pivot_table(predios, values=['AT_VM2', 'AC_VM2', 'AREA_TERRENO', 'AREA_CONSTRUIDA'],\n",
    "                            index=['LOTLOTE_ID'], aggfunc={'AT_VM2': np.mean, 'AC_VM2': np.mean, 'AREA_TERRENO':np.sum, 'AREA_CONSTRUIDA':np.sum})\n",
    "                            \n",
    "table_pivot.replace([np.inf, -np.inf], np.nan).dropna(axis=0)"
   ]
  },
  {
   "cell_type": "code",
   "execution_count": 0,
   "metadata": {
    "application/vnd.databricks.v1+cell": {
     "cellMetadata": {
      "byteLimit": 2048000,
      "rowLimit": 10000
     },
     "inputWidgets": {},
     "nuid": "da53f71c-204c-4c23-8242-ad91352fc940",
     "showTitle": false,
     "title": ""
    }
   },
   "outputs": [],
   "source": [
    "import geopandas as gpd\n",
    "MetroL = gpd.read_file('/dbfs/FileStore/tables/shp/Lotes_centroide/Puntos_lote.shp')\n",
    "\n",
    "result = pd.merge(MetroL,table_pivot, how='inner',left_on=['LOTLOTE_ID'],right_on=['LOTLOTE_ID'])"
   ]
  },
  {
   "cell_type": "code",
   "execution_count": 0,
   "metadata": {
    "application/vnd.databricks.v1+cell": {
     "cellMetadata": {
      "byteLimit": 2048000,
      "rowLimit": 10000
     },
     "inputWidgets": {},
     "nuid": "3b723d9f-af7c-45c7-9249-81faa9645508",
     "showTitle": false,
     "title": ""
    }
   },
   "outputs": [],
   "source": [
    "union = gpd.GeoDataFrame(result, geometry=result.geometry, crs='4326')"
   ]
  },
  {
   "cell_type": "code",
   "execution_count": 0,
   "metadata": {
    "application/vnd.databricks.v1+cell": {
     "cellMetadata": {
      "byteLimit": 2048000,
      "rowLimit": 10000
     },
     "inputWidgets": {},
     "nuid": "722100b0-af80-48e3-896d-066878ad2b8d",
     "showTitle": false,
     "title": ""
    }
   },
   "outputs": [],
   "source": [
    "iso = gpd.read_file('/dbfs/FileStore/tables/shp/isocronas/Isocrona_por_estacion_TOTAL_2022.shp')"
   ]
  },
  {
   "cell_type": "code",
   "execution_count": 0,
   "metadata": {
    "application/vnd.databricks.v1+cell": {
     "cellMetadata": {
      "byteLimit": 2048000,
      "rowLimit": 10000
     },
     "inputWidgets": {},
     "nuid": "9835bd5d-9612-4015-a553-723feefa7cb0",
     "showTitle": false,
     "title": ""
    }
   },
   "outputs": [],
   "source": [
    "datos_relacionados = gpd.sjoin(union.to_crs('EPSG:4326'), iso.set_crs('EPSG:4326'), how='inner', predicate='intersects')"
   ]
  },
  {
   "cell_type": "code",
   "execution_count": 0,
   "metadata": {
    "application/vnd.databricks.v1+cell": {
     "cellMetadata": {
      "byteLimit": 2048000,
      "rowLimit": 10000
     },
     "inputWidgets": {},
     "nuid": "a792f2dc-a6c9-4e52-928b-f89960c6e9ed",
     "showTitle": false,
     "title": ""
    }
   },
   "outputs": [],
   "source": [
    "datos_relacionados.Tiempo.value_counts()"
   ]
  },
  {
   "cell_type": "code",
   "execution_count": 0,
   "metadata": {
    "application/vnd.databricks.v1+cell": {
     "cellMetadata": {
      "byteLimit": 2048000,
      "rowLimit": 10000
     },
     "inputWidgets": {},
     "nuid": "bd37e52b-bc90-442b-ad54-6473ec0a7892",
     "showTitle": false,
     "title": ""
    }
   },
   "outputs": [],
   "source": [
    "datos_relacionados.AT_VM2.isin([np.inf, -np.inf]).sum()"
   ]
  },
  {
   "cell_type": "code",
   "execution_count": 0,
   "metadata": {
    "application/vnd.databricks.v1+cell": {
     "cellMetadata": {
      "byteLimit": 2048000,
      "rowLimit": 10000
     },
     "inputWidgets": {},
     "nuid": "cfc14107-ae50-4b25-a322-4988729d2df8",
     "showTitle": false,
     "title": ""
    }
   },
   "outputs": [],
   "source": [
    "datos_relacionados = datos_relacionados.replace([np.inf, -np.inf], np.nan).dropna(axis=0)"
   ]
  },
  {
   "cell_type": "code",
   "execution_count": 0,
   "metadata": {
    "application/vnd.databricks.v1+cell": {
     "cellMetadata": {
      "byteLimit": 2048000,
      "rowLimit": 10000
     },
     "inputWidgets": {},
     "nuid": "5c100628-51ae-4c87-92a7-faafa4e0ab82",
     "showTitle": false,
     "title": ""
    }
   },
   "outputs": [],
   "source": [
    "datos_relacionados.groupby(by=['Tiempo'])['AC_VM2','AT_VM2'].mean()"
   ]
  },
  {
   "cell_type": "code",
   "execution_count": 0,
   "metadata": {
    "application/vnd.databricks.v1+cell": {
     "cellMetadata": {
      "byteLimit": 2048000,
      "rowLimit": 10000
     },
     "inputWidgets": {},
     "nuid": "e7fc6646-8088-4764-b8c1-682c9d787fc4",
     "showTitle": false,
     "title": ""
    }
   },
   "outputs": [],
   "source": [
    "#datos_relacionados.groupby(by = 'Tiempo').agg({'AC_VM2':np.mean})\n",
    "pd.set_option('display.float_format', '{.1f}'.format)\n",
    "\n",
    "datos_relacionados.groupby(by=['Tiempo'])['AC_VM2','AT_VM2'].mean()"
   ]
  }
 ],
 "metadata": {
  "application/vnd.databricks.v1+notebook": {
   "dashboards": [],
   "language": "python",
   "notebookMetadata": {
    "mostRecentlyExecutedCommandWithImplicitDF": {
     "commandId": 2687159396482680,
     "dataframes": [
      "_sqldf"
     ]
    },
    "pythonIndentUnit": 4
   },
   "notebookName": "Procesamiento",
   "widgets": {}
  },
  "language_info": {
   "name": "python"
  }
 },
 "nbformat": 4,
 "nbformat_minor": 0
}
