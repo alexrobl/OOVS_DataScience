{
 "cells": [
  {
   "cell_type": "code",
   "execution_count": 0,
   "metadata": {
    "application/vnd.databricks.v1+cell": {
     "cellMetadata": {
      "byteLimit": 2048000,
      "rowLimit": 10000
     },
     "inputWidgets": {},
     "nuid": "be0bc23d-9fe2-432d-b5fb-672f38a19916",
     "showTitle": false,
     "title": ""
    }
   },
   "outputs": [],
   "source": [
    "from pyspark.sql import SparkSession\n",
    "from pyspark import StorageLevel\n",
    "from sedona.spark import *\n",
    "from sedona.utils import SedonaKryoRegistrator, KryoSerializer\n",
    "\n",
    "from sedona.register.geo_registrator import SedonaRegistrator\n",
    "# configuración de spark y Sedona para datos geograficos\n",
    "spark = SparkSession.\\\n",
    "    builder.\\\n",
    "    master(\"local[*]\").\\\n",
    "    appName(\"Sedona App\").\\\n",
    "    config(\"spark.serializer\", KryoSerializer.getName).\\\n",
    "    config(\"spark.kryo.registrator\", SedonaKryoRegistrator.getName) .\\\n",
    "    config(\"spark.kryoserializer.buffer.max\", \"200gb\").\\\n",
    "    getOrCreate()\n",
    "\n",
    "#SedonaRegistrator.registerAll()\n",
    "SedonaContext.create(spark)"
   ]
  },
  {
   "cell_type": "code",
   "execution_count": 0,
   "metadata": {
    "application/vnd.databricks.v1+cell": {
     "cellMetadata": {
      "byteLimit": 2048000,
      "rowLimit": 10000
     },
     "inputWidgets": {},
     "nuid": "45023b3e-bb01-4e91-abd3-e3f20016084a",
     "showTitle": false,
     "title": ""
    }
   },
   "outputs": [],
   "source": [
    "%ls -la '/dbfs/FileStore/tables/Catastro/'\n",
    "#%mv '/dbfs/FileStore/tables/Catastro/2023' '/dbfs/FileStore/tables/Catastro/2023_entrega_con_fallos'\n",
    "#%rm -rf '/dbfs/FileStore/tables/Catastro/2023_octubre'"
   ]
  },
  {
   "cell_type": "markdown",
   "metadata": {
    "application/vnd.databricks.v1+cell": {
     "cellMetadata": {
      "byteLimit": 2048000,
      "rowLimit": 10000
     },
     "inputWidgets": {},
     "nuid": "adf0de62-de55-4ed0-ace1-580c79719997",
     "showTitle": false,
     "title": ""
    }
   },
   "source": [
    "# Funciones generales\n",
    "> **_NOTA:_**  hacer un archivo compilado de funciones y cargarlo como comando."
   ]
  },
  {
   "cell_type": "code",
   "execution_count": 0,
   "metadata": {
    "application/vnd.databricks.v1+cell": {
     "cellMetadata": {
      "byteLimit": 2048000,
      "rowLimit": 10000
     },
     "inputWidgets": {},
     "nuid": "d64a6b73-0095-4018-be28-4f6f90602122",
     "showTitle": false,
     "title": ""
    }
   },
   "outputs": [],
   "source": [
    "# se definen los usos definidos y agrupados por los profesionales del equipo OOVS\n",
    "from pyspark.sql import SparkSession\n",
    "from pyspark.sql.functions import udf\n",
    "from pyspark.sql.types import StringType\n",
    "\n",
    "# Iniciar una sesión de Spark\n",
    "spark = SparkSession.builder.appName(\"usos\").getOrCreate()\n",
    "\n",
    "hUsos={\n",
    "    'Asociar al uso principal':['AREA DE MEZANINE EN PH','DEPOSITO (LOCKERS) PH','DEPOSITO ALMACENAMIENTO PH','PARQUEO CUBIERTO NPH','PARQUEO CUBIERTO PH','PARQUEO LIBRE PH','PISCINAS EN NPH','PISCINAS EN PH','SECADEROS'],\n",
    "    'Comercio y servicios':['BODEGA COMERCIAL NPH','BODEGA COMERCIAL PH','BODEGA ECONOMICA','BODEGA ECONOMICA(SERVITECA,ESTA.SERVIC.)','BODEGAS DE ALMACENAMIENTO NPH','BODEGAS DE ALMACENAMIENTO PH','CENTRO COMERCIAL GRANDE NPH','CENTRO COMERCIAL GRANDE PH','CENTRO COMERCIAL MEDIANO NPH','CENTRO COMERCIAL MEDIANO PH','CENTRO COMERCIAL PEQUENO NPH','CENTRO COMERCIAL PEQUENO PH','CLUBES PEQUENOS','COMERCIO PUNTUAL NPH O HASTA 3 UNID PH','COMERCIO PUNTUAL PH','CORREDOR COMERCIAL NPH O HASTA 3 UNID PH','CORREDOR COMERCIAL PH','DEPOSITOS DE ALMACENAMIENTO NPH','EDIFICIOS DE PARQUEO NPH','EDIFICIOS DE PARQUEO PH','HOTELES NPH','HOTELES PH','MOTELES, AMOBLADOS, RESIDENCIAS NPH','MOTELES, AMOBLADOS, RESIDENCIAS PH','OFICINA BODEGA Y/O INDUSTRIA PH','OFICINAS EN BODEGAS Y/O INDUSTRIAS','OFICINAS OPERATIVAS','OFICINAS OPERATIVAS(ESTACIONES SERVICIO)','OFICINAS Y CONSULTORIOS NPH','OFICINAS Y CONSULTORIOS PH','PARQUES DE DIVERSION','RESTAURANTES NPH','RESTAURANTES PH','TEATROS Y CINEMAS NPH','TEATROS Y CINEMAS PH', 'PARQUES DE DIVERSION EN P.H.'],\n",
    "    'Dotacional':['AULAS DE CLASE','CEMENTERIOS','CENTROS MEDICOS EN PH','CLINICAS, HOSPITALES, CENTROS MEDICOS','CLUBES MAYOR EXTENSION','COLEGIOS EN PH','COLEGIOS Y UNIVERSIDADES 1 A 3 PISOS','COLEGIOS Y UNIVERSIDADES 4 O MAS PISOS','COLISEOS','CULTO RELIGIOS EN NPH','CULTO RELIGIOSO EN PH','IGLESIA PH','IGLESIAS','INSTALACIONES MILITARES','INSTITUCIONAL PH','INSTITUCIONAL PUNTUAL','MUSEOS','OFICINAS Y CONSULTORIOS (OFICIAL) NPH','OFICINAS Y CONSULTORIOS (OFICIAL) PH','PLAZAS DE MERCADO'],\n",
    "    'Industrial':['INDUSTRIA ARTESANAL','INDUSTRIA GRANDE','INDUSTRIA GRANDE PH','INDUSTRIA MEDIANA','INDUSTRIA MEDIANA PH'],\n",
    "    'Otro':['COCHERAS, MARRANERAS, PORQUERIZAS','ENRAMADAS, COBERTIZOS, CANEYES','ESTABLOS, PESEBRERAS','GALPONES, GALLINEROS','KIOSKOS','LOTE EN PROPIEDAD HORIZONTAL','PISTA AEROPUERTO','SILOS'],\n",
    "    'Residencial':['HABITACIONAL EN PROPIEDAD HORIZONTAL','HABITACIONAL MAYOR O IGUAL A 4 PISOS NPH O 3 PISOS PH','HABITACIONAL MENOR O IGUAL A 3 PISOS NPH','HABITACIONAL MENOR O IGUAL A 3 PISOS PH','MAYOR O IGUAL A 4 PISOS NPH O 3 PISOS PH']\n",
    " }\n",
    "\n",
    "def homoUso(uso_catastro:str,usos_agregados=hUsos):\n",
    "    '''\n",
    "    Toma el uso de la base de predios de catastro y lo agrega a \n",
    "    categorias mas sencillas de entender para el análisis de datos del OOVS\n",
    "\n",
    "    Args:\n",
    "        input_str (str): Cadena de texto que trae el uso para gregarlo.\n",
    "\n",
    "    Returns:\n",
    "        str: retorna el uso agragado y homologado por el equipo del observatorio\n",
    "    '''\n",
    "    for k,v in usos_agregados.items():\n",
    "        if uso_catastro in v:\n",
    "            return k\n",
    "        elif uso_catastro not in v:\n",
    "            pass\n",
    "\n",
    "def IdLote(dataset):\n",
    "    dataset['CODIGO_BARRIO'] = dataset['CODIGO_BARRIO'].astype(str)\n",
    "    dataset['CODIGO_MANZANA'] = dataset['CODIGO_MANZANA'].astype(str)\n",
    "    dataset['CODIGO_PREDIO'] = dataset['CODIGO_PREDIO'].astype(str)\n",
    "\n",
    "    for index, row in dataset.iterrows():\n",
    "        if len(row['CODIGO_BARRIO']) == 4:\n",
    "            dataset.at[index,'CODIGO_BARRIO'] = '00{}'.format(row['CODIGO_BARRIO'])\n",
    "        else:\n",
    "            pass\n",
    "\n",
    "        if len(row['CODIGO_MANZANA']) == 1:\n",
    "            dataset.at[index,'CODIGO_MANZANA'] = '00{}'.format(row['CODIGO_MANZANA'])\n",
    "        elif len(row['CODIGO_MANZANA']) == 2:\n",
    "            dataset.at[index,'CODIGO_MANZANA'] = '0{}'.format(row['CODIGO_MANZANA'])\n",
    "        else:\n",
    "            pass\n",
    "\n",
    "        if len(row['CODIGO_PREDIO']) == 1:\n",
    "            dataset.at[index,'CODIGO_PREDIO'] = '00{}'.format(row['CODIGO_PREDIO'])\n",
    "        elif len(row['CODIGO_PREDIO']) == 2:\n",
    "            dataset.at[index,'CODIGO_PREDIO'] = '0{}'.format(row['CODIGO_PREDIO'])\n",
    "        else:\n",
    "            pass\n",
    "\n",
    "    dataset['LOTLOTE_ID'] = (dataset['CODIGO_BARRIO'].astype(str) + dataset['CODIGO_MANZANA'].astype(str) + dataset['CODIGO_PREDIO'].astype(str)).astype(str)\n",
    "    return dataset\n",
    "\n",
    "def usoFinal(row):\n",
    "    lista_nombres = ['Asociar Al Uso Principal','Dotacional','Industrial','Otro','Residencial','Comercio Y Servicios']\n",
    "    lista = [row['Asociar al uso principal'],row['Dotacional'],row['Industrial'],row['Otro'],row['Residencial'],row['Comercio y servicios']]\n",
    "    maximo = max(lista)\n",
    "    if maximo == 0:\n",
    "        return \"Uso no reportado\"\n",
    "    else:\n",
    "        if lista.index(maximo)==0:\n",
    "            listaAsignacion_nombres = ['Dotacional','Industrial','Otro','Residencial','Comercio Y Servicios',]\n",
    "            listaAsignacion = [row['Dotacional'],row['Industrial'],row['Otro'],row['Residencial'], row['Comercio y servicios']]\n",
    "            asignacion = max(listaAsignacion)\n",
    "            return listaAsignacion_nombres[listaAsignacion.index(asignacion)]\n",
    "        else:\n",
    "            return lista_nombres[lista.index(maximo)]"
   ]
  },
  {
   "cell_type": "code",
   "execution_count": 0,
   "metadata": {
    "application/vnd.databricks.v1+cell": {
     "cellMetadata": {
      "byteLimit": 2048000,
      "rowLimit": 10000
     },
     "inputWidgets": {},
     "nuid": "eeea94d0-e527-4c45-b5c5-b1e7f0e7aae7",
     "showTitle": false,
     "title": ""
    }
   },
   "outputs": [],
   "source": [
    "import pandas as pd\n",
    "import geopandas as gpd\n",
    "import numpy as np\n",
    "\n",
    "df1 = spark.read.format(\"csv\").option(\"header\", \"true\").option(\"delimiter\", \";\").load(\"dbfs:/FileStore/tables/Catastro/2023_octubre/SOL0285553_23.csv\")\n",
    "\n",
    "pdf = df1.toPandas()\n",
    "pdf['COORDENADA_X'] = pdf['COORDENADA_X'].apply(lambda x: x.replace(',','.')).astype('double')\n",
    "pdf['COORDENADA_Y'] = pdf['COORDENADA_Y'].apply(lambda x: x.replace(',','.')).astype('double')\n",
    "pdf = gpd.GeoDataFrame(pdf, geometry = gpd.points_from_xy(pdf['COORDENADA_X'].replace(',','.'), pdf['COORDENADA_Y'].replace(',','.')), crs= 'esri:102233')\n",
    "\n",
    "\n",
    "pdf['AREA_CONSTRUIDA'] = pdf.AREA_CONSTRUIDA.fillna(0)\n",
    "pdf['AREA_CONSTRUIDA'] = pdf['AREA_CONSTRUIDA'].astype(str).apply(lambda p: p.replace(\",\",'.')).astype(float)\n",
    "pdf['AREA_TERRENO'] = pdf['AREA_TERRENO'].astype(str).apply(lambda p: p.replace(\",\",'.')).astype(float)\n",
    "pdf['VALOR_AVALUO'] = pdf['VALOR_AVALUO'].astype(str).apply(lambda p: p.replace(\",\",'.')).astype(float)\n",
    "\n",
    "pdf['AT_VM2'] =  pdf['VALOR_AVALUO'] / pdf['AREA_TERRENO']\n",
    "pdf['AC_VM2'] =  pdf['VALOR_AVALUO'] / pdf['AREA_CONSTRUIDA']\n",
    "\n",
    "predios = IdLote(pdf)\n",
    "\n",
    "table_pivot = pd.pivot_table(predios, values=['AT_VM2', 'AC_VM2', 'AREA_TERRENO', 'AREA_CONSTRUIDA'],\n",
    "                            index=['LOTLOTE_ID'], aggfunc={'AT_VM2': np.mean, 'AC_VM2': np.mean, 'AREA_TERRENO':np.sum, 'AREA_CONSTRUIDA':np.sum})\n",
    "                            \n",
    "table_pivot = table_pivot.replace([np.inf, -np.inf], np.nan).dropna(axis=0)\n",
    "\n",
    "iso = gpd.read_file('/dbfs/FileStore/tables/shp/isocronas/Isocrona_por_estacion_TOTAL_2022.shp')\n",
    "MetroL = gpd.read_file('/dbfs/FileStore/tables/shp/Lotes_centroide/Puntos_lote.shp')\n",
    "\n",
    "\n",
    "result = pd.merge(MetroL,table_pivot, how='inner',left_on=['LOTLOTE_ID'],right_on=['LOTLOTE_ID'])\n",
    "\n",
    "union = gpd.GeoDataFrame(result, geometry=result.geometry, crs='4326')\n",
    "datos_relacionados = gpd.sjoin(union.to_crs('EPSG:4326'), iso.set_crs('EPSG:4326'), how='inner', predicate='intersects')\n",
    "\n",
    "datos_relacionados.groupby(by=['Tiempo'])['AC_VM2','AT_VM2'].mean()"
   ]
  },
  {
   "cell_type": "markdown",
   "metadata": {
    "application/vnd.databricks.v1+cell": {
     "cellMetadata": {
      "byteLimit": 2048000,
      "rowLimit": 10000
     },
     "inputWidgets": {},
     "nuid": "d3f6419c-61c7-4a19-84f5-0b67bcc3adc1",
     "showTitle": false,
     "title": ""
    }
   },
   "source": [
    "# Usos"
   ]
  },
  {
   "cell_type": "code",
   "execution_count": 0,
   "metadata": {
    "application/vnd.databricks.v1+cell": {
     "cellMetadata": {
      "byteLimit": 2048000,
      "rowLimit": 10000
     },
     "inputWidgets": {},
     "nuid": "82102161-5ef1-4091-9418-9af950fa344f",
     "showTitle": false,
     "title": ""
    }
   },
   "outputs": [],
   "source": [
    "# cargo Usos como un solo archivo, ph o nph. La estructura es la misma.\n",
    "uso_pdf = spark.read.format(\"csv\").option(\"header\", \"true\").option(\"delimiter\", \";\").load('dbfs:/FileStore/tables/Catastro/2023_octubre/usos2023.csv')\n",
    "\n",
    "# Registrar la función Python como UDF de Spark para usos\n",
    "homoUso_udf = udf(homoUso, StringType())\n",
    "# calculo el uso agregado\n",
    "df = uso_pdf.withColumn(\"UsoAgregado\", homoUso_udf(uso_pdf[\"DESCRIPCION_USO\"]))\n",
    "\n",
    "# paso el dataset de predios de pandas a pyspark\n",
    "l2023_pdf = spark.createDataFrame(predios)\n",
    "\n",
    "# Hago interseccion con los CHIPS, en este punto es posible encontrar repetidos de un mismo CHIP que segun catastro puede tener muchos usos. Lo anterior se soluciona cuando se haga la agrupación\n",
    "intersection_predios = df.join(l2023_pdf, 'CHIP', \"inner\")\n",
    "\n",
    "# agrupo!\n",
    "inter=intersection_predios.groupBy(\"LOTLOTE_ID\").pivot(\"UsoAgregado\").count()"
   ]
  },
  {
   "cell_type": "code",
   "execution_count": 0,
   "metadata": {
    "application/vnd.databricks.v1+cell": {
     "cellMetadata": {
      "byteLimit": 2048000,
      "rowLimit": 10000
     },
     "inputWidgets": {},
     "nuid": "9c0c7615-c085-43ca-a419-a016d3ba66bc",
     "showTitle": false,
     "title": ""
    }
   },
   "outputs": [],
   "source": [
    "# los valores nulos del dataset se les asigna un valor, en este caso '0'\n",
    "inter = inter.na.fill(value=0)\n",
    "\n",
    "# paso a pandas, mas adelante es util al hacer la union.\n",
    "pd_intersect = inter.toPandas()\n",
    "\n",
    "# cambio el tipo de dato para los valores de interes.\n",
    "pd_intersect = pd_intersect.astype({'Asociar al uso principal':'int', 'Comercio y servicios':'int', 'Dotacional':'int',\n",
    "       'Industrial':'int', 'Otro':'int', 'Residencial':'int'})\n",
    "\n",
    "# aplico la función para sacar el uso principal.\n",
    "pd_intersect['Conteos'] = pd_intersect['Asociar al uso principal'] + pd_intersect['Comercio y servicios'] + pd_intersect['Dotacional'] + pd_intersect['Industrial'] + pd_intersect['Otro'] + pd_intersect['Residencial']\n",
    "\n",
    "pd_intersect['usoPrincipal'] = pd_intersect.apply(usoFinal, axis=1)\n"
   ]
  },
  {
   "cell_type": "code",
   "execution_count": 0,
   "metadata": {
    "application/vnd.databricks.v1+cell": {
     "cellMetadata": {
      "byteLimit": 2048000,
      "rowLimit": 10000
     },
     "inputWidgets": {},
     "nuid": "6a703c1b-8b04-425b-a97f-c2023594214c",
     "showTitle": false,
     "title": ""
    }
   },
   "outputs": [],
   "source": [
    "print(pd_intersect['Conteos'].sum())\n",
    "print(intersection_predios.count())"
   ]
  },
  {
   "cell_type": "code",
   "execution_count": 0,
   "metadata": {
    "application/vnd.databricks.v1+cell": {
     "cellMetadata": {
      "byteLimit": 2048000,
      "rowLimit": 10000
     },
     "inputWidgets": {},
     "nuid": "e5b11f4a-385f-4dd6-bf6e-625d12bb44e2",
     "showTitle": false,
     "title": ""
    }
   },
   "outputs": [],
   "source": [
    "# COMPILO 2023 PARA LA REVISION DE VALOR CATASTRAL POR METRO CUADRADO.\n",
    "compilado_2023 = pd.merge(\n",
    "    datos_relacionados, pd_intersect,\n",
    "    how='left',\n",
    "    left_on=['LOTLOTE_ID'],\n",
    "    right_on=['LOTLOTE_ID'])"
   ]
  },
  {
   "cell_type": "code",
   "execution_count": 0,
   "metadata": {
    "application/vnd.databricks.v1+cell": {
     "cellMetadata": {
      "byteLimit": 2048000,
      "rowLimit": 10000
     },
     "inputWidgets": {},
     "nuid": "51cc3521-6dd5-4db5-9142-a4b850ebfa9a",
     "showTitle": false,
     "title": ""
    }
   },
   "outputs": [],
   "source": [
    "import missingno as msno\n",
    "#compilado_2023.isna().sum().to_frame()"
   ]
  },
  {
   "cell_type": "code",
   "execution_count": 0,
   "metadata": {
    "application/vnd.databricks.v1+cell": {
     "cellMetadata": {
      "byteLimit": 2048000,
      "rowLimit": 10000
     },
     "inputWidgets": {},
     "nuid": "8c1ba82e-3304-4238-ae12-d31825f7c9ce",
     "showTitle": false,
     "title": ""
    }
   },
   "outputs": [],
   "source": [
    "compilado_2023['usoPrincipal'].value_counts()\n",
    "compilado_2023.groupby(by=['usoPrincipal'])['AC_VM2','AT_VM2'].mean()"
   ]
  },
  {
   "cell_type": "code",
   "execution_count": 0,
   "metadata": {
    "application/vnd.databricks.v1+cell": {
     "cellMetadata": {
      "byteLimit": 2048000,
      "rowLimit": 10000
     },
     "inputWidgets": {},
     "nuid": "97bad52b-cb9b-4eca-9ded-89c76027b819",
     "showTitle": false,
     "title": ""
    }
   },
   "outputs": [],
   "source": [
    "# MUESTRO LA AGRUPACION PARA EL USO PRINCIPAL, MOSTRANDO LAS MEDIAS DE AC_VM2 Y AT_VM2\n",
    "compilado_2023.groupby(by=['usoPrincipal'])['AC_VM2','AT_VM2'].mean()"
   ]
  },
  {
   "cell_type": "code",
   "execution_count": 0,
   "metadata": {
    "application/vnd.databricks.v1+cell": {
     "cellMetadata": {
      "byteLimit": 2048000,
      "rowLimit": 10000
     },
     "inputWidgets": {},
     "nuid": "6639a130-919f-4f50-a73c-0c9ac6de2b62",
     "showTitle": false,
     "title": ""
    }
   },
   "outputs": [],
   "source": [
    "compilado_2023[compilado_2023['LOTLOTE_ID']=='004607091014']"
   ]
  },
  {
   "cell_type": "code",
   "execution_count": 0,
   "metadata": {
    "application/vnd.databricks.v1+cell": {
     "cellMetadata": {
      "byteLimit": 2048000,
      "rowLimit": 10000
     },
     "inputWidgets": {},
     "nuid": "82c54942-e751-4cfd-827e-54703fad8223",
     "showTitle": false,
     "title": ""
    }
   },
   "outputs": [],
   "source": [
    "import pandas as pd\n",
    "pd.pivot_table(compilado_2023, values='layer', index=['usoPrincipal'],\n",
    "                    aggfunc=\"count\")"
   ]
  },
  {
   "cell_type": "code",
   "execution_count": 0,
   "metadata": {
    "application/vnd.databricks.v1+cell": {
     "cellMetadata": {
      "byteLimit": 2048000,
      "rowLimit": 10000
     },
     "inputWidgets": {},
     "nuid": "c7c798e9-d69c-480c-95bc-ad762503fee8",
     "showTitle": false,
     "title": ""
    }
   },
   "outputs": [],
   "source": [
    "compilado_2023[compilado_2023['Asociar al uso principal']>0]"
   ]
  },
  {
   "cell_type": "code",
   "execution_count": 0,
   "metadata": {
    "application/vnd.databricks.v1+cell": {
     "cellMetadata": {
      "byteLimit": 2048000,
      "rowLimit": 10000
     },
     "inputWidgets": {},
     "nuid": "58591152-8475-4723-9b81-187add38ff2c",
     "showTitle": false,
     "title": ""
    }
   },
   "outputs": [],
   "source": [
    "compilado_2023['usoPrincipal'].value_counts()"
   ]
  },
  {
   "cell_type": "code",
   "execution_count": 0,
   "metadata": {
    "application/vnd.databricks.v1+cell": {
     "cellMetadata": {
      "byteLimit": 2048000,
      "rowLimit": 10000
     },
     "inputWidgets": {},
     "nuid": "21018701-e20c-4cbd-a091-e4103cb98e46",
     "showTitle": false,
     "title": ""
    }
   },
   "outputs": [],
   "source": [
    "compilado_2023['usoPrincipal'].count()"
   ]
  }
 ],
 "metadata": {
  "application/vnd.databricks.v1+notebook": {
   "dashboards": [],
   "language": "python",
   "notebookMetadata": {
    "pythonIndentUnit": 4
   },
   "notebookName": "Procesamiento 2023",
   "widgets": {}
  }
 },
 "nbformat": 4,
 "nbformat_minor": 0
}
