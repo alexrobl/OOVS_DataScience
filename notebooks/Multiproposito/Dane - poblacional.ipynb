{
 "cells": [
  {
   "cell_type": "markdown",
   "metadata": {
    "application/vnd.databricks.v1+cell": {
     "cellMetadata": {},
     "inputWidgets": {},
     "nuid": "bd839189-62d0-41d7-878c-9948e349e054",
     "showTitle": false,
     "title": ""
    }
   },
   "source": [
    "# procesamiento de Base de datos DANE."
   ]
  },
  {
   "cell_type": "code",
   "execution_count": 0,
   "metadata": {
    "application/vnd.databricks.v1+cell": {
     "cellMetadata": {
      "byteLimit": 2048000,
      "rowLimit": 10000
     },
     "inputWidgets": {},
     "nuid": "63f32841-62ef-40e8-aad7-eb4a6d1dbb79",
     "showTitle": false,
     "title": ""
    }
   },
   "outputs": [],
   "source": [
    "[a.path for a in dbutils.fs.ls(\"/FileStore/tables/DANE/censo2018/\")]"
   ]
  },
  {
   "cell_type": "code",
   "execution_count": 0,
   "metadata": {
    "application/vnd.databricks.v1+cell": {
     "cellMetadata": {
      "byteLimit": 2048000,
      "rowLimit": 10000
     },
     "inputWidgets": {},
     "nuid": "d3b2d5a8-c269-4fba-b182-474a9a61f009",
     "showTitle": false,
     "title": ""
    }
   },
   "outputs": [],
   "source": [
    "from pyspark.sql import SparkSession\n",
    "from pyspark import StorageLevel\n",
    "from sedona.spark import *\n",
    "from sedona.utils import SedonaKryoRegistrator, KryoSerializer\n",
    "\n",
    "from sedona.register.geo_registrator import SedonaRegistrator\n",
    "\n",
    "# configuración de spark y Sedona para datos geograficos\n",
    "spark = SparkSession.\\\n",
    "    builder.\\\n",
    "    master(\"local[*]\").\\\n",
    "    appName(\"Sedona App\").\\\n",
    "    config(\"spark.serializer\", KryoSerializer.getName).\\\n",
    "    config(\"spark.kryo.registrator\", SedonaKryoRegistrator.getName) .\\\n",
    "    config(\"spark.kryoserializer.buffer.max\", \"150000m\").\\\n",
    "    getOrCreate()\n",
    "    #config(\"sedona.global.charset\", \"utf8\").\\\n",
    "    \n",
    "#SedonaRegistrator.registerAll()\n",
    "SedonaContext.create(spark)\n"
   ]
  },
  {
   "cell_type": "code",
   "execution_count": 0,
   "metadata": {
    "application/vnd.databricks.v1+cell": {
     "cellMetadata": {
      "byteLimit": 2048000,
      "rowLimit": 10000
     },
     "inputWidgets": {},
     "nuid": "e8bccf30-beeb-4bff-be07-f3f204f4360a",
     "showTitle": false,
     "title": ""
    }
   },
   "outputs": [],
   "source": [
    "# censo poblacional 2018\n",
    "from sedona.core.formatMapper.shapefileParser import ShapefileReader\n",
    "from sedona.utils.adapter import Adapter\n",
    "sc = spark.sparkContext\n",
    "sc.setSystemProperty(\"sedona.global.charset\", \"utf8\")\n",
    "#carga el censo 2018 del dane\n",
    "censo = ShapefileReader.readToGeometryRDD(sc, \"dbfs:/FileStore/tables/DANE/censo2018/\")\n",
    "#carga las isocronas\n",
    "Isocrona = ShapefileReader.readToGeometryRDD(sc, \"dbfs:/FileStore/tables/shp/isocronas/\")\n",
    "# carga de espacio publico\n",
    "ep = ShapefileReader.readToGeometryRDD(sc, \"dbfs:/FileStore/tables/EP/\")\n",
    "#asigna el sistema de proyección, en este caso proyeccion geografica.\n",
    "censo.CRSTransform('epsg:4326','epsg:4326')\n",
    "Isocrona.CRSTransform('epsg:4326','epsg:4326')\n",
    "ep.CRSTransform('epsg:4326','epsg:4326')"
   ]
  },
  {
   "cell_type": "code",
   "execution_count": 0,
   "metadata": {
    "application/vnd.databricks.v1+cell": {
     "cellMetadata": {
      "byteLimit": 2048000,
      "rowLimit": 10000
     },
     "inputWidgets": {},
     "nuid": "d509bfcd-46f3-4dc8-85c6-dea63f0f527e",
     "showTitle": false,
     "title": ""
    }
   },
   "outputs": [],
   "source": [
    "from sedona.sql.st_functions import ST_Centroid\n",
    "#  para no tener desbordamientos en la memoria del cluster se deben convertir los poligonos a un punto centroide\n",
    "censo_df = Adapter.toDf(censo, spark)\n",
    "censopoint_df = censo_df.withColumn(\"geometry\", ST_Centroid(censo_df[\"geometry\"]))\n",
    "censo = Adapter.toSpatialRdd(censopoint_df,\"geometry\")\n",
    "censo.CRSTransform('epsg:4326','epsg:4326')"
   ]
  },
  {
   "cell_type": "code",
   "execution_count": 0,
   "metadata": {
    "application/vnd.databricks.v1+cell": {
     "cellMetadata": {
      "byteLimit": 2048000,
      "rowLimit": 10000
     },
     "inputWidgets": {},
     "nuid": "7600f76e-7bb4-4c66-b20f-6432a2262496",
     "showTitle": false,
     "title": ""
    }
   },
   "outputs": [],
   "source": [
    "#Isocrona.rawSpatialRDD.map(lambda x: x.getUserData())\n",
    "#Isocrona.map(lambda x: x[0].geom.centroid).collect()"
   ]
  },
  {
   "cell_type": "code",
   "execution_count": 0,
   "metadata": {
    "application/vnd.databricks.v1+cell": {
     "cellMetadata": {
      "byteLimit": 2048000,
      "rowLimit": 10000
     },
     "inputWidgets": {},
     "nuid": "d0b81fa2-9abf-475e-869f-15a916cd0cf4",
     "showTitle": false,
     "title": ""
    }
   },
   "outputs": [],
   "source": [
    "from sedona.utils.adapter import Adapter\n",
    "censo_df = Adapter.toDf(censo, spark)\n",
    "Isocrona_df = Adapter.toDf(Isocrona, spark)\n",
    "ep_df = Adapter.toDf(ep, spark)\n",
    "c=[field.name for field in censo_df.schema.fields]\n",
    "c.remove('geometry')\n",
    "i = [field.name for field in Isocrona_df.schema.fields]\n",
    "i.remove('geometry')\n",
    "atributos_join = i+c\n",
    "atributos_join.insert(0, 'geom')\n",
    "# atributos de cruce en a espacio publico\n",
    "e=[field.name for field in ep_df.schema.fields]\n",
    "e.remove('geometry')\n",
    "atributosEP_join = i+e\n",
    "atributosEP_join.insert(0, 'geom')"
   ]
  },
  {
   "cell_type": "code",
   "execution_count": 0,
   "metadata": {
    "application/vnd.databricks.v1+cell": {
     "cellMetadata": {
      "byteLimit": 2048000,
      "rowLimit": 10000
     },
     "inputWidgets": {},
     "nuid": "df41bad8-c07b-49bb-8744-553e5da7c6d5",
     "showTitle": false,
     "title": ""
    }
   },
   "outputs": [],
   "source": [
    "from sedona.core.spatialOperator import JoinQuery\n",
    "# haciendo las particiones espaciales\n",
    "censo.analyze()\n",
    "censo.spatialPartitioning(GridType.KDBTREE, 4)\n",
    "Isocrona.spatialPartitioning(censo.getPartitioner())\n",
    "ep.spatialPartitioning(censo.getPartitioner())"
   ]
  },
  {
   "cell_type": "code",
   "execution_count": 0,
   "metadata": {
    "application/vnd.databricks.v1+cell": {
     "cellMetadata": {
      "byteLimit": 2048000,
      "rowLimit": 10000
     },
     "inputWidgets": {},
     "nuid": "8d5bd788-31c0-45ee-b494-0ad5b5d24b62",
     "showTitle": false,
     "title": ""
    }
   },
   "outputs": [],
   "source": [
    "from sedona.core.enums import GridType\n",
    "from sedona.core.enums import IndexType\n",
    "from sedona.core.spatialOperator import JoinQuery\n",
    "using_index = True\n",
    "result_censo = JoinQuery.SpatialJoinQueryFlat(censo, Isocrona, using_index, True)\n",
    "result_ep = JoinQuery.SpatialJoinQueryFlat(ep, Isocrona, using_index, True)"
   ]
  },
  {
   "cell_type": "code",
   "execution_count": 0,
   "metadata": {
    "application/vnd.databricks.v1+cell": {
     "cellMetadata": {
      "byteLimit": 2048000,
      "rowLimit": 10000
     },
     "inputWidgets": {},
     "nuid": "fa757c22-9e04-47df-bc7a-70b8e440fad7",
     "showTitle": false,
     "title": ""
    }
   },
   "outputs": [],
   "source": [
    "#result.sample(withReplacement=False, fraction=0.01, seed=3).map(lambda x: x[1]).collect()"
   ]
  },
  {
   "cell_type": "code",
   "execution_count": 0,
   "metadata": {
    "application/vnd.databricks.v1+cell": {
     "cellMetadata": {
      "byteLimit": 2048000,
      "rowLimit": 10000
     },
     "inputWidgets": {},
     "nuid": "1bfc5f6f-7ac4-4211-aabc-25d43a6eeac7",
     "showTitle": false,
     "title": ""
    }
   },
   "outputs": [],
   "source": [
    "import geopandas as gpd\n",
    "valores_censo = gpd.GeoDataFrame(\n",
    "    result_censo.map(lambda x: [x[1].geom, *x[0].userData.split(\"\\t\"), *x[1].userData.split(\"\\t\")]).collect(),columns=atributos_join,\n",
    "    geometry=\"geom\", \n",
    "    crs= \"epsg:4326\"\n",
    ")\n",
    "valores_ep = gpd.GeoDataFrame(\n",
    "    result_ep.map(lambda x: [x[1].geom, *x[0].userData.split(\"\\t\"), *x[1].userData.split(\"\\t\")]).collect(),columns=atributosEP_join,\n",
    "    geometry=\"geom\", \n",
    "    crs= \"epsg:4326\"\n",
    ")"
   ]
  },
  {
   "cell_type": "code",
   "execution_count": 0,
   "metadata": {
    "application/vnd.databricks.v1+cell": {
     "cellMetadata": {
      "byteLimit": 2048000,
      "rowLimit": 10000
     },
     "inputWidgets": {},
     "nuid": "a872469c-9587-435d-ba6d-8b59f3031b90",
     "showTitle": false,
     "title": ""
    }
   },
   "outputs": [],
   "source": [
    "valores_ep[(valores_ep['layer'] == '8')&(valores_ep['Tiempo'] == '10 min')].explore()\n",
    "#.map(lambda x: [x[1].geom, *x[0].userData.split(\"\\t\"), *x[1].userData.split(\"\\t\")])"
   ]
  },
  {
   "cell_type": "code",
   "execution_count": 0,
   "metadata": {
    "application/vnd.databricks.v1+cell": {
     "cellMetadata": {
      "byteLimit": 2048000,
      "rowLimit": 10000
     },
     "inputWidgets": {},
     "nuid": "e9b36658-84ca-4e37-95d0-086db13b83f4",
     "showTitle": false,
     "title": ""
    }
   },
   "outputs": [],
   "source": [
    "censo2018 = valores_censo[['group_inde','Tiempo','layer','Linea','COD_DANE_A','ZU_CDIVI','SETU_CCDGO','SETU_CCNCT','SECU_CCDGO','SECU_CCNCT','MANZ_CCDGO','AG_CCDGO','DATO_ANM','AREA','LATITUD','LONGITUD','DENSIDAD','CTNENCUEST','TP9_1_USO','TP9_2_USO','TP9_3_USO','TP9_4_USO','TP9_2_1_MI','TP9_2_2_MI','TP9_2_3_MI','TP9_2_4_MI','TP9_2_9_MI','TP9_3_1_NO','TP9_3_2_NO','TP9_3_3_NO','TP9_3_4_NO','TP9_3_5_NO','TP9_3_6_NO','TP9_3_7_NO','TP9_3_8_NO','TP9_3_9_NO','TP9_3_10_N','TP9_3_99_N','TVIVIENDA','TP14_1_TIP','TP14_2_TIP','TP14_3_TIP','TP16_HOG','TP19_EE_E1','TP19_EE_E2','TP19_EE_E3','TP19_EE_E4','TP19_EE_E5','TP19_EE_E6','TP19_EE_E9','TP27_PERSO','PERSONAS_L','PERSONAS_S','TP32_1_SEX','TP32_2_SEX','CD_LC_CM','NMB_LC_CM','geom']]\n"
   ]
  },
  {
   "cell_type": "code",
   "execution_count": 0,
   "metadata": {
    "application/vnd.databricks.v1+cell": {
     "cellMetadata": {
      "byteLimit": 2048000,
      "rowLimit": 10000
     },
     "inputWidgets": {},
     "nuid": "b6a93850-196d-414b-b90d-e776a202fb5f",
     "showTitle": false,
     "title": ""
    }
   },
   "outputs": [],
   "source": [
    "censo2018[\"TP27_PERSO\"] = censo2018[\"TP27_PERSO\"].astype('float')\n",
    "valores_ep[\"AREA M2\"]=valores_ep[\"AREA M2\"].astype('float')"
   ]
  },
  {
   "cell_type": "code",
   "execution_count": 0,
   "metadata": {
    "application/vnd.databricks.v1+cell": {
     "cellMetadata": {
      "byteLimit": 2048000,
      "rowLimit": 10000
     },
     "inputWidgets": {},
     "nuid": "078bd560-7595-415d-9b88-4b53efd19e03",
     "showTitle": false,
     "title": ""
    }
   },
   "outputs": [],
   "source": [
    "\n",
    "import numpy as np\n",
    "import pandas as pd\n",
    "\n",
    "valores_ep[\"AREA M2\"] = valores_ep[\"AREA M2\"].fillna(value = 0)\n",
    "AreasXIso = pd.DataFrame(valores_ep.groupby(by=['Linea','layer','Tiempo']).agg({'AREA M2':'sum'}).unstack().to_records()).rename(columns={\"('AREA M2', '10 min')\": 'EP_10Min',\"('AREA M2', '15 min')\": 'EP_15Min',\"('AREA M2', '20 min')\": 'EP_20Min',\"('AREA M2', '5 min')\": 'EP_5Min'})\n",
    "\n",
    "censo2018[\"TP27_PERSO\"] = censo2018[\"TP27_PERSO\"].fillna(value = 0)\n",
    "personasXIso = pd.DataFrame(censo2018.groupby(by=['layer','Tiempo']).agg({'TP27_PERSO':'sum'}).unstack().to_records()).rename(columns={\"('TP27_PERSO', '10 min')\": 'personas_10Min',\"('TP27_PERSO', '15 min')\": 'personas_15Min',\"('TP27_PERSO', '20 min')\": 'personas_20Min',\"('TP27_PERSO', '5 min')\": 'personas_5Min'})\n",
    "\n",
    "EP_process = AreasXIso.merge(personasXIso,how='inner',on='layer')\n",
    "\n",
    "EP_process['EPF_20Min']=EP_process['EP_20Min']/EP_process['personas_20Min']\n",
    "EP_process['EPF_15Min']=EP_process['EP_15Min']/EP_process['personas_15Min']\n",
    "EP_process['EPF_10Min']=EP_process['EP_10Min']/EP_process['personas_10Min']\n",
    "EP_process['EPF_5Min']=EP_process['EP_5Min']/EP_process['personas_5Min']\n",
    "EP_process.rename(columns={'Linea_x':'Linea','layer':'Estacion'}, inplace=True)\n",
    "EP_process.fillna(value = 0)\n",
    "EP_process['EPT'] = EP_process[['EP_10Min','EP_15Min','EP_20Min','EP_5Min']].sum(axis=1)# espacio publico total\n",
    "EP_process['EPF'] = EP_process[['EPF_10Min','EPF_15Min','EPF_20Min','EPF_5Min']].sum(axis=1)# espacio publico efectivo total\n",
    "EP_process['PersonalT'] = EP_process[['personas_10Min','personas_15Min','personas_20Min','personas_5Min']].sum(axis=1)# total personas "
   ]
  },
  {
   "cell_type": "code",
   "execution_count": 0,
   "metadata": {
    "application/vnd.databricks.v1+cell": {
     "cellMetadata": {
      "byteLimit": 2048000,
      "rowLimit": 10000
     },
     "inputWidgets": {},
     "nuid": "9c3cf12c-f4e5-4016-822b-01fa3529f47d",
     "showTitle": false,
     "title": ""
    }
   },
   "outputs": [],
   "source": [
    "pd.DataFrame.iteritems = pd.DataFrame.items\n",
    "EP_calculo = spark.createDataFrame(EP_process)\n",
    "EP_calculo.createOrReplaceTempView(\"espacio_publico_efectivo\")"
   ]
  },
  {
   "cell_type": "code",
   "execution_count": 0,
   "metadata": {
    "application/vnd.databricks.v1+cell": {
     "cellMetadata": {
      "byteLimit": 2048000,
      "implicitDf": true,
      "rowLimit": 10000
     },
     "inputWidgets": {},
     "nuid": "d816dd27-d599-4ee6-8a1f-2b83fab73dd7",
     "showTitle": false,
     "title": ""
    }
   },
   "outputs": [],
   "source": [
    "%sql\n",
    "CREATE  OR REPLACE TABLE ep_efectivo AS (Select \n",
    "  * \n",
    "from \n",
    "  espacio_publico_efectivo);"
   ]
  }
 ],
 "metadata": {
  "application/vnd.databricks.v1+notebook": {
   "dashboards": [],
   "language": "python",
   "notebookMetadata": {
    "mostRecentlyExecutedCommandWithImplicitDF": {
     "commandId": 3728113549399063,
     "dataframes": [
      "_sqldf"
     ]
    },
    "pythonIndentUnit": 4
   },
   "notebookName": "Dane - poblacional",
   "widgets": {}
  }
 },
 "nbformat": 4,
 "nbformat_minor": 0
}
