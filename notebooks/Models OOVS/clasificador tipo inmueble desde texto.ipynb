{
 "cells": [
  {
   "cell_type": "markdown",
   "metadata": {
    "application/vnd.databricks.v1+cell": {
     "cellMetadata": {},
     "inputWidgets": {},
     "nuid": "ea7a049b-ed7b-4fce-96be-99b00cc30326",
     "showTitle": false,
     "title": ""
    }
   },
   "source": [
    "Created on June - 2023 </br>\n",
    "@author: Alexander Robles"
   ]
  },
  {
   "cell_type": "markdown",
   "metadata": {
    "application/vnd.databricks.v1+cell": {
     "cellMetadata": {},
     "inputWidgets": {},
     "nuid": "b4f8ddfc-b48c-40f5-8eda-e00cacdb6714",
     "showTitle": false,
     "title": ""
    }
   },
   "source": [
    "##### Clasificador de descripciones de inmuebles a etiqueta, esto es necesario en vista de que algunos inmuebles son publicados con una descripcion diferente a la etiqueta puesta por el vendedor, esto genera errores a la hora de identificar un posible valor del tipo de inmueble."
   ]
  },
  {
   "cell_type": "code",
   "execution_count": 0,
   "metadata": {
    "application/vnd.databricks.v1+cell": {
     "cellMetadata": {
      "byteLimit": 2048000,
      "rowLimit": 10000
     },
     "inputWidgets": {},
     "nuid": "08d790e4-c9a3-491a-bb79-1b016d25e11e",
     "showTitle": false,
     "title": ""
    }
   },
   "outputs": [],
   "source": [
    "import numpy as np\n",
    "import pandas as pd\n",
    "import os\n",
    "import missingno as msno\n",
    "from sklearn import preprocessing\n",
    "from catboost import CatBoostClassifier, Pool\n",
    "from sklearn.model_selection import StratifiedKFold\n",
    "from sklearn.metrics import roc_auc_score, accuracy_score"
   ]
  },
  {
   "cell_type": "code",
   "execution_count": 0,
   "metadata": {
    "application/vnd.databricks.v1+cell": {
     "cellMetadata": {
      "byteLimit": 2048000,
      "rowLimit": 10000
     },
     "inputWidgets": {},
     "nuid": "faad6d44-75e8-4073-8410-62b5898c503a",
     "showTitle": false,
     "title": ""
    }
   },
   "outputs": [],
   "source": [
    "df = pd.read_csv('/dbfs/FileStore/tables/procesado/BTA_INMO_IQR_FEBRERO_2023__2_.csv')"
   ]
  },
  {
   "cell_type": "code",
   "execution_count": 0,
   "metadata": {
    "application/vnd.databricks.v1+cell": {
     "cellMetadata": {
      "byteLimit": 2048000,
      "rowLimit": 10000
     },
     "inputWidgets": {},
     "nuid": "c386923d-e484-47aa-b32d-bab2f93444c5",
     "showTitle": false,
     "title": ""
    }
   },
   "outputs": [],
   "source": [
    "df2 = df.copy()\n",
    "df2.drop(columns=['Unnamed: 0','index','id','nombre_usuario','codigo','edad','fecha_modificacion','canon_arrendamiento','fecha_creacion','localidad','estrato','barrio','contacto_llamada', 'id_usuario', 'url_encode', 'Latitud', 'Longitud','codigo_manzana', 'estratoCarto', 'dist','estratoAjustado','Estrato_name', 'tipo_usuario', 'nombre_usuario_2','fecha_expiracion', 'fecha_publicado', 'piso', 'Localizacion_Localidades', 'Localizacion_Comuna', 'Localizacion_Zona', 'Localizacion_Region', 'index_right', 'periodo', 'titulo', 'hex_id_8', 'geometry_8', 'hex_id_9', 'geometry_9', 'hex_id_10', 'geometry_10', 'group_inde', 'Tiempo','layer', 'Linea', 'url_inmueble','valor_administracion','Valor_M2','precio','direccion','geometry','tipo_transaccion',\n",
    "'area', 'num_banos', 'num_habitaciones', 'num_parqueaderos',], inplace=True)\n",
    "df2 = df2[~df2.descripcion.isna()].reset_index()\n"
   ]
  },
  {
   "cell_type": "code",
   "execution_count": 0,
   "metadata": {
    "application/vnd.databricks.v1+cell": {
     "cellMetadata": {
      "byteLimit": 2048000,
      "rowLimit": 10000
     },
     "inputWidgets": {},
     "nuid": "14dcdbad-d914-4b97-a909-8010d1e417de",
     "showTitle": false,
     "title": ""
    }
   },
   "outputs": [],
   "source": [
    "#msno.heatmap(df2)"
   ]
  },
  {
   "cell_type": "code",
   "execution_count": 0,
   "metadata": {
    "application/vnd.databricks.v1+cell": {
     "cellMetadata": {
      "byteLimit": 2048000,
      "rowLimit": 10000
     },
     "inputWidgets": {},
     "nuid": "9f538a18-c4ed-4411-8ca1-0b4e97f266d4",
     "showTitle": false,
     "title": ""
    }
   },
   "outputs": [],
   "source": [
    "# dado que los valores nulos se encuentran en el numero de baños, habitaciones y parqueaderos podemos suponer que son ero, en tal caso completo el set de datos faltantes.\n",
    "df2.fillna(0, inplace=True)\n",
    "msno.matrix(df2, color=(0.27, 0.52, 1.0))"
   ]
  },
  {
   "cell_type": "code",
   "execution_count": 0,
   "metadata": {
    "application/vnd.databricks.v1+cell": {
     "cellMetadata": {
      "byteLimit": 2048000,
      "rowLimit": 10000
     },
     "inputWidgets": {},
     "nuid": "28664daf-53c0-4f2d-bb94-151e1b1c1e90",
     "showTitle": false,
     "title": ""
    }
   },
   "outputs": [],
   "source": [
    "df2.columns"
   ]
  },
  {
   "cell_type": "code",
   "execution_count": 0,
   "metadata": {
    "application/vnd.databricks.v1+cell": {
     "cellMetadata": {
      "byteLimit": 2048000,
      "rowLimit": 10000
     },
     "inputWidgets": {},
     "nuid": "0452f631-8cbb-421a-a491-0421af2c8a9c",
     "showTitle": false,
     "title": ""
    }
   },
   "outputs": [],
   "source": [
    "from sklearn.model_selection import train_test_split\n",
    "X = df2.copy()\n",
    "y = X.pop(df2.columns[1])"
   ]
  },
  {
   "cell_type": "code",
   "execution_count": 0,
   "metadata": {
    "application/vnd.databricks.v1+cell": {
     "cellMetadata": {
      "byteLimit": 2048000,
      "rowLimit": 10000
     },
     "inputWidgets": {},
     "nuid": "d4522fde-ab29-460e-8a01-9c1e8eb7cade",
     "showTitle": false,
     "title": ""
    }
   },
   "outputs": [],
   "source": [
    "# Separar los datos en datos de entrenamiento y testing\n",
    "X_train, X_test, y_train, y_test = train_test_split( X, y, test_size=0.3, random_state=2)"
   ]
  },
  {
   "cell_type": "code",
   "execution_count": 0,
   "metadata": {
    "application/vnd.databricks.v1+cell": {
     "cellMetadata": {
      "byteLimit": 2048000,
      "rowLimit": 10000
     },
     "inputWidgets": {},
     "nuid": "7663bdc8-793e-4437-933c-48eebbbec4db",
     "showTitle": false,
     "title": ""
    }
   },
   "outputs": [],
   "source": [
    "def label_encoding(train: pd.DataFrame, test: pd.DataFrame, col_definition: dict):\n",
    "    \"\"\"\n",
    "    col_definition: encode_col\n",
    "    \"\"\"\n",
    "    n_train = len(train)\n",
    "    train = pd.concat([train, test], sort=False).reset_index(drop=True)\n",
    "    for f in col_definition['encode_col']:\n",
    "        try:\n",
    "            lbl = preprocessing.LabelEncoder()\n",
    "            train[f] = lbl.fit_transform(list(train[f].values))\n",
    "        except:\n",
    "            print(f)\n",
    "    test = train[n_train:].reset_index(drop=True)\n",
    "    train = train[:n_train]\n",
    "    return train, test"
   ]
  },
  {
   "cell_type": "code",
   "execution_count": 0,
   "metadata": {
    "application/vnd.databricks.v1+cell": {
     "cellMetadata": {
      "byteLimit": 2048000,
      "rowLimit": 10000
     },
     "inputWidgets": {},
     "nuid": "68a076da-0600-45ab-b277-79a58664c4dd",
     "showTitle": false,
     "title": ""
    }
   },
   "outputs": [],
   "source": [
    "categorical_features = ['uso'] \n",
    "text_cols = ['descripcion']"
   ]
  },
  {
   "cell_type": "code",
   "execution_count": 0,
   "metadata": {
    "application/vnd.databricks.v1+cell": {
     "cellMetadata": {
      "byteLimit": 2048000,
      "rowLimit": 10000
     },
     "inputWidgets": {},
     "nuid": "c3a8eb61-5f11-4402-bef4-112c020cc38c",
     "showTitle": false,
     "title": ""
    }
   },
   "outputs": [],
   "source": [
    "X_train, X_test = label_encoding(X_train, X_test, col_definition={'encode_col': categorical_features})"
   ]
  },
  {
   "cell_type": "code",
   "execution_count": 0,
   "metadata": {
    "application/vnd.databricks.v1+cell": {
     "cellMetadata": {
      "byteLimit": 2048000,
      "rowLimit": 10000
     },
     "inputWidgets": {},
     "nuid": "675571ee-e83f-4cb1-85d8-f77a560e95a3",
     "showTitle": false,
     "title": ""
    }
   },
   "outputs": [],
   "source": [
    "catboost_params = {\n",
    "    'iterations': 1000,\n",
    "    'learning_rate': 0.1,\n",
    "    'early_stopping_rounds': 10,\n",
    "    'verbose': 100,\n",
    "    'text_features': text_cols\n",
    "\n",
    "}\n",
    "\n",
    "from catboost import CatBoostClassifier\n",
    "classifier = CatBoostClassifier(**catboost_params)\n",
    "classifier.fit(X_train, y_train)"
   ]
  },
  {
   "cell_type": "code",
   "execution_count": 0,
   "metadata": {
    "application/vnd.databricks.v1+cell": {
     "cellMetadata": {
      "byteLimit": 2048000,
      "rowLimit": 10000
     },
     "inputWidgets": {},
     "nuid": "87855c27-43a9-4198-9183-d5c24c872bc8",
     "showTitle": false,
     "title": ""
    }
   },
   "outputs": [],
   "source": [
    "from sklearn.metrics import confusion_matrix, accuracy_score\n",
    "y_pred = classifier.predict(X_test)\n",
    "cm = confusion_matrix(y_test, y_pred)\n",
    "print(cm)\n",
    "accuracy_score(y_test, y_pred)"
   ]
  },
  {
   "cell_type": "code",
   "execution_count": 0,
   "metadata": {
    "application/vnd.databricks.v1+cell": {
     "cellMetadata": {
      "byteLimit": 2048000,
      "rowLimit": 10000
     },
     "inputWidgets": {},
     "nuid": "20d2a255-83e1-454c-82a6-b06ccca9275f",
     "showTitle": false,
     "title": ""
    }
   },
   "outputs": [],
   "source": [
    "from sklearn.metrics import classification_report\n",
    "\n",
    "print(classification_report(y_test, y_pred))"
   ]
  },
  {
   "cell_type": "code",
   "execution_count": 0,
   "metadata": {
    "application/vnd.databricks.v1+cell": {
     "cellMetadata": {
      "byteLimit": 2048000,
      "rowLimit": 10000
     },
     "inputWidgets": {},
     "nuid": "1da5d718-2133-4939-a5f9-79d32a70625e",
     "showTitle": false,
     "title": ""
    }
   },
   "outputs": [],
   "source": [
    "y.value_counts()"
   ]
  },
  {
   "cell_type": "code",
   "execution_count": 0,
   "metadata": {
    "application/vnd.databricks.v1+cell": {
     "cellMetadata": {
      "byteLimit": 2048000,
      "rowLimit": 10000
     },
     "inputWidgets": {},
     "nuid": "ec25e5c5-3b10-42dc-aa4e-f54e4e4d31d4",
     "showTitle": false,
     "title": ""
    }
   },
   "outputs": [],
   "source": [
    "import pickle\n",
    "#exporta el modelo, esto solo se realiza una vez.\n",
    "pickle.dump(classifier, open(\"../../models/text_inmutipo_classificator.pk\", \"wb\"))"
   ]
  },
  {
   "cell_type": "code",
   "execution_count": 0,
   "metadata": {
    "application/vnd.databricks.v1+cell": {
     "cellMetadata": {
      "byteLimit": 2048000,
      "rowLimit": 10000
     },
     "inputWidgets": {},
     "nuid": "a700066d-ff2b-4366-bd59-8ac6e2d65dee",
     "showTitle": false,
     "title": ""
    }
   },
   "outputs": [],
   "source": [
    "#carga el modelo\n",
    "pickled_model = pickle.load(open(\"../../models/text_inmutipo_classificator.pk\", 'rb'))\n",
    "#usa el modelo :D\n",
    "pickled_model.predict(X_test)"
   ]
  },
  {
   "cell_type": "code",
   "execution_count": 0,
   "metadata": {
    "application/vnd.databricks.v1+cell": {
     "cellMetadata": {
      "byteLimit": 2048000,
      "rowLimit": 10000
     },
     "inputWidgets": {},
     "nuid": "58af6bcb-2171-42b8-8bbc-59dc89f865a8",
     "showTitle": false,
     "title": ""
    }
   },
   "outputs": [],
   "source": [
    "X_test.info()"
   ]
  },
  {
   "cell_type": "code",
   "execution_count": 0,
   "metadata": {
    "application/vnd.databricks.v1+cell": {
     "cellMetadata": {
      "byteLimit": 2048000,
      "rowLimit": 10000
     },
     "inputWidgets": {},
     "nuid": "433a0b44-8d08-4d0b-805d-9a6b440e8c84",
     "showTitle": false,
     "title": ""
    }
   },
   "outputs": [],
   "source": [
    "# el texto de la prueba fue generado con chatgpt y clasificado por el modelo creado en este notebook!!\n",
    "text1 = 'Descubre la joya del centro de Cali. Este encantador apartamento, con parqueadero propio y una ubicación privilegiada cerca del parque principal de la ciudad, te ofrece la combinación perfecta de comodidad y conveniencia. Sus excelentes vías de acceso te permitirán disfrutar de todo lo que Cali tiene para ofrecer, mientras que su distribución acogedora y espacios bien iluminados te brindarán el refugio perfecto después de un largo día. ¡No dejes pasar esta oportunidad de adquirir tu nuevo hogar en el corazón de la ciudad!'\n",
    "text2 = '¡Bienvenidos a tu nuevo hogar en un entorno idílico! Esta hermosa casa en venta te ofrece una vida tranquila y apacible en un entorno natural, perfecto para aquellos que buscan escapar del bullicio de la ciudad. Situada en un barrio residencial tranquilo, esta casa cuenta con un amplio jardín meticulosamente cuidado, ideal para relajarse y disfrutar de momentos al aire libre. Su ubicación estratégica te brinda la comodidad de estar cerca de excelentes escuelas, tiendas locales y parques, brindando una gran calidad de vida para ti y tu familia. Con espacios luminosos y bien distribuidos, la casa ofrece amplios dormitorios, una cocina moderna y acogedores espacios de vida, perfectos para crear recuerdos duraderos. No pierdas la oportunidad de adquirir esta encantadora casa que te brinda la tranquilidad y el confort que mereces. ¡Contáctanos hoy mismo para programar una visita y descubrir el hogar de tus sueños!'\n",
    "diccionario_prueba = {'index': [1],'uso': [4],'descripcion':[text2]}\n",
    "pr = pd.DataFrame.from_dict(diccionario_prueba)"
   ]
  },
  {
   "cell_type": "code",
   "execution_count": 0,
   "metadata": {
    "application/vnd.databricks.v1+cell": {
     "cellMetadata": {
      "byteLimit": 2048000,
      "rowLimit": 10000
     },
     "inputWidgets": {},
     "nuid": "34e27c98-cdba-4ab5-8767-30b6d692cb98",
     "showTitle": false,
     "title": ""
    }
   },
   "outputs": [],
   "source": [
    "pickled_model.predict(pr)"
   ]
  }
 ],
 "metadata": {
  "application/vnd.databricks.v1+notebook": {
   "dashboards": [],
   "language": "python",
   "notebookMetadata": {
    "pythonIndentUnit": 4
   },
   "notebookName": "clasificador tipo inmueble desde texto",
   "widgets": {}
  }
 },
 "nbformat": 4,
 "nbformat_minor": 0
}
