{
 "cells": [
  {
   "cell_type": "markdown",
   "metadata": {
    "application/vnd.databricks.v1+cell": {
     "cellMetadata": {},
     "inputWidgets": {},
     "nuid": "773342d4-05af-416a-9986-169bb1b78245",
     "showTitle": false,
     "title": ""
    }
   },
   "source": [
    "# captura de información Ciencuadras."
   ]
  },
  {
   "cell_type": "markdown",
   "metadata": {
    "application/vnd.databricks.v1+cell": {
     "cellMetadata": {},
     "inputWidgets": {},
     "nuid": "423d673e-30f6-4519-b71f-30f8ccf2068b",
     "showTitle": false,
     "title": ""
    }
   },
   "source": [
    "Created on March 22 - 2022 </br>\n",
    "@author: Alexander Robles\n"
   ]
  },
  {
   "cell_type": "code",
   "execution_count": 0,
   "metadata": {
    "application/vnd.databricks.v1+cell": {
     "cellMetadata": {
      "byteLimit": 2048000,
      "rowLimit": 10000
     },
     "inputWidgets": {},
     "nuid": "686e610b-c913-4314-96e8-9fc7ee7aff4c",
     "showTitle": false,
     "title": ""
    }
   },
   "outputs": [],
   "source": [
    "from pyspark.sql import SparkSession\n",
    "from pyspark import StorageLevel\n",
    "from sedona.utils import SedonaKryoRegistrator, KryoSerializer\n",
    "\n",
    "from sedona.register.geo_registrator import SedonaRegistrator\n",
    "\n",
    "spark = (\n",
    "    SparkSession.builder.master(\"local[*]\")\n",
    "    .appName(\"Sedona App\")\n",
    "    .config(\"spark.serializer\", KryoSerializer.getName)\n",
    "    .config(\"spark.kryo.registrator\", SedonaKryoRegistrator.getName)\n",
    "    .getOrCreate()\n",
    ")\n",
    "\n",
    "SedonaRegistrator.registerAll(spark)"
   ]
  },
  {
   "cell_type": "code",
   "execution_count": 0,
   "metadata": {
    "application/vnd.databricks.v1+cell": {
     "cellMetadata": {
      "byteLimit": 2048000,
      "rowLimit": 10000
     },
     "inputWidgets": {},
     "nuid": "118e804d-b86b-4d66-8566-dbbe416c0aac",
     "showTitle": false,
     "title": ""
    }
   },
   "outputs": [],
   "source": [
    "%run ./config"
   ]
  },
  {
   "cell_type": "code",
   "execution_count": 0,
   "metadata": {
    "application/vnd.databricks.v1+cell": {
     "cellMetadata": {
      "byteLimit": 2048000,
      "rowLimit": 10000
     },
     "inputWidgets": {},
     "nuid": "00ef83d9-b1b4-42b0-826f-d766ec18b3f3",
     "showTitle": false,
     "title": ""
    }
   },
   "outputs": [],
   "source": [
    "import requests\n",
    "import pandas as pd\n",
    "import json\n",
    "\n",
    "step_cap= {\n",
    "    'ciencuadras': [raw_arriendo, raw_venta],\n",
    "    #'ciencuadras': [raw_arriendo, raw_venta,raw_Proyectos_Nuevos],\n",
    "}\n",
    "\n",
    "\n",
    "def Ciencuadras_Request(url, raw):\n",
    "    r = requests.post(url, data=raw)\n",
    "    json_body = json.loads(raw)\n",
    "    #name file\n",
    "    name = json_body['pathurl']\n",
    "    #_____\n",
    "    data = json.loads(r.content)\n",
    "    \n",
    "    paginas = data['data']['totalPages']\n",
    "    df = pd.DataFrame(json.loads(r.content)['data']['result'])\n",
    "    for p in range(2,paginas):\n",
    "        json_body['numberPaginator']=p\n",
    "        raw_mod = json.dumps(json_body)\n",
    "        r = requests.post(url, data=raw_mod)\n",
    "        df_new = pd.DataFrame(json.loads(r.content)['data']['result'])\n",
    "        df = pd.concat([df,df_new])\n",
    "        #print(p)\n",
    "    return df, name"
   ]
  },
  {
   "cell_type": "code",
   "execution_count": 0,
   "metadata": {
    "application/vnd.databricks.v1+cell": {
     "cellMetadata": {
      "byteLimit": 2048000,
      "rowLimit": 10000
     },
     "inputWidgets": {},
     "nuid": "37d3dc84-cce2-4f72-9349-a9d3635bc467",
     "showTitle": false,
     "title": ""
    }
   },
   "outputs": [],
   "source": [
    "from datetime import date\n",
    "today = date.today()\n",
    "fecha = str(today).replace(\"-\", \"\")\n",
    "for k,v in step_cap.items():\n",
    "    if k == 'ciencuadras':\n",
    "        for transaction in v:\n",
    "            to_export, nombre = Ciencuadras_Request(url_ciencuadras, transaction)\n",
    "            filename = '/dbfs/FileStore/tables/ciencuadras/{}_{}_ciencuadras.csv'.format(fecha, nombre)\n",
    "            to_export.to_csv(filename, index=False)\n",
    "            print(to_export.shape)"
   ]
  },
  {
   "cell_type": "code",
   "execution_count": 0,
   "metadata": {
    "application/vnd.databricks.v1+cell": {
     "cellMetadata": {
      "byteLimit": 2048000,
      "rowLimit": 10000
     },
     "inputWidgets": {},
     "nuid": "f2b22211-742a-4ede-aa4b-471266b9df2c",
     "showTitle": false,
     "title": ""
    }
   },
   "outputs": [],
   "source": [
    "dbutils.fs.ls(\"/FileStore/tables/ciencuadras\")"
   ]
  },
  {
   "cell_type": "code",
   "execution_count": 0,
   "metadata": {
    "application/vnd.databricks.v1+cell": {
     "cellMetadata": {},
     "inputWidgets": {},
     "nuid": "e8ffa11f-12f8-498c-9a18-987022a513c7",
     "showTitle": false,
     "title": ""
    }
   },
   "outputs": [],
   "source": []
  }
 ],
 "metadata": {
  "application/vnd.databricks.v1+notebook": {
   "dashboards": [],
   "language": "python",
   "notebookMetadata": {
    "pythonIndentUnit": 4
   },
   "notebookName": "Captura Ciencuadras",
   "widgets": {}
  }
 },
 "nbformat": 4,
 "nbformat_minor": 0
}
