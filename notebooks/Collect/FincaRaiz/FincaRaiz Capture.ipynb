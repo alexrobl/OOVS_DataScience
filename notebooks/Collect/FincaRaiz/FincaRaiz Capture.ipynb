{
 "cells": [
  {
   "cell_type": "code",
   "execution_count": 0,
   "metadata": {
    "application/vnd.databricks.v1+cell": {
     "cellMetadata": {
      "byteLimit": 2048000,
      "rowLimit": 10000
     },
     "inputWidgets": {},
     "nuid": "6eae1b43-7c2b-4e6c-a398-8b0b37b78247",
     "showTitle": false,
     "title": ""
    }
   },
   "outputs": [],
   "source": [
    "from pyspark.sql import SparkSession\n",
    "from pyspark import StorageLevel\n",
    "from sedona.spark import *\n",
    "from sedona.utils import SedonaKryoRegistrator, KryoSerializer\n",
    "\n",
    "from sedona.register.geo_registrator import SedonaRegistrator\n",
    "\n",
    "# configuración de spark y Sedona para datos geograficos\n",
    "spark = SparkSession.\\\n",
    "    builder.\\\n",
    "    master(\"local[*]\").\\\n",
    "    appName(\"Sedona App\").\\\n",
    "    config(\"spark.serializer\", KryoSerializer.getName).\\\n",
    "    config(\"spark.kryo.registrator\", SedonaKryoRegistrator.getName) .\\\n",
    "    config(\"spark.kryoserializer.buffer.max\", \"150000m\").\\\n",
    "    getOrCreate()\n",
    "\n",
    "SedonaContext.create(spark)"
   ]
  },
  {
   "cell_type": "markdown",
   "metadata": {
    "application/vnd.databricks.v1+cell": {
     "cellMetadata": {},
     "inputWidgets": {},
     "nuid": "1f66a10b-8911-483b-a7db-49a83f95548c",
     "showTitle": false,
     "title": ""
    }
   },
   "source": [
    "### Estrategia captura\n",
    "1. Revisando la forma de capturar los datos desde el portal, es necesario construir una grilla de captura, esto dado que se pueden realizar peticiones al server de ciencuadras a partir de unas longitudes maximas/ minimas y de la misma forma latitudes maximmas/minimas. En este caso se hará uso de una grilla de captura con ayuda de Polyhasher."
   ]
  },
  {
   "cell_type": "markdown",
   "metadata": {
    "application/vnd.databricks.v1+cell": {
     "cellMetadata": {},
     "inputWidgets": {},
     "nuid": "63d196be-515f-4a83-8dfe-2fb4811b7978",
     "showTitle": false,
     "title": ""
    }
   },
   "source": [
    "#### Librerias Necesarias"
   ]
  },
  {
   "cell_type": "code",
   "execution_count": 0,
   "metadata": {
    "application/vnd.databricks.v1+cell": {
     "cellMetadata": {
      "byteLimit": 2048000,
      "rowLimit": 10000
     },
     "inputWidgets": {},
     "nuid": "0438a830-1dda-4f8d-9005-fb6e2407dd55",
     "showTitle": false,
     "title": ""
    }
   },
   "outputs": [],
   "source": [
    "import contextily as ctx\n",
    "import geopandas as gpd\n",
    "import json\n",
    "import matplotlib.pyplot as plt\n",
    "import pandas as pd\n",
    "import requests\n",
    "\n",
    "from polygeohasher import polygeohasher\n",
    "from shapely.geometry import Polygon"
   ]
  },
  {
   "cell_type": "code",
   "execution_count": 0,
   "metadata": {
    "application/vnd.databricks.v1+cell": {
     "cellMetadata": {
      "byteLimit": 2048000,
      "rowLimit": 10000
     },
     "inputWidgets": {},
     "nuid": "c88d5b93-d58f-4549-bd34-b3f6aabad3c4",
     "showTitle": false,
     "title": ""
    }
   },
   "outputs": [],
   "source": [
    "# coordenadas maximas y Minimas de BTA\n",
    "Bta = Polygon(\n",
    "    [\n",
    "        (-74.24835205078124, 4.468272728744618),\n",
    "        (-73.99497985839844, 4.468272728744618),\n",
    "        (-73.99497985839844, 4.837154404509952),\n",
    "        (-74.24835205078124, 4.837154404509952),\n",
    "    ]\n",
    ")\n",
    "\n",
    "g = gpd.GeoSeries(Bta)\n",
    "gdf = gpd.GeoDataFrame(geometry=g)\n",
    "\n",
    "primary_df = polygeohasher.create_geohash_list(gdf, 7, inner=False)\n",
    "geo_df = polygeohasher.geohashes_to_geometry(primary_df, \"geohash_list\").reset_index()\n",
    "\n",
    "# return geometry for a DataFrame with a column - `opitimized_geohash_list` (output from above)\n",
    "geo_df.drop(columns=[\"index\"], inplace=True)\n",
    "geo_df = geo_df.set_crs(\"epsg:4326\")\n",
    "\n",
    "# Agrego las coordenadas maximas y minimas de cada uno de los Hash!\n",
    "geohash_bta = pd.concat([geo_df, geo_df.geometry.bounds], axis=1)"
   ]
  },
  {
   "cell_type": "code",
   "execution_count": 0,
   "metadata": {
    "application/vnd.databricks.v1+cell": {
     "cellMetadata": {
      "byteLimit": 2048000,
      "rowLimit": 10000
     },
     "inputWidgets": {},
     "nuid": "05630e6f-2684-4887-8b2a-e9a557253977",
     "showTitle": false,
     "title": ""
    }
   },
   "outputs": [],
   "source": [
    "geohash_bta.shape"
   ]
  },
  {
   "cell_type": "code",
   "execution_count": 0,
   "metadata": {
    "application/vnd.databricks.v1+cell": {
     "cellMetadata": {
      "byteLimit": 2048000,
      "rowLimit": 10000
     },
     "inputWidgets": {},
     "nuid": "ae00ffb2-bee7-4d22-8b04-294f167fdf87",
     "showTitle": false,
     "title": ""
    }
   },
   "outputs": [],
   "source": [
    "# URL's consultas y json raw\n",
    "url_fincaraiz = \"https://api.fincaraiz.com.co/document/api/1.0/listing/search?content-type=application/json\"\n",
    "raw_fc_renta = '{\"filter\":{\"offer\":{\"slug\":[\"rent\",\"sell\"]},\"property_type\":{\"slug\":[\"apartment\",\"studio\",\"house\",\"cabin\",\"country-house\",\"house-lot\",\"farm\",\"room\",\"lot\",\"warehouse\",\"consulting-room\",\"commercial\",\"office\",\"parking\",\"building\"]},\"locations\":{\"location_point\":[[%f,%f],[%f,%f]]}},\"fields\":{\"exclude\":[],\"facets\":[],\"include\":[],\"limit\":%d,\"offset\":0,\"ordering\":[],\"platform\":40,\"with_algorithm\":true}}'\n",
    "\n",
    "# extrae las columnas son utiles para almacenar\n",
    "list_extract = [\n",
    "    \"path\",\n",
    "    \"seo\",\n",
    "    \"property_id\",\n",
    "    \"address\",\n",
    "    \"garages\",\n",
    "    \"area\",\n",
    "    \"living_area\",\n",
    "    \"price\",\n",
    "    \"price_m2\",\n",
    "    \"rooms\",\n",
    "    \"stratum\",\n",
    "    \"baths\",\n",
    "    \"condition\",\n",
    "    \"administration\",\n",
    "    \"age\",\n",
    "    \"client\",\n",
    "    \"contact\",\n",
    "    \"dates\",\n",
    "    \"floor\",\n",
    "    \"locations\",\n",
    "    \"offer\",\n",
    "    \"max_area\",\n",
    "    \"min_area\",\n",
    "    \"max_living_area\",\n",
    "    \"min_living_area\",\n",
    "    \"max_price\",\n",
    "    \"min_price\",\n",
    "    \"negotiable\",\n",
    "    \"property_type\",\n",
    "]"
   ]
  },
  {
   "cell_type": "code",
   "execution_count": 0,
   "metadata": {
    "application/vnd.databricks.v1+cell": {
     "cellMetadata": {
      "byteLimit": 2048000,
      "rowLimit": 10000
     },
     "inputWidgets": {},
     "nuid": "0fdfcb63-59e1-4922-bdde-49679135059c",
     "showTitle": false,
     "title": ""
    }
   },
   "outputs": [],
   "source": [
    "%run ./utils"
   ]
  },
  {
   "cell_type": "code",
   "execution_count": 0,
   "metadata": {
    "application/vnd.databricks.v1+cell": {
     "cellMetadata": {
      "byteLimit": 2048000,
      "rowLimit": 10000
     },
     "inputWidgets": {},
     "nuid": "d50e84e8-0e06-4960-badc-af79180b92e9",
     "showTitle": false,
     "title": ""
    }
   },
   "outputs": [],
   "source": [
    "import json\n",
    "import requests\n",
    "\n",
    "ofertas_total = pd.DataFrame()\n",
    "\n",
    "for index, row in geohash_bta.iterrows():\n",
    "  \n",
    "  coordenadas = {}\n",
    "  \n",
    "  l = row.values.tolist()\n",
    "\n",
    "  text = raw_fc_renta % (l[2],l[5],l[4],l[3],1)\n",
    "  dic = json.loads(text)\n",
    "  r_i = requests.post(url_fincaraiz, json=dic)\n",
    "\n",
    "  total = json.loads(r_i.content)['hits']['total']['value']\n",
    "  #print(total)\n",
    "  text_mod = raw_fc_renta % (l[2],l[5],l[4],l[3],total)\n",
    "  dic_mod = json.loads(text_mod)\n",
    "  try:\n",
    "    r = requests.post(url_fincaraiz, json=dic_mod)\n",
    "    # recibe el response\n",
    "    ofertas_compiladas = pd.DataFrame()\n",
    "    #print(r.content)\n",
    "    #for item in range(len(json.loads(r.content)['hits']['hits'])):\n",
    "    for item in range(len(json.loads(r.content)['hits']['hits'])):\n",
    "      if item == 0:\n",
    "        oferta_uno = item_FincaRaiz(r, list_extract, item)\n",
    "\n",
    "        ofertas_compiladas = pd.concat([ofertas_compiladas, oferta_uno],ignore_index=True)\n",
    "      else:\n",
    "        oferta_semilla = item_FincaRaiz(r, list_extract, item)\n",
    "        ofertas_compiladas = pd.concat([ofertas_compiladas, oferta_semilla],ignore_index=True)\n",
    "    #print(ofertas_compiladas.shape)\n",
    "  #ofertas_total.append(ofertas_compiladas)\n",
    "  # esto solo sirve en el colab\n",
    "    #pre_guardado = pd.read_csv('/content/drive/MyDrive/METRO/colab/Data/FincaRaiz/FincaRaiz_Abril_2023.csv', index_col=0)\n",
    "    ofertas_total = pd.concat([ofertas_total, ofertas_compiladas],ignore_index=True)\n",
    "    #ofertas_total.to_csv(\"/content/drive/MyDrive/METRO/colab/Data/FincaRaiz/%s.csv\" % 'FincaRaiz_Abril_2023', encoding='utf8')\n",
    "\n",
    "  except:\n",
    "    print('revisar, no pasa')"
   ]
  },
  {
   "cell_type": "code",
   "execution_count": 0,
   "metadata": {
    "application/vnd.databricks.v1+cell": {
     "cellMetadata": {
      "byteLimit": 2048000,
      "rowLimit": 10000
     },
     "inputWidgets": {},
     "nuid": "1dcc8f20-c601-4bca-b25c-8fb356ef0d38",
     "showTitle": false,
     "title": ""
    }
   },
   "outputs": [],
   "source": [
    "from datetime import date\n",
    "today = date.today()\n",
    "fecha = str(today).replace(\"-\", \"\")\n",
    "filename = '/dbfs/FileStore/tables/fincaraiz/{}_fincaRaiz.csv'.format(fecha)\n",
    "ofertas_total.to_csv(filename, index=False)"
   ]
  },
  {
   "cell_type": "code",
   "execution_count": 0,
   "metadata": {
    "application/vnd.databricks.v1+cell": {
     "cellMetadata": {
      "byteLimit": 2048000,
      "rowLimit": 10000
     },
     "inputWidgets": {},
     "nuid": "de544e38-3fea-4402-af21-8cbebc458781",
     "showTitle": false,
     "title": ""
    }
   },
   "outputs": [],
   "source": [
    "%ls '/dbfs/FileStore/tables/fincaraiz/'"
   ]
  }
 ],
 "metadata": {
  "application/vnd.databricks.v1+notebook": {
   "dashboards": [],
   "language": "python",
   "notebookMetadata": {
    "pythonIndentUnit": 4
   },
   "notebookName": "FincaRaiz Capture",
   "widgets": {}
  }
 },
 "nbformat": 4,
 "nbformat_minor": 0
}
